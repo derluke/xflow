{
 "cells": [
  {
   "cell_type": "code",
   "execution_count": 10,
   "metadata": {},
   "outputs": [
    {
     "data": {
      "text/html": [
       "<pre style=\"white-space:pre;overflow-x:auto;line-height:normal;font-family:Menlo,'DejaVu Sans Mono',consolas,'Courier New',monospace\"><span style=\"color: #7fbfbf; text-decoration-color: #7fbfbf\">[06/21/24 13:31:14] </span><span style=\"color: #000080; text-decoration-color: #000080\">INFO    </span> Loading data from <span style=\"color: #ff8700; text-decoration-color: #ff8700\">measure.external_holdout_metrics_combined</span>        <a href=\"file:///home/lukas/code/recipe-xflow/.venv/lib/python3.11/site-packages/kedro/io/data_catalog.py\" target=\"_blank\"><span style=\"color: #7f7f7f; text-decoration-color: #7f7f7f\">data_catalog.py</span></a><span style=\"color: #7f7f7f; text-decoration-color: #7f7f7f\">:</span><a href=\"file:///home/lukas/code/recipe-xflow/.venv/lib/python3.11/site-packages/kedro/io/data_catalog.py#508\" target=\"_blank\"><span style=\"color: #7f7f7f; text-decoration-color: #7f7f7f\">508</span></a>\n",
       "<span style=\"color: #7fbfbf; text-decoration-color: #7fbfbf\">                    </span>         <span style=\"font-weight: bold\">(</span>PartitionedDataset<span style=\"font-weight: bold\">)</span><span style=\"color: #808000; text-decoration-color: #808000\">...</span>                                            <span style=\"color: #7f7f7f; text-decoration-color: #7f7f7f\">                   </span>\n",
       "</pre>\n"
      ],
      "text/plain": [
       "\u001b[2;36m[06/21/24 13:31:14]\u001b[0m\u001b[2;36m \u001b[0m\u001b[34mINFO    \u001b[0m Loading data from \u001b[38;5;208mmeasure.external_holdout_metrics_combined\u001b[0m        \u001b]8;id=955151;file:///home/lukas/code/recipe-xflow/.venv/lib/python3.11/site-packages/kedro/io/data_catalog.py\u001b\\\u001b[2mdata_catalog.py\u001b[0m\u001b]8;;\u001b\\\u001b[2m:\u001b[0m\u001b]8;id=141134;file:///home/lukas/code/recipe-xflow/.venv/lib/python3.11/site-packages/kedro/io/data_catalog.py#508\u001b\\\u001b[2m508\u001b[0m\u001b]8;;\u001b\\\n",
       "\u001b[2;36m                    \u001b[0m         \u001b[1m(\u001b[0mPartitionedDataset\u001b[1m)\u001b[0m\u001b[33m...\u001b[0m                                            \u001b[2m                   \u001b[0m\n"
      ]
     },
     "metadata": {},
     "output_type": "display_data"
    }
   ],
   "source": [
    "external_holdout_combined = catalog.load('measure.external_holdout_metrics_combined')"
   ]
  },
  {
   "cell_type": "code",
   "execution_count": 11,
   "metadata": {},
   "outputs": [
    {
     "name": "stdout",
     "output_type": "stream",
     "text": [
      "full/data.csv\n",
      "full_NC_BC/data.csv\n",
      "simple/data.csv\n",
      "simple_NC_BC/data.csv\n",
      "simple_grouped/data.csv\n"
     ]
    }
   ],
   "source": [
    "import pandas as pd\n",
    "\n",
    "dfs = []\n",
    "for k, v in external_holdout_combined.items():\n",
    "    print(k)\n",
    "    df = v()\n",
    "    experiment = k.split(\"/\")[0]\n",
    "    df['experiment'] = experiment\n",
    "    dfs.append(df)\n",
    "\n",
    "external_holdout_metrics_combined_df = pd.concat(dfs, ignore_index=True)"
   ]
  },
  {
   "cell_type": "code",
   "execution_count": 13,
   "metadata": {},
   "outputs": [
    {
     "data": {
      "text/html": [
       "<pre style=\"white-space:pre;overflow-x:auto;line-height:normal;font-family:Menlo,'DejaVu Sans Mono',consolas,'Courier New',monospace\"></pre>\n"
      ],
      "text/plain": []
     },
     "metadata": {},
     "output_type": "display_data"
    },
    {
     "data": {
      "text/html": [
       "<div>\n",
       "<style scoped>\n",
       "    .dataframe tbody tr th:only-of-type {\n",
       "        vertical-align: middle;\n",
       "    }\n",
       "\n",
       "    .dataframe tbody tr th {\n",
       "        vertical-align: top;\n",
       "    }\n",
       "\n",
       "    .dataframe thead th {\n",
       "        text-align: right;\n",
       "    }\n",
       "</style>\n",
       "<table border=\"1\" class=\"dataframe\">\n",
       "  <thead>\n",
       "    <tr style=\"text-align: right;\">\n",
       "      <th></th>\n",
       "      <th>experiment_name</th>\n",
       "      <th>project_id</th>\n",
       "      <th>data_subset</th>\n",
       "      <th>model_id</th>\n",
       "      <th>generalized_f1</th>\n",
       "      <th>mean_squared_error</th>\n",
       "      <th>experiment</th>\n",
       "    </tr>\n",
       "  </thead>\n",
       "  <tbody>\n",
       "    <tr>\n",
       "      <th>0</th>\n",
       "      <td>full</td>\n",
       "      <td>66720baa061cf96ea22e0713</td>\n",
       "      <td>external_holdout</td>\n",
       "      <td>66720d738cf95393e63a042f</td>\n",
       "      <td>0.997293</td>\n",
       "      <td>6.257176</td>\n",
       "      <td>full</td>\n",
       "    </tr>\n",
       "    <tr>\n",
       "      <th>1</th>\n",
       "      <td>full</td>\n",
       "      <td>66720baa061cf96ea22e0713</td>\n",
       "      <td>external_holdout</td>\n",
       "      <td>66720d738cf95393e63a0431</td>\n",
       "      <td>0.990791</td>\n",
       "      <td>5.753090</td>\n",
       "      <td>full</td>\n",
       "    </tr>\n",
       "    <tr>\n",
       "      <th>2</th>\n",
       "      <td>full</td>\n",
       "      <td>66720baa061cf96ea22e0713</td>\n",
       "      <td>external_holdout</td>\n",
       "      <td>66720e5939205150a0c7620f</td>\n",
       "      <td>0.996975</td>\n",
       "      <td>6.235607</td>\n",
       "      <td>full</td>\n",
       "    </tr>\n",
       "    <tr>\n",
       "      <th>3</th>\n",
       "      <td>full</td>\n",
       "      <td>66720baa061cf96ea22e0713</td>\n",
       "      <td>external_holdout</td>\n",
       "      <td>66720e5939205150a0c76210</td>\n",
       "      <td>0.990239</td>\n",
       "      <td>5.738368</td>\n",
       "      <td>full</td>\n",
       "    </tr>\n",
       "    <tr>\n",
       "      <th>4</th>\n",
       "      <td>full</td>\n",
       "      <td>66720baa061cf96ea22e0713</td>\n",
       "      <td>external_holdout</td>\n",
       "      <td>66721051639d6bd45440a624</td>\n",
       "      <td>0.995542</td>\n",
       "      <td>6.358849</td>\n",
       "      <td>full</td>\n",
       "    </tr>\n",
       "  </tbody>\n",
       "</table>\n",
       "</div>"
      ],
      "text/plain": [
       "\n",
       "  experiment_name                project_id       data_subset  \\\n",
       "\u001b[1;36m0\u001b[0m            full  66720baa061cf96ea22e0713  external_holdout   \n",
       "\u001b[1;36m1\u001b[0m            full  66720baa061cf96ea22e0713  external_holdout   \n",
       "\u001b[1;36m2\u001b[0m            full  66720baa061cf96ea22e0713  external_holdout   \n",
       "\u001b[1;36m3\u001b[0m            full  66720baa061cf96ea22e0713  external_holdout   \n",
       "\u001b[1;36m4\u001b[0m            full  66720baa061cf96ea22e0713  external_holdout   \n",
       "\n",
       "                   model_id  generalized_f1  mean_squared_error experiment  \n",
       "\u001b[1;36m0\u001b[0m  66720d738cf95393e63a042f        \u001b[1;36m0.997293\u001b[0m            \u001b[1;36m6.257176\u001b[0m       full  \n",
       "\u001b[1;36m1\u001b[0m  66720d738cf95393e63a0431        \u001b[1;36m0.990791\u001b[0m            \u001b[1;36m5.753090\u001b[0m       full  \n",
       "\u001b[1;36m2\u001b[0m  66720e5939205150a0c7620f        \u001b[1;36m0.996975\u001b[0m            \u001b[1;36m6.235607\u001b[0m       full  \n",
       "\u001b[1;36m3\u001b[0m  66720e5939205150a0c76210        \u001b[1;36m0.990239\u001b[0m            \u001b[1;36m5.738368\u001b[0m       full  \n",
       "\u001b[1;36m4\u001b[0m  66721051639d6bd45440a624        \u001b[1;36m0.995542\u001b[0m            \u001b[1;36m6.358849\u001b[0m       full  "
      ]
     },
     "execution_count": 13,
     "metadata": {},
     "output_type": "execute_result"
    }
   ],
   "source": [
    "external_holdout_metrics_combined_df.head()"
   ]
  },
  {
   "cell_type": "code",
   "execution_count": 18,
   "metadata": {},
   "outputs": [],
   "source": [
    "# for the dataframe with columns: experiment_name\tproject_id\tdata_subset\tmodel_id\tgeneralized_f1 ...\n",
    "# find the best model by generalized_f1 score and retrieve all other scores for that model\n",
    "\n",
    "best_models = {}\n",
    "for (experiment, project_id), project_df in external_holdout_metrics_combined_df.groupby(['experiment', 'project_id']):\n",
    "    best_project_model = project_df.loc[project_df[\"generalized_f1\"].idxmax()]\n",
    "    if experiment not in best_models:\n",
    "        best_models[experiment] = []\n",
    "    best_models[experiment].append(best_project_model)\n",
    "\n",
    "\n"
   ]
  },
  {
   "cell_type": "code",
   "execution_count": 19,
   "metadata": {},
   "outputs": [
    {
     "data": {
      "text/html": [
       "<pre style=\"white-space:pre;overflow-x:auto;line-height:normal;font-family:Menlo,'DejaVu Sans Mono',consolas,'Courier New',monospace\"></pre>\n"
      ],
      "text/plain": []
     },
     "metadata": {},
     "output_type": "display_data"
    },
    {
     "data": {
      "text/plain": [
       "\n",
       "\u001b[1m{\u001b[0m\n",
       "    \u001b[32m'full'\u001b[0m: \u001b[1m[\u001b[0m\n",
       "        experiment_name                           full\n",
       "project_id            66720baa061cf96ea22e0713\n",
       "data_subset                   external_holdout\n",
       "model_id              66720d738cf95393e63a042f\n",
       "generalized_f1                        \u001b[1;36m0.997293\u001b[0m\n",
       "mean_squared_error                    \u001b[1;36m6.257176\u001b[0m\n",
       "experiment                                full\n",
       "Name: \u001b[1;36m0\u001b[0m, dtype: object\n",
       "    \u001b[1m]\u001b[0m,\n",
       "    \u001b[32m'full_NC_BC'\u001b[0m: \u001b[1m[\u001b[0m\n",
       "        experiment_name                     full_NC_BC\n",
       "project_id            66720bc1061cf96ea22e0724\n",
       "data_subset                   external_holdout\n",
       "model_id              66720ec2daf48c35f8ddf048\n",
       "generalized_f1                             \u001b[1;36m1.0\u001b[0m\n",
       "mean_squared_error                         \u001b[1;36m0.0\u001b[0m\n",
       "experiment                          full_NC_BC\n",
       "Name: \u001b[1;36m9\u001b[0m, dtype: object\n",
       "    \u001b[1m]\u001b[0m,\n",
       "    \u001b[32m'simple'\u001b[0m: \u001b[1m[\u001b[0m\n",
       "        experiment_name                         simple\n",
       "project_id            66720b8378ebe3011566607f\n",
       "data_subset                   external_holdout\n",
       "model_id              66720bd5613918d696b98530\n",
       "generalized_f1                         \u001b[1;36m0.99769\u001b[0m\n",
       "mean_squared_error                   \u001b[1;36m11.853077\u001b[0m\n",
       "experiment                              simple\n",
       "Name: \u001b[1;36m13\u001b[0m, dtype: object\n",
       "    \u001b[1m]\u001b[0m,\n",
       "    \u001b[32m'simple_NC_BC'\u001b[0m: \u001b[1m[\u001b[0m\n",
       "        experiment_name                   simple_NC_BC\n",
       "project_id            66720bcf9e0779b8722e0432\n",
       "data_subset                   external_holdout\n",
       "model_id              66720c1b39a05a41a47abb0d\n",
       "generalized_f1                         \u001b[1;36m0.99992\u001b[0m\n",
       "mean_squared_error                    \u001b[1;36m0.000147\u001b[0m\n",
       "experiment                        simple_NC_BC\n",
       "Name: \u001b[1;36m19\u001b[0m, dtype: object\n",
       "    \u001b[1m]\u001b[0m,\n",
       "    \u001b[32m'simple_grouped'\u001b[0m: \u001b[1m[\u001b[0m\n",
       "        experiment_name                 simple_grouped\n",
       "project_id            66720bdd02bfd9d2766662cb\n",
       "data_subset                   external_holdout\n",
       "model_id              66720c288362c1e166af1405\n",
       "generalized_f1                        \u001b[1;36m0.940397\u001b[0m\n",
       "mean_squared_error                  \u001b[1;36m1122.85623\u001b[0m\n",
       "experiment                      simple_grouped\n",
       "Name: \u001b[1;36m21\u001b[0m, dtype: object,\n",
       "        experiment_name                 simple_grouped\n",
       "project_id            66720bdd9e0779b8722e0461\n",
       "data_subset                   external_holdout\n",
       "model_id              66720c28881a439a46dd64f7\n",
       "generalized_f1                        \u001b[1;36m0.930472\u001b[0m\n",
       "mean_squared_error                  \u001b[1;36m803.867039\u001b[0m\n",
       "experiment                      simple_grouped\n",
       "Name: \u001b[1;36m28\u001b[0m, dtype: object,\n",
       "        experiment_name                 simple_grouped\n",
       "project_id            66720bddf0209f86272e0547\n",
       "data_subset                   external_holdout\n",
       "model_id              66720c2408e9ff7ae4fb0b82\n",
       "generalized_f1                        \u001b[1;36m0.901493\u001b[0m\n",
       "mean_squared_error                  \u001b[1;36m881.318635\u001b[0m\n",
       "experiment                      simple_grouped\n",
       "Name: \u001b[1;36m31\u001b[0m, dtype: object,\n",
       "        experiment_name                 simple_grouped\n",
       "project_id            66720bde6eb0af36072b5a4c\n",
       "data_subset                   external_holdout\n",
       "model_id              66720c2ad28277fedecfe365\n",
       "generalized_f1                        \u001b[1;36m0.911433\u001b[0m\n",
       "mean_squared_error                  \u001b[1;36m766.253575\u001b[0m\n",
       "experiment                      simple_grouped\n",
       "Name: \u001b[1;36m39\u001b[0m, dtype: object,\n",
       "        experiment_name                 simple_grouped\n",
       "project_id            66720bde703efac6726662a6\n",
       "data_subset                   external_holdout\n",
       "model_id              66720c2a2e9cdd5530454e93\n",
       "generalized_f1                         \u001b[1;36m0.92607\u001b[0m\n",
       "mean_squared_error                  \u001b[1;36m696.817883\u001b[0m\n",
       "experiment                      simple_grouped\n",
       "Name: \u001b[1;36m42\u001b[0m, dtype: object\n",
       "    \u001b[1m]\u001b[0m\n",
       "\u001b[1m}\u001b[0m"
      ]
     },
     "execution_count": 19,
     "metadata": {},
     "output_type": "execute_result"
    }
   ],
   "source": [
    "best_models"
   ]
  },
  {
   "cell_type": "code",
   "execution_count": 6,
   "metadata": {},
   "outputs": [],
   "source": [
    "for k, group_df in holdout_metrics_combined_df.groupby([\"experiment_name\", \"project_id\"]):\n",
    "    group_df.groupby(\"model_id\")[\"generalized_f1\"].max().index.to_list()"
   ]
  },
  {
   "cell_type": "code",
   "execution_count": null,
   "metadata": {},
   "outputs": [],
   "source": []
  }
 ],
 "metadata": {
  "kernelspec": {
   "display_name": "Kedro (x_flow)",
   "language": "python",
   "name": "kedro_x_flow"
  }
 },
 "nbformat": 4,
 "nbformat_minor": 2
}
