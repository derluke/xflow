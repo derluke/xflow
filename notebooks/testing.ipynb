{
 "cells": [
  {
   "cell_type": "code",
   "execution_count": 2,
   "id": "1c7874f0-0e72-4470-94e0-b283e437f561",
   "metadata": {},
   "outputs": [],
   "source": [
    "from typing import Any\n",
    "import pandas as pd\n",
    "from pydantic import BaseModel, Field, field_validator\n",
    "\n",
    "import logging\n",
    "\n",
    "log = logging.getLogger(__name__)\n",
    "\n",
    "class Operation(BaseModel):\n",
    "    operation: str = Field(...)\n",
    "\n",
    "    @field_validator(\"operation\")\n",
    "    def normalize_operation(cls, v):\n",
    "        operation_mapping = {\n",
    "            \"<\": [\"lt\", \"less than\", \"less\"],\n",
    "            \">\": [\"gt\", \"greater than\", \"greater\"],\n",
    "            \"<=\": [\"lte\", \"less than or equal to\", \"less equal\"],\n",
    "            \">=\": [\"gte\", \"greater than or equal to\", \"greater equal\"],\n",
    "            \"==\": [\"eq\", \"equal to\", \"equals\", \"equal\"],\n",
    "            \"!=\": [\"ne\", \"not equal to\", \"not equals\", \"not equal\"],\n",
    "        }\n",
    "\n",
    "        for op, aliases in operation_mapping.items():\n",
    "            if v.lower() in aliases + [op]:\n",
    "                return op\n",
    "\n",
    "        raise ValueError(f\"\"\"Invalid operation: {v}\n",
    "         allowed Values:\n",
    "           {operation_mapping}\n",
    "        \"\"\")"
   ]
  },
  {
   "cell_type": "code",
   "execution_count": 3,
   "id": "6de3663e-2cc3-4990-8b64-30a13ab09c74",
   "metadata": {},
   "outputs": [
    {
     "data": {
      "text/html": [
       "<pre style=\"white-space:pre;overflow-x:auto;line-height:normal;font-family:Menlo,'DejaVu Sans Mono',consolas,'Courier New',monospace\"></pre>\n"
      ],
      "text/plain": []
     },
     "metadata": {},
     "output_type": "display_data"
    },
    {
     "data": {
      "text/plain": [
       "\u001b[1;35mOperation\u001b[0m\u001b[1m(\u001b[0m\u001b[33moperation\u001b[0m=\u001b[32m'>'\u001b[0m\u001b[1m)\u001b[0m"
      ]
     },
     "execution_count": 3,
     "metadata": {},
     "output_type": "execute_result"
    }
   ],
   "source": [
    "Operation(operation=\"gt\")"
   ]
  },
  {
   "cell_type": "code",
   "execution_count": 4,
   "id": "9d9696b0-64fb-4c3c-a2f4-16899ef4b37e",
   "metadata": {},
   "outputs": [
    {
     "name": "stdout",
     "output_type": "stream",
     "text": [
      "\u001b[2K\u001b[2mResolved \u001b[1m1 package\u001b[0m in 197ms\u001b[0m                                                  \u001b[0m\n",
      "\u001b[2K\u001b[2mDownloaded \u001b[1m1 package\u001b[0m in 3.50s\u001b[0m1                                      \u001b[0m\n",
      "\u001b[2K\u001b[2mInstalled \u001b[1m1 package\u001b[0m in 20ms\u001b[0m.21                                      \u001b[0m\n",
      " \u001b[32m+\u001b[39m \u001b[1mpolars\u001b[0m\u001b[2m==0.20.21\u001b[0m\n"
     ]
    }
   ],
   "source": [
    "!uv pip install polars"
   ]
  },
  {
   "cell_type": "code",
   "execution_count": 5,
   "id": "c92aefc2-5ce0-4a13-99c2-81fbb4c7b314",
   "metadata": {},
   "outputs": [],
   "source": [
    "import polars as pl"
   ]
  },
  {
   "cell_type": "code",
   "execution_count": 6,
   "id": "8a67850a-7c44-4ed7-8153-298e20a6ef3b",
   "metadata": {},
   "outputs": [],
   "source": [
    "df = pl.read_csv(\"../include/x_flow/raw_data/DR_Demo_Bond_trading_RFQ.csv\")"
   ]
  },
  {
   "cell_type": "code",
   "execution_count": 9,
   "id": "225474ac-0af8-495c-81eb-34fc4e614879",
   "metadata": {},
   "outputs": [],
   "source": [
    "splits = pl.read_csv(\"../include/x_flow/raw_data/search_space.csv\")"
   ]
  },
  {
   "cell_type": "code",
   "execution_count": 11,
   "id": "60a67df8-3737-49ab-8433-0b2b097f67f6",
   "metadata": {},
   "outputs": [
    {
     "data": {
      "text/html": [
       "<pre style=\"white-space:pre;overflow-x:auto;line-height:normal;font-family:Menlo,'DejaVu Sans Mono',consolas,'Courier New',monospace\"></pre>\n"
      ],
      "text/plain": []
     },
     "metadata": {},
     "output_type": "display_data"
    },
    {
     "data": {
      "text/html": [
       "<div><style>\n",
       ".dataframe > thead > tr,\n",
       ".dataframe > tbody > tr {\n",
       "  text-align: right;\n",
       "  white-space: pre-wrap;\n",
       "}\n",
       "</style>\n",
       "<small>shape: (21, 6)</small><table border=\"1\" class=\"dataframe\"><thead><tr><th></th><th>target_definition</th><th>forecast_distance</th><th>feature_derivation</th><th>project</th><th>project_id</th></tr><tr><td>i64</td><td>str</td><td>i64</td><td>i64</td><td>str</td><td>str</td></tr></thead><tbody><tr><td>0</td><td>&quot;Regression&quot;</td><td>1</td><td>1</td><td>&quot;Project(big_tr…</td><td>&quot;6465059f6a385c…</td></tr><tr><td>1</td><td>&quot;Regression&quot;</td><td>1</td><td>5</td><td>&quot;Project(big_tr…</td><td>&quot;646507016a385c…</td></tr><tr><td>2</td><td>&quot;Regression&quot;</td><td>1</td><td>15</td><td>&quot;Project(big_tr…</td><td>&quot;64650bedbe7eeb…</td></tr><tr><td>3</td><td>&quot;Regression&quot;</td><td>2</td><td>1</td><td>&quot;Project(big_tr…</td><td>&quot;64651034d067f6…</td></tr><tr><td>4</td><td>&quot;Regression&quot;</td><td>2</td><td>5</td><td>&quot;Project(big_tr…</td><td>&quot;646511a0be7eeb…</td></tr><tr><td>&hellip;</td><td>&hellip;</td><td>&hellip;</td><td>&hellip;</td><td>&hellip;</td><td>&hellip;</td></tr><tr><td>16</td><td>&quot;200&quot;</td><td>3</td><td>5</td><td>&quot;Project(big_tr…</td><td>&quot;646536e6ee2491…</td></tr><tr><td>17</td><td>&quot;200&quot;</td><td>3</td><td>15</td><td>&quot;Project(big_tr…</td><td>&quot;64653924cefe8e…</td></tr><tr><td>18</td><td>&quot;500&quot;</td><td>1</td><td>1</td><td>&quot;Project(big_tr…</td><td>&quot;64653e54cefe8e…</td></tr><tr><td>19</td><td>&quot;500&quot;</td><td>1</td><td>5</td><td>&quot;Project(big_tr…</td><td>&quot;64653feeee2491…</td></tr><tr><td>20</td><td>&quot;500&quot;</td><td>1</td><td>15</td><td>&quot;Project(big_tr…</td><td>&quot;6465425fadad87…</td></tr></tbody></table></div>"
      ],
      "text/plain": [
       "\n",
       "shape: \u001b[1m(\u001b[0m\u001b[1;36m21\u001b[0m, \u001b[1;36m6\u001b[0m\u001b[1m)\u001b[0m\n",
       "┌─────┬──────────────────┬──────────────────┬──────────────────┬─────────────────┬─────────────────┐\n",
       "│     ┆ target_definitio ┆ forecast_distanc ┆ feature_derivati ┆ project         ┆ project_id      │\n",
       "│ --- ┆ n                ┆ e                ┆ on               ┆ ---             ┆ ---             │\n",
       "│ i64 ┆ ---              ┆ ---              ┆ ---              ┆ str             ┆ str             │\n",
       "│     ┆ str              ┆ i64              ┆ i64              ┆                 ┆                 │\n",
       "╞═════╪══════════════════╪══════════════════╪══════════════════╪═════════════════╪═════════════════╡\n",
       "│ \u001b[1;36m0\u001b[0m   ┆ Regression       ┆ \u001b[1;36m1\u001b[0m                ┆ \u001b[1;36m1\u001b[0m                ┆ \u001b[1;35mProject\u001b[0m\u001b[1m(\u001b[0mbig_tra ┆ 6465059f6a385c1 │\n",
       "│     ┆                  ┆                  ┆                  ┆ de_target_Regre ┆ 1de22979d       │\n",
       "│     ┆                  ┆                  ┆                  ┆ ss…             ┆                 │\n",
       "│ \u001b[1;36m1\u001b[0m   ┆ Regression       ┆ \u001b[1;36m1\u001b[0m                ┆ \u001b[1;36m5\u001b[0m                ┆ \u001b[1;35mProject\u001b[0m\u001b[1m(\u001b[0mbig_tra ┆ 646507016a385c1 │\n",
       "│     ┆                  ┆                  ┆                  ┆ de_target_Regre ┆ 1de2297b5       │\n",
       "│     ┆                  ┆                  ┆                  ┆ ss…             ┆                 │\n",
       "│ \u001b[1;36m2\u001b[0m   ┆ Regression       ┆ \u001b[1;36m1\u001b[0m                ┆ \u001b[1;36m15\u001b[0m               ┆ \u001b[1;35mProject\u001b[0m\u001b[1m(\u001b[0mbig_tra ┆ 64650bedbe7eeb2 │\n",
       "│     ┆                  ┆                  ┆                  ┆ de_target_Regre ┆ c8722975b       │\n",
       "│     ┆                  ┆                  ┆                  ┆ ss…             ┆                 │\n",
       "│ \u001b[1;36m3\u001b[0m   ┆ Regression       ┆ \u001b[1;36m2\u001b[0m                ┆ \u001b[1;36m1\u001b[0m                ┆ \u001b[1;35mProject\u001b[0m\u001b[1m(\u001b[0mbig_tra ┆ 64651034d067f66 │\n",
       "│     ┆                  ┆                  ┆                  ┆ de_target_Regre ┆ 552e06dad       │\n",
       "│     ┆                  ┆                  ┆                  ┆ ss…             ┆                 │\n",
       "│ \u001b[1;36m4\u001b[0m   ┆ Regression       ┆ \u001b[1;36m2\u001b[0m                ┆ \u001b[1;36m5\u001b[0m                ┆ \u001b[1;35mProject\u001b[0m\u001b[1m(\u001b[0mbig_tra ┆ 646511a0be7eeb2 │\n",
       "│     ┆                  ┆                  ┆                  ┆ de_target_Regre ┆ c872297fa       │\n",
       "│     ┆                  ┆                  ┆                  ┆ ss…             ┆                 │\n",
       "│ …   ┆ …                ┆ …                ┆ …                ┆ …               ┆ …               │\n",
       "│ \u001b[1;36m16\u001b[0m  ┆ \u001b[1;36m200\u001b[0m              ┆ \u001b[1;36m3\u001b[0m                ┆ \u001b[1;36m5\u001b[0m                ┆ \u001b[1;35mProject\u001b[0m\u001b[1m(\u001b[0mbig_tra ┆ 646536e6ee24918 │\n",
       "│     ┆                  ┆                  ┆                  ┆ de_target_200_f ┆ 208e06aa6       │\n",
       "│     ┆                  ┆                  ┆                  ┆ or…             ┆                 │\n",
       "│ \u001b[1;36m17\u001b[0m  ┆ \u001b[1;36m200\u001b[0m              ┆ \u001b[1;36m3\u001b[0m                ┆ \u001b[1;36m15\u001b[0m               ┆ \u001b[1;35mProject\u001b[0m\u001b[1m(\u001b[0mbig_tra ┆ 64653924cefe8eb │\n",
       "│     ┆                  ┆                  ┆                  ┆ de_target_200_f ┆ 06b228ffb       │\n",
       "│     ┆                  ┆                  ┆                  ┆ or…             ┆                 │\n",
       "│ \u001b[1;36m18\u001b[0m  ┆ \u001b[1;36m500\u001b[0m              ┆ \u001b[1;36m1\u001b[0m                ┆ \u001b[1;36m1\u001b[0m                ┆ \u001b[1;35mProject\u001b[0m\u001b[1m(\u001b[0mbig_tra ┆ 64653e54cefe8eb │\n",
       "│     ┆                  ┆                  ┆                  ┆ de_target_500_f ┆ 06b2290af       │\n",
       "│     ┆                  ┆                  ┆                  ┆ or…             ┆                 │\n",
       "│ \u001b[1;36m19\u001b[0m  ┆ \u001b[1;36m500\u001b[0m              ┆ \u001b[1;36m1\u001b[0m                ┆ \u001b[1;36m5\u001b[0m                ┆ \u001b[1;35mProject\u001b[0m\u001b[1m(\u001b[0mbig_tra ┆ 64653feeee24918 │\n",
       "│     ┆                  ┆                  ┆                  ┆ de_target_500_f ┆ 208e06b94       │\n",
       "│     ┆                  ┆                  ┆                  ┆ or…             ┆                 │\n",
       "│ \u001b[1;36m20\u001b[0m  ┆ \u001b[1;36m500\u001b[0m              ┆ \u001b[1;36m1\u001b[0m                ┆ \u001b[1;36m15\u001b[0m               ┆ \u001b[1;35mProject\u001b[0m\u001b[1m(\u001b[0mbig_tra ┆ 6465425fadad874 │\n",
       "│     ┆                  ┆                  ┆                  ┆ de_target_500_f ┆ 18a228e29       │\n",
       "│     ┆                  ┆                  ┆                  ┆ or…             ┆                 │\n",
       "└─────┴──────────────────┴──────────────────┴──────────────────┴─────────────────┴─────────────────┘"
      ]
     },
     "execution_count": 11,
     "metadata": {},
     "output_type": "execute_result"
    }
   ],
   "source": [
    "splits"
   ]
  },
  {
   "cell_type": "code",
   "execution_count": 7,
   "id": "d3ba09c7-1fc4-4a06-8eec-a905d0381f20",
   "metadata": {},
   "outputs": [
    {
     "data": {
      "text/html": [
       "<pre style=\"white-space:pre;overflow-x:auto;line-height:normal;font-family:Menlo,'DejaVu Sans Mono',consolas,'Courier New',monospace\"></pre>\n"
      ],
      "text/plain": []
     },
     "metadata": {},
     "output_type": "display_data"
    },
    {
     "data": {
      "text/html": [
       "<div><style>\n",
       ".dataframe > thead > tr,\n",
       ".dataframe > tbody > tr {\n",
       "  text-align: right;\n",
       "  white-space: pre-wrap;\n",
       "}\n",
       "</style>\n",
       "<small>shape: (5, 33)</small><table border=\"1\" class=\"dataframe\"><thead><tr><th>request_id</th><th>date</th><th>cusip</th><th>BidAsk</th><th>Mid</th><th>yield_to_maturity</th><th>years_to_maturity</th><th>years_since_issue</th><th>is_bench_02y</th><th>is_bench_05y</th><th>is_bench_10y</th><th>is_bench_30y</th><th>IssueName</th><th>AmountOut</th><th>issue_date</th><th>Coupon</th><th>Currency</th><th>maturity_date</th><th>counterparty_id</th><th>counterparty_type</th><th>name</th><th>counterparty_aum</th><th>ann_account_value_bln</th><th>tier</th><th>salesperson</th><th>salesperson_num_ac_covered</th><th>notional_EURm</th><th>notional_bps_total_issue</th><th>log_notional</th><th>resp_bidAsk_norm</th><th>response_revenue_EUR</th><th>num_brokers</th><th>trade_won</th></tr><tr><td>i64</td><td>str</td><td>str</td><td>f64</td><td>f64</td><td>f64</td><td>f64</td><td>f64</td><td>bool</td><td>bool</td><td>bool</td><td>bool</td><td>str</td><td>f64</td><td>str</td><td>f64</td><td>str</td><td>str</td><td>str</td><td>str</td><td>str</td><td>f64</td><td>f64</td><td>str</td><td>str</td><td>i64</td><td>i64</td><td>f64</td><td>f64</td><td>f64</td><td>f64</td><td>i64</td><td>bool</td></tr></thead><tbody><tr><td>1777</td><td>&quot;04/01/2018&quot;</td><td>&quot;D2R8H4AK&quot;</td><td>0.0227</td><td>102.16795</td><td>-0.522589</td><td>3.263585</td><td>2.507923</td><td>false</td><td>false</td><td>false</td><td>false</td><td>&quot;Government of …</td><td>20713.79945</td><td>&quot;03/07/2015&quot;</td><td>0.25</td><td>&quot;Euro&quot;</td><td>&quot;10/04/2021&quot;</td><td>&quot;LO057&quot;</td><td>&quot;LO&quot;</td><td>&quot;Fayetteville I…</td><td>81.673308</td><td>33.523547</td><td>&quot;C&quot;</td><td>&quot;Meghan&quot;</td><td>41</td><td>29</td><td>14.000329</td><td>1.462398</td><td>2.719329</td><td>4028.957313</td><td>10</td><td>true</td></tr><tr><td>1778</td><td>&quot;06/03/2018&quot;</td><td>&quot;D20658Z9&quot;</td><td>0.1442</td><td>128.7033</td><td>1.284039</td><td>29.005387</td><td>4.01651</td><td>false</td><td>false</td><td>false</td><td>true</td><td>&quot;Government of …</td><td>30525.59919</td><td>&quot;28/02/2014&quot;</td><td>2.5</td><td>&quot;Euro&quot;</td><td>&quot;08/03/2047&quot;</td><td>&quot;LO111&quot;</td><td>&quot;LO&quot;</td><td>&quot;Knoxville Pens…</td><td>114.119618</td><td>30.439696</td><td>&quot;C&quot;</td><td>&quot;Meghan&quot;</td><td>41</td><td>208</td><td>68.139531</td><td>2.318063</td><td>12.510871</td><td>167553.6102</td><td>8</td><td>false</td></tr><tr><td>1779</td><td>&quot;05/09/2018&quot;</td><td>&quot;D206585A&quot;</td><td>0.028</td><td>100.987</td><td>-0.607714</td><td>2.661246</td><td>3.616775</td><td>false</td><td>false</td><td>false</td><td>false</td><td>&quot;Government of …</td><td>21803.99942</td><td>&quot;23/01/2015&quot;</td><td>0.0</td><td>&quot;Euro&quot;</td><td>&quot;04/05/2021&quot;</td><td>&quot;LO140&quot;</td><td>&quot;LO&quot;</td><td>&quot;Cincinnati Cap…</td><td>210.929638</td><td>46.848707</td><td>&quot;A&quot;</td><td>&quot;Kate&quot;</td><td>9</td><td>135</td><td>61.915247</td><td>2.130334</td><td>2.954119</td><td>20139.9049</td><td>9</td><td>false</td></tr><tr><td>1780</td><td>&quot;14/08/2019&quot;</td><td>&quot;D2R8H4DM&quot;</td><td>0.023</td><td>109.0565</td><td>-0.721392</td><td>9.566247</td><td>1.086949</td><td>false</td><td>false</td><td>true</td><td>false</td><td>&quot;Government of …</td><td>22894.19939</td><td>&quot;13/07/2018&quot;</td><td>0.25</td><td>&quot;Euro&quot;</td><td>&quot;08/03/2029&quot;</td><td>&quot;LO087&quot;</td><td>&quot;LO&quot;</td><td>&quot;Unalaska Advis…</td><td>117.150554</td><td>14.189058</td><td>&quot;C&quot;</td><td>&quot;William&quot;</td><td>15</td><td>99</td><td>43.242394</td><td>1.995635</td><td>2.661497</td><td>14369.06668</td><td>11</td><td>false</td></tr><tr><td>1781</td><td>&quot;25/04/2018&quot;</td><td>&quot;D20659WR&quot;</td><td>0.0242</td><td>106.5311</td><td>-0.492709</td><td>1.957604</td><td>7.685305</td><td>true</td><td>false</td><td>false</td><td>false</td><td>&quot;Government of …</td><td>17443.19954</td><td>&quot;18/08/2010&quot;</td><td>2.25</td><td>&quot;Euro&quot;</td><td>&quot;09/04/2020&quot;</td><td>&quot;LO090&quot;</td><td>&quot;LO&quot;</td><td>&quot;Jackson Trust&quot;</td><td>135.431575</td><td>50.701944</td><td>&quot;B&quot;</td><td>&quot;Louis&quot;</td><td>3</td><td>228</td><td>130.709965</td><td>2.357935</td><td>2.299022</td><td>27923.75113</td><td>9</td><td>false</td></tr></tbody></table></div>"
      ],
      "text/plain": [
       "\n",
       "shape: \u001b[1m(\u001b[0m\u001b[1;36m5\u001b[0m, \u001b[1;36m33\u001b[0m\u001b[1m)\u001b[0m\n",
       "┌────────────┬────────────┬──────────┬────────┬───┬────────────┬───────────┬───────────┬───────────┐\n",
       "│ request_id ┆ date       ┆ cusip    ┆ BidAsk ┆ … ┆ resp_bidAs ┆ response_ ┆ num_broke ┆ trade_won │\n",
       "│ ---        ┆ ---        ┆ ---      ┆ ---    ┆   ┆ k_norm     ┆ revenue_E ┆ rs        ┆ ---       │\n",
       "│ i64        ┆ str        ┆ str      ┆ f64    ┆   ┆ ---        ┆ UR        ┆ ---       ┆ bool      │\n",
       "│            ┆            ┆          ┆        ┆   ┆ f64        ┆ ---       ┆ i64       ┆           │\n",
       "│            ┆            ┆          ┆        ┆   ┆            ┆ f64       ┆           ┆           │\n",
       "╞════════════╪════════════╪══════════╪════════╪═══╪════════════╪═══════════╪═══════════╪═══════════╡\n",
       "│ \u001b[1;36m1777\u001b[0m       ┆ \u001b[1;36m04\u001b[0m/\u001b[1;36m01\u001b[0m/\u001b[1;36m2018\u001b[0m ┆ D2R8H4AK ┆ \u001b[1;36m0.0227\u001b[0m ┆ … ┆ \u001b[1;36m2.719329\u001b[0m   ┆ \u001b[1;36m4028.9573\u001b[0m ┆ \u001b[1;36m10\u001b[0m        ┆ true      │\n",
       "│            ┆            ┆          ┆        ┆   ┆            ┆ \u001b[1;36m13\u001b[0m        ┆           ┆           │\n",
       "│ \u001b[1;36m1778\u001b[0m       ┆ \u001b[1;36m06\u001b[0m/\u001b[1;36m03\u001b[0m/\u001b[1;36m2018\u001b[0m ┆ D20658Z9 ┆ \u001b[1;36m0.1442\u001b[0m ┆ … ┆ \u001b[1;36m12.510871\u001b[0m  ┆ \u001b[1;36m167553.61\u001b[0m ┆ \u001b[1;36m8\u001b[0m         ┆ false     │\n",
       "│            ┆            ┆          ┆        ┆   ┆            ┆ \u001b[1;36m02\u001b[0m        ┆           ┆           │\n",
       "│ \u001b[1;36m1779\u001b[0m       ┆ \u001b[1;36m05\u001b[0m/\u001b[1;36m09\u001b[0m/\u001b[1;36m2018\u001b[0m ┆ D206585A ┆ \u001b[1;36m0.028\u001b[0m  ┆ … ┆ \u001b[1;36m2.954119\u001b[0m   ┆ \u001b[1;36m20139.904\u001b[0m ┆ \u001b[1;36m9\u001b[0m         ┆ false     │\n",
       "│            ┆            ┆          ┆        ┆   ┆            ┆ \u001b[1;36m9\u001b[0m         ┆           ┆           │\n",
       "│ \u001b[1;36m1780\u001b[0m       ┆ \u001b[1;36m14\u001b[0m/\u001b[1;36m08\u001b[0m/\u001b[1;36m2019\u001b[0m ┆ D2R8H4DM ┆ \u001b[1;36m0.023\u001b[0m  ┆ … ┆ \u001b[1;36m2.661497\u001b[0m   ┆ \u001b[1;36m14369.066\u001b[0m ┆ \u001b[1;36m11\u001b[0m        ┆ false     │\n",
       "│            ┆            ┆          ┆        ┆   ┆            ┆ \u001b[1;36m68\u001b[0m        ┆           ┆           │\n",
       "│ \u001b[1;36m1781\u001b[0m       ┆ \u001b[1;36m25\u001b[0m/\u001b[1;36m04\u001b[0m/\u001b[1;36m2018\u001b[0m ┆ D20659WR ┆ \u001b[1;36m0.0242\u001b[0m ┆ … ┆ \u001b[1;36m2.299022\u001b[0m   ┆ \u001b[1;36m27923.751\u001b[0m ┆ \u001b[1;36m9\u001b[0m         ┆ false     │\n",
       "│            ┆            ┆          ┆        ┆   ┆            ┆ \u001b[1;36m13\u001b[0m        ┆           ┆           │\n",
       "└────────────┴────────────┴──────────┴────────┴───┴────────────┴───────────┴───────────┴───────────┘"
      ]
     },
     "execution_count": 7,
     "metadata": {},
     "output_type": "execute_result"
    }
   ],
   "source": [
    "df.head()"
   ]
  },
  {
   "cell_type": "code",
   "execution_count": 8,
   "id": "4ab12d4b-d6d6-4168-9bcf-5e7949a73cc2",
   "metadata": {},
   "outputs": [
    {
     "data": {
      "text/html": [
       "<pre style=\"white-space:pre;overflow-x:auto;line-height:normal;font-family:Menlo,'DejaVu Sans Mono',consolas,'Courier New',monospace\"></pre>\n"
      ],
      "text/plain": []
     },
     "metadata": {},
     "output_type": "display_data"
    },
    {
     "data": {
      "text/html": [
       "<div><style>\n",
       ".dataframe > thead > tr,\n",
       ".dataframe > tbody > tr {\n",
       "  text-align: right;\n",
       "  white-space: pre-wrap;\n",
       "}\n",
       "</style>\n",
       "<small>shape: (1,)</small><table border=\"1\" class=\"dataframe\"><thead><tr><th>Currency</th></tr><tr><td>str</td></tr></thead><tbody><tr><td>&quot;Euro&quot;</td></tr></tbody></table></div>"
      ],
      "text/plain": [
       "\n",
       "shape: \u001b[1m(\u001b[0m\u001b[1;36m1\u001b[0m,\u001b[1m)\u001b[0m\n",
       "Series: \u001b[32m'Currency'\u001b[0m \u001b[1m[\u001b[0mstr\u001b[1m]\u001b[0m\n",
       "\u001b[1m[\u001b[0m\n",
       "        \u001b[32m\"Euro\"\u001b[0m\n",
       "\u001b[1m]\u001b[0m"
      ]
     },
     "execution_count": 8,
     "metadata": {},
     "output_type": "execute_result"
    }
   ],
   "source": [
    "df[\"Currency\"].unique()"
   ]
  },
  {
   "cell_type": "code",
   "execution_count": 43,
   "id": "db5ca263-6a7f-4916-aa29-bd2bde83d6f8",
   "metadata": {},
   "outputs": [],
   "source": [
    "import datarobot as dr\n",
    "import inspect\n",
    "import yaml\n",
    "\n",
    "params_function_mapping = {\n",
    "    \"DatetimePartitioningSpecification\": list(inspect.signature(dr.DatetimePartitioningSpecification).parameters.keys()),\n",
    "    \"AdvancedOptions\":list(inspect.signature(dr.AdvancedOptions).parameters.keys()),\n",
    "    \"analyze_and_model\":list(inspect.signature(dr.Project.analyze_and_model).parameters.keys())}\n",
    "\n",
    "mapping = {param: dr_class  for (dr_class, params) in params_function_mapping.items() for param in params if param != \"self\"}"
   ]
  },
  {
   "cell_type": "code",
   "execution_count": 45,
   "id": "706612f7-c2a6-41eb-8a92-c815636b8d36",
   "metadata": {},
   "outputs": [
    {
     "name": "stdout",
     "output_type": "stream",
     "text": [
      "accuracy_optimized_mb: AdvancedOptions\n",
      "advanced_options: analyze_and_model\n",
      "aggregation_type: DatetimePartitioningSpecification\n",
      "allow_partial_history_time_series_predictions: DatetimePartitioningSpecification\n",
      "allowed_pairwise_interaction_groups: AdvancedOptions\n",
      "autopilot_cluster_list: analyze_and_model\n",
      "autopilot_data_sampling_method: AdvancedOptions\n",
      "autopilot_data_selection_method: DatetimePartitioningSpecification\n",
      "autopilot_with_feature_discovery: AdvancedOptions\n",
      "backtests: DatetimePartitioningSpecification\n",
      "bias_mitigation_feature_name: AdvancedOptions\n",
      "bias_mitigation_technique: AdvancedOptions\n",
      "blend_best_models: AdvancedOptions\n",
      "blueprint_threshold: AdvancedOptions\n",
      "calendar_id: DatetimePartitioningSpecification\n",
      "class_mapping_aggregation_settings: analyze_and_model\n",
      "consider_blenders_in_recommendation: AdvancedOptions\n",
      "credentials: analyze_and_model\n",
      "cross_series_group_by_columns: DatetimePartitioningSpecification\n",
      "datetime_partition_column: DatetimePartitioningSpecification\n",
      "default_monotonic_decreasing_featurelist_id: AdvancedOptions\n",
      "default_monotonic_increasing_featurelist_id: AdvancedOptions\n",
      "default_to_do_not_derive: DatetimePartitioningSpecification\n",
      "default_to_known_in_advance: DatetimePartitioningSpecification\n",
      "differencing_method: DatetimePartitioningSpecification\n",
      "disable_holdout: DatetimePartitioningSpecification\n",
      "events_count: AdvancedOptions\n",
      "exponentially_weighted_moving_alpha: AdvancedOptions\n",
      "exposure: AdvancedOptions\n",
      "external_time_series_baseline_dataset_id: AdvancedOptions\n",
      "fairness_metrics_set: AdvancedOptions\n",
      "fairness_threshold: AdvancedOptions\n",
      "feature_derivation_window_end: DatetimePartitioningSpecification\n",
      "feature_derivation_window_start: DatetimePartitioningSpecification\n",
      "feature_discovery_supervised_feature_reduction: AdvancedOptions\n",
      "feature_engineering_prediction_point: analyze_and_model\n",
      "feature_settings: DatetimePartitioningSpecification\n",
      "featurelist_id: analyze_and_model\n",
      "forecast_window_end: DatetimePartitioningSpecification\n",
      "forecast_window_start: DatetimePartitioningSpecification\n",
      "gap_duration: DatetimePartitioningSpecification\n",
      "holdout_duration: DatetimePartitioningSpecification\n",
      "holdout_end_date: DatetimePartitioningSpecification\n",
      "holdout_start_date: DatetimePartitioningSpecification\n",
      "include_bias_mitigation_feature_as_predictor_variable: AdvancedOptions\n",
      "majority_downsampling_rate: AdvancedOptions\n",
      "max_wait: analyze_and_model\n",
      "metric: analyze_and_model\n",
      "min_secondary_validation_model_count: AdvancedOptions\n",
      "mode: analyze_and_model\n",
      "model_baselines: AdvancedOptions\n",
      "model_group_id: AdvancedOptions\n",
      "model_regime_id: AdvancedOptions\n",
      "model_splits: DatetimePartitioningSpecification\n",
      "monotonic_decreasing_featurelist_id: AdvancedOptions\n",
      "monotonic_increasing_featurelist_id: AdvancedOptions\n",
      "multiseries_id_columns: DatetimePartitioningSpecification\n",
      "number_of_backtests: DatetimePartitioningSpecification\n",
      "offset: AdvancedOptions\n",
      "only_include_monotonic_blueprints: AdvancedOptions\n",
      "partitioning_method: analyze_and_model\n",
      "periodicities: DatetimePartitioningSpecification\n",
      "positive_class: analyze_and_model\n",
      "preferable_target_value: AdvancedOptions\n",
      "prepare_model_for_deployment: AdvancedOptions\n",
      "primary_location_column: AdvancedOptions\n",
      "protected_features: AdvancedOptions\n",
      "relationships_configuration_id: analyze_and_model\n",
      "response_cap: AdvancedOptions\n",
      "run_leakage_removed_feature_list: AdvancedOptions\n",
      "scaleout_modeling_mode: AdvancedOptions\n",
      "scoring_code_only: AdvancedOptions\n",
      "seed: AdvancedOptions\n",
      "segmentation_task_id: analyze_and_model\n",
      "shap_only_mode: AdvancedOptions\n",
      "smart_downsampled: AdvancedOptions\n",
      "target: analyze_and_model\n",
      "target_type: analyze_and_model\n",
      "treat_as_exponential: DatetimePartitioningSpecification\n",
      "unsupervised_mode: analyze_and_model\n",
      "unsupervised_type: analyze_and_model\n",
      "use_cross_series_features: DatetimePartitioningSpecification\n",
      "use_gpu: analyze_and_model\n",
      "use_supervised_feature_reduction: AdvancedOptions\n",
      "use_time_series: DatetimePartitioningSpecification\n",
      "validation_duration: DatetimePartitioningSpecification\n",
      "weights: AdvancedOptions\n",
      "windows_basis_unit: DatetimePartitioningSpecification\n",
      "worker_count: analyze_and_model\n",
      "\n"
     ]
    }
   ],
   "source": [
    "print(yaml.dump(mapping))"
   ]
  },
  {
   "cell_type": "code",
   "execution_count": null,
   "id": "c9733481-dbc1-436e-a370-84e684e9ac59",
   "metadata": {},
   "outputs": [],
   "source": []
  }
 ],
 "metadata": {
  "kernelspec": {
   "display_name": "Kedro (x_flow)",
   "language": "python",
   "name": "kedro_x_flow"
  },
  "language_info": {
   "codemirror_mode": {
    "name": "ipython",
    "version": 3
   },
   "file_extension": ".py",
   "mimetype": "text/x-python",
   "name": "python",
   "nbconvert_exporter": "python",
   "pygments_lexer": "ipython3",
   "version": "3.10.12"
  }
 },
 "nbformat": 4,
 "nbformat_minor": 5
}
