{
 "cells": [
  {
   "cell_type": "code",
   "execution_count": 1,
   "metadata": {},
   "outputs": [
    {
     "data": {
      "text/html": [
       "<pre style=\"white-space:pre;overflow-x:auto;line-height:normal;font-family:Menlo,'DejaVu Sans Mono',consolas,'Courier New',monospace\"><span style=\"color: #7fbfbf; text-decoration-color: #7fbfbf\">[06/27/24 16:20:26] </span><span style=\"color: #008000; text-decoration-color: #008000\">DEBUG   </span> open file: <span style=\"color: #800080; text-decoration-color: #800080\">/home/lukas/code/recipe-xflow/conf/base/</span><span style=\"color: #ff00ff; text-decoration-color: #ff00ff\">parameters_config.yml</span>  <a href=\"file:///home/lukas/code/recipe-xflow/.venv/lib/python3.11/site-packages/fsspec/implementations/local.py\" target=\"_blank\"><span style=\"color: #7f7f7f; text-decoration-color: #7f7f7f\">local.py</span></a><span style=\"color: #7f7f7f; text-decoration-color: #7f7f7f\">:</span><a href=\"file:///home/lukas/code/recipe-xflow/.venv/lib/python3.11/site-packages/fsspec/implementations/local.py#347\" target=\"_blank\"><span style=\"color: #7f7f7f; text-decoration-color: #7f7f7f\">347</span></a>\n",
       "</pre>\n"
      ],
      "text/plain": [
       "\u001b[2;36m[06/27/24 16:20:26]\u001b[0m\u001b[2;36m \u001b[0m\u001b[32mDEBUG   \u001b[0m open file: \u001b[35m/home/lukas/code/recipe-xflow/conf/base/\u001b[0m\u001b[95mparameters_config.yml\u001b[0m  \u001b]8;id=640397;file:///home/lukas/code/recipe-xflow/.venv/lib/python3.11/site-packages/fsspec/implementations/local.py\u001b\\\u001b[2mlocal.py\u001b[0m\u001b]8;;\u001b\\\u001b[2m:\u001b[0m\u001b]8;id=190009;file:///home/lukas/code/recipe-xflow/.venv/lib/python3.11/site-packages/fsspec/implementations/local.py#347\u001b\\\u001b[2m347\u001b[0m\u001b]8;;\u001b\\\n"
      ]
     },
     "metadata": {},
     "output_type": "display_data"
    },
    {
     "data": {
      "text/html": [
       "<pre style=\"white-space:pre;overflow-x:auto;line-height:normal;font-family:Menlo,'DejaVu Sans Mono',consolas,'Courier New',monospace\"><span style=\"color: #7fbfbf; text-decoration-color: #7fbfbf\">                    </span><span style=\"color: #008000; text-decoration-color: #008000\">DEBUG   </span> open file:                                                                <a href=\"file:///home/lukas/code/recipe-xflow/.venv/lib/python3.11/site-packages/fsspec/implementations/local.py\" target=\"_blank\"><span style=\"color: #7f7f7f; text-decoration-color: #7f7f7f\">local.py</span></a><span style=\"color: #7f7f7f; text-decoration-color: #7f7f7f\">:</span><a href=\"file:///home/lukas/code/recipe-xflow/.venv/lib/python3.11/site-packages/fsspec/implementations/local.py#347\" target=\"_blank\"><span style=\"color: #7f7f7f; text-decoration-color: #7f7f7f\">347</span></a>\n",
       "<span style=\"color: #7fbfbf; text-decoration-color: #7fbfbf\">                    </span>         <span style=\"color: #800080; text-decoration-color: #800080\">/home/lukas/code/recipe-xflow/conf/base/</span><span style=\"color: #ff00ff; text-decoration-color: #ff00ff\">parameters_insights.yml</span>           <span style=\"color: #7f7f7f; text-decoration-color: #7f7f7f\">            </span>\n",
       "</pre>\n"
      ],
      "text/plain": [
       "\u001b[2;36m                   \u001b[0m\u001b[2;36m \u001b[0m\u001b[32mDEBUG   \u001b[0m open file:                                                                \u001b]8;id=317428;file:///home/lukas/code/recipe-xflow/.venv/lib/python3.11/site-packages/fsspec/implementations/local.py\u001b\\\u001b[2mlocal.py\u001b[0m\u001b]8;;\u001b\\\u001b[2m:\u001b[0m\u001b]8;id=355022;file:///home/lukas/code/recipe-xflow/.venv/lib/python3.11/site-packages/fsspec/implementations/local.py#347\u001b\\\u001b[2m347\u001b[0m\u001b]8;;\u001b\\\n",
       "\u001b[2;36m                    \u001b[0m         \u001b[35m/home/lukas/code/recipe-xflow/conf/base/\u001b[0m\u001b[95mparameters_insights.yml\u001b[0m           \u001b[2m            \u001b[0m\n"
      ]
     },
     "metadata": {},
     "output_type": "display_data"
    },
    {
     "data": {
      "text/html": [
       "<pre style=\"white-space:pre;overflow-x:auto;line-height:normal;font-family:Menlo,'DejaVu Sans Mono',consolas,'Courier New',monospace\"><span style=\"color: #7fbfbf; text-decoration-color: #7fbfbf\">                    </span><span style=\"color: #008000; text-decoration-color: #008000\">DEBUG   </span> open file: <span style=\"color: #800080; text-decoration-color: #800080\">/home/lukas/code/recipe-xflow/conf/base/</span><span style=\"color: #ff00ff; text-decoration-color: #ff00ff\">parameters_measure.yml</span> <a href=\"file:///home/lukas/code/recipe-xflow/.venv/lib/python3.11/site-packages/fsspec/implementations/local.py\" target=\"_blank\"><span style=\"color: #7f7f7f; text-decoration-color: #7f7f7f\">local.py</span></a><span style=\"color: #7f7f7f; text-decoration-color: #7f7f7f\">:</span><a href=\"file:///home/lukas/code/recipe-xflow/.venv/lib/python3.11/site-packages/fsspec/implementations/local.py#347\" target=\"_blank\"><span style=\"color: #7f7f7f; text-decoration-color: #7f7f7f\">347</span></a>\n",
       "</pre>\n"
      ],
      "text/plain": [
       "\u001b[2;36m                   \u001b[0m\u001b[2;36m \u001b[0m\u001b[32mDEBUG   \u001b[0m open file: \u001b[35m/home/lukas/code/recipe-xflow/conf/base/\u001b[0m\u001b[95mparameters_measure.yml\u001b[0m \u001b]8;id=619395;file:///home/lukas/code/recipe-xflow/.venv/lib/python3.11/site-packages/fsspec/implementations/local.py\u001b\\\u001b[2mlocal.py\u001b[0m\u001b]8;;\u001b\\\u001b[2m:\u001b[0m\u001b]8;id=456941;file:///home/lukas/code/recipe-xflow/.venv/lib/python3.11/site-packages/fsspec/implementations/local.py#347\u001b\\\u001b[2m347\u001b[0m\u001b]8;;\u001b\\\n"
      ]
     },
     "metadata": {},
     "output_type": "display_data"
    },
    {
     "data": {
      "text/html": [
       "<pre style=\"white-space:pre;overflow-x:auto;line-height:normal;font-family:Menlo,'DejaVu Sans Mono',consolas,'Courier New',monospace\"><span style=\"color: #7fbfbf; text-decoration-color: #7fbfbf\">                    </span><span style=\"color: #008000; text-decoration-color: #008000\">DEBUG   </span> open file:                                                                <a href=\"file:///home/lukas/code/recipe-xflow/.venv/lib/python3.11/site-packages/fsspec/implementations/local.py\" target=\"_blank\"><span style=\"color: #7f7f7f; text-decoration-color: #7f7f7f\">local.py</span></a><span style=\"color: #7f7f7f; text-decoration-color: #7f7f7f\">:</span><a href=\"file:///home/lukas/code/recipe-xflow/.venv/lib/python3.11/site-packages/fsspec/implementations/local.py#347\" target=\"_blank\"><span style=\"color: #7f7f7f; text-decoration-color: #7f7f7f\">347</span></a>\n",
       "<span style=\"color: #7fbfbf; text-decoration-color: #7fbfbf\">                    </span>         <span style=\"color: #800080; text-decoration-color: #800080\">/home/lukas/code/recipe-xflow/conf/base/</span><span style=\"color: #ff00ff; text-decoration-color: #ff00ff\">parameters_dataprep.yml</span>           <span style=\"color: #7f7f7f; text-decoration-color: #7f7f7f\">            </span>\n",
       "</pre>\n"
      ],
      "text/plain": [
       "\u001b[2;36m                   \u001b[0m\u001b[2;36m \u001b[0m\u001b[32mDEBUG   \u001b[0m open file:                                                                \u001b]8;id=438900;file:///home/lukas/code/recipe-xflow/.venv/lib/python3.11/site-packages/fsspec/implementations/local.py\u001b\\\u001b[2mlocal.py\u001b[0m\u001b]8;;\u001b\\\u001b[2m:\u001b[0m\u001b]8;id=725125;file:///home/lukas/code/recipe-xflow/.venv/lib/python3.11/site-packages/fsspec/implementations/local.py#347\u001b\\\u001b[2m347\u001b[0m\u001b]8;;\u001b\\\n",
       "\u001b[2;36m                    \u001b[0m         \u001b[35m/home/lukas/code/recipe-xflow/conf/base/\u001b[0m\u001b[95mparameters_dataprep.yml\u001b[0m           \u001b[2m            \u001b[0m\n"
      ]
     },
     "metadata": {},
     "output_type": "display_data"
    },
    {
     "data": {
      "text/html": [
       "<pre style=\"white-space:pre;overflow-x:auto;line-height:normal;font-family:Menlo,'DejaVu Sans Mono',consolas,'Courier New',monospace\"><span style=\"color: #7fbfbf; text-decoration-color: #7fbfbf\">                    </span><span style=\"color: #008000; text-decoration-color: #008000\">DEBUG   </span> open file:                                                                <a href=\"file:///home/lukas/code/recipe-xflow/.venv/lib/python3.11/site-packages/fsspec/implementations/local.py\" target=\"_blank\"><span style=\"color: #7f7f7f; text-decoration-color: #7f7f7f\">local.py</span></a><span style=\"color: #7f7f7f; text-decoration-color: #7f7f7f\">:</span><a href=\"file:///home/lukas/code/recipe-xflow/.venv/lib/python3.11/site-packages/fsspec/implementations/local.py#347\" target=\"_blank\"><span style=\"color: #7f7f7f; text-decoration-color: #7f7f7f\">347</span></a>\n",
       "<span style=\"color: #7fbfbf; text-decoration-color: #7fbfbf\">                    </span>         <span style=\"color: #800080; text-decoration-color: #800080\">/home/lukas/code/recipe-xflow/conf/base/</span><span style=\"color: #ff00ff; text-decoration-color: #ff00ff\">parameters_experiment.yml</span>         <span style=\"color: #7f7f7f; text-decoration-color: #7f7f7f\">            </span>\n",
       "</pre>\n"
      ],
      "text/plain": [
       "\u001b[2;36m                   \u001b[0m\u001b[2;36m \u001b[0m\u001b[32mDEBUG   \u001b[0m open file:                                                                \u001b]8;id=586664;file:///home/lukas/code/recipe-xflow/.venv/lib/python3.11/site-packages/fsspec/implementations/local.py\u001b\\\u001b[2mlocal.py\u001b[0m\u001b]8;;\u001b\\\u001b[2m:\u001b[0m\u001b]8;id=920083;file:///home/lukas/code/recipe-xflow/.venv/lib/python3.11/site-packages/fsspec/implementations/local.py#347\u001b\\\u001b[2m347\u001b[0m\u001b]8;;\u001b\\\n",
       "\u001b[2;36m                    \u001b[0m         \u001b[35m/home/lukas/code/recipe-xflow/conf/base/\u001b[0m\u001b[95mparameters_experiment.yml\u001b[0m         \u001b[2m            \u001b[0m\n"
      ]
     },
     "metadata": {},
     "output_type": "display_data"
    },
    {
     "data": {
      "text/html": [
       "<pre style=\"white-space:pre;overflow-x:auto;line-height:normal;font-family:Menlo,'DejaVu Sans Mono',consolas,'Courier New',monospace\"><span style=\"color: #7fbfbf; text-decoration-color: #7fbfbf\">                    </span><span style=\"color: #008000; text-decoration-color: #008000\">DEBUG   </span> open file:                                                                <a href=\"file:///home/lukas/code/recipe-xflow/.venv/lib/python3.11/site-packages/fsspec/implementations/local.py\" target=\"_blank\"><span style=\"color: #7f7f7f; text-decoration-color: #7f7f7f\">local.py</span></a><span style=\"color: #7f7f7f; text-decoration-color: #7f7f7f\">:</span><a href=\"file:///home/lukas/code/recipe-xflow/.venv/lib/python3.11/site-packages/fsspec/implementations/local.py#347\" target=\"_blank\"><span style=\"color: #7f7f7f; text-decoration-color: #7f7f7f\">347</span></a>\n",
       "<span style=\"color: #7fbfbf; text-decoration-color: #7fbfbf\">                    </span>         <span style=\"color: #800080; text-decoration-color: #800080\">/home/lukas/code/recipe-xflow/conf/base/</span><span style=\"color: #ff00ff; text-decoration-color: #ff00ff\">parameters_overrides.yml</span>          <span style=\"color: #7f7f7f; text-decoration-color: #7f7f7f\">            </span>\n",
       "</pre>\n"
      ],
      "text/plain": [
       "\u001b[2;36m                   \u001b[0m\u001b[2;36m \u001b[0m\u001b[32mDEBUG   \u001b[0m open file:                                                                \u001b]8;id=11463;file:///home/lukas/code/recipe-xflow/.venv/lib/python3.11/site-packages/fsspec/implementations/local.py\u001b\\\u001b[2mlocal.py\u001b[0m\u001b]8;;\u001b\\\u001b[2m:\u001b[0m\u001b]8;id=421929;file:///home/lukas/code/recipe-xflow/.venv/lib/python3.11/site-packages/fsspec/implementations/local.py#347\u001b\\\u001b[2m347\u001b[0m\u001b]8;;\u001b\\\n",
       "\u001b[2;36m                    \u001b[0m         \u001b[35m/home/lukas/code/recipe-xflow/conf/base/\u001b[0m\u001b[95mparameters_overrides.yml\u001b[0m          \u001b[2m            \u001b[0m\n"
      ]
     },
     "metadata": {},
     "output_type": "display_data"
    },
    {
     "data": {
      "text/html": [
       "<pre style=\"white-space:pre;overflow-x:auto;line-height:normal;font-family:Menlo,'DejaVu Sans Mono',consolas,'Courier New',monospace\"><span style=\"color: #7fbfbf; text-decoration-color: #7fbfbf\">                    </span><span style=\"color: #008000; text-decoration-color: #008000\">DEBUG   </span> open file: <span style=\"color: #800080; text-decoration-color: #800080\">/home/lukas/code/recipe-xflow/conf/base/</span><span style=\"color: #ff00ff; text-decoration-color: #ff00ff\">parameters_collect.yml</span> <a href=\"file:///home/lukas/code/recipe-xflow/.venv/lib/python3.11/site-packages/fsspec/implementations/local.py\" target=\"_blank\"><span style=\"color: #7f7f7f; text-decoration-color: #7f7f7f\">local.py</span></a><span style=\"color: #7f7f7f; text-decoration-color: #7f7f7f\">:</span><a href=\"file:///home/lukas/code/recipe-xflow/.venv/lib/python3.11/site-packages/fsspec/implementations/local.py#347\" target=\"_blank\"><span style=\"color: #7f7f7f; text-decoration-color: #7f7f7f\">347</span></a>\n",
       "</pre>\n"
      ],
      "text/plain": [
       "\u001b[2;36m                   \u001b[0m\u001b[2;36m \u001b[0m\u001b[32mDEBUG   \u001b[0m open file: \u001b[35m/home/lukas/code/recipe-xflow/conf/base/\u001b[0m\u001b[95mparameters_collect.yml\u001b[0m \u001b]8;id=467723;file:///home/lukas/code/recipe-xflow/.venv/lib/python3.11/site-packages/fsspec/implementations/local.py\u001b\\\u001b[2mlocal.py\u001b[0m\u001b]8;;\u001b\\\u001b[2m:\u001b[0m\u001b]8;id=679582;file:///home/lukas/code/recipe-xflow/.venv/lib/python3.11/site-packages/fsspec/implementations/local.py#347\u001b\\\u001b[2m347\u001b[0m\u001b]8;;\u001b\\\n"
      ]
     },
     "metadata": {},
     "output_type": "display_data"
    },
    {
     "data": {
      "text/html": [
       "<pre style=\"white-space:pre;overflow-x:auto;line-height:normal;font-family:Menlo,'DejaVu Sans Mono',consolas,'Courier New',monospace\"><span style=\"color: #7fbfbf; text-decoration-color: #7fbfbf\">                    </span><span style=\"color: #008000; text-decoration-color: #008000\">DEBUG   </span> open file: <span style=\"color: #800080; text-decoration-color: #800080\">/home/lukas/code/recipe-xflow/conf/base/</span><span style=\"color: #ff00ff; text-decoration-color: #ff00ff\">parameters_deploy.yml</span>  <a href=\"file:///home/lukas/code/recipe-xflow/.venv/lib/python3.11/site-packages/fsspec/implementations/local.py\" target=\"_blank\"><span style=\"color: #7f7f7f; text-decoration-color: #7f7f7f\">local.py</span></a><span style=\"color: #7f7f7f; text-decoration-color: #7f7f7f\">:</span><a href=\"file:///home/lukas/code/recipe-xflow/.venv/lib/python3.11/site-packages/fsspec/implementations/local.py#347\" target=\"_blank\"><span style=\"color: #7f7f7f; text-decoration-color: #7f7f7f\">347</span></a>\n",
       "</pre>\n"
      ],
      "text/plain": [
       "\u001b[2;36m                   \u001b[0m\u001b[2;36m \u001b[0m\u001b[32mDEBUG   \u001b[0m open file: \u001b[35m/home/lukas/code/recipe-xflow/conf/base/\u001b[0m\u001b[95mparameters_deploy.yml\u001b[0m  \u001b]8;id=47240;file:///home/lukas/code/recipe-xflow/.venv/lib/python3.11/site-packages/fsspec/implementations/local.py\u001b\\\u001b[2mlocal.py\u001b[0m\u001b]8;;\u001b\\\u001b[2m:\u001b[0m\u001b]8;id=592155;file:///home/lukas/code/recipe-xflow/.venv/lib/python3.11/site-packages/fsspec/implementations/local.py#347\u001b\\\u001b[2m347\u001b[0m\u001b]8;;\u001b\\\n"
      ]
     },
     "metadata": {},
     "output_type": "display_data"
    },
    {
     "name": "stdout",
     "output_type": "stream",
     "text": [
      "{}\n"
     ]
    },
    {
     "data": {
      "text/html": [
       "<pre style=\"white-space:pre;overflow-x:auto;line-height:normal;font-family:Menlo,'DejaVu Sans Mono',consolas,'Courier New',monospace\"><span style=\"color: #7fbfbf; text-decoration-color: #7fbfbf\">                    </span><span style=\"color: #008000; text-decoration-color: #008000\">DEBUG   </span> Merging dict1: <span style=\"font-weight: bold\">{</span><span style=\"color: #008000; text-decoration-color: #008000\">'use_case_name'</span>: <span style=\"color: #008000; text-decoration-color: #008000\">'x-flow Demo'</span>, <span style=\"color: #008000; text-decoration-color: #008000\">'experiment_name'</span>:    <a href=\"file:///tmp/ipykernel_374566/2961958636.py\" target=\"_blank\"><span style=\"color: #7f7f7f; text-decoration-color: #7f7f7f\">2961958636.py</span></a><span style=\"color: #7f7f7f; text-decoration-color: #7f7f7f\">:</span><a href=\"file:///tmp/ipykernel_374566/2961958636.py#27\" target=\"_blank\"><span style=\"color: #7f7f7f; text-decoration-color: #7f7f7f\">27</span></a>\n",
       "<span style=\"color: #7fbfbf; text-decoration-color: #7fbfbf\">                    </span>         <span style=\"color: #800080; text-decoration-color: #800080; font-style: italic\">None</span>, <span style=\"color: #008000; text-decoration-color: #008000\">'analyze_and_model'</span>: <span style=\"font-weight: bold\">{</span><span style=\"color: #008000; text-decoration-color: #008000\">'target'</span>: <span style=\"color: #800080; text-decoration-color: #800080; font-style: italic\">None</span>, <span style=\"color: #008000; text-decoration-color: #008000\">'max_wait'</span>: <span style=\"color: #008080; text-decoration-color: #008080; font-weight: bold\">10000</span>,        <span style=\"color: #7f7f7f; text-decoration-color: #7f7f7f\">                </span>\n",
       "<span style=\"color: #7fbfbf; text-decoration-color: #7fbfbf\">                    </span>         <span style=\"color: #008000; text-decoration-color: #008000\">'worker_count'</span>: <span style=\"color: #008080; text-decoration-color: #008080; font-weight: bold\">-1</span><span style=\"font-weight: bold\">}</span>, <span style=\"color: #008000; text-decoration-color: #008000\">'datetime_partitioning'</span>: <span style=\"font-weight: bold\">{</span><span style=\"color: #008000; text-decoration-color: #008000\">'use_time_series'</span>:     <span style=\"color: #7f7f7f; text-decoration-color: #7f7f7f\">                </span>\n",
       "<span style=\"color: #7fbfbf; text-decoration-color: #7fbfbf\">                    </span>         <span style=\"color: #ff0000; text-decoration-color: #ff0000; font-style: italic\">False</span>, <span style=\"color: #008000; text-decoration-color: #008000\">'datetime_partition_column'</span>: <span style=\"color: #008000; text-decoration-color: #008000\">'date'</span>, <span style=\"color: #008000; text-decoration-color: #008000\">'number_of_backtests'</span>:    <span style=\"color: #7f7f7f; text-decoration-color: #7f7f7f\">                </span>\n",
       "<span style=\"color: #7fbfbf; text-decoration-color: #7fbfbf\">                    </span>         <span style=\"color: #008080; text-decoration-color: #008080; font-weight: bold\">3</span><span style=\"font-weight: bold\">}</span>, <span style=\"color: #008000; text-decoration-color: #008000\">'binarize_data_config'</span>: <span style=\"color: #800080; text-decoration-color: #800080; font-style: italic\">None</span>, <span style=\"color: #008000; text-decoration-color: #008000\">'fire_config'</span>: <span style=\"color: #800080; text-decoration-color: #800080; font-style: italic\">None</span>,                <span style=\"color: #7f7f7f; text-decoration-color: #7f7f7f\">                </span>\n",
       "<span style=\"color: #7fbfbf; text-decoration-color: #7fbfbf\">                    </span>         <span style=\"color: #008000; text-decoration-color: #008000\">'partition_column'</span>: <span style=\"color: #800080; text-decoration-color: #800080; font-style: italic\">None</span>, <span style=\"color: #008000; text-decoration-color: #008000\">'main_metric'</span>: <span style=\"color: #008000; text-decoration-color: #008000\">'generalized_f1'</span>,            <span style=\"color: #7f7f7f; text-decoration-color: #7f7f7f\">                </span>\n",
       "<span style=\"color: #7fbfbf; text-decoration-color: #7fbfbf\">                    </span>         <span style=\"color: #008000; text-decoration-color: #008000\">'date_format'</span>: <span style=\"color: #008000; text-decoration-color: #008000\">'%d/%m/%Y'</span><span style=\"font-weight: bold\">}</span>                                            <span style=\"color: #7f7f7f; text-decoration-color: #7f7f7f\">                </span>\n",
       "</pre>\n"
      ],
      "text/plain": [
       "\u001b[2;36m                   \u001b[0m\u001b[2;36m \u001b[0m\u001b[32mDEBUG   \u001b[0m Merging dict1: \u001b[1m{\u001b[0m\u001b[32m'use_case_name'\u001b[0m: \u001b[32m'x-flow Demo'\u001b[0m, \u001b[32m'experiment_name'\u001b[0m:    \u001b]8;id=732249;file:///tmp/ipykernel_374566/2961958636.py\u001b\\\u001b[2m2961958636.py\u001b[0m\u001b]8;;\u001b\\\u001b[2m:\u001b[0m\u001b]8;id=666009;file:///tmp/ipykernel_374566/2961958636.py#27\u001b\\\u001b[2m27\u001b[0m\u001b]8;;\u001b\\\n",
       "\u001b[2;36m                    \u001b[0m         \u001b[3;35mNone\u001b[0m, \u001b[32m'analyze_and_model'\u001b[0m: \u001b[1m{\u001b[0m\u001b[32m'target'\u001b[0m: \u001b[3;35mNone\u001b[0m, \u001b[32m'max_wait'\u001b[0m: \u001b[1;36m10000\u001b[0m,        \u001b[2m                \u001b[0m\n",
       "\u001b[2;36m                    \u001b[0m         \u001b[32m'worker_count'\u001b[0m: \u001b[1;36m-1\u001b[0m\u001b[1m}\u001b[0m, \u001b[32m'datetime_partitioning'\u001b[0m: \u001b[1m{\u001b[0m\u001b[32m'use_time_series'\u001b[0m:     \u001b[2m                \u001b[0m\n",
       "\u001b[2;36m                    \u001b[0m         \u001b[3;91mFalse\u001b[0m, \u001b[32m'datetime_partition_column'\u001b[0m: \u001b[32m'date'\u001b[0m, \u001b[32m'number_of_backtests'\u001b[0m:    \u001b[2m                \u001b[0m\n",
       "\u001b[2;36m                    \u001b[0m         \u001b[1;36m3\u001b[0m\u001b[1m}\u001b[0m, \u001b[32m'binarize_data_config'\u001b[0m: \u001b[3;35mNone\u001b[0m, \u001b[32m'fire_config'\u001b[0m: \u001b[3;35mNone\u001b[0m,                \u001b[2m                \u001b[0m\n",
       "\u001b[2;36m                    \u001b[0m         \u001b[32m'partition_column'\u001b[0m: \u001b[3;35mNone\u001b[0m, \u001b[32m'main_metric'\u001b[0m: \u001b[32m'generalized_f1'\u001b[0m,            \u001b[2m                \u001b[0m\n",
       "\u001b[2;36m                    \u001b[0m         \u001b[32m'date_format'\u001b[0m: \u001b[32m'%d/%m/%Y'\u001b[0m\u001b[1m}\u001b[0m                                            \u001b[2m                \u001b[0m\n"
      ]
     },
     "metadata": {},
     "output_type": "display_data"
    },
    {
     "data": {
      "text/html": [
       "<pre style=\"white-space:pre;overflow-x:auto;line-height:normal;font-family:Menlo,'DejaVu Sans Mono',consolas,'Courier New',monospace\"><span style=\"color: #7fbfbf; text-decoration-color: #7fbfbf\">                    </span><span style=\"color: #008000; text-decoration-color: #008000\">DEBUG   </span> With dict2: <span style=\"font-weight: bold\">{</span><span style=\"color: #008000; text-decoration-color: #008000\">'experiment_name'</span>: <span style=\"color: #008000; text-decoration-color: #008000\">'simple'</span>, <span style=\"color: #008000; text-decoration-color: #008000\">'analyze_and_model'</span>:        <a href=\"file:///tmp/ipykernel_374566/2961958636.py\" target=\"_blank\"><span style=\"color: #7f7f7f; text-decoration-color: #7f7f7f\">2961958636.py</span></a><span style=\"color: #7f7f7f; text-decoration-color: #7f7f7f\">:</span><a href=\"file:///tmp/ipykernel_374566/2961958636.py#28\" target=\"_blank\"><span style=\"color: #7f7f7f; text-decoration-color: #7f7f7f\">28</span></a>\n",
       "<span style=\"color: #7fbfbf; text-decoration-color: #7fbfbf\">                    </span>         <span style=\"font-weight: bold\">{</span><span style=\"color: #008000; text-decoration-color: #008000\">'target'</span>: <span style=\"color: #008000; text-decoration-color: #008000\">'Mid'</span>, <span style=\"color: #008000; text-decoration-color: #008000\">'mode'</span>: <span style=\"color: #008000; text-decoration-color: #008000\">'quick'</span><span style=\"font-weight: bold\">}}</span>                                   <span style=\"color: #7f7f7f; text-decoration-color: #7f7f7f\">                </span>\n",
       "</pre>\n"
      ],
      "text/plain": [
       "\u001b[2;36m                   \u001b[0m\u001b[2;36m \u001b[0m\u001b[32mDEBUG   \u001b[0m With dict2: \u001b[1m{\u001b[0m\u001b[32m'experiment_name'\u001b[0m: \u001b[32m'simple'\u001b[0m, \u001b[32m'analyze_and_model'\u001b[0m:        \u001b]8;id=431700;file:///tmp/ipykernel_374566/2961958636.py\u001b\\\u001b[2m2961958636.py\u001b[0m\u001b]8;;\u001b\\\u001b[2m:\u001b[0m\u001b]8;id=731572;file:///tmp/ipykernel_374566/2961958636.py#28\u001b\\\u001b[2m28\u001b[0m\u001b]8;;\u001b\\\n",
       "\u001b[2;36m                    \u001b[0m         \u001b[1m{\u001b[0m\u001b[32m'target'\u001b[0m: \u001b[32m'Mid'\u001b[0m, \u001b[32m'mode'\u001b[0m: \u001b[32m'quick'\u001b[0m\u001b[1m}\u001b[0m\u001b[1m}\u001b[0m                                   \u001b[2m                \u001b[0m\n"
      ]
     },
     "metadata": {},
     "output_type": "display_data"
    },
    {
     "data": {
      "text/html": [
       "<pre style=\"white-space:pre;overflow-x:auto;line-height:normal;font-family:Menlo,'DejaVu Sans Mono',consolas,'Courier New',monospace\"><span style=\"color: #7fbfbf; text-decoration-color: #7fbfbf\">                    </span><span style=\"color: #008000; text-decoration-color: #008000\">DEBUG   </span> Merge result: <span style=\"font-weight: bold\">{</span><span style=\"color: #008000; text-decoration-color: #008000\">'use_case_name'</span>: <span style=\"color: #008000; text-decoration-color: #008000\">'x-flow Demo'</span>, <span style=\"color: #008000; text-decoration-color: #008000\">'experiment_name'</span>:     <a href=\"file:///tmp/ipykernel_374566/2961958636.py\" target=\"_blank\"><span style=\"color: #7f7f7f; text-decoration-color: #7f7f7f\">2961958636.py</span></a><span style=\"color: #7f7f7f; text-decoration-color: #7f7f7f\">:</span><a href=\"file:///tmp/ipykernel_374566/2961958636.py#36\" target=\"_blank\"><span style=\"color: #7f7f7f; text-decoration-color: #7f7f7f\">36</span></a>\n",
       "<span style=\"color: #7fbfbf; text-decoration-color: #7fbfbf\">                    </span>         <span style=\"color: #008000; text-decoration-color: #008000\">'simple'</span>, <span style=\"color: #008000; text-decoration-color: #008000\">'analyze_and_model'</span>: <span style=\"font-weight: bold\">{</span><span style=\"color: #008000; text-decoration-color: #008000\">'target'</span>: <span style=\"color: #008000; text-decoration-color: #008000\">'Mid'</span>, <span style=\"color: #008000; text-decoration-color: #008000\">'mode'</span>: <span style=\"color: #008000; text-decoration-color: #008000\">'quick'</span><span style=\"font-weight: bold\">}</span>,    <span style=\"color: #7f7f7f; text-decoration-color: #7f7f7f\">                </span>\n",
       "<span style=\"color: #7fbfbf; text-decoration-color: #7fbfbf\">                    </span>         <span style=\"color: #008000; text-decoration-color: #008000\">'datetime_partitioning'</span>: <span style=\"font-weight: bold\">{</span><span style=\"color: #008000; text-decoration-color: #008000\">'use_time_series'</span>: <span style=\"color: #ff0000; text-decoration-color: #ff0000; font-style: italic\">False</span>,                   <span style=\"color: #7f7f7f; text-decoration-color: #7f7f7f\">                </span>\n",
       "<span style=\"color: #7fbfbf; text-decoration-color: #7fbfbf\">                    </span>         <span style=\"color: #008000; text-decoration-color: #008000\">'datetime_partition_column'</span>: <span style=\"color: #008000; text-decoration-color: #008000\">'date'</span>, <span style=\"color: #008000; text-decoration-color: #008000\">'number_of_backtests'</span>: <span style=\"color: #008080; text-decoration-color: #008080; font-weight: bold\">3</span><span style=\"font-weight: bold\">}</span>,       <span style=\"color: #7f7f7f; text-decoration-color: #7f7f7f\">                </span>\n",
       "<span style=\"color: #7fbfbf; text-decoration-color: #7fbfbf\">                    </span>         <span style=\"color: #008000; text-decoration-color: #008000\">'binarize_data_config'</span>: <span style=\"color: #800080; text-decoration-color: #800080; font-style: italic\">None</span>, <span style=\"color: #008000; text-decoration-color: #008000\">'fire_config'</span>: <span style=\"color: #800080; text-decoration-color: #800080; font-style: italic\">None</span>,                    <span style=\"color: #7f7f7f; text-decoration-color: #7f7f7f\">                </span>\n",
       "<span style=\"color: #7fbfbf; text-decoration-color: #7fbfbf\">                    </span>         <span style=\"color: #008000; text-decoration-color: #008000\">'partition_column'</span>: <span style=\"color: #800080; text-decoration-color: #800080; font-style: italic\">None</span>, <span style=\"color: #008000; text-decoration-color: #008000\">'main_metric'</span>: <span style=\"color: #008000; text-decoration-color: #008000\">'generalized_f1'</span>,            <span style=\"color: #7f7f7f; text-decoration-color: #7f7f7f\">                </span>\n",
       "<span style=\"color: #7fbfbf; text-decoration-color: #7fbfbf\">                    </span>         <span style=\"color: #008000; text-decoration-color: #008000\">'date_format'</span>: <span style=\"color: #008000; text-decoration-color: #008000\">'%d/%m/%Y'</span><span style=\"font-weight: bold\">}</span>                                            <span style=\"color: #7f7f7f; text-decoration-color: #7f7f7f\">                </span>\n",
       "</pre>\n"
      ],
      "text/plain": [
       "\u001b[2;36m                   \u001b[0m\u001b[2;36m \u001b[0m\u001b[32mDEBUG   \u001b[0m Merge result: \u001b[1m{\u001b[0m\u001b[32m'use_case_name'\u001b[0m: \u001b[32m'x-flow Demo'\u001b[0m, \u001b[32m'experiment_name'\u001b[0m:     \u001b]8;id=840091;file:///tmp/ipykernel_374566/2961958636.py\u001b\\\u001b[2m2961958636.py\u001b[0m\u001b]8;;\u001b\\\u001b[2m:\u001b[0m\u001b]8;id=229341;file:///tmp/ipykernel_374566/2961958636.py#36\u001b\\\u001b[2m36\u001b[0m\u001b]8;;\u001b\\\n",
       "\u001b[2;36m                    \u001b[0m         \u001b[32m'simple'\u001b[0m, \u001b[32m'analyze_and_model'\u001b[0m: \u001b[1m{\u001b[0m\u001b[32m'target'\u001b[0m: \u001b[32m'Mid'\u001b[0m, \u001b[32m'mode'\u001b[0m: \u001b[32m'quick'\u001b[0m\u001b[1m}\u001b[0m,    \u001b[2m                \u001b[0m\n",
       "\u001b[2;36m                    \u001b[0m         \u001b[32m'datetime_partitioning'\u001b[0m: \u001b[1m{\u001b[0m\u001b[32m'use_time_series'\u001b[0m: \u001b[3;91mFalse\u001b[0m,                   \u001b[2m                \u001b[0m\n",
       "\u001b[2;36m                    \u001b[0m         \u001b[32m'datetime_partition_column'\u001b[0m: \u001b[32m'date'\u001b[0m, \u001b[32m'number_of_backtests'\u001b[0m: \u001b[1;36m3\u001b[0m\u001b[1m}\u001b[0m,       \u001b[2m                \u001b[0m\n",
       "\u001b[2;36m                    \u001b[0m         \u001b[32m'binarize_data_config'\u001b[0m: \u001b[3;35mNone\u001b[0m, \u001b[32m'fire_config'\u001b[0m: \u001b[3;35mNone\u001b[0m,                    \u001b[2m                \u001b[0m\n",
       "\u001b[2;36m                    \u001b[0m         \u001b[32m'partition_column'\u001b[0m: \u001b[3;35mNone\u001b[0m, \u001b[32m'main_metric'\u001b[0m: \u001b[32m'generalized_f1'\u001b[0m,            \u001b[2m                \u001b[0m\n",
       "\u001b[2;36m                    \u001b[0m         \u001b[32m'date_format'\u001b[0m: \u001b[32m'%d/%m/%Y'\u001b[0m\u001b[1m}\u001b[0m                                            \u001b[2m                \u001b[0m\n"
      ]
     },
     "metadata": {},
     "output_type": "display_data"
    },
    {
     "data": {
      "text/html": [
       "<pre style=\"white-space:pre;overflow-x:auto;line-height:normal;font-family:Menlo,'DejaVu Sans Mono',consolas,'Courier New',monospace\"><span style=\"color: #7fbfbf; text-decoration-color: #7fbfbf\">                    </span><span style=\"color: #008000; text-decoration-color: #008000\">DEBUG   </span> Merging dict1: <span style=\"font-weight: bold\">{</span><span style=\"color: #008000; text-decoration-color: #008000\">'use_case_name'</span>: <span style=\"color: #008000; text-decoration-color: #008000\">'x-flow Demo'</span>, <span style=\"color: #008000; text-decoration-color: #008000\">'experiment_name'</span>:    <a href=\"file:///tmp/ipykernel_374566/2961958636.py\" target=\"_blank\"><span style=\"color: #7f7f7f; text-decoration-color: #7f7f7f\">2961958636.py</span></a><span style=\"color: #7f7f7f; text-decoration-color: #7f7f7f\">:</span><a href=\"file:///tmp/ipykernel_374566/2961958636.py#27\" target=\"_blank\"><span style=\"color: #7f7f7f; text-decoration-color: #7f7f7f\">27</span></a>\n",
       "<span style=\"color: #7fbfbf; text-decoration-color: #7fbfbf\">                    </span>         <span style=\"color: #800080; text-decoration-color: #800080; font-style: italic\">None</span>, <span style=\"color: #008000; text-decoration-color: #008000\">'analyze_and_model'</span>: <span style=\"font-weight: bold\">{</span><span style=\"color: #008000; text-decoration-color: #008000\">'target'</span>: <span style=\"color: #800080; text-decoration-color: #800080; font-style: italic\">None</span>, <span style=\"color: #008000; text-decoration-color: #008000\">'max_wait'</span>: <span style=\"color: #008080; text-decoration-color: #008080; font-weight: bold\">10000</span>,        <span style=\"color: #7f7f7f; text-decoration-color: #7f7f7f\">                </span>\n",
       "<span style=\"color: #7fbfbf; text-decoration-color: #7fbfbf\">                    </span>         <span style=\"color: #008000; text-decoration-color: #008000\">'worker_count'</span>: <span style=\"color: #008080; text-decoration-color: #008080; font-weight: bold\">-1</span><span style=\"font-weight: bold\">}</span>, <span style=\"color: #008000; text-decoration-color: #008000\">'datetime_partitioning'</span>: <span style=\"font-weight: bold\">{</span><span style=\"color: #008000; text-decoration-color: #008000\">'use_time_series'</span>:     <span style=\"color: #7f7f7f; text-decoration-color: #7f7f7f\">                </span>\n",
       "<span style=\"color: #7fbfbf; text-decoration-color: #7fbfbf\">                    </span>         <span style=\"color: #ff0000; text-decoration-color: #ff0000; font-style: italic\">False</span>, <span style=\"color: #008000; text-decoration-color: #008000\">'datetime_partition_column'</span>: <span style=\"color: #008000; text-decoration-color: #008000\">'date'</span>, <span style=\"color: #008000; text-decoration-color: #008000\">'number_of_backtests'</span>:    <span style=\"color: #7f7f7f; text-decoration-color: #7f7f7f\">                </span>\n",
       "<span style=\"color: #7fbfbf; text-decoration-color: #7fbfbf\">                    </span>         <span style=\"color: #008080; text-decoration-color: #008080; font-weight: bold\">3</span><span style=\"font-weight: bold\">}</span>, <span style=\"color: #008000; text-decoration-color: #008000\">'binarize_data_config'</span>: <span style=\"color: #800080; text-decoration-color: #800080; font-style: italic\">None</span>, <span style=\"color: #008000; text-decoration-color: #008000\">'fire_config'</span>: <span style=\"color: #800080; text-decoration-color: #800080; font-style: italic\">None</span>,                <span style=\"color: #7f7f7f; text-decoration-color: #7f7f7f\">                </span>\n",
       "<span style=\"color: #7fbfbf; text-decoration-color: #7fbfbf\">                    </span>         <span style=\"color: #008000; text-decoration-color: #008000\">'partition_column'</span>: <span style=\"color: #800080; text-decoration-color: #800080; font-style: italic\">None</span>, <span style=\"color: #008000; text-decoration-color: #008000\">'main_metric'</span>: <span style=\"color: #008000; text-decoration-color: #008000\">'generalized_f1'</span>,            <span style=\"color: #7f7f7f; text-decoration-color: #7f7f7f\">                </span>\n",
       "<span style=\"color: #7fbfbf; text-decoration-color: #7fbfbf\">                    </span>         <span style=\"color: #008000; text-decoration-color: #008000\">'date_format'</span>: <span style=\"color: #008000; text-decoration-color: #008000\">'%d/%m/%Y'</span><span style=\"font-weight: bold\">}</span>                                            <span style=\"color: #7f7f7f; text-decoration-color: #7f7f7f\">                </span>\n",
       "</pre>\n"
      ],
      "text/plain": [
       "\u001b[2;36m                   \u001b[0m\u001b[2;36m \u001b[0m\u001b[32mDEBUG   \u001b[0m Merging dict1: \u001b[1m{\u001b[0m\u001b[32m'use_case_name'\u001b[0m: \u001b[32m'x-flow Demo'\u001b[0m, \u001b[32m'experiment_name'\u001b[0m:    \u001b]8;id=534345;file:///tmp/ipykernel_374566/2961958636.py\u001b\\\u001b[2m2961958636.py\u001b[0m\u001b]8;;\u001b\\\u001b[2m:\u001b[0m\u001b]8;id=648389;file:///tmp/ipykernel_374566/2961958636.py#27\u001b\\\u001b[2m27\u001b[0m\u001b]8;;\u001b\\\n",
       "\u001b[2;36m                    \u001b[0m         \u001b[3;35mNone\u001b[0m, \u001b[32m'analyze_and_model'\u001b[0m: \u001b[1m{\u001b[0m\u001b[32m'target'\u001b[0m: \u001b[3;35mNone\u001b[0m, \u001b[32m'max_wait'\u001b[0m: \u001b[1;36m10000\u001b[0m,        \u001b[2m                \u001b[0m\n",
       "\u001b[2;36m                    \u001b[0m         \u001b[32m'worker_count'\u001b[0m: \u001b[1;36m-1\u001b[0m\u001b[1m}\u001b[0m, \u001b[32m'datetime_partitioning'\u001b[0m: \u001b[1m{\u001b[0m\u001b[32m'use_time_series'\u001b[0m:     \u001b[2m                \u001b[0m\n",
       "\u001b[2;36m                    \u001b[0m         \u001b[3;91mFalse\u001b[0m, \u001b[32m'datetime_partition_column'\u001b[0m: \u001b[32m'date'\u001b[0m, \u001b[32m'number_of_backtests'\u001b[0m:    \u001b[2m                \u001b[0m\n",
       "\u001b[2;36m                    \u001b[0m         \u001b[1;36m3\u001b[0m\u001b[1m}\u001b[0m, \u001b[32m'binarize_data_config'\u001b[0m: \u001b[3;35mNone\u001b[0m, \u001b[32m'fire_config'\u001b[0m: \u001b[3;35mNone\u001b[0m,                \u001b[2m                \u001b[0m\n",
       "\u001b[2;36m                    \u001b[0m         \u001b[32m'partition_column'\u001b[0m: \u001b[3;35mNone\u001b[0m, \u001b[32m'main_metric'\u001b[0m: \u001b[32m'generalized_f1'\u001b[0m,            \u001b[2m                \u001b[0m\n",
       "\u001b[2;36m                    \u001b[0m         \u001b[32m'date_format'\u001b[0m: \u001b[32m'%d/%m/%Y'\u001b[0m\u001b[1m}\u001b[0m                                            \u001b[2m                \u001b[0m\n"
      ]
     },
     "metadata": {},
     "output_type": "display_data"
    },
    {
     "data": {
      "text/html": [
       "<pre style=\"white-space:pre;overflow-x:auto;line-height:normal;font-family:Menlo,'DejaVu Sans Mono',consolas,'Courier New',monospace\"><span style=\"color: #7fbfbf; text-decoration-color: #7fbfbf\">                    </span><span style=\"color: #008000; text-decoration-color: #008000\">DEBUG   </span> With dict2: <span style=\"font-weight: bold\">{</span><span style=\"color: #008000; text-decoration-color: #008000\">'experiment_name'</span>: <span style=\"color: #008000; text-decoration-color: #008000\">'full'</span>, <span style=\"color: #008000; text-decoration-color: #008000\">'analyze_and_model'</span>:          <a href=\"file:///tmp/ipykernel_374566/2961958636.py\" target=\"_blank\"><span style=\"color: #7f7f7f; text-decoration-color: #7f7f7f\">2961958636.py</span></a><span style=\"color: #7f7f7f; text-decoration-color: #7f7f7f\">:</span><a href=\"file:///tmp/ipykernel_374566/2961958636.py#28\" target=\"_blank\"><span style=\"color: #7f7f7f; text-decoration-color: #7f7f7f\">28</span></a>\n",
       "<span style=\"color: #7fbfbf; text-decoration-color: #7fbfbf\">                    </span>         <span style=\"font-weight: bold\">{</span><span style=\"color: #008000; text-decoration-color: #008000\">'target'</span>: <span style=\"color: #008000; text-decoration-color: #008000\">'Mid'</span>, <span style=\"color: #008000; text-decoration-color: #008000\">'mode'</span>: <span style=\"color: #008000; text-decoration-color: #008000\">'auto'</span><span style=\"font-weight: bold\">}}</span>                                    <span style=\"color: #7f7f7f; text-decoration-color: #7f7f7f\">                </span>\n",
       "</pre>\n"
      ],
      "text/plain": [
       "\u001b[2;36m                   \u001b[0m\u001b[2;36m \u001b[0m\u001b[32mDEBUG   \u001b[0m With dict2: \u001b[1m{\u001b[0m\u001b[32m'experiment_name'\u001b[0m: \u001b[32m'full'\u001b[0m, \u001b[32m'analyze_and_model'\u001b[0m:          \u001b]8;id=587603;file:///tmp/ipykernel_374566/2961958636.py\u001b\\\u001b[2m2961958636.py\u001b[0m\u001b]8;;\u001b\\\u001b[2m:\u001b[0m\u001b]8;id=758637;file:///tmp/ipykernel_374566/2961958636.py#28\u001b\\\u001b[2m28\u001b[0m\u001b]8;;\u001b\\\n",
       "\u001b[2;36m                    \u001b[0m         \u001b[1m{\u001b[0m\u001b[32m'target'\u001b[0m: \u001b[32m'Mid'\u001b[0m, \u001b[32m'mode'\u001b[0m: \u001b[32m'auto'\u001b[0m\u001b[1m}\u001b[0m\u001b[1m}\u001b[0m                                    \u001b[2m                \u001b[0m\n"
      ]
     },
     "metadata": {},
     "output_type": "display_data"
    },
    {
     "data": {
      "text/html": [
       "<pre style=\"white-space:pre;overflow-x:auto;line-height:normal;font-family:Menlo,'DejaVu Sans Mono',consolas,'Courier New',monospace\"><span style=\"color: #7fbfbf; text-decoration-color: #7fbfbf\">                    </span><span style=\"color: #008000; text-decoration-color: #008000\">DEBUG   </span> Merge result: <span style=\"font-weight: bold\">{</span><span style=\"color: #008000; text-decoration-color: #008000\">'use_case_name'</span>: <span style=\"color: #008000; text-decoration-color: #008000\">'x-flow Demo'</span>, <span style=\"color: #008000; text-decoration-color: #008000\">'experiment_name'</span>:     <a href=\"file:///tmp/ipykernel_374566/2961958636.py\" target=\"_blank\"><span style=\"color: #7f7f7f; text-decoration-color: #7f7f7f\">2961958636.py</span></a><span style=\"color: #7f7f7f; text-decoration-color: #7f7f7f\">:</span><a href=\"file:///tmp/ipykernel_374566/2961958636.py#36\" target=\"_blank\"><span style=\"color: #7f7f7f; text-decoration-color: #7f7f7f\">36</span></a>\n",
       "<span style=\"color: #7fbfbf; text-decoration-color: #7fbfbf\">                    </span>         <span style=\"color: #008000; text-decoration-color: #008000\">'full'</span>, <span style=\"color: #008000; text-decoration-color: #008000\">'analyze_and_model'</span>: <span style=\"font-weight: bold\">{</span><span style=\"color: #008000; text-decoration-color: #008000\">'target'</span>: <span style=\"color: #008000; text-decoration-color: #008000\">'Mid'</span>, <span style=\"color: #008000; text-decoration-color: #008000\">'mode'</span>: <span style=\"color: #008000; text-decoration-color: #008000\">'auto'</span><span style=\"font-weight: bold\">}</span>,       <span style=\"color: #7f7f7f; text-decoration-color: #7f7f7f\">                </span>\n",
       "<span style=\"color: #7fbfbf; text-decoration-color: #7fbfbf\">                    </span>         <span style=\"color: #008000; text-decoration-color: #008000\">'datetime_partitioning'</span>: <span style=\"font-weight: bold\">{</span><span style=\"color: #008000; text-decoration-color: #008000\">'use_time_series'</span>: <span style=\"color: #ff0000; text-decoration-color: #ff0000; font-style: italic\">False</span>,                   <span style=\"color: #7f7f7f; text-decoration-color: #7f7f7f\">                </span>\n",
       "<span style=\"color: #7fbfbf; text-decoration-color: #7fbfbf\">                    </span>         <span style=\"color: #008000; text-decoration-color: #008000\">'datetime_partition_column'</span>: <span style=\"color: #008000; text-decoration-color: #008000\">'date'</span>, <span style=\"color: #008000; text-decoration-color: #008000\">'number_of_backtests'</span>: <span style=\"color: #008080; text-decoration-color: #008080; font-weight: bold\">3</span><span style=\"font-weight: bold\">}</span>,       <span style=\"color: #7f7f7f; text-decoration-color: #7f7f7f\">                </span>\n",
       "<span style=\"color: #7fbfbf; text-decoration-color: #7fbfbf\">                    </span>         <span style=\"color: #008000; text-decoration-color: #008000\">'binarize_data_config'</span>: <span style=\"color: #800080; text-decoration-color: #800080; font-style: italic\">None</span>, <span style=\"color: #008000; text-decoration-color: #008000\">'fire_config'</span>: <span style=\"color: #800080; text-decoration-color: #800080; font-style: italic\">None</span>,                    <span style=\"color: #7f7f7f; text-decoration-color: #7f7f7f\">                </span>\n",
       "<span style=\"color: #7fbfbf; text-decoration-color: #7fbfbf\">                    </span>         <span style=\"color: #008000; text-decoration-color: #008000\">'partition_column'</span>: <span style=\"color: #800080; text-decoration-color: #800080; font-style: italic\">None</span>, <span style=\"color: #008000; text-decoration-color: #008000\">'main_metric'</span>: <span style=\"color: #008000; text-decoration-color: #008000\">'generalized_f1'</span>,            <span style=\"color: #7f7f7f; text-decoration-color: #7f7f7f\">                </span>\n",
       "<span style=\"color: #7fbfbf; text-decoration-color: #7fbfbf\">                    </span>         <span style=\"color: #008000; text-decoration-color: #008000\">'date_format'</span>: <span style=\"color: #008000; text-decoration-color: #008000\">'%d/%m/%Y'</span><span style=\"font-weight: bold\">}</span>                                            <span style=\"color: #7f7f7f; text-decoration-color: #7f7f7f\">                </span>\n",
       "</pre>\n"
      ],
      "text/plain": [
       "\u001b[2;36m                   \u001b[0m\u001b[2;36m \u001b[0m\u001b[32mDEBUG   \u001b[0m Merge result: \u001b[1m{\u001b[0m\u001b[32m'use_case_name'\u001b[0m: \u001b[32m'x-flow Demo'\u001b[0m, \u001b[32m'experiment_name'\u001b[0m:     \u001b]8;id=873026;file:///tmp/ipykernel_374566/2961958636.py\u001b\\\u001b[2m2961958636.py\u001b[0m\u001b]8;;\u001b\\\u001b[2m:\u001b[0m\u001b]8;id=367009;file:///tmp/ipykernel_374566/2961958636.py#36\u001b\\\u001b[2m36\u001b[0m\u001b]8;;\u001b\\\n",
       "\u001b[2;36m                    \u001b[0m         \u001b[32m'full'\u001b[0m, \u001b[32m'analyze_and_model'\u001b[0m: \u001b[1m{\u001b[0m\u001b[32m'target'\u001b[0m: \u001b[32m'Mid'\u001b[0m, \u001b[32m'mode'\u001b[0m: \u001b[32m'auto'\u001b[0m\u001b[1m}\u001b[0m,       \u001b[2m                \u001b[0m\n",
       "\u001b[2;36m                    \u001b[0m         \u001b[32m'datetime_partitioning'\u001b[0m: \u001b[1m{\u001b[0m\u001b[32m'use_time_series'\u001b[0m: \u001b[3;91mFalse\u001b[0m,                   \u001b[2m                \u001b[0m\n",
       "\u001b[2;36m                    \u001b[0m         \u001b[32m'datetime_partition_column'\u001b[0m: \u001b[32m'date'\u001b[0m, \u001b[32m'number_of_backtests'\u001b[0m: \u001b[1;36m3\u001b[0m\u001b[1m}\u001b[0m,       \u001b[2m                \u001b[0m\n",
       "\u001b[2;36m                    \u001b[0m         \u001b[32m'binarize_data_config'\u001b[0m: \u001b[3;35mNone\u001b[0m, \u001b[32m'fire_config'\u001b[0m: \u001b[3;35mNone\u001b[0m,                    \u001b[2m                \u001b[0m\n",
       "\u001b[2;36m                    \u001b[0m         \u001b[32m'partition_column'\u001b[0m: \u001b[3;35mNone\u001b[0m, \u001b[32m'main_metric'\u001b[0m: \u001b[32m'generalized_f1'\u001b[0m,            \u001b[2m                \u001b[0m\n",
       "\u001b[2;36m                    \u001b[0m         \u001b[32m'date_format'\u001b[0m: \u001b[32m'%d/%m/%Y'\u001b[0m\u001b[1m}\u001b[0m                                            \u001b[2m                \u001b[0m\n"
      ]
     },
     "metadata": {},
     "output_type": "display_data"
    },
    {
     "data": {
      "text/html": [
       "<pre style=\"white-space:pre;overflow-x:auto;line-height:normal;font-family:Menlo,'DejaVu Sans Mono',consolas,'Courier New',monospace\"><span style=\"color: #7fbfbf; text-decoration-color: #7fbfbf\">                    </span><span style=\"color: #008000; text-decoration-color: #008000\">DEBUG   </span> Merging dict1: <span style=\"font-weight: bold\">{</span><span style=\"color: #008000; text-decoration-color: #008000\">'use_case_name'</span>: <span style=\"color: #008000; text-decoration-color: #008000\">'x-flow Demo'</span>, <span style=\"color: #008000; text-decoration-color: #008000\">'experiment_name'</span>:    <a href=\"file:///tmp/ipykernel_374566/2961958636.py\" target=\"_blank\"><span style=\"color: #7f7f7f; text-decoration-color: #7f7f7f\">2961958636.py</span></a><span style=\"color: #7f7f7f; text-decoration-color: #7f7f7f\">:</span><a href=\"file:///tmp/ipykernel_374566/2961958636.py#27\" target=\"_blank\"><span style=\"color: #7f7f7f; text-decoration-color: #7f7f7f\">27</span></a>\n",
       "<span style=\"color: #7fbfbf; text-decoration-color: #7fbfbf\">                    </span>         <span style=\"color: #800080; text-decoration-color: #800080; font-style: italic\">None</span>, <span style=\"color: #008000; text-decoration-color: #008000\">'analyze_and_model'</span>: <span style=\"font-weight: bold\">{</span><span style=\"color: #008000; text-decoration-color: #008000\">'target'</span>: <span style=\"color: #800080; text-decoration-color: #800080; font-style: italic\">None</span>, <span style=\"color: #008000; text-decoration-color: #008000\">'max_wait'</span>: <span style=\"color: #008080; text-decoration-color: #008080; font-weight: bold\">10000</span>,        <span style=\"color: #7f7f7f; text-decoration-color: #7f7f7f\">                </span>\n",
       "<span style=\"color: #7fbfbf; text-decoration-color: #7fbfbf\">                    </span>         <span style=\"color: #008000; text-decoration-color: #008000\">'worker_count'</span>: <span style=\"color: #008080; text-decoration-color: #008080; font-weight: bold\">-1</span><span style=\"font-weight: bold\">}</span>, <span style=\"color: #008000; text-decoration-color: #008000\">'datetime_partitioning'</span>: <span style=\"font-weight: bold\">{</span><span style=\"color: #008000; text-decoration-color: #008000\">'use_time_series'</span>:     <span style=\"color: #7f7f7f; text-decoration-color: #7f7f7f\">                </span>\n",
       "<span style=\"color: #7fbfbf; text-decoration-color: #7fbfbf\">                    </span>         <span style=\"color: #ff0000; text-decoration-color: #ff0000; font-style: italic\">False</span>, <span style=\"color: #008000; text-decoration-color: #008000\">'datetime_partition_column'</span>: <span style=\"color: #008000; text-decoration-color: #008000\">'date'</span>, <span style=\"color: #008000; text-decoration-color: #008000\">'number_of_backtests'</span>:    <span style=\"color: #7f7f7f; text-decoration-color: #7f7f7f\">                </span>\n",
       "<span style=\"color: #7fbfbf; text-decoration-color: #7fbfbf\">                    </span>         <span style=\"color: #008080; text-decoration-color: #008080; font-weight: bold\">3</span><span style=\"font-weight: bold\">}</span>, <span style=\"color: #008000; text-decoration-color: #008000\">'binarize_data_config'</span>: <span style=\"color: #800080; text-decoration-color: #800080; font-style: italic\">None</span>, <span style=\"color: #008000; text-decoration-color: #008000\">'fire_config'</span>: <span style=\"color: #800080; text-decoration-color: #800080; font-style: italic\">None</span>,                <span style=\"color: #7f7f7f; text-decoration-color: #7f7f7f\">                </span>\n",
       "<span style=\"color: #7fbfbf; text-decoration-color: #7fbfbf\">                    </span>         <span style=\"color: #008000; text-decoration-color: #008000\">'partition_column'</span>: <span style=\"color: #800080; text-decoration-color: #800080; font-style: italic\">None</span>, <span style=\"color: #008000; text-decoration-color: #008000\">'main_metric'</span>: <span style=\"color: #008000; text-decoration-color: #008000\">'generalized_f1'</span>,            <span style=\"color: #7f7f7f; text-decoration-color: #7f7f7f\">                </span>\n",
       "<span style=\"color: #7fbfbf; text-decoration-color: #7fbfbf\">                    </span>         <span style=\"color: #008000; text-decoration-color: #008000\">'date_format'</span>: <span style=\"color: #008000; text-decoration-color: #008000\">'%d/%m/%Y'</span><span style=\"font-weight: bold\">}</span>                                            <span style=\"color: #7f7f7f; text-decoration-color: #7f7f7f\">                </span>\n",
       "</pre>\n"
      ],
      "text/plain": [
       "\u001b[2;36m                   \u001b[0m\u001b[2;36m \u001b[0m\u001b[32mDEBUG   \u001b[0m Merging dict1: \u001b[1m{\u001b[0m\u001b[32m'use_case_name'\u001b[0m: \u001b[32m'x-flow Demo'\u001b[0m, \u001b[32m'experiment_name'\u001b[0m:    \u001b]8;id=225332;file:///tmp/ipykernel_374566/2961958636.py\u001b\\\u001b[2m2961958636.py\u001b[0m\u001b]8;;\u001b\\\u001b[2m:\u001b[0m\u001b]8;id=303866;file:///tmp/ipykernel_374566/2961958636.py#27\u001b\\\u001b[2m27\u001b[0m\u001b]8;;\u001b\\\n",
       "\u001b[2;36m                    \u001b[0m         \u001b[3;35mNone\u001b[0m, \u001b[32m'analyze_and_model'\u001b[0m: \u001b[1m{\u001b[0m\u001b[32m'target'\u001b[0m: \u001b[3;35mNone\u001b[0m, \u001b[32m'max_wait'\u001b[0m: \u001b[1;36m10000\u001b[0m,        \u001b[2m                \u001b[0m\n",
       "\u001b[2;36m                    \u001b[0m         \u001b[32m'worker_count'\u001b[0m: \u001b[1;36m-1\u001b[0m\u001b[1m}\u001b[0m, \u001b[32m'datetime_partitioning'\u001b[0m: \u001b[1m{\u001b[0m\u001b[32m'use_time_series'\u001b[0m:     \u001b[2m                \u001b[0m\n",
       "\u001b[2;36m                    \u001b[0m         \u001b[3;91mFalse\u001b[0m, \u001b[32m'datetime_partition_column'\u001b[0m: \u001b[32m'date'\u001b[0m, \u001b[32m'number_of_backtests'\u001b[0m:    \u001b[2m                \u001b[0m\n",
       "\u001b[2;36m                    \u001b[0m         \u001b[1;36m3\u001b[0m\u001b[1m}\u001b[0m, \u001b[32m'binarize_data_config'\u001b[0m: \u001b[3;35mNone\u001b[0m, \u001b[32m'fire_config'\u001b[0m: \u001b[3;35mNone\u001b[0m,                \u001b[2m                \u001b[0m\n",
       "\u001b[2;36m                    \u001b[0m         \u001b[32m'partition_column'\u001b[0m: \u001b[3;35mNone\u001b[0m, \u001b[32m'main_metric'\u001b[0m: \u001b[32m'generalized_f1'\u001b[0m,            \u001b[2m                \u001b[0m\n",
       "\u001b[2;36m                    \u001b[0m         \u001b[32m'date_format'\u001b[0m: \u001b[32m'%d/%m/%Y'\u001b[0m\u001b[1m}\u001b[0m                                            \u001b[2m                \u001b[0m\n"
      ]
     },
     "metadata": {},
     "output_type": "display_data"
    },
    {
     "data": {
      "text/html": [
       "<pre style=\"white-space:pre;overflow-x:auto;line-height:normal;font-family:Menlo,'DejaVu Sans Mono',consolas,'Courier New',monospace\"><span style=\"color: #7fbfbf; text-decoration-color: #7fbfbf\">                    </span><span style=\"color: #008000; text-decoration-color: #008000\">DEBUG   </span> With dict2: <span style=\"font-weight: bold\">{</span><span style=\"color: #008000; text-decoration-color: #008000\">'experiment_name'</span>: <span style=\"color: #008000; text-decoration-color: #008000\">'simple_grouped'</span>,                     <a href=\"file:///tmp/ipykernel_374566/2961958636.py\" target=\"_blank\"><span style=\"color: #7f7f7f; text-decoration-color: #7f7f7f\">2961958636.py</span></a><span style=\"color: #7f7f7f; text-decoration-color: #7f7f7f\">:</span><a href=\"file:///tmp/ipykernel_374566/2961958636.py#28\" target=\"_blank\"><span style=\"color: #7f7f7f; text-decoration-color: #7f7f7f\">28</span></a>\n",
       "<span style=\"color: #7fbfbf; text-decoration-color: #7fbfbf\">                    </span>         <span style=\"color: #008000; text-decoration-color: #008000\">'analyze_and_model'</span>: <span style=\"font-weight: bold\">{</span><span style=\"color: #008000; text-decoration-color: #008000\">'target'</span>: <span style=\"color: #008000; text-decoration-color: #008000\">'Mid'</span>, <span style=\"color: #008000; text-decoration-color: #008000\">'mode'</span>: <span style=\"color: #008000; text-decoration-color: #008000\">'quick'</span><span style=\"font-weight: bold\">}</span>,              <span style=\"color: #7f7f7f; text-decoration-color: #7f7f7f\">                </span>\n",
       "<span style=\"color: #7fbfbf; text-decoration-color: #7fbfbf\">                    </span>         <span style=\"color: #008000; text-decoration-color: #008000\">'group_data'</span>: <span style=\"font-weight: bold\">{</span><span style=\"color: #008000; text-decoration-color: #008000\">'partition_column'</span>: <span style=\"color: #008000; text-decoration-color: #008000\">'tier'</span><span style=\"font-weight: bold\">}}</span>                           <span style=\"color: #7f7f7f; text-decoration-color: #7f7f7f\">                </span>\n",
       "</pre>\n"
      ],
      "text/plain": [
       "\u001b[2;36m                   \u001b[0m\u001b[2;36m \u001b[0m\u001b[32mDEBUG   \u001b[0m With dict2: \u001b[1m{\u001b[0m\u001b[32m'experiment_name'\u001b[0m: \u001b[32m'simple_grouped'\u001b[0m,                     \u001b]8;id=911148;file:///tmp/ipykernel_374566/2961958636.py\u001b\\\u001b[2m2961958636.py\u001b[0m\u001b]8;;\u001b\\\u001b[2m:\u001b[0m\u001b]8;id=712736;file:///tmp/ipykernel_374566/2961958636.py#28\u001b\\\u001b[2m28\u001b[0m\u001b]8;;\u001b\\\n",
       "\u001b[2;36m                    \u001b[0m         \u001b[32m'analyze_and_model'\u001b[0m: \u001b[1m{\u001b[0m\u001b[32m'target'\u001b[0m: \u001b[32m'Mid'\u001b[0m, \u001b[32m'mode'\u001b[0m: \u001b[32m'quick'\u001b[0m\u001b[1m}\u001b[0m,              \u001b[2m                \u001b[0m\n",
       "\u001b[2;36m                    \u001b[0m         \u001b[32m'group_data'\u001b[0m: \u001b[1m{\u001b[0m\u001b[32m'partition_column'\u001b[0m: \u001b[32m'tier'\u001b[0m\u001b[1m}\u001b[0m\u001b[1m}\u001b[0m                           \u001b[2m                \u001b[0m\n"
      ]
     },
     "metadata": {},
     "output_type": "display_data"
    },
    {
     "data": {
      "text/html": [
       "<pre style=\"white-space:pre;overflow-x:auto;line-height:normal;font-family:Menlo,'DejaVu Sans Mono',consolas,'Courier New',monospace\"><span style=\"color: #7fbfbf; text-decoration-color: #7fbfbf\">                    </span><span style=\"color: #008000; text-decoration-color: #008000\">DEBUG   </span> Merge result: <span style=\"font-weight: bold\">{</span><span style=\"color: #008000; text-decoration-color: #008000\">'use_case_name'</span>: <span style=\"color: #008000; text-decoration-color: #008000\">'x-flow Demo'</span>, <span style=\"color: #008000; text-decoration-color: #008000\">'experiment_name'</span>:     <a href=\"file:///tmp/ipykernel_374566/2961958636.py\" target=\"_blank\"><span style=\"color: #7f7f7f; text-decoration-color: #7f7f7f\">2961958636.py</span></a><span style=\"color: #7f7f7f; text-decoration-color: #7f7f7f\">:</span><a href=\"file:///tmp/ipykernel_374566/2961958636.py#36\" target=\"_blank\"><span style=\"color: #7f7f7f; text-decoration-color: #7f7f7f\">36</span></a>\n",
       "<span style=\"color: #7fbfbf; text-decoration-color: #7fbfbf\">                    </span>         <span style=\"color: #008000; text-decoration-color: #008000\">'simple_grouped'</span>, <span style=\"color: #008000; text-decoration-color: #008000\">'analyze_and_model'</span>: <span style=\"font-weight: bold\">{</span><span style=\"color: #008000; text-decoration-color: #008000\">'target'</span>: <span style=\"color: #008000; text-decoration-color: #008000\">'Mid'</span>, <span style=\"color: #008000; text-decoration-color: #008000\">'mode'</span>:      <span style=\"color: #7f7f7f; text-decoration-color: #7f7f7f\">                </span>\n",
       "<span style=\"color: #7fbfbf; text-decoration-color: #7fbfbf\">                    </span>         <span style=\"color: #008000; text-decoration-color: #008000\">'quick'</span><span style=\"font-weight: bold\">}</span>, <span style=\"color: #008000; text-decoration-color: #008000\">'datetime_partitioning'</span>: <span style=\"font-weight: bold\">{</span><span style=\"color: #008000; text-decoration-color: #008000\">'use_time_series'</span>: <span style=\"color: #ff0000; text-decoration-color: #ff0000; font-style: italic\">False</span>,         <span style=\"color: #7f7f7f; text-decoration-color: #7f7f7f\">                </span>\n",
       "<span style=\"color: #7fbfbf; text-decoration-color: #7fbfbf\">                    </span>         <span style=\"color: #008000; text-decoration-color: #008000\">'datetime_partition_column'</span>: <span style=\"color: #008000; text-decoration-color: #008000\">'date'</span>, <span style=\"color: #008000; text-decoration-color: #008000\">'number_of_backtests'</span>: <span style=\"color: #008080; text-decoration-color: #008080; font-weight: bold\">3</span><span style=\"font-weight: bold\">}</span>,       <span style=\"color: #7f7f7f; text-decoration-color: #7f7f7f\">                </span>\n",
       "<span style=\"color: #7fbfbf; text-decoration-color: #7fbfbf\">                    </span>         <span style=\"color: #008000; text-decoration-color: #008000\">'binarize_data_config'</span>: <span style=\"color: #800080; text-decoration-color: #800080; font-style: italic\">None</span>, <span style=\"color: #008000; text-decoration-color: #008000\">'fire_config'</span>: <span style=\"color: #800080; text-decoration-color: #800080; font-style: italic\">None</span>,                    <span style=\"color: #7f7f7f; text-decoration-color: #7f7f7f\">                </span>\n",
       "<span style=\"color: #7fbfbf; text-decoration-color: #7fbfbf\">                    </span>         <span style=\"color: #008000; text-decoration-color: #008000\">'partition_column'</span>: <span style=\"color: #800080; text-decoration-color: #800080; font-style: italic\">None</span>, <span style=\"color: #008000; text-decoration-color: #008000\">'main_metric'</span>: <span style=\"color: #008000; text-decoration-color: #008000\">'generalized_f1'</span>,            <span style=\"color: #7f7f7f; text-decoration-color: #7f7f7f\">                </span>\n",
       "<span style=\"color: #7fbfbf; text-decoration-color: #7fbfbf\">                    </span>         <span style=\"color: #008000; text-decoration-color: #008000\">'date_format'</span>: <span style=\"color: #008000; text-decoration-color: #008000\">'%d/%m/%Y'</span>, <span style=\"color: #008000; text-decoration-color: #008000\">'group_data'</span>: <span style=\"font-weight: bold\">{</span><span style=\"color: #008000; text-decoration-color: #008000\">'partition_column'</span>:         <span style=\"color: #7f7f7f; text-decoration-color: #7f7f7f\">                </span>\n",
       "<span style=\"color: #7fbfbf; text-decoration-color: #7fbfbf\">                    </span>         <span style=\"color: #008000; text-decoration-color: #008000\">'tier'</span><span style=\"font-weight: bold\">}}</span>                                                              <span style=\"color: #7f7f7f; text-decoration-color: #7f7f7f\">                </span>\n",
       "</pre>\n"
      ],
      "text/plain": [
       "\u001b[2;36m                   \u001b[0m\u001b[2;36m \u001b[0m\u001b[32mDEBUG   \u001b[0m Merge result: \u001b[1m{\u001b[0m\u001b[32m'use_case_name'\u001b[0m: \u001b[32m'x-flow Demo'\u001b[0m, \u001b[32m'experiment_name'\u001b[0m:     \u001b]8;id=542675;file:///tmp/ipykernel_374566/2961958636.py\u001b\\\u001b[2m2961958636.py\u001b[0m\u001b]8;;\u001b\\\u001b[2m:\u001b[0m\u001b]8;id=845865;file:///tmp/ipykernel_374566/2961958636.py#36\u001b\\\u001b[2m36\u001b[0m\u001b]8;;\u001b\\\n",
       "\u001b[2;36m                    \u001b[0m         \u001b[32m'simple_grouped'\u001b[0m, \u001b[32m'analyze_and_model'\u001b[0m: \u001b[1m{\u001b[0m\u001b[32m'target'\u001b[0m: \u001b[32m'Mid'\u001b[0m, \u001b[32m'mode'\u001b[0m:      \u001b[2m                \u001b[0m\n",
       "\u001b[2;36m                    \u001b[0m         \u001b[32m'quick'\u001b[0m\u001b[1m}\u001b[0m, \u001b[32m'datetime_partitioning'\u001b[0m: \u001b[1m{\u001b[0m\u001b[32m'use_time_series'\u001b[0m: \u001b[3;91mFalse\u001b[0m,         \u001b[2m                \u001b[0m\n",
       "\u001b[2;36m                    \u001b[0m         \u001b[32m'datetime_partition_column'\u001b[0m: \u001b[32m'date'\u001b[0m, \u001b[32m'number_of_backtests'\u001b[0m: \u001b[1;36m3\u001b[0m\u001b[1m}\u001b[0m,       \u001b[2m                \u001b[0m\n",
       "\u001b[2;36m                    \u001b[0m         \u001b[32m'binarize_data_config'\u001b[0m: \u001b[3;35mNone\u001b[0m, \u001b[32m'fire_config'\u001b[0m: \u001b[3;35mNone\u001b[0m,                    \u001b[2m                \u001b[0m\n",
       "\u001b[2;36m                    \u001b[0m         \u001b[32m'partition_column'\u001b[0m: \u001b[3;35mNone\u001b[0m, \u001b[32m'main_metric'\u001b[0m: \u001b[32m'generalized_f1'\u001b[0m,            \u001b[2m                \u001b[0m\n",
       "\u001b[2;36m                    \u001b[0m         \u001b[32m'date_format'\u001b[0m: \u001b[32m'%d/%m/%Y'\u001b[0m, \u001b[32m'group_data'\u001b[0m: \u001b[1m{\u001b[0m\u001b[32m'partition_column'\u001b[0m:         \u001b[2m                \u001b[0m\n",
       "\u001b[2;36m                    \u001b[0m         \u001b[32m'tier'\u001b[0m\u001b[1m}\u001b[0m\u001b[1m}\u001b[0m                                                              \u001b[2m                \u001b[0m\n"
      ]
     },
     "metadata": {},
     "output_type": "display_data"
    },
    {
     "data": {
      "text/html": [
       "<pre style=\"white-space:pre;overflow-x:auto;line-height:normal;font-family:Menlo,'DejaVu Sans Mono',consolas,'Courier New',monospace\"><span style=\"color: #7fbfbf; text-decoration-color: #7fbfbf\">                    </span><span style=\"color: #008000; text-decoration-color: #008000\">DEBUG   </span> Merging dict1: <span style=\"font-weight: bold\">{</span><span style=\"color: #008000; text-decoration-color: #008000\">'use_case_name'</span>: <span style=\"color: #008000; text-decoration-color: #008000\">'x-flow Demo'</span>, <span style=\"color: #008000; text-decoration-color: #008000\">'experiment_name'</span>:    <a href=\"file:///tmp/ipykernel_374566/2961958636.py\" target=\"_blank\"><span style=\"color: #7f7f7f; text-decoration-color: #7f7f7f\">2961958636.py</span></a><span style=\"color: #7f7f7f; text-decoration-color: #7f7f7f\">:</span><a href=\"file:///tmp/ipykernel_374566/2961958636.py#27\" target=\"_blank\"><span style=\"color: #7f7f7f; text-decoration-color: #7f7f7f\">27</span></a>\n",
       "<span style=\"color: #7fbfbf; text-decoration-color: #7fbfbf\">                    </span>         <span style=\"color: #800080; text-decoration-color: #800080; font-style: italic\">None</span>, <span style=\"color: #008000; text-decoration-color: #008000\">'analyze_and_model'</span>: <span style=\"font-weight: bold\">{</span><span style=\"color: #008000; text-decoration-color: #008000\">'target'</span>: <span style=\"color: #800080; text-decoration-color: #800080; font-style: italic\">None</span>, <span style=\"color: #008000; text-decoration-color: #008000\">'max_wait'</span>: <span style=\"color: #008080; text-decoration-color: #008080; font-weight: bold\">10000</span>,        <span style=\"color: #7f7f7f; text-decoration-color: #7f7f7f\">                </span>\n",
       "<span style=\"color: #7fbfbf; text-decoration-color: #7fbfbf\">                    </span>         <span style=\"color: #008000; text-decoration-color: #008000\">'worker_count'</span>: <span style=\"color: #008080; text-decoration-color: #008080; font-weight: bold\">-1</span><span style=\"font-weight: bold\">}</span>, <span style=\"color: #008000; text-decoration-color: #008000\">'datetime_partitioning'</span>: <span style=\"font-weight: bold\">{</span><span style=\"color: #008000; text-decoration-color: #008000\">'use_time_series'</span>:     <span style=\"color: #7f7f7f; text-decoration-color: #7f7f7f\">                </span>\n",
       "<span style=\"color: #7fbfbf; text-decoration-color: #7fbfbf\">                    </span>         <span style=\"color: #ff0000; text-decoration-color: #ff0000; font-style: italic\">False</span>, <span style=\"color: #008000; text-decoration-color: #008000\">'datetime_partition_column'</span>: <span style=\"color: #008000; text-decoration-color: #008000\">'date'</span>, <span style=\"color: #008000; text-decoration-color: #008000\">'number_of_backtests'</span>:    <span style=\"color: #7f7f7f; text-decoration-color: #7f7f7f\">                </span>\n",
       "<span style=\"color: #7fbfbf; text-decoration-color: #7fbfbf\">                    </span>         <span style=\"color: #008080; text-decoration-color: #008080; font-weight: bold\">3</span><span style=\"font-weight: bold\">}</span>, <span style=\"color: #008000; text-decoration-color: #008000\">'binarize_data_config'</span>: <span style=\"color: #800080; text-decoration-color: #800080; font-style: italic\">None</span>, <span style=\"color: #008000; text-decoration-color: #008000\">'fire_config'</span>: <span style=\"color: #800080; text-decoration-color: #800080; font-style: italic\">None</span>,                <span style=\"color: #7f7f7f; text-decoration-color: #7f7f7f\">                </span>\n",
       "<span style=\"color: #7fbfbf; text-decoration-color: #7fbfbf\">                    </span>         <span style=\"color: #008000; text-decoration-color: #008000\">'partition_column'</span>: <span style=\"color: #800080; text-decoration-color: #800080; font-style: italic\">None</span>, <span style=\"color: #008000; text-decoration-color: #008000\">'main_metric'</span>: <span style=\"color: #008000; text-decoration-color: #008000\">'generalized_f1'</span>,            <span style=\"color: #7f7f7f; text-decoration-color: #7f7f7f\">                </span>\n",
       "<span style=\"color: #7fbfbf; text-decoration-color: #7fbfbf\">                    </span>         <span style=\"color: #008000; text-decoration-color: #008000\">'date_format'</span>: <span style=\"color: #008000; text-decoration-color: #008000\">'%d/%m/%Y'</span><span style=\"font-weight: bold\">}</span>                                            <span style=\"color: #7f7f7f; text-decoration-color: #7f7f7f\">                </span>\n",
       "</pre>\n"
      ],
      "text/plain": [
       "\u001b[2;36m                   \u001b[0m\u001b[2;36m \u001b[0m\u001b[32mDEBUG   \u001b[0m Merging dict1: \u001b[1m{\u001b[0m\u001b[32m'use_case_name'\u001b[0m: \u001b[32m'x-flow Demo'\u001b[0m, \u001b[32m'experiment_name'\u001b[0m:    \u001b]8;id=943038;file:///tmp/ipykernel_374566/2961958636.py\u001b\\\u001b[2m2961958636.py\u001b[0m\u001b]8;;\u001b\\\u001b[2m:\u001b[0m\u001b]8;id=907866;file:///tmp/ipykernel_374566/2961958636.py#27\u001b\\\u001b[2m27\u001b[0m\u001b]8;;\u001b\\\n",
       "\u001b[2;36m                    \u001b[0m         \u001b[3;35mNone\u001b[0m, \u001b[32m'analyze_and_model'\u001b[0m: \u001b[1m{\u001b[0m\u001b[32m'target'\u001b[0m: \u001b[3;35mNone\u001b[0m, \u001b[32m'max_wait'\u001b[0m: \u001b[1;36m10000\u001b[0m,        \u001b[2m                \u001b[0m\n",
       "\u001b[2;36m                    \u001b[0m         \u001b[32m'worker_count'\u001b[0m: \u001b[1;36m-1\u001b[0m\u001b[1m}\u001b[0m, \u001b[32m'datetime_partitioning'\u001b[0m: \u001b[1m{\u001b[0m\u001b[32m'use_time_series'\u001b[0m:     \u001b[2m                \u001b[0m\n",
       "\u001b[2;36m                    \u001b[0m         \u001b[3;91mFalse\u001b[0m, \u001b[32m'datetime_partition_column'\u001b[0m: \u001b[32m'date'\u001b[0m, \u001b[32m'number_of_backtests'\u001b[0m:    \u001b[2m                \u001b[0m\n",
       "\u001b[2;36m                    \u001b[0m         \u001b[1;36m3\u001b[0m\u001b[1m}\u001b[0m, \u001b[32m'binarize_data_config'\u001b[0m: \u001b[3;35mNone\u001b[0m, \u001b[32m'fire_config'\u001b[0m: \u001b[3;35mNone\u001b[0m,                \u001b[2m                \u001b[0m\n",
       "\u001b[2;36m                    \u001b[0m         \u001b[32m'partition_column'\u001b[0m: \u001b[3;35mNone\u001b[0m, \u001b[32m'main_metric'\u001b[0m: \u001b[32m'generalized_f1'\u001b[0m,            \u001b[2m                \u001b[0m\n",
       "\u001b[2;36m                    \u001b[0m         \u001b[32m'date_format'\u001b[0m: \u001b[32m'%d/%m/%Y'\u001b[0m\u001b[1m}\u001b[0m                                            \u001b[2m                \u001b[0m\n"
      ]
     },
     "metadata": {},
     "output_type": "display_data"
    },
    {
     "data": {
      "text/html": [
       "<pre style=\"white-space:pre;overflow-x:auto;line-height:normal;font-family:Menlo,'DejaVu Sans Mono',consolas,'Courier New',monospace\"><span style=\"color: #7fbfbf; text-decoration-color: #7fbfbf\">                    </span><span style=\"color: #008000; text-decoration-color: #008000\">DEBUG   </span> With dict2: <span style=\"font-weight: bold\">{</span><span style=\"color: #008000; text-decoration-color: #008000\">'experiment_name'</span>: <span style=\"color: #008000; text-decoration-color: #008000\">'simple_NC_BC'</span>, <span style=\"color: #008000; text-decoration-color: #008000\">'analyze_and_model'</span>:  <a href=\"file:///tmp/ipykernel_374566/2961958636.py\" target=\"_blank\"><span style=\"color: #7f7f7f; text-decoration-color: #7f7f7f\">2961958636.py</span></a><span style=\"color: #7f7f7f; text-decoration-color: #7f7f7f\">:</span><a href=\"file:///tmp/ipykernel_374566/2961958636.py#28\" target=\"_blank\"><span style=\"color: #7f7f7f; text-decoration-color: #7f7f7f\">28</span></a>\n",
       "<span style=\"color: #7fbfbf; text-decoration-color: #7fbfbf\">                    </span>         <span style=\"font-weight: bold\">{</span><span style=\"color: #008000; text-decoration-color: #008000\">'target'</span>: <span style=\"color: #008000; text-decoration-color: #008000\">'Mid'</span>, <span style=\"color: #008000; text-decoration-color: #008000\">'mode'</span>: <span style=\"color: #008000; text-decoration-color: #008000\">'quick'</span><span style=\"font-weight: bold\">}</span>, <span style=\"color: #008000; text-decoration-color: #008000\">'binarize_data'</span>:                  <span style=\"color: #7f7f7f; text-decoration-color: #7f7f7f\">                </span>\n",
       "<span style=\"color: #7fbfbf; text-decoration-color: #7fbfbf\">                    </span>         <span style=\"font-weight: bold\">{</span><span style=\"color: #008000; text-decoration-color: #008000\">'binarize_operator'</span>: <span style=\"color: #008000; text-decoration-color: #008000\">'&gt;'</span>, <span style=\"color: #008000; text-decoration-color: #008000\">'binarize_threshold'</span>: <span style=\"color: #008080; text-decoration-color: #008080; font-weight: bold\">113.0</span><span style=\"font-weight: bold\">}}</span>              <span style=\"color: #7f7f7f; text-decoration-color: #7f7f7f\">                </span>\n",
       "</pre>\n"
      ],
      "text/plain": [
       "\u001b[2;36m                   \u001b[0m\u001b[2;36m \u001b[0m\u001b[32mDEBUG   \u001b[0m With dict2: \u001b[1m{\u001b[0m\u001b[32m'experiment_name'\u001b[0m: \u001b[32m'simple_NC_BC'\u001b[0m, \u001b[32m'analyze_and_model'\u001b[0m:  \u001b]8;id=201818;file:///tmp/ipykernel_374566/2961958636.py\u001b\\\u001b[2m2961958636.py\u001b[0m\u001b]8;;\u001b\\\u001b[2m:\u001b[0m\u001b]8;id=385630;file:///tmp/ipykernel_374566/2961958636.py#28\u001b\\\u001b[2m28\u001b[0m\u001b]8;;\u001b\\\n",
       "\u001b[2;36m                    \u001b[0m         \u001b[1m{\u001b[0m\u001b[32m'target'\u001b[0m: \u001b[32m'Mid'\u001b[0m, \u001b[32m'mode'\u001b[0m: \u001b[32m'quick'\u001b[0m\u001b[1m}\u001b[0m, \u001b[32m'binarize_data'\u001b[0m:                  \u001b[2m                \u001b[0m\n",
       "\u001b[2;36m                    \u001b[0m         \u001b[1m{\u001b[0m\u001b[32m'binarize_operator'\u001b[0m: \u001b[32m'>'\u001b[0m, \u001b[32m'binarize_threshold'\u001b[0m: \u001b[1;36m113.0\u001b[0m\u001b[1m}\u001b[0m\u001b[1m}\u001b[0m              \u001b[2m                \u001b[0m\n"
      ]
     },
     "metadata": {},
     "output_type": "display_data"
    },
    {
     "data": {
      "text/html": [
       "<pre style=\"white-space:pre;overflow-x:auto;line-height:normal;font-family:Menlo,'DejaVu Sans Mono',consolas,'Courier New',monospace\"><span style=\"color: #7fbfbf; text-decoration-color: #7fbfbf\">                    </span><span style=\"color: #008000; text-decoration-color: #008000\">DEBUG   </span> Merge result: <span style=\"font-weight: bold\">{</span><span style=\"color: #008000; text-decoration-color: #008000\">'use_case_name'</span>: <span style=\"color: #008000; text-decoration-color: #008000\">'x-flow Demo'</span>, <span style=\"color: #008000; text-decoration-color: #008000\">'experiment_name'</span>:     <a href=\"file:///tmp/ipykernel_374566/2961958636.py\" target=\"_blank\"><span style=\"color: #7f7f7f; text-decoration-color: #7f7f7f\">2961958636.py</span></a><span style=\"color: #7f7f7f; text-decoration-color: #7f7f7f\">:</span><a href=\"file:///tmp/ipykernel_374566/2961958636.py#36\" target=\"_blank\"><span style=\"color: #7f7f7f; text-decoration-color: #7f7f7f\">36</span></a>\n",
       "<span style=\"color: #7fbfbf; text-decoration-color: #7fbfbf\">                    </span>         <span style=\"color: #008000; text-decoration-color: #008000\">'simple_NC_BC'</span>, <span style=\"color: #008000; text-decoration-color: #008000\">'analyze_and_model'</span>: <span style=\"font-weight: bold\">{</span><span style=\"color: #008000; text-decoration-color: #008000\">'target'</span>: <span style=\"color: #008000; text-decoration-color: #008000\">'Mid'</span>, <span style=\"color: #008000; text-decoration-color: #008000\">'mode'</span>:        <span style=\"color: #7f7f7f; text-decoration-color: #7f7f7f\">                </span>\n",
       "<span style=\"color: #7fbfbf; text-decoration-color: #7fbfbf\">                    </span>         <span style=\"color: #008000; text-decoration-color: #008000\">'quick'</span><span style=\"font-weight: bold\">}</span>, <span style=\"color: #008000; text-decoration-color: #008000\">'datetime_partitioning'</span>: <span style=\"font-weight: bold\">{</span><span style=\"color: #008000; text-decoration-color: #008000\">'use_time_series'</span>: <span style=\"color: #ff0000; text-decoration-color: #ff0000; font-style: italic\">False</span>,         <span style=\"color: #7f7f7f; text-decoration-color: #7f7f7f\">                </span>\n",
       "<span style=\"color: #7fbfbf; text-decoration-color: #7fbfbf\">                    </span>         <span style=\"color: #008000; text-decoration-color: #008000\">'datetime_partition_column'</span>: <span style=\"color: #008000; text-decoration-color: #008000\">'date'</span>, <span style=\"color: #008000; text-decoration-color: #008000\">'number_of_backtests'</span>: <span style=\"color: #008080; text-decoration-color: #008080; font-weight: bold\">3</span><span style=\"font-weight: bold\">}</span>,       <span style=\"color: #7f7f7f; text-decoration-color: #7f7f7f\">                </span>\n",
       "<span style=\"color: #7fbfbf; text-decoration-color: #7fbfbf\">                    </span>         <span style=\"color: #008000; text-decoration-color: #008000\">'binarize_data_config'</span>: <span style=\"color: #800080; text-decoration-color: #800080; font-style: italic\">None</span>, <span style=\"color: #008000; text-decoration-color: #008000\">'fire_config'</span>: <span style=\"color: #800080; text-decoration-color: #800080; font-style: italic\">None</span>,                    <span style=\"color: #7f7f7f; text-decoration-color: #7f7f7f\">                </span>\n",
       "<span style=\"color: #7fbfbf; text-decoration-color: #7fbfbf\">                    </span>         <span style=\"color: #008000; text-decoration-color: #008000\">'partition_column'</span>: <span style=\"color: #800080; text-decoration-color: #800080; font-style: italic\">None</span>, <span style=\"color: #008000; text-decoration-color: #008000\">'main_metric'</span>: <span style=\"color: #008000; text-decoration-color: #008000\">'generalized_f1'</span>,            <span style=\"color: #7f7f7f; text-decoration-color: #7f7f7f\">                </span>\n",
       "<span style=\"color: #7fbfbf; text-decoration-color: #7fbfbf\">                    </span>         <span style=\"color: #008000; text-decoration-color: #008000\">'date_format'</span>: <span style=\"color: #008000; text-decoration-color: #008000\">'%d/%m/%Y'</span>, <span style=\"color: #008000; text-decoration-color: #008000\">'binarize_data'</span>: <span style=\"font-weight: bold\">{</span><span style=\"color: #008000; text-decoration-color: #008000\">'binarize_operator'</span>:     <span style=\"color: #7f7f7f; text-decoration-color: #7f7f7f\">                </span>\n",
       "<span style=\"color: #7fbfbf; text-decoration-color: #7fbfbf\">                    </span>         <span style=\"color: #008000; text-decoration-color: #008000\">'&gt;'</span>, <span style=\"color: #008000; text-decoration-color: #008000\">'binarize_threshold'</span>: <span style=\"color: #008080; text-decoration-color: #008080; font-weight: bold\">113.0</span><span style=\"font-weight: bold\">}}</span>                                    <span style=\"color: #7f7f7f; text-decoration-color: #7f7f7f\">                </span>\n",
       "</pre>\n"
      ],
      "text/plain": [
       "\u001b[2;36m                   \u001b[0m\u001b[2;36m \u001b[0m\u001b[32mDEBUG   \u001b[0m Merge result: \u001b[1m{\u001b[0m\u001b[32m'use_case_name'\u001b[0m: \u001b[32m'x-flow Demo'\u001b[0m, \u001b[32m'experiment_name'\u001b[0m:     \u001b]8;id=368701;file:///tmp/ipykernel_374566/2961958636.py\u001b\\\u001b[2m2961958636.py\u001b[0m\u001b]8;;\u001b\\\u001b[2m:\u001b[0m\u001b]8;id=729153;file:///tmp/ipykernel_374566/2961958636.py#36\u001b\\\u001b[2m36\u001b[0m\u001b]8;;\u001b\\\n",
       "\u001b[2;36m                    \u001b[0m         \u001b[32m'simple_NC_BC'\u001b[0m, \u001b[32m'analyze_and_model'\u001b[0m: \u001b[1m{\u001b[0m\u001b[32m'target'\u001b[0m: \u001b[32m'Mid'\u001b[0m, \u001b[32m'mode'\u001b[0m:        \u001b[2m                \u001b[0m\n",
       "\u001b[2;36m                    \u001b[0m         \u001b[32m'quick'\u001b[0m\u001b[1m}\u001b[0m, \u001b[32m'datetime_partitioning'\u001b[0m: \u001b[1m{\u001b[0m\u001b[32m'use_time_series'\u001b[0m: \u001b[3;91mFalse\u001b[0m,         \u001b[2m                \u001b[0m\n",
       "\u001b[2;36m                    \u001b[0m         \u001b[32m'datetime_partition_column'\u001b[0m: \u001b[32m'date'\u001b[0m, \u001b[32m'number_of_backtests'\u001b[0m: \u001b[1;36m3\u001b[0m\u001b[1m}\u001b[0m,       \u001b[2m                \u001b[0m\n",
       "\u001b[2;36m                    \u001b[0m         \u001b[32m'binarize_data_config'\u001b[0m: \u001b[3;35mNone\u001b[0m, \u001b[32m'fire_config'\u001b[0m: \u001b[3;35mNone\u001b[0m,                    \u001b[2m                \u001b[0m\n",
       "\u001b[2;36m                    \u001b[0m         \u001b[32m'partition_column'\u001b[0m: \u001b[3;35mNone\u001b[0m, \u001b[32m'main_metric'\u001b[0m: \u001b[32m'generalized_f1'\u001b[0m,            \u001b[2m                \u001b[0m\n",
       "\u001b[2;36m                    \u001b[0m         \u001b[32m'date_format'\u001b[0m: \u001b[32m'%d/%m/%Y'\u001b[0m, \u001b[32m'binarize_data'\u001b[0m: \u001b[1m{\u001b[0m\u001b[32m'binarize_operator'\u001b[0m:     \u001b[2m                \u001b[0m\n",
       "\u001b[2;36m                    \u001b[0m         \u001b[32m'>'\u001b[0m, \u001b[32m'binarize_threshold'\u001b[0m: \u001b[1;36m113.0\u001b[0m\u001b[1m}\u001b[0m\u001b[1m}\u001b[0m                                    \u001b[2m                \u001b[0m\n"
      ]
     },
     "metadata": {},
     "output_type": "display_data"
    },
    {
     "data": {
      "text/html": [
       "<pre style=\"white-space:pre;overflow-x:auto;line-height:normal;font-family:Menlo,'DejaVu Sans Mono',consolas,'Courier New',monospace\"><span style=\"color: #7fbfbf; text-decoration-color: #7fbfbf\">                    </span><span style=\"color: #008000; text-decoration-color: #008000\">DEBUG   </span> Merging dict1: <span style=\"font-weight: bold\">{</span><span style=\"color: #008000; text-decoration-color: #008000\">'use_case_name'</span>: <span style=\"color: #008000; text-decoration-color: #008000\">'x-flow Demo'</span>, <span style=\"color: #008000; text-decoration-color: #008000\">'experiment_name'</span>:    <a href=\"file:///tmp/ipykernel_374566/2961958636.py\" target=\"_blank\"><span style=\"color: #7f7f7f; text-decoration-color: #7f7f7f\">2961958636.py</span></a><span style=\"color: #7f7f7f; text-decoration-color: #7f7f7f\">:</span><a href=\"file:///tmp/ipykernel_374566/2961958636.py#27\" target=\"_blank\"><span style=\"color: #7f7f7f; text-decoration-color: #7f7f7f\">27</span></a>\n",
       "<span style=\"color: #7fbfbf; text-decoration-color: #7fbfbf\">                    </span>         <span style=\"color: #800080; text-decoration-color: #800080; font-style: italic\">None</span>, <span style=\"color: #008000; text-decoration-color: #008000\">'analyze_and_model'</span>: <span style=\"font-weight: bold\">{</span><span style=\"color: #008000; text-decoration-color: #008000\">'target'</span>: <span style=\"color: #800080; text-decoration-color: #800080; font-style: italic\">None</span>, <span style=\"color: #008000; text-decoration-color: #008000\">'max_wait'</span>: <span style=\"color: #008080; text-decoration-color: #008080; font-weight: bold\">10000</span>,        <span style=\"color: #7f7f7f; text-decoration-color: #7f7f7f\">                </span>\n",
       "<span style=\"color: #7fbfbf; text-decoration-color: #7fbfbf\">                    </span>         <span style=\"color: #008000; text-decoration-color: #008000\">'worker_count'</span>: <span style=\"color: #008080; text-decoration-color: #008080; font-weight: bold\">-1</span><span style=\"font-weight: bold\">}</span>, <span style=\"color: #008000; text-decoration-color: #008000\">'datetime_partitioning'</span>: <span style=\"font-weight: bold\">{</span><span style=\"color: #008000; text-decoration-color: #008000\">'use_time_series'</span>:     <span style=\"color: #7f7f7f; text-decoration-color: #7f7f7f\">                </span>\n",
       "<span style=\"color: #7fbfbf; text-decoration-color: #7fbfbf\">                    </span>         <span style=\"color: #ff0000; text-decoration-color: #ff0000; font-style: italic\">False</span>, <span style=\"color: #008000; text-decoration-color: #008000\">'datetime_partition_column'</span>: <span style=\"color: #008000; text-decoration-color: #008000\">'date'</span>, <span style=\"color: #008000; text-decoration-color: #008000\">'number_of_backtests'</span>:    <span style=\"color: #7f7f7f; text-decoration-color: #7f7f7f\">                </span>\n",
       "<span style=\"color: #7fbfbf; text-decoration-color: #7fbfbf\">                    </span>         <span style=\"color: #008080; text-decoration-color: #008080; font-weight: bold\">3</span><span style=\"font-weight: bold\">}</span>, <span style=\"color: #008000; text-decoration-color: #008000\">'binarize_data_config'</span>: <span style=\"color: #800080; text-decoration-color: #800080; font-style: italic\">None</span>, <span style=\"color: #008000; text-decoration-color: #008000\">'fire_config'</span>: <span style=\"color: #800080; text-decoration-color: #800080; font-style: italic\">None</span>,                <span style=\"color: #7f7f7f; text-decoration-color: #7f7f7f\">                </span>\n",
       "<span style=\"color: #7fbfbf; text-decoration-color: #7fbfbf\">                    </span>         <span style=\"color: #008000; text-decoration-color: #008000\">'partition_column'</span>: <span style=\"color: #800080; text-decoration-color: #800080; font-style: italic\">None</span>, <span style=\"color: #008000; text-decoration-color: #008000\">'main_metric'</span>: <span style=\"color: #008000; text-decoration-color: #008000\">'generalized_f1'</span>,            <span style=\"color: #7f7f7f; text-decoration-color: #7f7f7f\">                </span>\n",
       "<span style=\"color: #7fbfbf; text-decoration-color: #7fbfbf\">                    </span>         <span style=\"color: #008000; text-decoration-color: #008000\">'date_format'</span>: <span style=\"color: #008000; text-decoration-color: #008000\">'%d/%m/%Y'</span><span style=\"font-weight: bold\">}</span>                                            <span style=\"color: #7f7f7f; text-decoration-color: #7f7f7f\">                </span>\n",
       "</pre>\n"
      ],
      "text/plain": [
       "\u001b[2;36m                   \u001b[0m\u001b[2;36m \u001b[0m\u001b[32mDEBUG   \u001b[0m Merging dict1: \u001b[1m{\u001b[0m\u001b[32m'use_case_name'\u001b[0m: \u001b[32m'x-flow Demo'\u001b[0m, \u001b[32m'experiment_name'\u001b[0m:    \u001b]8;id=978465;file:///tmp/ipykernel_374566/2961958636.py\u001b\\\u001b[2m2961958636.py\u001b[0m\u001b]8;;\u001b\\\u001b[2m:\u001b[0m\u001b]8;id=328142;file:///tmp/ipykernel_374566/2961958636.py#27\u001b\\\u001b[2m27\u001b[0m\u001b]8;;\u001b\\\n",
       "\u001b[2;36m                    \u001b[0m         \u001b[3;35mNone\u001b[0m, \u001b[32m'analyze_and_model'\u001b[0m: \u001b[1m{\u001b[0m\u001b[32m'target'\u001b[0m: \u001b[3;35mNone\u001b[0m, \u001b[32m'max_wait'\u001b[0m: \u001b[1;36m10000\u001b[0m,        \u001b[2m                \u001b[0m\n",
       "\u001b[2;36m                    \u001b[0m         \u001b[32m'worker_count'\u001b[0m: \u001b[1;36m-1\u001b[0m\u001b[1m}\u001b[0m, \u001b[32m'datetime_partitioning'\u001b[0m: \u001b[1m{\u001b[0m\u001b[32m'use_time_series'\u001b[0m:     \u001b[2m                \u001b[0m\n",
       "\u001b[2;36m                    \u001b[0m         \u001b[3;91mFalse\u001b[0m, \u001b[32m'datetime_partition_column'\u001b[0m: \u001b[32m'date'\u001b[0m, \u001b[32m'number_of_backtests'\u001b[0m:    \u001b[2m                \u001b[0m\n",
       "\u001b[2;36m                    \u001b[0m         \u001b[1;36m3\u001b[0m\u001b[1m}\u001b[0m, \u001b[32m'binarize_data_config'\u001b[0m: \u001b[3;35mNone\u001b[0m, \u001b[32m'fire_config'\u001b[0m: \u001b[3;35mNone\u001b[0m,                \u001b[2m                \u001b[0m\n",
       "\u001b[2;36m                    \u001b[0m         \u001b[32m'partition_column'\u001b[0m: \u001b[3;35mNone\u001b[0m, \u001b[32m'main_metric'\u001b[0m: \u001b[32m'generalized_f1'\u001b[0m,            \u001b[2m                \u001b[0m\n",
       "\u001b[2;36m                    \u001b[0m         \u001b[32m'date_format'\u001b[0m: \u001b[32m'%d/%m/%Y'\u001b[0m\u001b[1m}\u001b[0m                                            \u001b[2m                \u001b[0m\n"
      ]
     },
     "metadata": {},
     "output_type": "display_data"
    },
    {
     "data": {
      "text/html": [
       "<pre style=\"white-space:pre;overflow-x:auto;line-height:normal;font-family:Menlo,'DejaVu Sans Mono',consolas,'Courier New',monospace\"><span style=\"color: #7fbfbf; text-decoration-color: #7fbfbf\">                    </span><span style=\"color: #008000; text-decoration-color: #008000\">DEBUG   </span> With dict2: <span style=\"font-weight: bold\">{</span><span style=\"color: #008000; text-decoration-color: #008000\">'experiment_name'</span>: <span style=\"color: #008000; text-decoration-color: #008000\">'full_NC_BC'</span>, <span style=\"color: #008000; text-decoration-color: #008000\">'analyze_and_model'</span>:    <a href=\"file:///tmp/ipykernel_374566/2961958636.py\" target=\"_blank\"><span style=\"color: #7f7f7f; text-decoration-color: #7f7f7f\">2961958636.py</span></a><span style=\"color: #7f7f7f; text-decoration-color: #7f7f7f\">:</span><a href=\"file:///tmp/ipykernel_374566/2961958636.py#28\" target=\"_blank\"><span style=\"color: #7f7f7f; text-decoration-color: #7f7f7f\">28</span></a>\n",
       "<span style=\"color: #7fbfbf; text-decoration-color: #7fbfbf\">                    </span>         <span style=\"font-weight: bold\">{</span><span style=\"color: #008000; text-decoration-color: #008000\">'target'</span>: <span style=\"color: #008000; text-decoration-color: #008000\">'Mid'</span>, <span style=\"color: #008000; text-decoration-color: #008000\">'mode'</span>: <span style=\"color: #008000; text-decoration-color: #008000\">'auto'</span><span style=\"font-weight: bold\">}</span>, <span style=\"color: #008000; text-decoration-color: #008000\">'binarize_data'</span>:                   <span style=\"color: #7f7f7f; text-decoration-color: #7f7f7f\">                </span>\n",
       "<span style=\"color: #7fbfbf; text-decoration-color: #7fbfbf\">                    </span>         <span style=\"font-weight: bold\">{</span><span style=\"color: #008000; text-decoration-color: #008000\">'binarize_operator'</span>: <span style=\"color: #008000; text-decoration-color: #008000\">'&gt;'</span>, <span style=\"color: #008000; text-decoration-color: #008000\">'binarize_threshold'</span>: <span style=\"color: #008080; text-decoration-color: #008080; font-weight: bold\">113.0</span><span style=\"font-weight: bold\">}}</span>              <span style=\"color: #7f7f7f; text-decoration-color: #7f7f7f\">                </span>\n",
       "</pre>\n"
      ],
      "text/plain": [
       "\u001b[2;36m                   \u001b[0m\u001b[2;36m \u001b[0m\u001b[32mDEBUG   \u001b[0m With dict2: \u001b[1m{\u001b[0m\u001b[32m'experiment_name'\u001b[0m: \u001b[32m'full_NC_BC'\u001b[0m, \u001b[32m'analyze_and_model'\u001b[0m:    \u001b]8;id=849963;file:///tmp/ipykernel_374566/2961958636.py\u001b\\\u001b[2m2961958636.py\u001b[0m\u001b]8;;\u001b\\\u001b[2m:\u001b[0m\u001b]8;id=567852;file:///tmp/ipykernel_374566/2961958636.py#28\u001b\\\u001b[2m28\u001b[0m\u001b]8;;\u001b\\\n",
       "\u001b[2;36m                    \u001b[0m         \u001b[1m{\u001b[0m\u001b[32m'target'\u001b[0m: \u001b[32m'Mid'\u001b[0m, \u001b[32m'mode'\u001b[0m: \u001b[32m'auto'\u001b[0m\u001b[1m}\u001b[0m, \u001b[32m'binarize_data'\u001b[0m:                   \u001b[2m                \u001b[0m\n",
       "\u001b[2;36m                    \u001b[0m         \u001b[1m{\u001b[0m\u001b[32m'binarize_operator'\u001b[0m: \u001b[32m'>'\u001b[0m, \u001b[32m'binarize_threshold'\u001b[0m: \u001b[1;36m113.0\u001b[0m\u001b[1m}\u001b[0m\u001b[1m}\u001b[0m              \u001b[2m                \u001b[0m\n"
      ]
     },
     "metadata": {},
     "output_type": "display_data"
    },
    {
     "data": {
      "text/html": [
       "<pre style=\"white-space:pre;overflow-x:auto;line-height:normal;font-family:Menlo,'DejaVu Sans Mono',consolas,'Courier New',monospace\"><span style=\"color: #7fbfbf; text-decoration-color: #7fbfbf\">                    </span><span style=\"color: #008000; text-decoration-color: #008000\">DEBUG   </span> Merge result: <span style=\"font-weight: bold\">{</span><span style=\"color: #008000; text-decoration-color: #008000\">'use_case_name'</span>: <span style=\"color: #008000; text-decoration-color: #008000\">'x-flow Demo'</span>, <span style=\"color: #008000; text-decoration-color: #008000\">'experiment_name'</span>:     <a href=\"file:///tmp/ipykernel_374566/2961958636.py\" target=\"_blank\"><span style=\"color: #7f7f7f; text-decoration-color: #7f7f7f\">2961958636.py</span></a><span style=\"color: #7f7f7f; text-decoration-color: #7f7f7f\">:</span><a href=\"file:///tmp/ipykernel_374566/2961958636.py#36\" target=\"_blank\"><span style=\"color: #7f7f7f; text-decoration-color: #7f7f7f\">36</span></a>\n",
       "<span style=\"color: #7fbfbf; text-decoration-color: #7fbfbf\">                    </span>         <span style=\"color: #008000; text-decoration-color: #008000\">'full_NC_BC'</span>, <span style=\"color: #008000; text-decoration-color: #008000\">'analyze_and_model'</span>: <span style=\"font-weight: bold\">{</span><span style=\"color: #008000; text-decoration-color: #008000\">'target'</span>: <span style=\"color: #008000; text-decoration-color: #008000\">'Mid'</span>, <span style=\"color: #008000; text-decoration-color: #008000\">'mode'</span>: <span style=\"color: #008000; text-decoration-color: #008000\">'auto'</span><span style=\"font-weight: bold\">}</span>, <span style=\"color: #7f7f7f; text-decoration-color: #7f7f7f\">                </span>\n",
       "<span style=\"color: #7fbfbf; text-decoration-color: #7fbfbf\">                    </span>         <span style=\"color: #008000; text-decoration-color: #008000\">'datetime_partitioning'</span>: <span style=\"font-weight: bold\">{</span><span style=\"color: #008000; text-decoration-color: #008000\">'use_time_series'</span>: <span style=\"color: #ff0000; text-decoration-color: #ff0000; font-style: italic\">False</span>,                   <span style=\"color: #7f7f7f; text-decoration-color: #7f7f7f\">                </span>\n",
       "<span style=\"color: #7fbfbf; text-decoration-color: #7fbfbf\">                    </span>         <span style=\"color: #008000; text-decoration-color: #008000\">'datetime_partition_column'</span>: <span style=\"color: #008000; text-decoration-color: #008000\">'date'</span>, <span style=\"color: #008000; text-decoration-color: #008000\">'number_of_backtests'</span>: <span style=\"color: #008080; text-decoration-color: #008080; font-weight: bold\">3</span><span style=\"font-weight: bold\">}</span>,       <span style=\"color: #7f7f7f; text-decoration-color: #7f7f7f\">                </span>\n",
       "<span style=\"color: #7fbfbf; text-decoration-color: #7fbfbf\">                    </span>         <span style=\"color: #008000; text-decoration-color: #008000\">'binarize_data_config'</span>: <span style=\"color: #800080; text-decoration-color: #800080; font-style: italic\">None</span>, <span style=\"color: #008000; text-decoration-color: #008000\">'fire_config'</span>: <span style=\"color: #800080; text-decoration-color: #800080; font-style: italic\">None</span>,                    <span style=\"color: #7f7f7f; text-decoration-color: #7f7f7f\">                </span>\n",
       "<span style=\"color: #7fbfbf; text-decoration-color: #7fbfbf\">                    </span>         <span style=\"color: #008000; text-decoration-color: #008000\">'partition_column'</span>: <span style=\"color: #800080; text-decoration-color: #800080; font-style: italic\">None</span>, <span style=\"color: #008000; text-decoration-color: #008000\">'main_metric'</span>: <span style=\"color: #008000; text-decoration-color: #008000\">'generalized_f1'</span>,            <span style=\"color: #7f7f7f; text-decoration-color: #7f7f7f\">                </span>\n",
       "<span style=\"color: #7fbfbf; text-decoration-color: #7fbfbf\">                    </span>         <span style=\"color: #008000; text-decoration-color: #008000\">'date_format'</span>: <span style=\"color: #008000; text-decoration-color: #008000\">'%d/%m/%Y'</span>, <span style=\"color: #008000; text-decoration-color: #008000\">'binarize_data'</span>: <span style=\"font-weight: bold\">{</span><span style=\"color: #008000; text-decoration-color: #008000\">'binarize_operator'</span>:     <span style=\"color: #7f7f7f; text-decoration-color: #7f7f7f\">                </span>\n",
       "<span style=\"color: #7fbfbf; text-decoration-color: #7fbfbf\">                    </span>         <span style=\"color: #008000; text-decoration-color: #008000\">'&gt;'</span>, <span style=\"color: #008000; text-decoration-color: #008000\">'binarize_threshold'</span>: <span style=\"color: #008080; text-decoration-color: #008080; font-weight: bold\">113.0</span><span style=\"font-weight: bold\">}}</span>                                    <span style=\"color: #7f7f7f; text-decoration-color: #7f7f7f\">                </span>\n",
       "</pre>\n"
      ],
      "text/plain": [
       "\u001b[2;36m                   \u001b[0m\u001b[2;36m \u001b[0m\u001b[32mDEBUG   \u001b[0m Merge result: \u001b[1m{\u001b[0m\u001b[32m'use_case_name'\u001b[0m: \u001b[32m'x-flow Demo'\u001b[0m, \u001b[32m'experiment_name'\u001b[0m:     \u001b]8;id=519276;file:///tmp/ipykernel_374566/2961958636.py\u001b\\\u001b[2m2961958636.py\u001b[0m\u001b]8;;\u001b\\\u001b[2m:\u001b[0m\u001b]8;id=573940;file:///tmp/ipykernel_374566/2961958636.py#36\u001b\\\u001b[2m36\u001b[0m\u001b]8;;\u001b\\\n",
       "\u001b[2;36m                    \u001b[0m         \u001b[32m'full_NC_BC'\u001b[0m, \u001b[32m'analyze_and_model'\u001b[0m: \u001b[1m{\u001b[0m\u001b[32m'target'\u001b[0m: \u001b[32m'Mid'\u001b[0m, \u001b[32m'mode'\u001b[0m: \u001b[32m'auto'\u001b[0m\u001b[1m}\u001b[0m, \u001b[2m                \u001b[0m\n",
       "\u001b[2;36m                    \u001b[0m         \u001b[32m'datetime_partitioning'\u001b[0m: \u001b[1m{\u001b[0m\u001b[32m'use_time_series'\u001b[0m: \u001b[3;91mFalse\u001b[0m,                   \u001b[2m                \u001b[0m\n",
       "\u001b[2;36m                    \u001b[0m         \u001b[32m'datetime_partition_column'\u001b[0m: \u001b[32m'date'\u001b[0m, \u001b[32m'number_of_backtests'\u001b[0m: \u001b[1;36m3\u001b[0m\u001b[1m}\u001b[0m,       \u001b[2m                \u001b[0m\n",
       "\u001b[2;36m                    \u001b[0m         \u001b[32m'binarize_data_config'\u001b[0m: \u001b[3;35mNone\u001b[0m, \u001b[32m'fire_config'\u001b[0m: \u001b[3;35mNone\u001b[0m,                    \u001b[2m                \u001b[0m\n",
       "\u001b[2;36m                    \u001b[0m         \u001b[32m'partition_column'\u001b[0m: \u001b[3;35mNone\u001b[0m, \u001b[32m'main_metric'\u001b[0m: \u001b[32m'generalized_f1'\u001b[0m,            \u001b[2m                \u001b[0m\n",
       "\u001b[2;36m                    \u001b[0m         \u001b[32m'date_format'\u001b[0m: \u001b[32m'%d/%m/%Y'\u001b[0m, \u001b[32m'binarize_data'\u001b[0m: \u001b[1m{\u001b[0m\u001b[32m'binarize_operator'\u001b[0m:     \u001b[2m                \u001b[0m\n",
       "\u001b[2;36m                    \u001b[0m         \u001b[32m'>'\u001b[0m, \u001b[32m'binarize_threshold'\u001b[0m: \u001b[1;36m113.0\u001b[0m\u001b[1m}\u001b[0m\u001b[1m}\u001b[0m                                    \u001b[2m                \u001b[0m\n"
      ]
     },
     "metadata": {},
     "output_type": "display_data"
    },
    {
     "data": {
      "text/html": [
       "<pre style=\"white-space:pre;overflow-x:auto;line-height:normal;font-family:Menlo,'DejaVu Sans Mono',consolas,'Courier New',monospace\"></pre>\n"
      ],
      "text/plain": []
     },
     "metadata": {},
     "output_type": "display_data"
    },
    {
     "data": {
      "text/plain": [
       "\n",
       "\u001b[1m{\u001b[0m\n",
       "    \u001b[32m'project'\u001b[0m: \u001b[1m{\u001b[0m\n",
       "        \u001b[32m'use_case_name'\u001b[0m: \u001b[32m'x-flow Demo'\u001b[0m,\n",
       "        \u001b[32m'experiment_name'\u001b[0m: \u001b[3;35mNone\u001b[0m,\n",
       "        \u001b[32m'analyze_and_model'\u001b[0m: \u001b[1m{\u001b[0m\u001b[32m'target'\u001b[0m: \u001b[3;35mNone\u001b[0m, \u001b[32m'max_wait'\u001b[0m: \u001b[1;36m10000\u001b[0m, \u001b[32m'worker_count'\u001b[0m: \u001b[1;36m-1\u001b[0m\u001b[1m}\u001b[0m,\n",
       "        \u001b[32m'datetime_partitioning'\u001b[0m: \u001b[1m{\u001b[0m\n",
       "            \u001b[32m'use_time_series'\u001b[0m: \u001b[3;91mFalse\u001b[0m,\n",
       "            \u001b[32m'datetime_partition_column'\u001b[0m: \u001b[32m'date'\u001b[0m,\n",
       "            \u001b[32m'number_of_backtests'\u001b[0m: \u001b[1;36m3\u001b[0m\n",
       "        \u001b[1m}\u001b[0m,\n",
       "        \u001b[32m'binarize_data_config'\u001b[0m: \u001b[3;35mNone\u001b[0m,\n",
       "        \u001b[32m'fire_config'\u001b[0m: \u001b[3;35mNone\u001b[0m,\n",
       "        \u001b[32m'partition_column'\u001b[0m: \u001b[3;35mNone\u001b[0m,\n",
       "        \u001b[32m'main_metric'\u001b[0m: \u001b[32m'generalized_f1'\u001b[0m,\n",
       "        \u001b[32m'date_format'\u001b[0m: \u001b[32m'%d/%m/%Y'\u001b[0m\n",
       "    \u001b[1m}\u001b[0m,\n",
       "    \u001b[32m'experiment'\u001b[0m: \u001b[1m{\u001b[0m\n",
       "        \u001b[32m'simple'\u001b[0m: \u001b[1m{\u001b[0m\n",
       "            \u001b[32m'_overrides'\u001b[0m: \u001b[1m{\u001b[0m\n",
       "                \u001b[32m'experiment_name'\u001b[0m: \u001b[32m'simple'\u001b[0m,\n",
       "                \u001b[32m'analyze_and_model'\u001b[0m: \u001b[1m{\u001b[0m\u001b[32m'target'\u001b[0m: \u001b[32m'Mid'\u001b[0m, \u001b[32m'mode'\u001b[0m: \u001b[32m'quick'\u001b[0m\u001b[1m}\u001b[0m\n",
       "            \u001b[1m}\u001b[0m,\n",
       "            \u001b[32m'project'\u001b[0m: \u001b[1m{\u001b[0m\n",
       "                \u001b[32m'use_case_name'\u001b[0m: \u001b[32m'x-flow Demo'\u001b[0m,\n",
       "                \u001b[32m'experiment_name'\u001b[0m: \u001b[32m'simple'\u001b[0m,\n",
       "                \u001b[32m'analyze_and_model'\u001b[0m: \u001b[1m{\u001b[0m\u001b[32m'target'\u001b[0m: \u001b[32m'Mid'\u001b[0m, \u001b[32m'mode'\u001b[0m: \u001b[32m'quick'\u001b[0m\u001b[1m}\u001b[0m,\n",
       "                \u001b[32m'datetime_partitioning'\u001b[0m: \u001b[1m{\u001b[0m\n",
       "                    \u001b[32m'use_time_series'\u001b[0m: \u001b[3;91mFalse\u001b[0m,\n",
       "                    \u001b[32m'datetime_partition_column'\u001b[0m: \u001b[32m'date'\u001b[0m,\n",
       "                    \u001b[32m'number_of_backtests'\u001b[0m: \u001b[1;36m3\u001b[0m\n",
       "                \u001b[1m}\u001b[0m,\n",
       "                \u001b[32m'binarize_data_config'\u001b[0m: \u001b[3;35mNone\u001b[0m,\n",
       "                \u001b[32m'fire_config'\u001b[0m: \u001b[3;35mNone\u001b[0m,\n",
       "                \u001b[32m'partition_column'\u001b[0m: \u001b[3;35mNone\u001b[0m,\n",
       "                \u001b[32m'main_metric'\u001b[0m: \u001b[32m'generalized_f1'\u001b[0m,\n",
       "                \u001b[32m'date_format'\u001b[0m: \u001b[32m'%d/%m/%Y'\u001b[0m\n",
       "            \u001b[1m}\u001b[0m\n",
       "        \u001b[1m}\u001b[0m,\n",
       "        \u001b[32m'full'\u001b[0m: \u001b[1m{\u001b[0m\n",
       "            \u001b[32m'_overrides'\u001b[0m: \u001b[1m{\u001b[0m\n",
       "                \u001b[32m'experiment_name'\u001b[0m: \u001b[32m'full'\u001b[0m,\n",
       "                \u001b[32m'analyze_and_model'\u001b[0m: \u001b[1m{\u001b[0m\u001b[32m'target'\u001b[0m: \u001b[32m'Mid'\u001b[0m, \u001b[32m'mode'\u001b[0m: \u001b[32m'auto'\u001b[0m\u001b[1m}\u001b[0m\n",
       "            \u001b[1m}\u001b[0m,\n",
       "            \u001b[32m'project'\u001b[0m: \u001b[1m{\u001b[0m\n",
       "                \u001b[32m'use_case_name'\u001b[0m: \u001b[32m'x-flow Demo'\u001b[0m,\n",
       "                \u001b[32m'experiment_name'\u001b[0m: \u001b[32m'full'\u001b[0m,\n",
       "                \u001b[32m'analyze_and_model'\u001b[0m: \u001b[1m{\u001b[0m\u001b[32m'target'\u001b[0m: \u001b[32m'Mid'\u001b[0m, \u001b[32m'mode'\u001b[0m: \u001b[32m'auto'\u001b[0m\u001b[1m}\u001b[0m,\n",
       "                \u001b[32m'datetime_partitioning'\u001b[0m: \u001b[1m{\u001b[0m\n",
       "                    \u001b[32m'use_time_series'\u001b[0m: \u001b[3;91mFalse\u001b[0m,\n",
       "                    \u001b[32m'datetime_partition_column'\u001b[0m: \u001b[32m'date'\u001b[0m,\n",
       "                    \u001b[32m'number_of_backtests'\u001b[0m: \u001b[1;36m3\u001b[0m\n",
       "                \u001b[1m}\u001b[0m,\n",
       "                \u001b[32m'binarize_data_config'\u001b[0m: \u001b[3;35mNone\u001b[0m,\n",
       "                \u001b[32m'fire_config'\u001b[0m: \u001b[3;35mNone\u001b[0m,\n",
       "                \u001b[32m'partition_column'\u001b[0m: \u001b[3;35mNone\u001b[0m,\n",
       "                \u001b[32m'main_metric'\u001b[0m: \u001b[32m'generalized_f1'\u001b[0m,\n",
       "                \u001b[32m'date_format'\u001b[0m: \u001b[32m'%d/%m/%Y'\u001b[0m\n",
       "            \u001b[1m}\u001b[0m\n",
       "        \u001b[1m}\u001b[0m,\n",
       "        \u001b[32m'simple_grouped'\u001b[0m: \u001b[1m{\u001b[0m\n",
       "            \u001b[32m'_overrides'\u001b[0m: \u001b[1m{\u001b[0m\n",
       "                \u001b[32m'experiment_name'\u001b[0m: \u001b[32m'simple_grouped'\u001b[0m,\n",
       "                \u001b[32m'analyze_and_model'\u001b[0m: \u001b[1m{\u001b[0m\u001b[32m'target'\u001b[0m: \u001b[32m'Mid'\u001b[0m, \u001b[32m'mode'\u001b[0m: \u001b[32m'quick'\u001b[0m\u001b[1m}\u001b[0m,\n",
       "                \u001b[32m'group_data'\u001b[0m: \u001b[1m{\u001b[0m\u001b[32m'partition_column'\u001b[0m: \u001b[32m'tier'\u001b[0m\u001b[1m}\u001b[0m\n",
       "            \u001b[1m}\u001b[0m,\n",
       "            \u001b[32m'project'\u001b[0m: \u001b[1m{\u001b[0m\n",
       "                \u001b[32m'use_case_name'\u001b[0m: \u001b[32m'x-flow Demo'\u001b[0m,\n",
       "                \u001b[32m'experiment_name'\u001b[0m: \u001b[32m'simple_grouped'\u001b[0m,\n",
       "                \u001b[32m'analyze_and_model'\u001b[0m: \u001b[1m{\u001b[0m\u001b[32m'target'\u001b[0m: \u001b[32m'Mid'\u001b[0m, \u001b[32m'mode'\u001b[0m: \u001b[32m'quick'\u001b[0m\u001b[1m}\u001b[0m,\n",
       "                \u001b[32m'datetime_partitioning'\u001b[0m: \u001b[1m{\u001b[0m\n",
       "                    \u001b[32m'use_time_series'\u001b[0m: \u001b[3;91mFalse\u001b[0m,\n",
       "                    \u001b[32m'datetime_partition_column'\u001b[0m: \u001b[32m'date'\u001b[0m,\n",
       "                    \u001b[32m'number_of_backtests'\u001b[0m: \u001b[1;36m3\u001b[0m\n",
       "                \u001b[1m}\u001b[0m,\n",
       "                \u001b[32m'binarize_data_config'\u001b[0m: \u001b[3;35mNone\u001b[0m,\n",
       "                \u001b[32m'fire_config'\u001b[0m: \u001b[3;35mNone\u001b[0m,\n",
       "                \u001b[32m'partition_column'\u001b[0m: \u001b[3;35mNone\u001b[0m,\n",
       "                \u001b[32m'main_metric'\u001b[0m: \u001b[32m'generalized_f1'\u001b[0m,\n",
       "                \u001b[32m'date_format'\u001b[0m: \u001b[32m'%d/%m/%Y'\u001b[0m,\n",
       "                \u001b[32m'group_data'\u001b[0m: \u001b[1m{\u001b[0m\u001b[32m'partition_column'\u001b[0m: \u001b[32m'tier'\u001b[0m\u001b[1m}\u001b[0m\n",
       "            \u001b[1m}\u001b[0m\n",
       "        \u001b[1m}\u001b[0m,\n",
       "        \u001b[32m'simple_NC_BC'\u001b[0m: \u001b[1m{\u001b[0m\n",
       "            \u001b[32m'_overrides'\u001b[0m: \u001b[1m{\u001b[0m\n",
       "                \u001b[32m'experiment_name'\u001b[0m: \u001b[32m'simple_NC_BC'\u001b[0m,\n",
       "                \u001b[32m'analyze_and_model'\u001b[0m: \u001b[1m{\u001b[0m\u001b[32m'target'\u001b[0m: \u001b[32m'Mid'\u001b[0m, \u001b[32m'mode'\u001b[0m: \u001b[32m'quick'\u001b[0m\u001b[1m}\u001b[0m,\n",
       "                \u001b[32m'binarize_data'\u001b[0m: \u001b[1m{\u001b[0m\u001b[32m'binarize_operator'\u001b[0m: \u001b[32m'>'\u001b[0m, \u001b[32m'binarize_threshold'\u001b[0m: \u001b[1;36m113.0\u001b[0m\u001b[1m}\u001b[0m\n",
       "            \u001b[1m}\u001b[0m,\n",
       "            \u001b[32m'project'\u001b[0m: \u001b[1m{\u001b[0m\n",
       "                \u001b[32m'use_case_name'\u001b[0m: \u001b[32m'x-flow Demo'\u001b[0m,\n",
       "                \u001b[32m'experiment_name'\u001b[0m: \u001b[32m'simple_NC_BC'\u001b[0m,\n",
       "                \u001b[32m'analyze_and_model'\u001b[0m: \u001b[1m{\u001b[0m\u001b[32m'target'\u001b[0m: \u001b[32m'Mid'\u001b[0m, \u001b[32m'mode'\u001b[0m: \u001b[32m'quick'\u001b[0m\u001b[1m}\u001b[0m,\n",
       "                \u001b[32m'datetime_partitioning'\u001b[0m: \u001b[1m{\u001b[0m\n",
       "                    \u001b[32m'use_time_series'\u001b[0m: \u001b[3;91mFalse\u001b[0m,\n",
       "                    \u001b[32m'datetime_partition_column'\u001b[0m: \u001b[32m'date'\u001b[0m,\n",
       "                    \u001b[32m'number_of_backtests'\u001b[0m: \u001b[1;36m3\u001b[0m\n",
       "                \u001b[1m}\u001b[0m,\n",
       "                \u001b[32m'binarize_data_config'\u001b[0m: \u001b[3;35mNone\u001b[0m,\n",
       "                \u001b[32m'fire_config'\u001b[0m: \u001b[3;35mNone\u001b[0m,\n",
       "                \u001b[32m'partition_column'\u001b[0m: \u001b[3;35mNone\u001b[0m,\n",
       "                \u001b[32m'main_metric'\u001b[0m: \u001b[32m'generalized_f1'\u001b[0m,\n",
       "                \u001b[32m'date_format'\u001b[0m: \u001b[32m'%d/%m/%Y'\u001b[0m,\n",
       "                \u001b[32m'binarize_data'\u001b[0m: \u001b[1m{\u001b[0m\u001b[32m'binarize_operator'\u001b[0m: \u001b[32m'>'\u001b[0m, \u001b[32m'binarize_threshold'\u001b[0m: \u001b[1;36m113.0\u001b[0m\u001b[1m}\u001b[0m\n",
       "            \u001b[1m}\u001b[0m\n",
       "        \u001b[1m}\u001b[0m,\n",
       "        \u001b[32m'full_NC_BC'\u001b[0m: \u001b[1m{\u001b[0m\n",
       "            \u001b[32m'_overrides'\u001b[0m: \u001b[1m{\u001b[0m\n",
       "                \u001b[32m'experiment_name'\u001b[0m: \u001b[32m'full_NC_BC'\u001b[0m,\n",
       "                \u001b[32m'analyze_and_model'\u001b[0m: \u001b[1m{\u001b[0m\u001b[32m'target'\u001b[0m: \u001b[32m'Mid'\u001b[0m, \u001b[32m'mode'\u001b[0m: \u001b[32m'auto'\u001b[0m\u001b[1m}\u001b[0m,\n",
       "                \u001b[32m'binarize_data'\u001b[0m: \u001b[1m{\u001b[0m\u001b[32m'binarize_operator'\u001b[0m: \u001b[32m'>'\u001b[0m, \u001b[32m'binarize_threshold'\u001b[0m: \u001b[1;36m113.0\u001b[0m\u001b[1m}\u001b[0m\n",
       "            \u001b[1m}\u001b[0m,\n",
       "            \u001b[32m'project'\u001b[0m: \u001b[1m{\u001b[0m\n",
       "                \u001b[32m'use_case_name'\u001b[0m: \u001b[32m'x-flow Demo'\u001b[0m,\n",
       "                \u001b[32m'experiment_name'\u001b[0m: \u001b[32m'full_NC_BC'\u001b[0m,\n",
       "                \u001b[32m'analyze_and_model'\u001b[0m: \u001b[1m{\u001b[0m\u001b[32m'target'\u001b[0m: \u001b[32m'Mid'\u001b[0m, \u001b[32m'mode'\u001b[0m: \u001b[32m'auto'\u001b[0m\u001b[1m}\u001b[0m,\n",
       "                \u001b[32m'datetime_partitioning'\u001b[0m: \u001b[1m{\u001b[0m\n",
       "                    \u001b[32m'use_time_series'\u001b[0m: \u001b[3;91mFalse\u001b[0m,\n",
       "                    \u001b[32m'datetime_partition_column'\u001b[0m: \u001b[32m'date'\u001b[0m,\n",
       "                    \u001b[32m'number_of_backtests'\u001b[0m: \u001b[1;36m3\u001b[0m\n",
       "                \u001b[1m}\u001b[0m,\n",
       "                \u001b[32m'binarize_data_config'\u001b[0m: \u001b[3;35mNone\u001b[0m,\n",
       "                \u001b[32m'fire_config'\u001b[0m: \u001b[3;35mNone\u001b[0m,\n",
       "                \u001b[32m'partition_column'\u001b[0m: \u001b[3;35mNone\u001b[0m,\n",
       "                \u001b[32m'main_metric'\u001b[0m: \u001b[32m'generalized_f1'\u001b[0m,\n",
       "                \u001b[32m'date_format'\u001b[0m: \u001b[32m'%d/%m/%Y'\u001b[0m,\n",
       "                \u001b[32m'binarize_data'\u001b[0m: \u001b[1m{\u001b[0m\u001b[32m'binarize_operator'\u001b[0m: \u001b[32m'>'\u001b[0m, \u001b[32m'binarize_threshold'\u001b[0m: \u001b[1;36m113.0\u001b[0m\u001b[1m}\u001b[0m\n",
       "            \u001b[1m}\u001b[0m\n",
       "        \u001b[1m}\u001b[0m\n",
       "    \u001b[1m}\u001b[0m,\n",
       "    \u001b[32m'collect'\u001b[0m: \u001b[1m{\u001b[0m\u001b[32m'deployments_combined'\u001b[0m: \u001b[3;35mNone\u001b[0m\u001b[1m}\u001b[0m\n",
       "\u001b[1m}\u001b[0m"
      ]
     },
     "execution_count": 1,
     "metadata": {},
     "output_type": "execute_result"
    }
   ],
   "source": [
    "from pathlib import Path\n",
    "\n",
    "from kedro.config import OmegaConfigLoader\n",
    "from kedro.framework.project import settings\n",
    "from kedro.io import DataCatalog\n",
    "import logging\n",
    "\n",
    "import omegaconf\n",
    "\n",
    "logger = logging.getLogger(__name__)\n",
    "from copy import deepcopy\n",
    "\n",
    "\n",
    "root_logger = logging.getLogger('root')\n",
    "root_logger.setLevel(logging.DEBUG)\n",
    "logger.setLevel(logging.DEBUG)\n",
    "\n",
    "def merge_dicts(dict1, dict2):\n",
    "    # logger.debug(f\"Merging dict1: {dict1}\")\n",
    "    # logger.debug(f\"With dict2: {dict2}\")\n",
    "    result = deepcopy(dict1)\n",
    "    for key, value in dict2.items():\n",
    "        # logger.debug(f\"Processing key: {key}\")\n",
    "        if isinstance(value, omegaconf.dictconfig.DictConfig) and key in result and isinstance(result[key], omegaconf.dictconfig.DictConfig):\n",
    "            # logger.debug(f\"Recursively merging key: {key}\")\n",
    "            result[key] = merge_dicts(result[key], value)\n",
    "        else:\n",
    "            # logger.debug(f\"Updating key: {key}\")\n",
    "            result[key] = value\n",
    "    # logger.debug(f\"Merge result: {result}\")\n",
    "    return result\n",
    "\n",
    "conf_path = str(Path(\".\") / settings.CONF_SOURCE)\n",
    "conf_loader = OmegaConfigLoader(\n",
    "    # runtime_params=overrides,\n",
    "    conf_source=conf_path,\n",
    "    base_env=\"base\",\n",
    "    default_run_env=\"local\",\n",
    "    custom_resolvers={\n",
    "        \"merge\": merge_dicts,\n",
    "    },\n",
    ")\n",
    "conf_loader[\"parameters\"]\n",
    "\n",
    "\n"
   ]
  },
  {
   "cell_type": "code",
   "execution_count": 2,
   "metadata": {},
   "outputs": [],
   "source": [
    "d1 = {'project': {\n",
    "        'use_case_name': 'x-flow Demo',\n",
    "        'experiment_name': None,\n",
    "        'analyze_and_model': {'target': None, 'max_wait': 10000, 'worker_count': -1},\n",
    "        'datetime_partitioning': {\n",
    "            'use_time_series': False,\n",
    "            'datetime_partition_column': 'date',\n",
    "            'number_of_backtests': 3\n",
    "        },\n",
    "        'binarize_data_config': None,\n",
    "        'fire_config': None,\n",
    "        'partition_column': None,\n",
    "        'main_metric': 'generalized_f1',\n",
    "        'date_format': '%d/%m/%Y'\n",
    "    }\n",
    "    }\n",
    "\n",
    "d2 = {'experiment_name': 'full_NC_BC',\n",
    "                'analyze_and_model': {'target': 'Mid', 'mode': 'auto'},\n",
    "                'binarize_data': {'binarize_operator': '>', 'binarize_threshold': 113.0}}"
   ]
  },
  {
   "cell_type": "code",
   "execution_count": 4,
   "metadata": {},
   "outputs": [
    {
     "data": {
      "text/html": [
       "<pre style=\"white-space:pre;overflow-x:auto;line-height:normal;font-family:Menlo,'DejaVu Sans Mono',consolas,'Courier New',monospace\"><span style=\"color: #7fbfbf; text-decoration-color: #7fbfbf\">[06/27/24 15:47:58] </span><span style=\"color: #800000; text-decoration-color: #800000; font-weight: bold\">ERROR   </span> merging analyze_and_model                                             <a href=\"file:///tmp/ipykernel_343725/1251300279.py\" target=\"_blank\"><span style=\"color: #7f7f7f; text-decoration-color: #7f7f7f\">1251300279.py</span></a><span style=\"color: #7f7f7f; text-decoration-color: #7f7f7f\">:</span><a href=\"file:///tmp/ipykernel_343725/1251300279.py#28\" target=\"_blank\"><span style=\"color: #7f7f7f; text-decoration-color: #7f7f7f\">28</span></a>\n",
       "</pre>\n"
      ],
      "text/plain": [
       "\u001b[2;36m[06/27/24 15:47:58]\u001b[0m\u001b[2;36m \u001b[0m\u001b[1;31mERROR   \u001b[0m merging analyze_and_model                                             \u001b]8;id=178565;file:///tmp/ipykernel_343725/1251300279.py\u001b\\\u001b[2m1251300279.py\u001b[0m\u001b]8;;\u001b\\\u001b[2m:\u001b[0m\u001b]8;id=694558;file:///tmp/ipykernel_343725/1251300279.py#28\u001b\\\u001b[2m28\u001b[0m\u001b]8;;\u001b\\\n"
      ]
     },
     "metadata": {},
     "output_type": "display_data"
    },
    {
     "data": {
      "text/html": [
       "<pre style=\"white-space:pre;overflow-x:auto;line-height:normal;font-family:Menlo,'DejaVu Sans Mono',consolas,'Courier New',monospace\"></pre>\n"
      ],
      "text/plain": []
     },
     "metadata": {},
     "output_type": "display_data"
    },
    {
     "data": {
      "text/plain": [
       "\n",
       "\u001b[1m{\u001b[0m\n",
       "    \u001b[32m'use_case_name'\u001b[0m: \u001b[32m'x-flow Demo'\u001b[0m,\n",
       "    \u001b[32m'experiment_name'\u001b[0m: \u001b[32m'full_NC_BC'\u001b[0m,\n",
       "    \u001b[32m'analyze_and_model'\u001b[0m: \u001b[1m{\u001b[0m\u001b[32m'target'\u001b[0m: \u001b[32m'Mid'\u001b[0m, \u001b[32m'max_wait'\u001b[0m: \u001b[1;36m10000\u001b[0m, \u001b[32m'worker_count'\u001b[0m: \u001b[1;36m-1\u001b[0m, \u001b[32m'mode'\u001b[0m: \u001b[32m'auto'\u001b[0m\u001b[1m}\u001b[0m,\n",
       "    \u001b[32m'datetime_partitioning'\u001b[0m: \u001b[1m{\u001b[0m\n",
       "        \u001b[32m'use_time_series'\u001b[0m: \u001b[3;91mFalse\u001b[0m,\n",
       "        \u001b[32m'datetime_partition_column'\u001b[0m: \u001b[32m'date'\u001b[0m,\n",
       "        \u001b[32m'number_of_backtests'\u001b[0m: \u001b[1;36m3\u001b[0m\n",
       "    \u001b[1m}\u001b[0m,\n",
       "    \u001b[32m'binarize_data_config'\u001b[0m: \u001b[3;35mNone\u001b[0m,\n",
       "    \u001b[32m'fire_config'\u001b[0m: \u001b[3;35mNone\u001b[0m,\n",
       "    \u001b[32m'partition_column'\u001b[0m: \u001b[3;35mNone\u001b[0m,\n",
       "    \u001b[32m'main_metric'\u001b[0m: \u001b[32m'generalized_f1'\u001b[0m,\n",
       "    \u001b[32m'date_format'\u001b[0m: \u001b[32m'%d/%m/%Y'\u001b[0m,\n",
       "    \u001b[32m'binarize_data'\u001b[0m: \u001b[1m{\u001b[0m\u001b[32m'binarize_operator'\u001b[0m: \u001b[32m'>'\u001b[0m, \u001b[32m'binarize_threshold'\u001b[0m: \u001b[1;36m113.0\u001b[0m\u001b[1m}\u001b[0m\n",
       "\u001b[1m}\u001b[0m"
      ]
     },
     "execution_count": 4,
     "metadata": {},
     "output_type": "execute_result"
    }
   ],
   "source": [
    "merge_dicts(d1[\"project\"], d2)"
   ]
  },
  {
   "cell_type": "code",
   "execution_count": 26,
   "metadata": {},
   "outputs": [
    {
     "data": {
      "text/html": [
       "<pre style=\"white-space:pre;overflow-x:auto;line-height:normal;font-family:Menlo,'DejaVu Sans Mono',consolas,'Courier New',monospace\"><span style=\"color: #800000; text-decoration-color: #800000\">╭─────────────────────────────── </span><span style=\"color: #800000; text-decoration-color: #800000; font-weight: bold\">Traceback </span><span style=\"color: #bf7f7f; text-decoration-color: #bf7f7f; font-weight: bold\">(most recent call last)</span><span style=\"color: #800000; text-decoration-color: #800000\"> ────────────────────────────────╮</span>\n",
       "<span style=\"color: #800000; text-decoration-color: #800000\">│</span> in <span style=\"color: #00ff00; text-decoration-color: #00ff00\">&lt;module&gt;</span>:<span style=\"color: #0000ff; text-decoration-color: #0000ff\">1</span>                                                                                    <span style=\"color: #800000; text-decoration-color: #800000\">│</span>\n",
       "<span style=\"color: #800000; text-decoration-color: #800000\">│</span>                                                                                                  <span style=\"color: #800000; text-decoration-color: #800000\">│</span>\n",
       "<span style=\"color: #800000; text-decoration-color: #800000\">│</span> <span style=\"color: #800000; text-decoration-color: #800000\">❱ </span>1 catalog                                                                                      <span style=\"color: #800000; text-decoration-color: #800000\">│</span>\n",
       "<span style=\"color: #800000; text-decoration-color: #800000\">│</span>   <span style=\"color: #7f7f7f; text-decoration-color: #7f7f7f\">2 </span>                                                                                             <span style=\"color: #800000; text-decoration-color: #800000\">│</span>\n",
       "<span style=\"color: #800000; text-decoration-color: #800000\">╰──────────────────────────────────────────────────────────────────────────────────────────────────╯</span>\n",
       "<span style=\"color: #ff0000; text-decoration-color: #ff0000; font-weight: bold\">NameError: </span>name <span style=\"color: #008000; text-decoration-color: #008000\">'catalog'</span> is not defined\n",
       "</pre>\n"
      ],
      "text/plain": [
       "\u001b[31m╭─\u001b[0m\u001b[31m──────────────────────────────\u001b[0m\u001b[31m \u001b[0m\u001b[1;31mTraceback \u001b[0m\u001b[1;2;31m(most recent call last)\u001b[0m\u001b[31m \u001b[0m\u001b[31m───────────────────────────────\u001b[0m\u001b[31m─╮\u001b[0m\n",
       "\u001b[31m│\u001b[0m in \u001b[92m<module>\u001b[0m:\u001b[94m1\u001b[0m                                                                                    \u001b[31m│\u001b[0m\n",
       "\u001b[31m│\u001b[0m                                                                                                  \u001b[31m│\u001b[0m\n",
       "\u001b[31m│\u001b[0m \u001b[31m❱ \u001b[0m1 catalog                                                                                      \u001b[31m│\u001b[0m\n",
       "\u001b[31m│\u001b[0m   \u001b[2m2 \u001b[0m                                                                                             \u001b[31m│\u001b[0m\n",
       "\u001b[31m╰──────────────────────────────────────────────────────────────────────────────────────────────────╯\u001b[0m\n",
       "\u001b[1;91mNameError: \u001b[0mname \u001b[32m'catalog'\u001b[0m is not defined\n"
      ]
     },
     "metadata": {},
     "output_type": "display_data"
    }
   ],
   "source": [
    "catalog"
   ]
  },
  {
   "cell_type": "code",
   "execution_count": 6,
   "metadata": {},
   "outputs": [],
   "source": [
    "\n",
    "from copy import deepcopy\n",
    "from omegaconf import DictConfig, OmegaConf\n",
    "import logging\n",
    "\n",
    "logger = logging.getLogger(__name__)\n",
    "\n",
    "\n",
    "def merge_dicts(dict1, dict2):\n",
    "    \"\"\"\n",
    "    Recursively merge two dictionaries.\n",
    "    Args:\n",
    "        dict1 (dict): The first dictionary to merge.\n",
    "        dict2 (dict): The second dictionary to merge.\n",
    "    Returns:\n",
    "        dict: The merged dictionary.\n",
    "    \"\"\"\n",
    "    result = deepcopy(dict1)\n",
    "    for key, value in dict2.items():\n",
    "        if isinstance(value, dict) and key in result and isinstance(result[key], dict):\n",
    "            result[key] = merge_dicts(result[key], value)\n",
    "        else:\n",
    "            result[key] = value\n",
    "    return result\n",
    "\n",
    "def recursive_merge(base, override):\n",
    "    \"\"\"\n",
    "    Recursively merge two OmegaConf objects.\n",
    "    \"\"\"\n",
    "    if isinstance(base, dict) and isinstance(override, dict):\n",
    "        result = OmegaConf.create({})\n",
    "        for k in set(base.keys()) | set(override.keys()):\n",
    "            if k in base and k in override:\n",
    "                result[k] = recursive_merge(base[k], override[k])\n",
    "            elif k in base:\n",
    "                result[k] = base[k]\n",
    "            else:\n",
    "                result[k] = override[k]\n",
    "        return result\n",
    "    else:\n",
    "        return override\n",
    "    \n",
    "def deep_merge(base, override):\n",
    "    \"\"\"\n",
    "    Recursively merge two dictionaries or DictConfigs, preserving all nested structures.\n",
    "    \"\"\"\n",
    "    if isinstance(base, (dict, DictConfig)) and isinstance(override, (dict, DictConfig)):\n",
    "        result = deepcopy(base)\n",
    "        for key, value in override.items():\n",
    "            if key in result and isinstance(result[key], (dict, DictConfig)) and isinstance(value, (dict, DictConfig)):\n",
    "                logger.info(f\"Merging {key} from {result[key]} and {override[key]}\")\n",
    "                result[key] = deep_merge(result[key], value)\n",
    "            else:\n",
    "                logger.info(f\"Overwriting {key} with {value}\")\n",
    "                result[key] = deepcopy(value)\n",
    "        return result\n",
    "    return override"
   ]
  },
  {
   "cell_type": "code",
   "execution_count": 2,
   "metadata": {},
   "outputs": [
    {
     "data": {
      "text/html": [
       "<pre style=\"white-space:pre;overflow-x:auto;line-height:normal;font-family:Menlo,'DejaVu Sans Mono',consolas,'Courier New',monospace\"><span style=\"color: #800000; text-decoration-color: #800000\">╭─────────────────────────────── </span><span style=\"color: #800000; text-decoration-color: #800000; font-weight: bold\">Traceback </span><span style=\"color: #bf7f7f; text-decoration-color: #bf7f7f; font-weight: bold\">(most recent call last)</span><span style=\"color: #800000; text-decoration-color: #800000\"> ────────────────────────────────╮</span>\n",
       "<span style=\"color: #800000; text-decoration-color: #800000\">│</span> in <span style=\"color: #00ff00; text-decoration-color: #00ff00\">&lt;module&gt;</span>:<span style=\"color: #0000ff; text-decoration-color: #0000ff\">24</span>                                                                                   <span style=\"color: #800000; text-decoration-color: #800000\">│</span>\n",
       "<span style=\"color: #800000; text-decoration-color: #800000\">│</span>                                                                                                  <span style=\"color: #800000; text-decoration-color: #800000\">│</span>\n",
       "<span style=\"color: #800000; text-decoration-color: #800000\">│</span>   <span style=\"color: #7f7f7f; text-decoration-color: #7f7f7f\">21 </span><span style=\"color: #7f7f7f; text-decoration-color: #7f7f7f\">│   </span>}                                                                                       <span style=\"color: #800000; text-decoration-color: #800000\">│</span>\n",
       "<span style=\"color: #800000; text-decoration-color: #800000\">│</span>   <span style=\"color: #7f7f7f; text-decoration-color: #7f7f7f\">22 </span>}                                                                                           <span style=\"color: #800000; text-decoration-color: #800000\">│</span>\n",
       "<span style=\"color: #800000; text-decoration-color: #800000\">│</span>   <span style=\"color: #7f7f7f; text-decoration-color: #7f7f7f\">23 </span>                                                                                            <span style=\"color: #800000; text-decoration-color: #800000\">│</span>\n",
       "<span style=\"color: #800000; text-decoration-color: #800000\">│</span> <span style=\"color: #800000; text-decoration-color: #800000\">❱ </span>24 conf_path = <span style=\"color: #00ffff; text-decoration-color: #00ffff\">str</span>(Path(<span style=\"color: #808000; text-decoration-color: #808000\">\".\"</span>) / settings.CONF_SOURCE)                                           <span style=\"color: #800000; text-decoration-color: #800000\">│</span>\n",
       "<span style=\"color: #800000; text-decoration-color: #800000\">│</span>   <span style=\"color: #7f7f7f; text-decoration-color: #7f7f7f\">25 </span>conf_loader = OmegaConfigLoader(                                                            <span style=\"color: #800000; text-decoration-color: #800000\">│</span>\n",
       "<span style=\"color: #800000; text-decoration-color: #800000\">│</span>   <span style=\"color: #7f7f7f; text-decoration-color: #7f7f7f\">26 </span><span style=\"color: #7f7f7f; text-decoration-color: #7f7f7f\">│   </span>runtime_params=overrides,                                                               <span style=\"color: #800000; text-decoration-color: #800000\">│</span>\n",
       "<span style=\"color: #800000; text-decoration-color: #800000\">│</span>   <span style=\"color: #7f7f7f; text-decoration-color: #7f7f7f\">27 </span><span style=\"color: #7f7f7f; text-decoration-color: #7f7f7f\">│   </span>conf_source=conf_path,                                                                  <span style=\"color: #800000; text-decoration-color: #800000\">│</span>\n",
       "<span style=\"color: #800000; text-decoration-color: #800000\">╰──────────────────────────────────────────────────────────────────────────────────────────────────╯</span>\n",
       "<span style=\"color: #ff0000; text-decoration-color: #ff0000; font-weight: bold\">NameError: </span>name <span style=\"color: #008000; text-decoration-color: #008000\">'Path'</span> is not defined\n",
       "</pre>\n"
      ],
      "text/plain": [
       "\u001b[31m╭─\u001b[0m\u001b[31m──────────────────────────────\u001b[0m\u001b[31m \u001b[0m\u001b[1;31mTraceback \u001b[0m\u001b[1;2;31m(most recent call last)\u001b[0m\u001b[31m \u001b[0m\u001b[31m───────────────────────────────\u001b[0m\u001b[31m─╮\u001b[0m\n",
       "\u001b[31m│\u001b[0m in \u001b[92m<module>\u001b[0m:\u001b[94m24\u001b[0m                                                                                   \u001b[31m│\u001b[0m\n",
       "\u001b[31m│\u001b[0m                                                                                                  \u001b[31m│\u001b[0m\n",
       "\u001b[31m│\u001b[0m   \u001b[2m21 \u001b[0m\u001b[2m│   \u001b[0m}                                                                                       \u001b[31m│\u001b[0m\n",
       "\u001b[31m│\u001b[0m   \u001b[2m22 \u001b[0m}                                                                                           \u001b[31m│\u001b[0m\n",
       "\u001b[31m│\u001b[0m   \u001b[2m23 \u001b[0m                                                                                            \u001b[31m│\u001b[0m\n",
       "\u001b[31m│\u001b[0m \u001b[31m❱ \u001b[0m24 conf_path = \u001b[96mstr\u001b[0m(Path(\u001b[33m\"\u001b[0m\u001b[33m.\u001b[0m\u001b[33m\"\u001b[0m) / settings.CONF_SOURCE)                                           \u001b[31m│\u001b[0m\n",
       "\u001b[31m│\u001b[0m   \u001b[2m25 \u001b[0mconf_loader = OmegaConfigLoader(                                                            \u001b[31m│\u001b[0m\n",
       "\u001b[31m│\u001b[0m   \u001b[2m26 \u001b[0m\u001b[2m│   \u001b[0mruntime_params=overrides,                                                               \u001b[31m│\u001b[0m\n",
       "\u001b[31m│\u001b[0m   \u001b[2m27 \u001b[0m\u001b[2m│   \u001b[0mconf_source=conf_path,                                                                  \u001b[31m│\u001b[0m\n",
       "\u001b[31m╰──────────────────────────────────────────────────────────────────────────────────────────────────╯\u001b[0m\n",
       "\u001b[1;91mNameError: \u001b[0mname \u001b[32m'Path'\u001b[0m is not defined\n"
      ]
     },
     "metadata": {},
     "output_type": "display_data"
    }
   ],
   "source": [
    "overrides = {\n",
    "    \"experiment\": {\n",
    "        \"b\": {\n",
    "            # \"_overrides\": {\"c\": 1},\n",
    "            \"project\": \"${project}\",\n",
    "        },\n",
    "        \"c\": {\n",
    "            \"_overrides\": {\"experiment_name\": \"test\"},\n",
    "            \"project\": \"${merge:${project},${._overrides}}\",\n",
    "        },\n",
    "        \"d\": {\n",
    "            \"_overrides\": {\n",
    "                \"experiment_config\": {\n",
    "                    \"analyze_and_model\": {\n",
    "                        \"target\": \"x\",\n",
    "                    },\n",
    "                },\n",
    "            },\n",
    "            \"project\": \"${merge:${project},${._overrides}}\",\n",
    "        },\n",
    "    }\n",
    "}\n",
    "\n",
    "conf_path = str(Path(\".\") / settings.CONF_SOURCE)\n",
    "conf_loader = OmegaConfigLoader(\n",
    "    runtime_params=overrides,\n",
    "    conf_source=conf_path,\n",
    "    base_env=\"base\",\n",
    "    default_run_env=\"local\",\n",
    "    custom_resolvers={\n",
    "        \"merge\": deep_merge,\n",
    "    },\n",
    ")"
   ]
  },
  {
   "cell_type": "code",
   "execution_count": 3,
   "metadata": {},
   "outputs": [
    {
     "data": {
      "text/html": [
       "<pre style=\"white-space:pre;overflow-x:auto;line-height:normal;font-family:Menlo,'DejaVu Sans Mono',consolas,'Courier New',monospace\"><span style=\"color: #800000; text-decoration-color: #800000\">╭─────────────────────────────── </span><span style=\"color: #800000; text-decoration-color: #800000; font-weight: bold\">Traceback </span><span style=\"color: #bf7f7f; text-decoration-color: #bf7f7f; font-weight: bold\">(most recent call last)</span><span style=\"color: #800000; text-decoration-color: #800000\"> ────────────────────────────────╮</span>\n",
       "<span style=\"color: #800000; text-decoration-color: #800000\">│</span> in <span style=\"color: #00ff00; text-decoration-color: #00ff00\">&lt;module&gt;</span>:<span style=\"color: #0000ff; text-decoration-color: #0000ff\">1</span>                                                                                    <span style=\"color: #800000; text-decoration-color: #800000\">│</span>\n",
       "<span style=\"color: #800000; text-decoration-color: #800000\">│</span>                                                                                                  <span style=\"color: #800000; text-decoration-color: #800000\">│</span>\n",
       "<span style=\"color: #800000; text-decoration-color: #800000\">│</span> <span style=\"color: #800000; text-decoration-color: #800000\">❱ </span> 1 conf_path = <span style=\"color: #00ffff; text-decoration-color: #00ffff\">str</span>(Path(<span style=\"color: #808000; text-decoration-color: #808000\">\".\"</span>) / settings.CONF_SOURCE)                                           <span style=\"color: #800000; text-decoration-color: #800000\">│</span>\n",
       "<span style=\"color: #800000; text-decoration-color: #800000\">│</span>   <span style=\"color: #7f7f7f; text-decoration-color: #7f7f7f\"> 2 </span>conf_loader = OmegaConfigLoader(                                                            <span style=\"color: #800000; text-decoration-color: #800000\">│</span>\n",
       "<span style=\"color: #800000; text-decoration-color: #800000\">│</span>   <span style=\"color: #7f7f7f; text-decoration-color: #7f7f7f\"> 3 </span><span style=\"color: #7f7f7f; text-decoration-color: #7f7f7f\">│   </span><span style=\"color: #7f7f7f; text-decoration-color: #7f7f7f\"># runtime_params=overrides,</span>                                                             <span style=\"color: #800000; text-decoration-color: #800000\">│</span>\n",
       "<span style=\"color: #800000; text-decoration-color: #800000\">│</span>   <span style=\"color: #7f7f7f; text-decoration-color: #7f7f7f\"> 4 </span><span style=\"color: #7f7f7f; text-decoration-color: #7f7f7f\">│   </span>conf_source=conf_path,                                                                  <span style=\"color: #800000; text-decoration-color: #800000\">│</span>\n",
       "<span style=\"color: #800000; text-decoration-color: #800000\">╰──────────────────────────────────────────────────────────────────────────────────────────────────╯</span>\n",
       "<span style=\"color: #ff0000; text-decoration-color: #ff0000; font-weight: bold\">NameError: </span>name <span style=\"color: #008000; text-decoration-color: #008000\">'Path'</span> is not defined\n",
       "</pre>\n"
      ],
      "text/plain": [
       "\u001b[31m╭─\u001b[0m\u001b[31m──────────────────────────────\u001b[0m\u001b[31m \u001b[0m\u001b[1;31mTraceback \u001b[0m\u001b[1;2;31m(most recent call last)\u001b[0m\u001b[31m \u001b[0m\u001b[31m───────────────────────────────\u001b[0m\u001b[31m─╮\u001b[0m\n",
       "\u001b[31m│\u001b[0m in \u001b[92m<module>\u001b[0m:\u001b[94m1\u001b[0m                                                                                    \u001b[31m│\u001b[0m\n",
       "\u001b[31m│\u001b[0m                                                                                                  \u001b[31m│\u001b[0m\n",
       "\u001b[31m│\u001b[0m \u001b[31m❱ \u001b[0m 1 conf_path = \u001b[96mstr\u001b[0m(Path(\u001b[33m\"\u001b[0m\u001b[33m.\u001b[0m\u001b[33m\"\u001b[0m) / settings.CONF_SOURCE)                                           \u001b[31m│\u001b[0m\n",
       "\u001b[31m│\u001b[0m   \u001b[2m 2 \u001b[0mconf_loader = OmegaConfigLoader(                                                            \u001b[31m│\u001b[0m\n",
       "\u001b[31m│\u001b[0m   \u001b[2m 3 \u001b[0m\u001b[2m│   \u001b[0m\u001b[2m# runtime_params=overrides,\u001b[0m                                                             \u001b[31m│\u001b[0m\n",
       "\u001b[31m│\u001b[0m   \u001b[2m 4 \u001b[0m\u001b[2m│   \u001b[0mconf_source=conf_path,                                                                  \u001b[31m│\u001b[0m\n",
       "\u001b[31m╰──────────────────────────────────────────────────────────────────────────────────────────────────╯\u001b[0m\n",
       "\u001b[1;91mNameError: \u001b[0mname \u001b[32m'Path'\u001b[0m is not defined\n"
      ]
     },
     "metadata": {},
     "output_type": "display_data"
    }
   ],
   "source": [
    "\n",
    "conf_path = str(Path(\".\") / settings.CONF_SOURCE)\n",
    "conf_loader = OmegaConfigLoader(\n",
    "    # runtime_params=overrides,\n",
    "    conf_source=conf_path,\n",
    "    base_env=\"base\",\n",
    "    default_run_env=\"local\",\n",
    "    custom_resolvers={\n",
    "        \"merge\": merge_dicts,\n",
    "    },\n",
    ")\n",
    "conf_loader[\"parameters\"]"
   ]
  },
  {
   "cell_type": "code",
   "execution_count": null,
   "metadata": {},
   "outputs": [],
   "source": [
    "import yaml\n",
    "params_base = yaml.safe_load(open(\"conf/base/parameters_experiment.yml\"))\n",
    "\n"
   ]
  },
  {
   "cell_type": "code",
   "execution_count": null,
   "metadata": {},
   "outputs": [
    {
     "data": {
      "text/html": [
       "<pre style=\"white-space:pre;overflow-x:auto;line-height:normal;font-family:Menlo,'DejaVu Sans Mono',consolas,'Courier New',monospace\"></pre>\n"
      ],
      "text/plain": []
     },
     "metadata": {},
     "output_type": "display_data"
    },
    {
     "data": {
      "text/plain": [
       "\u001b[1m{\u001b[0m\u001b[32m'experiment_config'\u001b[0m: \u001b[1m{\u001b[0m\u001b[32m'analyze_and_model'\u001b[0m: \u001b[1m{\u001b[0m\u001b[32m'target'\u001b[0m: \u001b[32m'failed_googlecloud'\u001b[0m\u001b[1m}\u001b[0m\u001b[1m}\u001b[0m\u001b[1m}\u001b[0m"
      ]
     },
     "execution_count": 17,
     "metadata": {},
     "output_type": "execute_result"
    }
   ],
   "source": [
    "overrides[\"a\"][\"d\"][\"_overrides\"]"
   ]
  },
  {
   "cell_type": "code",
   "execution_count": null,
   "metadata": {},
   "outputs": [
    {
     "data": {
      "text/html": [
       "<pre style=\"white-space:pre;overflow-x:auto;line-height:normal;font-family:Menlo,'DejaVu Sans Mono',consolas,'Courier New',monospace\"></pre>\n"
      ],
      "text/plain": []
     },
     "metadata": {},
     "output_type": "display_data"
    },
    {
     "data": {
      "text/plain": [
       "\n",
       "\u001b[1m{\u001b[0m\n",
       "    \u001b[32m'experiment_name'\u001b[0m: \u001b[3;35mNone\u001b[0m,\n",
       "    \u001b[32m'experiment_config'\u001b[0m: \u001b[1m{\u001b[0m\n",
       "        \u001b[32m'analyze_and_model'\u001b[0m: \u001b[1m{\u001b[0m\u001b[32m'target'\u001b[0m: \u001b[32m'failed_googlecloud'\u001b[0m, \u001b[32m'max_wait'\u001b[0m: \u001b[1;36m10000\u001b[0m, \u001b[32m'worker_count'\u001b[0m: \u001b[1;36m-1\u001b[0m\u001b[1m}\u001b[0m,\n",
       "        \u001b[32m'datetime_partitioning'\u001b[0m: \u001b[1m{\u001b[0m\n",
       "            \u001b[32m'use_time_series'\u001b[0m: \u001b[3;91mFalse\u001b[0m,\n",
       "            \u001b[32m'datetime_partition_column'\u001b[0m: \u001b[32m'date'\u001b[0m,\n",
       "            \u001b[32m'number_of_backtests'\u001b[0m: \u001b[1;36m3\u001b[0m\n",
       "        \u001b[1m}\u001b[0m,\n",
       "        \u001b[32m'binarize_data_config'\u001b[0m: \u001b[3;35mNone\u001b[0m,\n",
       "        \u001b[32m'fire_config'\u001b[0m: \u001b[3;35mNone\u001b[0m,\n",
       "        \u001b[32m'partition_column'\u001b[0m: \u001b[3;35mNone\u001b[0m,\n",
       "        \u001b[32m'main_metric'\u001b[0m: \u001b[32m'generalized_f1'\u001b[0m,\n",
       "        \u001b[32m'date_format'\u001b[0m: \u001b[32m'%d/%m/%Y'\u001b[0m\n",
       "    \u001b[1m}\u001b[0m\n",
       "\u001b[1m}\u001b[0m"
      ]
     },
     "execution_count": 19,
     "metadata": {},
     "output_type": "execute_result"
    }
   ],
   "source": [
    "deep_merge(params_base[\"experiment\"], overrides[\"a\"][\"d\"][\"_overrides\"])"
   ]
  },
  {
   "cell_type": "code",
   "execution_count": null,
   "metadata": {},
   "outputs": [
    {
     "data": {
      "text/html": [
       "<pre style=\"white-space:pre;overflow-x:auto;line-height:normal;font-family:Menlo,'DejaVu Sans Mono',consolas,'Courier New',monospace\"><span style=\"color: #7fbfbf; text-decoration-color: #7fbfbf\">[06/27/24 13:00:25] </span><span style=\"color: #000080; text-decoration-color: #000080\">INFO    </span> Global parameters: <span style=\"font-weight: bold\">{}</span>                                                      <a href=\"file:///home/lukas/code/recipe-xflow/src/x_flow/pipelines/config/nodes.py\" target=\"_blank\"><span style=\"color: #7f7f7f; text-decoration-color: #7f7f7f\">nodes.py</span></a><span style=\"color: #7f7f7f; text-decoration-color: #7f7f7f\">:</span><a href=\"file:///home/lukas/code/recipe-xflow/src/x_flow/pipelines/config/nodes.py#54\" target=\"_blank\"><span style=\"color: #7f7f7f; text-decoration-color: #7f7f7f\">54</span></a>\n",
       "</pre>\n"
      ],
      "text/plain": [
       "\u001b[2;36m[06/27/24 13:00:25]\u001b[0m\u001b[2;36m \u001b[0m\u001b[34mINFO    \u001b[0m Global parameters: \u001b[1m{\u001b[0m\u001b[1m}\u001b[0m                                                      \u001b]8;id=957391;file:///home/lukas/code/recipe-xflow/src/x_flow/pipelines/config/nodes.py\u001b\\\u001b[2mnodes.py\u001b[0m\u001b]8;;\u001b\\\u001b[2m:\u001b[0m\u001b]8;id=264733;file:///home/lukas/code/recipe-xflow/src/x_flow/pipelines/config/nodes.py#54\u001b\\\u001b[2m54\u001b[0m\u001b]8;;\u001b\\\n"
      ]
     },
     "metadata": {},
     "output_type": "display_data"
    },
    {
     "data": {
      "text/html": [
       "<pre style=\"white-space:pre;overflow-x:auto;line-height:normal;font-family:Menlo,'DejaVu Sans Mono',consolas,'Courier New',monospace\"><span style=\"color: #7fbfbf; text-decoration-color: #7fbfbf\">                    </span><span style=\"color: #000080; text-decoration-color: #000080\">INFO    </span> Decoded config: <span style=\"font-weight: bold\">[</span>                                                         <a href=\"file:///home/lukas/code/recipe-xflow/src/x_flow/pipelines/config/nodes.py\" target=\"_blank\"><span style=\"color: #7f7f7f; text-decoration-color: #7f7f7f\">nodes.py</span></a><span style=\"color: #7f7f7f; text-decoration-color: #7f7f7f\">:</span><a href=\"file:///home/lukas/code/recipe-xflow/src/x_flow/pipelines/config/nodes.py#106\" target=\"_blank\"><span style=\"color: #7f7f7f; text-decoration-color: #7f7f7f\">106</span></a>\n",
       "<span style=\"color: #7fbfbf; text-decoration-color: #7fbfbf\">                    </span>             <span style=\"font-weight: bold\">{</span>                                                                     <span style=\"color: #7f7f7f; text-decoration-color: #7f7f7f\">            </span>\n",
       "<span style=\"color: #7fbfbf; text-decoration-color: #7fbfbf\">                    </span>                 <span style=\"color: #008000; text-decoration-color: #008000\">\"analyze_and_model\"</span>: <span style=\"font-weight: bold\">{</span>                                            <span style=\"color: #7f7f7f; text-decoration-color: #7f7f7f\">            </span>\n",
       "<span style=\"color: #7fbfbf; text-decoration-color: #7fbfbf\">                    </span>                     <span style=\"color: #008000; text-decoration-color: #008000\">\"mode\"</span>: <span style=\"color: #008000; text-decoration-color: #008000\">\"quick\"</span>,                                              <span style=\"color: #7f7f7f; text-decoration-color: #7f7f7f\">            </span>\n",
       "<span style=\"color: #7fbfbf; text-decoration-color: #7fbfbf\">                    </span>                     <span style=\"color: #008000; text-decoration-color: #008000\">\"target\"</span>: <span style=\"color: #008000; text-decoration-color: #008000\">\"Mid\"</span>                                               <span style=\"color: #7f7f7f; text-decoration-color: #7f7f7f\">            </span>\n",
       "<span style=\"color: #7fbfbf; text-decoration-color: #7fbfbf\">                    </span>                 <span style=\"font-weight: bold\">}</span>,                                                                <span style=\"color: #7f7f7f; text-decoration-color: #7f7f7f\">            </span>\n",
       "<span style=\"color: #7fbfbf; text-decoration-color: #7fbfbf\">                    </span>                 <span style=\"color: #008000; text-decoration-color: #008000\">\"experiment_name\"</span>: <span style=\"color: #008000; text-decoration-color: #008000\">\"simple\"</span>                                       <span style=\"color: #7f7f7f; text-decoration-color: #7f7f7f\">            </span>\n",
       "<span style=\"color: #7fbfbf; text-decoration-color: #7fbfbf\">                    </span>             <span style=\"font-weight: bold\">}</span>,                                                                    <span style=\"color: #7f7f7f; text-decoration-color: #7f7f7f\">            </span>\n",
       "<span style=\"color: #7fbfbf; text-decoration-color: #7fbfbf\">                    </span>             <span style=\"font-weight: bold\">{</span>                                                                     <span style=\"color: #7f7f7f; text-decoration-color: #7f7f7f\">            </span>\n",
       "<span style=\"color: #7fbfbf; text-decoration-color: #7fbfbf\">                    </span>                 <span style=\"color: #008000; text-decoration-color: #008000\">\"analyze_and_model\"</span>: <span style=\"font-weight: bold\">{</span>                                            <span style=\"color: #7f7f7f; text-decoration-color: #7f7f7f\">            </span>\n",
       "<span style=\"color: #7fbfbf; text-decoration-color: #7fbfbf\">                    </span>                     <span style=\"color: #008000; text-decoration-color: #008000\">\"mode\"</span>: <span style=\"color: #008000; text-decoration-color: #008000\">\"auto\"</span>,                                               <span style=\"color: #7f7f7f; text-decoration-color: #7f7f7f\">            </span>\n",
       "<span style=\"color: #7fbfbf; text-decoration-color: #7fbfbf\">                    </span>                     <span style=\"color: #008000; text-decoration-color: #008000\">\"target\"</span>: <span style=\"color: #008000; text-decoration-color: #008000\">\"Mid\"</span>                                               <span style=\"color: #7f7f7f; text-decoration-color: #7f7f7f\">            </span>\n",
       "<span style=\"color: #7fbfbf; text-decoration-color: #7fbfbf\">                    </span>                 <span style=\"font-weight: bold\">}</span>,                                                                <span style=\"color: #7f7f7f; text-decoration-color: #7f7f7f\">            </span>\n",
       "<span style=\"color: #7fbfbf; text-decoration-color: #7fbfbf\">                    </span>                 <span style=\"color: #008000; text-decoration-color: #008000\">\"experiment_name\"</span>: <span style=\"color: #008000; text-decoration-color: #008000\">\"full\"</span>                                         <span style=\"color: #7f7f7f; text-decoration-color: #7f7f7f\">            </span>\n",
       "<span style=\"color: #7fbfbf; text-decoration-color: #7fbfbf\">                    </span>             <span style=\"font-weight: bold\">}</span>,                                                                    <span style=\"color: #7f7f7f; text-decoration-color: #7f7f7f\">            </span>\n",
       "<span style=\"color: #7fbfbf; text-decoration-color: #7fbfbf\">                    </span>             <span style=\"font-weight: bold\">{</span>                                                                     <span style=\"color: #7f7f7f; text-decoration-color: #7f7f7f\">            </span>\n",
       "<span style=\"color: #7fbfbf; text-decoration-color: #7fbfbf\">                    </span>                 <span style=\"color: #008000; text-decoration-color: #008000\">\"analyze_and_model\"</span>: <span style=\"font-weight: bold\">{</span>                                            <span style=\"color: #7f7f7f; text-decoration-color: #7f7f7f\">            </span>\n",
       "<span style=\"color: #7fbfbf; text-decoration-color: #7fbfbf\">                    </span>                     <span style=\"color: #008000; text-decoration-color: #008000\">\"mode\"</span>: <span style=\"color: #008000; text-decoration-color: #008000\">\"quick\"</span>,                                              <span style=\"color: #7f7f7f; text-decoration-color: #7f7f7f\">            </span>\n",
       "<span style=\"color: #7fbfbf; text-decoration-color: #7fbfbf\">                    </span>                     <span style=\"color: #008000; text-decoration-color: #008000\">\"target\"</span>: <span style=\"color: #008000; text-decoration-color: #008000\">\"Mid\"</span>                                               <span style=\"color: #7f7f7f; text-decoration-color: #7f7f7f\">            </span>\n",
       "<span style=\"color: #7fbfbf; text-decoration-color: #7fbfbf\">                    </span>                 <span style=\"font-weight: bold\">}</span>,                                                                <span style=\"color: #7f7f7f; text-decoration-color: #7f7f7f\">            </span>\n",
       "<span style=\"color: #7fbfbf; text-decoration-color: #7fbfbf\">                    </span>                 <span style=\"color: #008000; text-decoration-color: #008000\">\"experiment_name\"</span>: <span style=\"color: #008000; text-decoration-color: #008000\">\"simple_grouped\"</span>,                              <span style=\"color: #7f7f7f; text-decoration-color: #7f7f7f\">            </span>\n",
       "<span style=\"color: #7fbfbf; text-decoration-color: #7fbfbf\">                    </span>                 <span style=\"color: #008000; text-decoration-color: #008000\">\"group_data\"</span>: <span style=\"font-weight: bold\">{</span>                                                   <span style=\"color: #7f7f7f; text-decoration-color: #7f7f7f\">            </span>\n",
       "<span style=\"color: #7fbfbf; text-decoration-color: #7fbfbf\">                    </span>                     <span style=\"color: #008000; text-decoration-color: #008000\">\"partition_column\"</span>: <span style=\"color: #008000; text-decoration-color: #008000\">\"tier\"</span>                                    <span style=\"color: #7f7f7f; text-decoration-color: #7f7f7f\">            </span>\n",
       "<span style=\"color: #7fbfbf; text-decoration-color: #7fbfbf\">                    </span>                 <span style=\"font-weight: bold\">}</span>                                                                 <span style=\"color: #7f7f7f; text-decoration-color: #7f7f7f\">            </span>\n",
       "<span style=\"color: #7fbfbf; text-decoration-color: #7fbfbf\">                    </span>             <span style=\"font-weight: bold\">}</span>,                                                                    <span style=\"color: #7f7f7f; text-decoration-color: #7f7f7f\">            </span>\n",
       "<span style=\"color: #7fbfbf; text-decoration-color: #7fbfbf\">                    </span>             <span style=\"font-weight: bold\">{</span>                                                                     <span style=\"color: #7f7f7f; text-decoration-color: #7f7f7f\">            </span>\n",
       "<span style=\"color: #7fbfbf; text-decoration-color: #7fbfbf\">                    </span>                 <span style=\"color: #008000; text-decoration-color: #008000\">\"analyze_and_model\"</span>: <span style=\"font-weight: bold\">{</span>                                            <span style=\"color: #7f7f7f; text-decoration-color: #7f7f7f\">            </span>\n",
       "<span style=\"color: #7fbfbf; text-decoration-color: #7fbfbf\">                    </span>                     <span style=\"color: #008000; text-decoration-color: #008000\">\"mode\"</span>: <span style=\"color: #008000; text-decoration-color: #008000\">\"quick\"</span>,                                              <span style=\"color: #7f7f7f; text-decoration-color: #7f7f7f\">            </span>\n",
       "<span style=\"color: #7fbfbf; text-decoration-color: #7fbfbf\">                    </span>                     <span style=\"color: #008000; text-decoration-color: #008000\">\"target\"</span>: <span style=\"color: #008000; text-decoration-color: #008000\">\"Mid\"</span>                                               <span style=\"color: #7f7f7f; text-decoration-color: #7f7f7f\">            </span>\n",
       "<span style=\"color: #7fbfbf; text-decoration-color: #7fbfbf\">                    </span>                 <span style=\"font-weight: bold\">}</span>,                                                                <span style=\"color: #7f7f7f; text-decoration-color: #7f7f7f\">            </span>\n",
       "<span style=\"color: #7fbfbf; text-decoration-color: #7fbfbf\">                    </span>                 <span style=\"color: #008000; text-decoration-color: #008000\">\"binarize_data\"</span>: <span style=\"font-weight: bold\">{</span>                                                <span style=\"color: #7f7f7f; text-decoration-color: #7f7f7f\">            </span>\n",
       "<span style=\"color: #7fbfbf; text-decoration-color: #7fbfbf\">                    </span>                     <span style=\"color: #008000; text-decoration-color: #008000\">\"binarize_operator\"</span>: <span style=\"color: #008000; text-decoration-color: #008000\">\"&gt;\"</span>,                                     <span style=\"color: #7f7f7f; text-decoration-color: #7f7f7f\">            </span>\n",
       "<span style=\"color: #7fbfbf; text-decoration-color: #7fbfbf\">                    </span>                     <span style=\"color: #008000; text-decoration-color: #008000\">\"binarize_threshold\"</span>: <span style=\"color: #008080; text-decoration-color: #008080; font-weight: bold\">113.0</span>                                   <span style=\"color: #7f7f7f; text-decoration-color: #7f7f7f\">            </span>\n",
       "<span style=\"color: #7fbfbf; text-decoration-color: #7fbfbf\">                    </span>                 <span style=\"font-weight: bold\">}</span>,                                                                <span style=\"color: #7f7f7f; text-decoration-color: #7f7f7f\">            </span>\n",
       "<span style=\"color: #7fbfbf; text-decoration-color: #7fbfbf\">                    </span>                 <span style=\"color: #008000; text-decoration-color: #008000\">\"experiment_name\"</span>: <span style=\"color: #008000; text-decoration-color: #008000\">\"simple_NC_BC\"</span>                                 <span style=\"color: #7f7f7f; text-decoration-color: #7f7f7f\">            </span>\n",
       "<span style=\"color: #7fbfbf; text-decoration-color: #7fbfbf\">                    </span>             <span style=\"font-weight: bold\">}</span>,                                                                    <span style=\"color: #7f7f7f; text-decoration-color: #7f7f7f\">            </span>\n",
       "<span style=\"color: #7fbfbf; text-decoration-color: #7fbfbf\">                    </span>             <span style=\"font-weight: bold\">{</span>                                                                     <span style=\"color: #7f7f7f; text-decoration-color: #7f7f7f\">            </span>\n",
       "<span style=\"color: #7fbfbf; text-decoration-color: #7fbfbf\">                    </span>                 <span style=\"color: #008000; text-decoration-color: #008000\">\"analyze_and_model\"</span>: <span style=\"font-weight: bold\">{</span>                                            <span style=\"color: #7f7f7f; text-decoration-color: #7f7f7f\">            </span>\n",
       "<span style=\"color: #7fbfbf; text-decoration-color: #7fbfbf\">                    </span>                     <span style=\"color: #008000; text-decoration-color: #008000\">\"mode\"</span>: <span style=\"color: #008000; text-decoration-color: #008000\">\"auto\"</span>,                                               <span style=\"color: #7f7f7f; text-decoration-color: #7f7f7f\">            </span>\n",
       "<span style=\"color: #7fbfbf; text-decoration-color: #7fbfbf\">                    </span>                     <span style=\"color: #008000; text-decoration-color: #008000\">\"target\"</span>: <span style=\"color: #008000; text-decoration-color: #008000\">\"Mid\"</span>                                               <span style=\"color: #7f7f7f; text-decoration-color: #7f7f7f\">            </span>\n",
       "<span style=\"color: #7fbfbf; text-decoration-color: #7fbfbf\">                    </span>                 <span style=\"font-weight: bold\">}</span>,                                                                <span style=\"color: #7f7f7f; text-decoration-color: #7f7f7f\">            </span>\n",
       "<span style=\"color: #7fbfbf; text-decoration-color: #7fbfbf\">                    </span>                 <span style=\"color: #008000; text-decoration-color: #008000\">\"binarize_data\"</span>: <span style=\"font-weight: bold\">{</span>                                                <span style=\"color: #7f7f7f; text-decoration-color: #7f7f7f\">            </span>\n",
       "<span style=\"color: #7fbfbf; text-decoration-color: #7fbfbf\">                    </span>                     <span style=\"color: #008000; text-decoration-color: #008000\">\"binarize_operator\"</span>: <span style=\"color: #008000; text-decoration-color: #008000\">\"&gt;\"</span>,                                     <span style=\"color: #7f7f7f; text-decoration-color: #7f7f7f\">            </span>\n",
       "<span style=\"color: #7fbfbf; text-decoration-color: #7fbfbf\">                    </span>                     <span style=\"color: #008000; text-decoration-color: #008000\">\"binarize_threshold\"</span>: <span style=\"color: #008080; text-decoration-color: #008080; font-weight: bold\">113.0</span>                                   <span style=\"color: #7f7f7f; text-decoration-color: #7f7f7f\">            </span>\n",
       "<span style=\"color: #7fbfbf; text-decoration-color: #7fbfbf\">                    </span>                 <span style=\"font-weight: bold\">}</span>,                                                                <span style=\"color: #7f7f7f; text-decoration-color: #7f7f7f\">            </span>\n",
       "<span style=\"color: #7fbfbf; text-decoration-color: #7fbfbf\">                    </span>                 <span style=\"color: #008000; text-decoration-color: #008000\">\"experiment_name\"</span>: <span style=\"color: #008000; text-decoration-color: #008000\">\"full_NC_BC\"</span>                                   <span style=\"color: #7f7f7f; text-decoration-color: #7f7f7f\">            </span>\n",
       "<span style=\"color: #7fbfbf; text-decoration-color: #7fbfbf\">                    </span>             <span style=\"font-weight: bold\">}</span>                                                                     <span style=\"color: #7f7f7f; text-decoration-color: #7f7f7f\">            </span>\n",
       "<span style=\"color: #7fbfbf; text-decoration-color: #7fbfbf\">                    </span>         <span style=\"font-weight: bold\">]</span>                                                                         <span style=\"color: #7f7f7f; text-decoration-color: #7f7f7f\">            </span>\n",
       "</pre>\n"
      ],
      "text/plain": [
       "\u001b[2;36m                   \u001b[0m\u001b[2;36m \u001b[0m\u001b[34mINFO    \u001b[0m Decoded config: \u001b[1m[\u001b[0m                                                         \u001b]8;id=471319;file:///home/lukas/code/recipe-xflow/src/x_flow/pipelines/config/nodes.py\u001b\\\u001b[2mnodes.py\u001b[0m\u001b]8;;\u001b\\\u001b[2m:\u001b[0m\u001b]8;id=570332;file:///home/lukas/code/recipe-xflow/src/x_flow/pipelines/config/nodes.py#106\u001b\\\u001b[2m106\u001b[0m\u001b]8;;\u001b\\\n",
       "\u001b[2;36m                    \u001b[0m             \u001b[1m{\u001b[0m                                                                     \u001b[2m            \u001b[0m\n",
       "\u001b[2;36m                    \u001b[0m                 \u001b[32m\"analyze_and_model\"\u001b[0m: \u001b[1m{\u001b[0m                                            \u001b[2m            \u001b[0m\n",
       "\u001b[2;36m                    \u001b[0m                     \u001b[32m\"mode\"\u001b[0m: \u001b[32m\"quick\"\u001b[0m,                                              \u001b[2m            \u001b[0m\n",
       "\u001b[2;36m                    \u001b[0m                     \u001b[32m\"target\"\u001b[0m: \u001b[32m\"Mid\"\u001b[0m                                               \u001b[2m            \u001b[0m\n",
       "\u001b[2;36m                    \u001b[0m                 \u001b[1m}\u001b[0m,                                                                \u001b[2m            \u001b[0m\n",
       "\u001b[2;36m                    \u001b[0m                 \u001b[32m\"experiment_name\"\u001b[0m: \u001b[32m\"simple\"\u001b[0m                                       \u001b[2m            \u001b[0m\n",
       "\u001b[2;36m                    \u001b[0m             \u001b[1m}\u001b[0m,                                                                    \u001b[2m            \u001b[0m\n",
       "\u001b[2;36m                    \u001b[0m             \u001b[1m{\u001b[0m                                                                     \u001b[2m            \u001b[0m\n",
       "\u001b[2;36m                    \u001b[0m                 \u001b[32m\"analyze_and_model\"\u001b[0m: \u001b[1m{\u001b[0m                                            \u001b[2m            \u001b[0m\n",
       "\u001b[2;36m                    \u001b[0m                     \u001b[32m\"mode\"\u001b[0m: \u001b[32m\"auto\"\u001b[0m,                                               \u001b[2m            \u001b[0m\n",
       "\u001b[2;36m                    \u001b[0m                     \u001b[32m\"target\"\u001b[0m: \u001b[32m\"Mid\"\u001b[0m                                               \u001b[2m            \u001b[0m\n",
       "\u001b[2;36m                    \u001b[0m                 \u001b[1m}\u001b[0m,                                                                \u001b[2m            \u001b[0m\n",
       "\u001b[2;36m                    \u001b[0m                 \u001b[32m\"experiment_name\"\u001b[0m: \u001b[32m\"full\"\u001b[0m                                         \u001b[2m            \u001b[0m\n",
       "\u001b[2;36m                    \u001b[0m             \u001b[1m}\u001b[0m,                                                                    \u001b[2m            \u001b[0m\n",
       "\u001b[2;36m                    \u001b[0m             \u001b[1m{\u001b[0m                                                                     \u001b[2m            \u001b[0m\n",
       "\u001b[2;36m                    \u001b[0m                 \u001b[32m\"analyze_and_model\"\u001b[0m: \u001b[1m{\u001b[0m                                            \u001b[2m            \u001b[0m\n",
       "\u001b[2;36m                    \u001b[0m                     \u001b[32m\"mode\"\u001b[0m: \u001b[32m\"quick\"\u001b[0m,                                              \u001b[2m            \u001b[0m\n",
       "\u001b[2;36m                    \u001b[0m                     \u001b[32m\"target\"\u001b[0m: \u001b[32m\"Mid\"\u001b[0m                                               \u001b[2m            \u001b[0m\n",
       "\u001b[2;36m                    \u001b[0m                 \u001b[1m}\u001b[0m,                                                                \u001b[2m            \u001b[0m\n",
       "\u001b[2;36m                    \u001b[0m                 \u001b[32m\"experiment_name\"\u001b[0m: \u001b[32m\"simple_grouped\"\u001b[0m,                              \u001b[2m            \u001b[0m\n",
       "\u001b[2;36m                    \u001b[0m                 \u001b[32m\"group_data\"\u001b[0m: \u001b[1m{\u001b[0m                                                   \u001b[2m            \u001b[0m\n",
       "\u001b[2;36m                    \u001b[0m                     \u001b[32m\"partition_column\"\u001b[0m: \u001b[32m\"tier\"\u001b[0m                                    \u001b[2m            \u001b[0m\n",
       "\u001b[2;36m                    \u001b[0m                 \u001b[1m}\u001b[0m                                                                 \u001b[2m            \u001b[0m\n",
       "\u001b[2;36m                    \u001b[0m             \u001b[1m}\u001b[0m,                                                                    \u001b[2m            \u001b[0m\n",
       "\u001b[2;36m                    \u001b[0m             \u001b[1m{\u001b[0m                                                                     \u001b[2m            \u001b[0m\n",
       "\u001b[2;36m                    \u001b[0m                 \u001b[32m\"analyze_and_model\"\u001b[0m: \u001b[1m{\u001b[0m                                            \u001b[2m            \u001b[0m\n",
       "\u001b[2;36m                    \u001b[0m                     \u001b[32m\"mode\"\u001b[0m: \u001b[32m\"quick\"\u001b[0m,                                              \u001b[2m            \u001b[0m\n",
       "\u001b[2;36m                    \u001b[0m                     \u001b[32m\"target\"\u001b[0m: \u001b[32m\"Mid\"\u001b[0m                                               \u001b[2m            \u001b[0m\n",
       "\u001b[2;36m                    \u001b[0m                 \u001b[1m}\u001b[0m,                                                                \u001b[2m            \u001b[0m\n",
       "\u001b[2;36m                    \u001b[0m                 \u001b[32m\"binarize_data\"\u001b[0m: \u001b[1m{\u001b[0m                                                \u001b[2m            \u001b[0m\n",
       "\u001b[2;36m                    \u001b[0m                     \u001b[32m\"binarize_operator\"\u001b[0m: \u001b[32m\">\"\u001b[0m,                                     \u001b[2m            \u001b[0m\n",
       "\u001b[2;36m                    \u001b[0m                     \u001b[32m\"binarize_threshold\"\u001b[0m: \u001b[1;36m113.0\u001b[0m                                   \u001b[2m            \u001b[0m\n",
       "\u001b[2;36m                    \u001b[0m                 \u001b[1m}\u001b[0m,                                                                \u001b[2m            \u001b[0m\n",
       "\u001b[2;36m                    \u001b[0m                 \u001b[32m\"experiment_name\"\u001b[0m: \u001b[32m\"simple_NC_BC\"\u001b[0m                                 \u001b[2m            \u001b[0m\n",
       "\u001b[2;36m                    \u001b[0m             \u001b[1m}\u001b[0m,                                                                    \u001b[2m            \u001b[0m\n",
       "\u001b[2;36m                    \u001b[0m             \u001b[1m{\u001b[0m                                                                     \u001b[2m            \u001b[0m\n",
       "\u001b[2;36m                    \u001b[0m                 \u001b[32m\"analyze_and_model\"\u001b[0m: \u001b[1m{\u001b[0m                                            \u001b[2m            \u001b[0m\n",
       "\u001b[2;36m                    \u001b[0m                     \u001b[32m\"mode\"\u001b[0m: \u001b[32m\"auto\"\u001b[0m,                                               \u001b[2m            \u001b[0m\n",
       "\u001b[2;36m                    \u001b[0m                     \u001b[32m\"target\"\u001b[0m: \u001b[32m\"Mid\"\u001b[0m                                               \u001b[2m            \u001b[0m\n",
       "\u001b[2;36m                    \u001b[0m                 \u001b[1m}\u001b[0m,                                                                \u001b[2m            \u001b[0m\n",
       "\u001b[2;36m                    \u001b[0m                 \u001b[32m\"binarize_data\"\u001b[0m: \u001b[1m{\u001b[0m                                                \u001b[2m            \u001b[0m\n",
       "\u001b[2;36m                    \u001b[0m                     \u001b[32m\"binarize_operator\"\u001b[0m: \u001b[32m\">\"\u001b[0m,                                     \u001b[2m            \u001b[0m\n",
       "\u001b[2;36m                    \u001b[0m                     \u001b[32m\"binarize_threshold\"\u001b[0m: \u001b[1;36m113.0\u001b[0m                                   \u001b[2m            \u001b[0m\n",
       "\u001b[2;36m                    \u001b[0m                 \u001b[1m}\u001b[0m,                                                                \u001b[2m            \u001b[0m\n",
       "\u001b[2;36m                    \u001b[0m                 \u001b[32m\"experiment_name\"\u001b[0m: \u001b[32m\"full_NC_BC\"\u001b[0m                                   \u001b[2m            \u001b[0m\n",
       "\u001b[2;36m                    \u001b[0m             \u001b[1m}\u001b[0m                                                                     \u001b[2m            \u001b[0m\n",
       "\u001b[2;36m                    \u001b[0m         \u001b[1m]\u001b[0m                                                                         \u001b[2m            \u001b[0m\n"
      ]
     },
     "metadata": {},
     "output_type": "display_data"
    }
   ],
   "source": [
    "import pandas as pd\n",
    "experiments = pd.read_csv(\"include/x_flow/config/experiments.csv\")\n",
    "global_params = yaml.safe_load(open(\"include/x_flow/config/param_mapping.yml\"))\n",
    "\n",
    "\n",
    "from x_flow.pipelines.config.nodes import load_data, decode_config\n",
    "\n",
    "experiments_dict = load_data(experiments)\n",
    "decoded_experiments = decode_config(experiments_dict, global_params, {})"
   ]
  },
  {
   "cell_type": "code",
   "execution_count": null,
   "metadata": {},
   "outputs": [
    {
     "data": {
      "text/html": [
       "<pre style=\"white-space:pre;overflow-x:auto;line-height:normal;font-family:Menlo,'DejaVu Sans Mono',consolas,'Courier New',monospace\"></pre>\n"
      ],
      "text/plain": []
     },
     "metadata": {},
     "output_type": "display_data"
    },
    {
     "data": {
      "text/plain": [
       "\n",
       "\u001b[1m[\u001b[0m\n",
       "    \u001b[1m{\u001b[0m\u001b[32m'experiment_name'\u001b[0m: \u001b[32m'simple'\u001b[0m, \u001b[32m'analyze_and_model'\u001b[0m: \u001b[1m{\u001b[0m\u001b[32m'target'\u001b[0m: \u001b[32m'Mid'\u001b[0m, \u001b[32m'mode'\u001b[0m: \u001b[32m'quick'\u001b[0m\u001b[1m}\u001b[0m\u001b[1m}\u001b[0m,\n",
       "    \u001b[1m{\u001b[0m\u001b[32m'experiment_name'\u001b[0m: \u001b[32m'full'\u001b[0m, \u001b[32m'analyze_and_model'\u001b[0m: \u001b[1m{\u001b[0m\u001b[32m'target'\u001b[0m: \u001b[32m'Mid'\u001b[0m, \u001b[32m'mode'\u001b[0m: \u001b[32m'auto'\u001b[0m\u001b[1m}\u001b[0m\u001b[1m}\u001b[0m,\n",
       "    \u001b[1m{\u001b[0m\n",
       "        \u001b[32m'experiment_name'\u001b[0m: \u001b[32m'simple_grouped'\u001b[0m,\n",
       "        \u001b[32m'analyze_and_model'\u001b[0m: \u001b[1m{\u001b[0m\u001b[32m'target'\u001b[0m: \u001b[32m'Mid'\u001b[0m, \u001b[32m'mode'\u001b[0m: \u001b[32m'quick'\u001b[0m\u001b[1m}\u001b[0m,\n",
       "        \u001b[32m'group_data'\u001b[0m: \u001b[1m{\u001b[0m\u001b[32m'partition_column'\u001b[0m: \u001b[32m'tier'\u001b[0m\u001b[1m}\u001b[0m\n",
       "    \u001b[1m}\u001b[0m,\n",
       "    \u001b[1m{\u001b[0m\n",
       "        \u001b[32m'experiment_name'\u001b[0m: \u001b[32m'simple_NC_BC'\u001b[0m,\n",
       "        \u001b[32m'analyze_and_model'\u001b[0m: \u001b[1m{\u001b[0m\u001b[32m'target'\u001b[0m: \u001b[32m'Mid'\u001b[0m, \u001b[32m'mode'\u001b[0m: \u001b[32m'quick'\u001b[0m\u001b[1m}\u001b[0m,\n",
       "        \u001b[32m'binarize_data'\u001b[0m: \u001b[1m{\u001b[0m\u001b[32m'binarize_operator'\u001b[0m: \u001b[32m'>'\u001b[0m, \u001b[32m'binarize_threshold'\u001b[0m: \u001b[1;36m113.0\u001b[0m\u001b[1m}\u001b[0m\n",
       "    \u001b[1m}\u001b[0m,\n",
       "    \u001b[1m{\u001b[0m\n",
       "        \u001b[32m'experiment_name'\u001b[0m: \u001b[32m'full_NC_BC'\u001b[0m,\n",
       "        \u001b[32m'analyze_and_model'\u001b[0m: \u001b[1m{\u001b[0m\u001b[32m'target'\u001b[0m: \u001b[32m'Mid'\u001b[0m, \u001b[32m'mode'\u001b[0m: \u001b[32m'auto'\u001b[0m\u001b[1m}\u001b[0m,\n",
       "        \u001b[32m'binarize_data'\u001b[0m: \u001b[1m{\u001b[0m\u001b[32m'binarize_operator'\u001b[0m: \u001b[32m'>'\u001b[0m, \u001b[32m'binarize_threshold'\u001b[0m: \u001b[1;36m113.0\u001b[0m\u001b[1m}\u001b[0m\n",
       "    \u001b[1m}\u001b[0m\n",
       "\u001b[1m]\u001b[0m"
      ]
     },
     "execution_count": 70,
     "metadata": {},
     "output_type": "execute_result"
    }
   ],
   "source": [
    "decoded_experiments"
   ]
  },
  {
   "cell_type": "code",
   "execution_count": null,
   "metadata": {},
   "outputs": [
    {
     "name": "stdout",
     "output_type": "stream",
     "text": [
      "simple\n",
      "full\n",
      "simple_grouped\n",
      "simple_NC_BC\n",
      "full_NC_BC\n"
     ]
    }
   ],
   "source": [
    "overrides = {\"experiment\": {}}\n",
    "for experiment in decoded_experiments:\n",
    "    experiment_name = experiment[\"experiment_name\"]\n",
    "    print(experiment_name)\n",
    "    override_dict = {\n",
    "        \"_overrides\": experiment,\n",
    "        \"experiment_config\": \"${merge:${..experiment_config},${._overrides}}\"\n",
    "    }\n",
    "    overrides[\"experiment\"][experiment_name] = override_dict\n"
   ]
  },
  {
   "cell_type": "code",
   "execution_count": null,
   "metadata": {},
   "outputs": [
    {
     "data": {
      "text/html": [
       "<pre style=\"white-space:pre;overflow-x:auto;line-height:normal;font-family:Menlo,'DejaVu Sans Mono',consolas,'Courier New',monospace\"></pre>\n"
      ],
      "text/plain": []
     },
     "metadata": {},
     "output_type": "display_data"
    },
    {
     "data": {
      "text/plain": [
       "\n",
       "\u001b[1m{\u001b[0m\n",
       "    \u001b[32m'experiment'\u001b[0m: \u001b[1m{\u001b[0m\n",
       "        \u001b[32m'simple'\u001b[0m: \u001b[1m{\u001b[0m\n",
       "            \u001b[32m'_overrides'\u001b[0m: \u001b[1m{\u001b[0m\n",
       "                \u001b[32m'experiment_name'\u001b[0m: \u001b[32m'simple'\u001b[0m,\n",
       "                \u001b[32m'analyze_and_model'\u001b[0m: \u001b[1m{\u001b[0m\u001b[32m'target'\u001b[0m: \u001b[32m'Mid'\u001b[0m, \u001b[32m'mode'\u001b[0m: \u001b[32m'quick'\u001b[0m\u001b[1m}\u001b[0m\n",
       "            \u001b[1m}\u001b[0m,\n",
       "            \u001b[32m'experiment_config'\u001b[0m: \u001b[32m'$\u001b[0m\u001b[32m{\u001b[0m\u001b[32mmerge:$\u001b[0m\u001b[32m{\u001b[0m\u001b[32m..experiment_config\u001b[0m\u001b[32m}\u001b[0m\u001b[32m,$\u001b[0m\u001b[32m{\u001b[0m\u001b[32m._overrides\u001b[0m\u001b[32m}\u001b[0m\u001b[32m}\u001b[0m\u001b[32m'\u001b[0m\n",
       "        \u001b[1m}\u001b[0m,\n",
       "        \u001b[32m'full'\u001b[0m: \u001b[1m{\u001b[0m\n",
       "            \u001b[32m'_overrides'\u001b[0m: \u001b[1m{\u001b[0m\n",
       "                \u001b[32m'experiment_name'\u001b[0m: \u001b[32m'full'\u001b[0m,\n",
       "                \u001b[32m'analyze_and_model'\u001b[0m: \u001b[1m{\u001b[0m\u001b[32m'target'\u001b[0m: \u001b[32m'Mid'\u001b[0m, \u001b[32m'mode'\u001b[0m: \u001b[32m'auto'\u001b[0m\u001b[1m}\u001b[0m\n",
       "            \u001b[1m}\u001b[0m,\n",
       "            \u001b[32m'experiment_config'\u001b[0m: \u001b[32m'$\u001b[0m\u001b[32m{\u001b[0m\u001b[32mmerge:$\u001b[0m\u001b[32m{\u001b[0m\u001b[32m..experiment_config\u001b[0m\u001b[32m}\u001b[0m\u001b[32m,$\u001b[0m\u001b[32m{\u001b[0m\u001b[32m._overrides\u001b[0m\u001b[32m}\u001b[0m\u001b[32m}\u001b[0m\u001b[32m'\u001b[0m\n",
       "        \u001b[1m}\u001b[0m,\n",
       "        \u001b[32m'simple_grouped'\u001b[0m: \u001b[1m{\u001b[0m\n",
       "            \u001b[32m'_overrides'\u001b[0m: \u001b[1m{\u001b[0m\n",
       "                \u001b[32m'experiment_name'\u001b[0m: \u001b[32m'simple_grouped'\u001b[0m,\n",
       "                \u001b[32m'analyze_and_model'\u001b[0m: \u001b[1m{\u001b[0m\u001b[32m'target'\u001b[0m: \u001b[32m'Mid'\u001b[0m, \u001b[32m'mode'\u001b[0m: \u001b[32m'quick'\u001b[0m\u001b[1m}\u001b[0m,\n",
       "                \u001b[32m'group_data'\u001b[0m: \u001b[1m{\u001b[0m\u001b[32m'partition_column'\u001b[0m: \u001b[32m'tier'\u001b[0m\u001b[1m}\u001b[0m\n",
       "            \u001b[1m}\u001b[0m,\n",
       "            \u001b[32m'experiment_config'\u001b[0m: \u001b[32m'$\u001b[0m\u001b[32m{\u001b[0m\u001b[32mmerge:$\u001b[0m\u001b[32m{\u001b[0m\u001b[32m..experiment_config\u001b[0m\u001b[32m}\u001b[0m\u001b[32m,$\u001b[0m\u001b[32m{\u001b[0m\u001b[32m._overrides\u001b[0m\u001b[32m}\u001b[0m\u001b[32m}\u001b[0m\u001b[32m'\u001b[0m\n",
       "        \u001b[1m}\u001b[0m,\n",
       "        \u001b[32m'simple_NC_BC'\u001b[0m: \u001b[1m{\u001b[0m\n",
       "            \u001b[32m'_overrides'\u001b[0m: \u001b[1m{\u001b[0m\n",
       "                \u001b[32m'experiment_name'\u001b[0m: \u001b[32m'simple_NC_BC'\u001b[0m,\n",
       "                \u001b[32m'analyze_and_model'\u001b[0m: \u001b[1m{\u001b[0m\u001b[32m'target'\u001b[0m: \u001b[32m'Mid'\u001b[0m, \u001b[32m'mode'\u001b[0m: \u001b[32m'quick'\u001b[0m\u001b[1m}\u001b[0m,\n",
       "                \u001b[32m'binarize_data'\u001b[0m: \u001b[1m{\u001b[0m\u001b[32m'binarize_operator'\u001b[0m: \u001b[32m'>'\u001b[0m, \u001b[32m'binarize_threshold'\u001b[0m: \u001b[1;36m113.0\u001b[0m\u001b[1m}\u001b[0m\n",
       "            \u001b[1m}\u001b[0m,\n",
       "            \u001b[32m'experiment_config'\u001b[0m: \u001b[32m'$\u001b[0m\u001b[32m{\u001b[0m\u001b[32mmerge:$\u001b[0m\u001b[32m{\u001b[0m\u001b[32m..experiment_config\u001b[0m\u001b[32m}\u001b[0m\u001b[32m,$\u001b[0m\u001b[32m{\u001b[0m\u001b[32m._overrides\u001b[0m\u001b[32m}\u001b[0m\u001b[32m}\u001b[0m\u001b[32m'\u001b[0m\n",
       "        \u001b[1m}\u001b[0m,\n",
       "        \u001b[32m'full_NC_BC'\u001b[0m: \u001b[1m{\u001b[0m\n",
       "            \u001b[32m'_overrides'\u001b[0m: \u001b[1m{\u001b[0m\n",
       "                \u001b[32m'experiment_name'\u001b[0m: \u001b[32m'full_NC_BC'\u001b[0m,\n",
       "                \u001b[32m'analyze_and_model'\u001b[0m: \u001b[1m{\u001b[0m\u001b[32m'target'\u001b[0m: \u001b[32m'Mid'\u001b[0m, \u001b[32m'mode'\u001b[0m: \u001b[32m'auto'\u001b[0m\u001b[1m}\u001b[0m,\n",
       "                \u001b[32m'binarize_data'\u001b[0m: \u001b[1m{\u001b[0m\u001b[32m'binarize_operator'\u001b[0m: \u001b[32m'>'\u001b[0m, \u001b[32m'binarize_threshold'\u001b[0m: \u001b[1;36m113.0\u001b[0m\u001b[1m}\u001b[0m\n",
       "            \u001b[1m}\u001b[0m,\n",
       "            \u001b[32m'experiment_config'\u001b[0m: \u001b[32m'$\u001b[0m\u001b[32m{\u001b[0m\u001b[32mmerge:$\u001b[0m\u001b[32m{\u001b[0m\u001b[32m..experiment_config\u001b[0m\u001b[32m}\u001b[0m\u001b[32m,$\u001b[0m\u001b[32m{\u001b[0m\u001b[32m._overrides\u001b[0m\u001b[32m}\u001b[0m\u001b[32m}\u001b[0m\u001b[32m'\u001b[0m\n",
       "        \u001b[1m}\u001b[0m\n",
       "    \u001b[1m}\u001b[0m\n",
       "\u001b[1m}\u001b[0m"
      ]
     },
     "execution_count": 76,
     "metadata": {},
     "output_type": "execute_result"
    }
   ],
   "source": [
    "overrides"
   ]
  },
  {
   "cell_type": "code",
   "execution_count": null,
   "metadata": {},
   "outputs": [],
   "source": [
    "conf_path = str(Path(\".\") / settings.CONF_SOURCE)\n",
    "conf_loader = OmegaConfigLoader(\n",
    "    runtime_params=overrides,\n",
    "    conf_source=conf_path,\n",
    "    base_env=\"base\",\n",
    "    default_run_env=\"local\",\n",
    "    custom_resolvers={\n",
    "        \"merge\": recursive_merge,\n",
    "    },\n",
    ")"
   ]
  },
  {
   "cell_type": "code",
   "execution_count": null,
   "metadata": {},
   "outputs": [
    {
     "data": {
      "text/html": [
       "<pre style=\"white-space:pre;overflow-x:auto;line-height:normal;font-family:Menlo,'DejaVu Sans Mono',consolas,'Courier New',monospace\"></pre>\n"
      ],
      "text/plain": []
     },
     "metadata": {},
     "output_type": "display_data"
    },
    {
     "data": {
      "text/plain": [
       "\n",
       "\u001b[1m{\u001b[0m\n",
       "    \u001b[32m'collect'\u001b[0m: \u001b[1m{\u001b[0m\u001b[32m'deployments_combined'\u001b[0m: \u001b[3;35mNone\u001b[0m\u001b[1m}\u001b[0m,\n",
       "    \u001b[32m'use_case_name'\u001b[0m: \u001b[32m'x-flow Demo'\u001b[0m,\n",
       "    \u001b[32m'experiment'\u001b[0m: \u001b[1m{\u001b[0m\n",
       "        \u001b[32m'experiment_name'\u001b[0m: \u001b[3;35mNone\u001b[0m,\n",
       "        \u001b[32m'experiment_config'\u001b[0m: \u001b[1m{\u001b[0m\n",
       "            \u001b[32m'analyze_and_model'\u001b[0m: \u001b[1m{\u001b[0m\u001b[32m'target'\u001b[0m: \u001b[3;35mNone\u001b[0m, \u001b[32m'max_wait'\u001b[0m: \u001b[1;36m10000\u001b[0m, \u001b[32m'worker_count'\u001b[0m: \u001b[1;36m-1\u001b[0m\u001b[1m}\u001b[0m,\n",
       "            \u001b[32m'datetime_partitioning'\u001b[0m: \u001b[1m{\u001b[0m\n",
       "                \u001b[32m'use_time_series'\u001b[0m: \u001b[3;91mFalse\u001b[0m,\n",
       "                \u001b[32m'datetime_partition_column'\u001b[0m: \u001b[32m'date'\u001b[0m,\n",
       "                \u001b[32m'number_of_backtests'\u001b[0m: \u001b[1;36m3\u001b[0m\n",
       "            \u001b[1m}\u001b[0m,\n",
       "            \u001b[32m'binarize_data_config'\u001b[0m: \u001b[3;35mNone\u001b[0m,\n",
       "            \u001b[32m'fire_config'\u001b[0m: \u001b[3;35mNone\u001b[0m,\n",
       "            \u001b[32m'partition_column'\u001b[0m: \u001b[3;35mNone\u001b[0m,\n",
       "            \u001b[32m'main_metric'\u001b[0m: \u001b[32m'generalized_f1'\u001b[0m,\n",
       "            \u001b[32m'date_format'\u001b[0m: \u001b[32m'%d/%m/%Y'\u001b[0m\n",
       "        \u001b[1m}\u001b[0m,\n",
       "        \u001b[32m'simple'\u001b[0m: \u001b[1m{\u001b[0m\n",
       "            \u001b[32m'_overrides'\u001b[0m: \u001b[1m{\u001b[0m\n",
       "                \u001b[32m'experiment_name'\u001b[0m: \u001b[32m'simple'\u001b[0m,\n",
       "                \u001b[32m'analyze_and_model'\u001b[0m: \u001b[1m{\u001b[0m\u001b[32m'target'\u001b[0m: \u001b[32m'Mid'\u001b[0m, \u001b[32m'mode'\u001b[0m: \u001b[32m'quick'\u001b[0m\u001b[1m}\u001b[0m\n",
       "            \u001b[1m}\u001b[0m,\n",
       "            \u001b[32m'experiment_config'\u001b[0m: \u001b[1m{\u001b[0m\n",
       "                \u001b[32m'analyze_and_model'\u001b[0m: \u001b[1m{\u001b[0m\u001b[32m'target'\u001b[0m: \u001b[32m'Mid'\u001b[0m, \u001b[32m'mode'\u001b[0m: \u001b[32m'quick'\u001b[0m\u001b[1m}\u001b[0m,\n",
       "                \u001b[32m'datetime_partitioning'\u001b[0m: \u001b[1m{\u001b[0m\n",
       "                    \u001b[32m'use_time_series'\u001b[0m: \u001b[3;91mFalse\u001b[0m,\n",
       "                    \u001b[32m'datetime_partition_column'\u001b[0m: \u001b[32m'date'\u001b[0m,\n",
       "                    \u001b[32m'number_of_backtests'\u001b[0m: \u001b[1;36m3\u001b[0m\n",
       "                \u001b[1m}\u001b[0m,\n",
       "                \u001b[32m'binarize_data_config'\u001b[0m: \u001b[3;35mNone\u001b[0m,\n",
       "                \u001b[32m'fire_config'\u001b[0m: \u001b[3;35mNone\u001b[0m,\n",
       "                \u001b[32m'partition_column'\u001b[0m: \u001b[3;35mNone\u001b[0m,\n",
       "                \u001b[32m'main_metric'\u001b[0m: \u001b[32m'generalized_f1'\u001b[0m,\n",
       "                \u001b[32m'date_format'\u001b[0m: \u001b[32m'%d/%m/%Y'\u001b[0m,\n",
       "                \u001b[32m'experiment_name'\u001b[0m: \u001b[32m'simple'\u001b[0m\n",
       "            \u001b[1m}\u001b[0m\n",
       "        \u001b[1m}\u001b[0m,\n",
       "        \u001b[32m'full'\u001b[0m: \u001b[1m{\u001b[0m\n",
       "            \u001b[32m'_overrides'\u001b[0m: \u001b[1m{\u001b[0m\n",
       "                \u001b[32m'experiment_name'\u001b[0m: \u001b[32m'full'\u001b[0m,\n",
       "                \u001b[32m'analyze_and_model'\u001b[0m: \u001b[1m{\u001b[0m\u001b[32m'target'\u001b[0m: \u001b[32m'Mid'\u001b[0m, \u001b[32m'mode'\u001b[0m: \u001b[32m'auto'\u001b[0m\u001b[1m}\u001b[0m\n",
       "            \u001b[1m}\u001b[0m,\n",
       "            \u001b[32m'experiment_config'\u001b[0m: \u001b[1m{\u001b[0m\n",
       "                \u001b[32m'analyze_and_model'\u001b[0m: \u001b[1m{\u001b[0m\u001b[32m'target'\u001b[0m: \u001b[32m'Mid'\u001b[0m, \u001b[32m'mode'\u001b[0m: \u001b[32m'auto'\u001b[0m\u001b[1m}\u001b[0m,\n",
       "                \u001b[32m'datetime_partitioning'\u001b[0m: \u001b[1m{\u001b[0m\n",
       "                    \u001b[32m'use_time_series'\u001b[0m: \u001b[3;91mFalse\u001b[0m,\n",
       "                    \u001b[32m'datetime_partition_column'\u001b[0m: \u001b[32m'date'\u001b[0m,\n",
       "                    \u001b[32m'number_of_backtests'\u001b[0m: \u001b[1;36m3\u001b[0m\n",
       "                \u001b[1m}\u001b[0m,\n",
       "                \u001b[32m'binarize_data_config'\u001b[0m: \u001b[3;35mNone\u001b[0m,\n",
       "                \u001b[32m'fire_config'\u001b[0m: \u001b[3;35mNone\u001b[0m,\n",
       "                \u001b[32m'partition_column'\u001b[0m: \u001b[3;35mNone\u001b[0m,\n",
       "                \u001b[32m'main_metric'\u001b[0m: \u001b[32m'generalized_f1'\u001b[0m,\n",
       "                \u001b[32m'date_format'\u001b[0m: \u001b[32m'%d/%m/%Y'\u001b[0m,\n",
       "                \u001b[32m'experiment_name'\u001b[0m: \u001b[32m'full'\u001b[0m\n",
       "            \u001b[1m}\u001b[0m\n",
       "        \u001b[1m}\u001b[0m,\n",
       "        \u001b[32m'simple_grouped'\u001b[0m: \u001b[1m{\u001b[0m\n",
       "            \u001b[32m'_overrides'\u001b[0m: \u001b[1m{\u001b[0m\n",
       "                \u001b[32m'experiment_name'\u001b[0m: \u001b[32m'simple_grouped'\u001b[0m,\n",
       "                \u001b[32m'analyze_and_model'\u001b[0m: \u001b[1m{\u001b[0m\u001b[32m'target'\u001b[0m: \u001b[32m'Mid'\u001b[0m, \u001b[32m'mode'\u001b[0m: \u001b[32m'quick'\u001b[0m\u001b[1m}\u001b[0m,\n",
       "                \u001b[32m'group_data'\u001b[0m: \u001b[1m{\u001b[0m\u001b[32m'partition_column'\u001b[0m: \u001b[32m'tier'\u001b[0m\u001b[1m}\u001b[0m\n",
       "            \u001b[1m}\u001b[0m,\n",
       "            \u001b[32m'experiment_config'\u001b[0m: \u001b[1m{\u001b[0m\n",
       "                \u001b[32m'analyze_and_model'\u001b[0m: \u001b[1m{\u001b[0m\u001b[32m'target'\u001b[0m: \u001b[32m'Mid'\u001b[0m, \u001b[32m'mode'\u001b[0m: \u001b[32m'quick'\u001b[0m\u001b[1m}\u001b[0m,\n",
       "                \u001b[32m'datetime_partitioning'\u001b[0m: \u001b[1m{\u001b[0m\n",
       "                    \u001b[32m'use_time_series'\u001b[0m: \u001b[3;91mFalse\u001b[0m,\n",
       "                    \u001b[32m'datetime_partition_column'\u001b[0m: \u001b[32m'date'\u001b[0m,\n",
       "                    \u001b[32m'number_of_backtests'\u001b[0m: \u001b[1;36m3\u001b[0m\n",
       "                \u001b[1m}\u001b[0m,\n",
       "                \u001b[32m'binarize_data_config'\u001b[0m: \u001b[3;35mNone\u001b[0m,\n",
       "                \u001b[32m'fire_config'\u001b[0m: \u001b[3;35mNone\u001b[0m,\n",
       "                \u001b[32m'partition_column'\u001b[0m: \u001b[3;35mNone\u001b[0m,\n",
       "                \u001b[32m'main_metric'\u001b[0m: \u001b[32m'generalized_f1'\u001b[0m,\n",
       "                \u001b[32m'date_format'\u001b[0m: \u001b[32m'%d/%m/%Y'\u001b[0m,\n",
       "                \u001b[32m'experiment_name'\u001b[0m: \u001b[32m'simple_grouped'\u001b[0m,\n",
       "                \u001b[32m'group_data'\u001b[0m: \u001b[1m{\u001b[0m\u001b[32m'partition_column'\u001b[0m: \u001b[32m'tier'\u001b[0m\u001b[1m}\u001b[0m\n",
       "            \u001b[1m}\u001b[0m\n",
       "        \u001b[1m}\u001b[0m,\n",
       "        \u001b[32m'simple_NC_BC'\u001b[0m: \u001b[1m{\u001b[0m\n",
       "            \u001b[32m'_overrides'\u001b[0m: \u001b[1m{\u001b[0m\n",
       "                \u001b[32m'experiment_name'\u001b[0m: \u001b[32m'simple_NC_BC'\u001b[0m,\n",
       "                \u001b[32m'analyze_and_model'\u001b[0m: \u001b[1m{\u001b[0m\u001b[32m'target'\u001b[0m: \u001b[32m'Mid'\u001b[0m, \u001b[32m'mode'\u001b[0m: \u001b[32m'quick'\u001b[0m\u001b[1m}\u001b[0m,\n",
       "                \u001b[32m'binarize_data'\u001b[0m: \u001b[1m{\u001b[0m\u001b[32m'binarize_operator'\u001b[0m: \u001b[32m'>'\u001b[0m, \u001b[32m'binarize_threshold'\u001b[0m: \u001b[1;36m113.0\u001b[0m\u001b[1m}\u001b[0m\n",
       "            \u001b[1m}\u001b[0m,\n",
       "            \u001b[32m'experiment_config'\u001b[0m: \u001b[1m{\u001b[0m\n",
       "                \u001b[32m'analyze_and_model'\u001b[0m: \u001b[1m{\u001b[0m\u001b[32m'target'\u001b[0m: \u001b[32m'Mid'\u001b[0m, \u001b[32m'mode'\u001b[0m: \u001b[32m'quick'\u001b[0m\u001b[1m}\u001b[0m,\n",
       "                \u001b[32m'datetime_partitioning'\u001b[0m: \u001b[1m{\u001b[0m\n",
       "                    \u001b[32m'use_time_series'\u001b[0m: \u001b[3;91mFalse\u001b[0m,\n",
       "                    \u001b[32m'datetime_partition_column'\u001b[0m: \u001b[32m'date'\u001b[0m,\n",
       "                    \u001b[32m'number_of_backtests'\u001b[0m: \u001b[1;36m3\u001b[0m\n",
       "                \u001b[1m}\u001b[0m,\n",
       "                \u001b[32m'binarize_data_config'\u001b[0m: \u001b[3;35mNone\u001b[0m,\n",
       "                \u001b[32m'fire_config'\u001b[0m: \u001b[3;35mNone\u001b[0m,\n",
       "                \u001b[32m'partition_column'\u001b[0m: \u001b[3;35mNone\u001b[0m,\n",
       "                \u001b[32m'main_metric'\u001b[0m: \u001b[32m'generalized_f1'\u001b[0m,\n",
       "                \u001b[32m'date_format'\u001b[0m: \u001b[32m'%d/%m/%Y'\u001b[0m,\n",
       "                \u001b[32m'experiment_name'\u001b[0m: \u001b[32m'simple_NC_BC'\u001b[0m,\n",
       "                \u001b[32m'binarize_data'\u001b[0m: \u001b[1m{\u001b[0m\u001b[32m'binarize_operator'\u001b[0m: \u001b[32m'>'\u001b[0m, \u001b[32m'binarize_threshold'\u001b[0m: \u001b[1;36m113.0\u001b[0m\u001b[1m}\u001b[0m\n",
       "            \u001b[1m}\u001b[0m\n",
       "        \u001b[1m}\u001b[0m,\n",
       "        \u001b[32m'full_NC_BC'\u001b[0m: \u001b[1m{\u001b[0m\n",
       "            \u001b[32m'_overrides'\u001b[0m: \u001b[1m{\u001b[0m\n",
       "                \u001b[32m'experiment_name'\u001b[0m: \u001b[32m'full_NC_BC'\u001b[0m,\n",
       "                \u001b[32m'analyze_and_model'\u001b[0m: \u001b[1m{\u001b[0m\u001b[32m'target'\u001b[0m: \u001b[32m'Mid'\u001b[0m, \u001b[32m'mode'\u001b[0m: \u001b[32m'auto'\u001b[0m\u001b[1m}\u001b[0m,\n",
       "                \u001b[32m'binarize_data'\u001b[0m: \u001b[1m{\u001b[0m\u001b[32m'binarize_operator'\u001b[0m: \u001b[32m'>'\u001b[0m, \u001b[32m'binarize_threshold'\u001b[0m: \u001b[1;36m113.0\u001b[0m\u001b[1m}\u001b[0m\n",
       "            \u001b[1m}\u001b[0m,\n",
       "            \u001b[32m'experiment_config'\u001b[0m: \u001b[1m{\u001b[0m\n",
       "                \u001b[32m'analyze_and_model'\u001b[0m: \u001b[1m{\u001b[0m\u001b[32m'target'\u001b[0m: \u001b[32m'Mid'\u001b[0m, \u001b[32m'mode'\u001b[0m: \u001b[32m'auto'\u001b[0m\u001b[1m}\u001b[0m,\n",
       "                \u001b[32m'datetime_partitioning'\u001b[0m: \u001b[1m{\u001b[0m\n",
       "                    \u001b[32m'use_time_series'\u001b[0m: \u001b[3;91mFalse\u001b[0m,\n",
       "                    \u001b[32m'datetime_partition_column'\u001b[0m: \u001b[32m'date'\u001b[0m,\n",
       "                    \u001b[32m'number_of_backtests'\u001b[0m: \u001b[1;36m3\u001b[0m\n",
       "                \u001b[1m}\u001b[0m,\n",
       "                \u001b[32m'binarize_data_config'\u001b[0m: \u001b[3;35mNone\u001b[0m,\n",
       "                \u001b[32m'fire_config'\u001b[0m: \u001b[3;35mNone\u001b[0m,\n",
       "                \u001b[32m'partition_column'\u001b[0m: \u001b[3;35mNone\u001b[0m,\n",
       "                \u001b[32m'main_metric'\u001b[0m: \u001b[32m'generalized_f1'\u001b[0m,\n",
       "                \u001b[32m'date_format'\u001b[0m: \u001b[32m'%d/%m/%Y'\u001b[0m,\n",
       "                \u001b[32m'experiment_name'\u001b[0m: \u001b[32m'full_NC_BC'\u001b[0m,\n",
       "                \u001b[32m'binarize_data'\u001b[0m: \u001b[1m{\u001b[0m\u001b[32m'binarize_operator'\u001b[0m: \u001b[32m'>'\u001b[0m, \u001b[32m'binarize_threshold'\u001b[0m: \u001b[1;36m113.0\u001b[0m\u001b[1m}\u001b[0m\n",
       "            \u001b[1m}\u001b[0m\n",
       "        \u001b[1m}\u001b[0m\n",
       "    \u001b[1m}\u001b[0m\n",
       "\u001b[1m}\u001b[0m"
      ]
     },
     "execution_count": 78,
     "metadata": {},
     "output_type": "execute_result"
    }
   ],
   "source": [
    "conf_loader[\"parameters\"]"
   ]
  },
  {
   "cell_type": "code",
   "execution_count": null,
   "metadata": {},
   "outputs": [],
   "source": [
    "{}.update({})"
   ]
  },
  {
   "cell_type": "code",
   "execution_count": null,
   "metadata": {},
   "outputs": [],
   "source": []
  }
 ],
 "metadata": {
  "kernelspec": {
   "display_name": "Python 3 (ipykernel)",
   "language": "python",
   "name": "python3"
  },
  "language_info": {
   "codemirror_mode": {
    "name": "ipython",
    "version": 3
   },
   "file_extension": ".py",
   "mimetype": "text/x-python",
   "name": "python",
   "nbconvert_exporter": "python",
   "pygments_lexer": "ipython3",
   "version": "3.11.9"
  }
 },
 "nbformat": 4,
 "nbformat_minor": 2
}
