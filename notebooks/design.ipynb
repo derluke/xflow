{
 "cells": [
  {
   "cell_type": "code",
   "execution_count": 1,
   "metadata": {},
   "outputs": [],
   "source": [
    "# data processing\n",
    "import datetime\n",
    "import logging\n",
    "import warnings\n",
    "from dataclasses import dataclass\n",
    "from pathlib import Path\n",
    "from typing import Optional, Union\n",
    "\n",
    "import datarobot as dr\n",
    "import polars as pl\n",
    "\n",
    "log = logging.getLogger(__name__)\n",
    "\n",
    "dr_logger = logging.getLogger(\"datarobot.models.project\")\n",
    "for handler in dr_logger.handlers:\n",
    "    if isinstance(handler, logging.StreamHandler):\n",
    "        # log.info(f\"Removing handler {handler}\")\n",
    "        dr_logger.removeHandler(handler)\n",
    "\n",
    "\n",
    "warnings.filterwarnings(\n",
    "    action=\"ignore\", category=pl.exceptions.PolarsInefficientMapWarning\n",
    ")\n",
    "warnings.filterwarnings(action=\"ignore\", category=dr.errors.DataRobotDeprecationWarning)\n",
    "\n",
    "\n",
    "@dataclass(kw_only=True)\n",
    "class Data:\n",
    "    df: pl.DataFrame\n",
    "    columns: Optional[list[str]] = None\n",
    "    row_index: Optional[list[int]] = None\n",
    "    date_partition_column: Optional[Union[str, list[datetime.datetime]]] = None\n",
    "    partition_column: Optional[str] = None\n",
    "    date_column: Optional[str] = None\n",
    "    date_format: str = \"%Y-%m-%d\"\n",
    "    target_column: str\n",
    "\n",
    "    @staticmethod\n",
    "    def load(load_path: Path, target_column: str, **kwargs) -> \"Data\":\n",
    "        df = pl.read_csv(\n",
    "            load_path,\n",
    "        )\n",
    "        return Data(df=df, target_column=target_column, **kwargs)\n",
    "\n",
    "    @property\n",
    "    def rendered_df(self) -> pl.DataFrame:\n",
    "        df = self.df\n",
    "        if self.columns is not None and len(self.columns):\n",
    "            columns = self.columns\n",
    "            if self.date_column is not None:\n",
    "                columns = [self.date_column] + columns\n",
    "            if self.target_column is not None:\n",
    "                columns = [self.target_column] + columns\n",
    "            if self.partition_column is not None:\n",
    "                columns = [self.partition_column] + columns\n",
    "            if self.date_partition_column is not None and isinstance(\n",
    "                self.date_partition_column, str\n",
    "            ):\n",
    "                columns = [self.date_partition_column] + columns\n",
    "            columns = set(columns)\n",
    "            df = df.select(columns)\n",
    "        if self.row_index is not None and len(self.row_index):\n",
    "            df = df[self.row_index]\n",
    "        if (\n",
    "            self.date_column is not None\n",
    "            and not df.dtypes[df.columns.index(self.date_column)] == pl.Datetime\n",
    "        ):\n",
    "            df = df.with_columns(\n",
    "                pl.col(self.date_column).str.to_datetime(self.date_format)\n",
    "            )\n",
    "        return df\n",
    "\n",
    "    def get_date_partitions(self):\n",
    "        df = self.rendered_df\n",
    "\n",
    "        if self.date_column is None:\n",
    "            raise ValueError(\"date column is not set\")\n",
    "        start_date = df[self.date_column].min()\n",
    "        end_date = df[self.date_column].max()\n",
    "        if self.date_partition_column is None:\n",
    "            return {\"__all__\": df}\n",
    "\n",
    "        elif isinstance(self.date_partition_column, str):\n",
    "            return {\n",
    "                group: group_df\n",
    "                for group, group_df in df.groupby([self.date_partition_column])\n",
    "            }\n",
    "\n",
    "        elif isinstance(self.date_partition_column, list) and isinstance(\n",
    "            self.date_partition_column[0], datetime.datetime\n",
    "        ):\n",
    "            partition_dates = self.date_partition_column\n",
    "            return {\n",
    "                start_date: df.filter(\n",
    "                    df[self.date_column].is_between(start_date, end_date)\n",
    "                )\n",
    "                for start_date, end_date in zip(\n",
    "                    [start_date] + partition_dates, partition_dates + [end_date]\n",
    "                )\n",
    "            }\n",
    "\n",
    "    def get_partitions(self):\n",
    "        df = self.get_dataframe()\n",
    "        if self.partition_column is not None:\n",
    "            return {\n",
    "                group: df_group\n",
    "                for group, df_group in df.groupby([self.partition_column])\n",
    "            }\n",
    "        else:\n",
    "            return {\"__all__\": df}\n",
    "\n",
    "\n",
    "@dataclass(kw_only=True)\n",
    "class TrainingData(Data): ...\n",
    "\n",
    "\n",
    "class ExternalHoldoutData(Data): ...\n",
    "\n",
    "\n",
    "class FeatureSelectionMethod: ...\n",
    "\n",
    "\n",
    "def load(path: str) -> tuple[TrainingData, ExternalHoldoutData]: ...\n",
    "\n",
    "\n",
    "def variable_downsampling(data: Data) -> Data: ...\n",
    "\n",
    "\n",
    "def target_engineering(data: Data) -> Data: ...\n",
    "\n",
    "\n",
    "def feature_selection(data: Data, method: FeatureSelectionMethod) -> Data: ..."
   ]
  },
  {
   "cell_type": "code",
   "execution_count": 2,
   "metadata": {},
   "outputs": [
    {
     "data": {
      "text/html": [
       "<pre style=\"white-space:pre;overflow-x:auto;line-height:normal;font-family:Menlo,'DejaVu Sans Mono',consolas,'Courier New',monospace\"></pre>\n"
      ],
      "text/plain": []
     },
     "metadata": {},
     "output_type": "display_data"
    },
    {
     "data": {
      "text/plain": [
       "\u001b[32m'/home/lukas/code/testing/test_x_flow/recipe-xflow'\u001b[0m"
      ]
     },
     "execution_count": 2,
     "metadata": {},
     "output_type": "execute_result"
    }
   ],
   "source": [
    "pwd"
   ]
  },
  {
   "cell_type": "code",
   "execution_count": 3,
   "metadata": {},
   "outputs": [],
   "source": [
    "training_data = TrainingData.load(\n",
    "    load_path=Path(\"include/x_flow/raw_data/DR_Demo_Bond_trading_RFQ_train.csv\"),\n",
    "    date_column=\"date\",\n",
    "    date_partition_column=[datetime.datetime(2018, 6, 3), datetime.datetime(2018, 6, 24)],\n",
    "    date_format=\"%d/%m/%Y\",\n",
    "    target_column=\"Mid\",\n",
    ")\n",
    "test_data = ExternalHoldoutData.load(\n",
    "    load_path=Path(\"include/x_flow/raw_data/DR_Demo_Bond_trading_RFQ_test.csv\"),\n",
    "    date_column=\"date\",\n",
    "    date_format=\"%d/%m/%Y\",\n",
    "    target_column=\"Mid\",\n",
    ")"
   ]
  },
  {
   "cell_type": "code",
   "execution_count": 4,
   "metadata": {},
   "outputs": [],
   "source": [
    "import datarobotx\n",
    "from copy import deepcopy"
   ]
  },
  {
   "cell_type": "code",
   "execution_count": 5,
   "metadata": {},
   "outputs": [],
   "source": [
    "from abc import ABC, abstractmethod\n",
    "\n",
    "from utils.operator import Operator\n",
    "\n",
    "\n",
    "class DataPreprocessor(ABC):\n",
    "    def fit(self, df: Data) -> \"DataPreprocessor\":\n",
    "        return self._fit(df)\n",
    "\n",
    "    def transform(self, df: Data) -> Data:\n",
    "        df = deepcopy(df)\n",
    "        return self._transform(df)\n",
    "\n",
    "    def fit_transform(self, df: Data) -> Data:\n",
    "        df = deepcopy(df)\n",
    "        return self._fit(df)._transform(df)\n",
    "\n",
    "    @abstractmethod\n",
    "    def _fit(self, df: Data) -> \"DataPreprocessor\": ...\n",
    "    @abstractmethod\n",
    "    def _transform(self, df: Data) -> Data: ...\n",
    "\n",
    "\n",
    "class BinarizeData(DataPreprocessor):\n",
    "    def __init__(\n",
    "        self,\n",
    "        threshold: float,\n",
    "        operator: str,\n",
    "        binarize_drop_regression_target=True,\n",
    "        binarize_new_target_name=\"target_cat\",\n",
    "    ):\n",
    "        self._threshold = threshold\n",
    "        self._operator = operator\n",
    "        self._binarize_drop_regression_target = binarize_drop_regression_target\n",
    "        self._binarize_new_target_name = binarize_new_target_name\n",
    "\n",
    "    def _fit(self, df: Data):\n",
    "        return self\n",
    "\n",
    "    def _transform(self, df: Data) -> Data:\n",
    "        \"\"\"helper function: binarize a target variable for classification\"\"\"\n",
    "        categorical_data = df.rendered_df\n",
    "        target_series = categorical_data[df.target_column]\n",
    "\n",
    "        op_fun = Operator(operator=self._operator).apply_operation(self._threshold)\n",
    "\n",
    "        categorical_data = categorical_data.with_columns(\n",
    "            target_series.map_elements(op_fun, return_dtype=bool).alias(self._binarize_new_target_name)\n",
    "        )\n",
    "        if self._binarize_drop_regression_target:\n",
    "            categorical_data.drop(df.target_column)\n",
    "\n",
    "        df.df = categorical_data\n",
    "        df.target_column = self._binarize_new_target_name\n",
    "\n",
    "        return df"
   ]
  },
  {
   "cell_type": "code",
   "execution_count": null,
   "metadata": {},
   "outputs": [],
   "source": []
  },
  {
   "cell_type": "code",
   "execution_count": null,
   "metadata": {},
   "outputs": [],
   "source": []
  },
  {
   "cell_type": "code",
   "execution_count": 6,
   "metadata": {},
   "outputs": [],
   "source": [
    "from utils.fire import FIRE as FireHelper\n",
    "from datarobotx.idp.autopilot import get_or_create_autopilot_run\n",
    "from datarobotx.idp.datasets import get_or_create_dataset_from_df\n",
    "from datarobotx.idp.common.hashing import get_hash\n"
   ]
  },
  {
   "cell_type": "code",
   "execution_count": 7,
   "metadata": {},
   "outputs": [],
   "source": [
    "class FIRE(DataPreprocessor):\n",
    "    def __init__(\n",
    "        self,\n",
    "        endpoint: str,\n",
    "        token: str,\n",
    "        **kwargs\n",
    "    ):\n",
    "        self._endpoint = endpoint\n",
    "        self._token = token\n",
    "        self._fire_kwargs = kwargs\n",
    "\n",
    "    def _fit(self, df: Data):\n",
    "        dataset_id = get_or_create_dataset_from_df(\n",
    "            endpoint=self._endpoint,\n",
    "            token=self._token,\n",
    "            data_frame=df.rendered_df.to_pandas(),\n",
    "            name=\"fire_dataset\",\n",
    "        )\n",
    "        fire_token = get_hash(**self._fire_kwargs)\n",
    "        project_id = get_or_create_autopilot_run(\n",
    "            endpoint=self._endpoint,\n",
    "            token=self._token,\n",
    "            dataset_id=dataset_id,\n",
    "            name=f\"fire_project [{fire_token}]\",\n",
    "            analyze_and_model_config={\n",
    "                \"target\": df.target_column,\n",
    "                \"mode\": \"quick\",\n",
    "                \"max_wait\": 10000,\n",
    "                \"worker_count\": -1,\n",
    "            },\n",
    "            advanced_options_config={\n",
    "                \"blend_best_models\": False,\n",
    "                \"prepare_model_for_deployment\": False,\n",
    "                \"min_secondary_validation_model_count\": 0,\n",
    "            },\n",
    "        )\n",
    "\n",
    "        fire = FireHelper.get(project_id=project_id)\n",
    "        fire.main_feature_reduction(\n",
    "            **self._fire_kwargs,\n",
    "        )\n",
    "\n",
    "        top_featurelist_name = fire.get_top_model().featurelist_name\n",
    "        top_featurelist = fire.get_featurelist_by_name(top_featurelist_name)  # type: ignore\n",
    "        features = top_featurelist.features  # type: ignore\n",
    "        self._features = features\n",
    "        return self\n",
    "\n",
    "    def _transform(self, df: Data) -> Data:\n",
    "        \"\"\"helper function: select features from FIRE project\"\"\"\n",
    "        df.columns = self._features\n",
    "        return df"
   ]
  },
  {
   "cell_type": "code",
   "execution_count": 8,
   "metadata": {},
   "outputs": [],
   "source": [
    "binarizer = BinarizeData(\n",
    "    threshold=100, operator=\"<\", binarize_drop_regression_target=True)\n",
    "\n",
    "fire = FIRE(\n",
    "    endpoint=\"https://app.datarobot.com/api/v2\",\n",
    "    token=\"NWQ1NDA3YTVmNTU1Y2QxZDQxNmQ1YTZjOklqemlsaHJucTZtdU1NVThMLWpCVldJeEhpYUhOcFVo\",\n",
    "    reduction_method=\"Rank Aggregation\",\n",
    ")"
   ]
  },
  {
   "cell_type": "code",
   "execution_count": 9,
   "metadata": {},
   "outputs": [
    {
     "data": {
      "text/html": [
       "<pre style=\"white-space:pre;overflow-x:auto;line-height:normal;font-family:Menlo,'DejaVu Sans Mono',consolas,'Courier New',monospace\"><span style=\"color: #7fbfbf; text-decoration-color: #7fbfbf\">[06/14/24 22:51:50] </span><span style=\"color: #000080; text-decoration-color: #000080\">INFO    </span> In progress: <span style=\"color: #008080; text-decoration-color: #008080; font-weight: bold\">0</span>, queued: <span style=\"color: #008080; text-decoration-color: #008080; font-weight: bold\">0</span> <span style=\"font-weight: bold\">(</span>waited: 0s<span style=\"font-weight: bold\">)</span>                                 <a href=\"file:///home/lukas/code/testing/test_x_flow/recipe-xflow/.venv/lib/python3.12/site-packages/datarobot/models/project.py\" target=\"_blank\"><span style=\"color: #7f7f7f; text-decoration-color: #7f7f7f\">project.py</span></a><span style=\"color: #7f7f7f; text-decoration-color: #7f7f7f\">:</span><a href=\"file:///home/lukas/code/testing/test_x_flow/recipe-xflow/.venv/lib/python3.12/site-packages/datarobot/models/project.py#4041\" target=\"_blank\"><span style=\"color: #7f7f7f; text-decoration-color: #7f7f7f\">4041</span></a>\n",
       "</pre>\n"
      ],
      "text/plain": [
       "\u001b[2;36m[06/14/24 22:51:50]\u001b[0m\u001b[2;36m \u001b[0m\u001b[34mINFO    \u001b[0m In progress: \u001b[1;36m0\u001b[0m, queued: \u001b[1;36m0\u001b[0m \u001b[1m(\u001b[0mwaited: 0s\u001b[1m)\u001b[0m                                 \u001b]8;id=834823;file:///home/lukas/code/testing/test_x_flow/recipe-xflow/.venv/lib/python3.12/site-packages/datarobot/models/project.py\u001b\\\u001b[2mproject.py\u001b[0m\u001b]8;;\u001b\\\u001b[2m:\u001b[0m\u001b]8;id=776802;file:///home/lukas/code/testing/test_x_flow/recipe-xflow/.venv/lib/python3.12/site-packages/datarobot/models/project.py#4041\u001b\\\u001b[2m4041\u001b[0m\u001b]8;;\u001b\\\n"
      ]
     },
     "metadata": {},
     "output_type": "display_data"
    },
    {
     "data": {
      "text/html": [
       "<pre style=\"white-space:pre;overflow-x:auto;line-height:normal;font-family:Menlo,'DejaVu Sans Mono',consolas,'Courier New',monospace\"><span style=\"color: #7fbfbf; text-decoration-color: #7fbfbf\">[06/14/24 22:52:05] </span><span style=\"color: #000080; text-decoration-color: #000080\">INFO    </span> skipping autopilot for Reduced FL by Median Rank, top2                     <a href=\"file:///home/lukas/code/testing/test_x_flow/recipe-xflow/src/utils/fire.py\" target=\"_blank\"><span style=\"color: #7f7f7f; text-decoration-color: #7f7f7f\">fire.py</span></a><span style=\"color: #7f7f7f; text-decoration-color: #7f7f7f\">:</span><a href=\"file:///home/lukas/code/testing/test_x_flow/recipe-xflow/src/utils/fire.py#680\" target=\"_blank\"><span style=\"color: #7f7f7f; text-decoration-color: #7f7f7f\">680</span></a>\n",
       "</pre>\n"
      ],
      "text/plain": [
       "\u001b[2;36m[06/14/24 22:52:05]\u001b[0m\u001b[2;36m \u001b[0m\u001b[34mINFO    \u001b[0m skipping autopilot for Reduced FL by Median Rank, top2                     \u001b]8;id=142409;file:///home/lukas/code/testing/test_x_flow/recipe-xflow/src/utils/fire.py\u001b\\\u001b[2mfire.py\u001b[0m\u001b]8;;\u001b\\\u001b[2m:\u001b[0m\u001b]8;id=665178;file:///home/lukas/code/testing/test_x_flow/recipe-xflow/src/utils/fire.py#680\u001b\\\u001b[2m680\u001b[0m\u001b]8;;\u001b\\\n"
      ]
     },
     "metadata": {},
     "output_type": "display_data"
    },
    {
     "data": {
      "text/html": [
       "<pre style=\"white-space:pre;overflow-x:auto;line-height:normal;font-family:Menlo,'DejaVu Sans Mono',consolas,'Courier New',monospace\"><span style=\"color: #7fbfbf; text-decoration-color: #7fbfbf\">                    </span><span style=\"color: #000080; text-decoration-color: #000080\">INFO    </span> skipping autopilot for Reduced FL by Median Rank, top2                     <a href=\"file:///home/lukas/code/testing/test_x_flow/recipe-xflow/src/utils/fire.py\" target=\"_blank\"><span style=\"color: #7f7f7f; text-decoration-color: #7f7f7f\">fire.py</span></a><span style=\"color: #7f7f7f; text-decoration-color: #7f7f7f\">:</span><a href=\"file:///home/lukas/code/testing/test_x_flow/recipe-xflow/src/utils/fire.py#680\" target=\"_blank\"><span style=\"color: #7f7f7f; text-decoration-color: #7f7f7f\">680</span></a>\n",
       "</pre>\n"
      ],
      "text/plain": [
       "\u001b[2;36m                   \u001b[0m\u001b[2;36m \u001b[0m\u001b[34mINFO    \u001b[0m skipping autopilot for Reduced FL by Median Rank, top2                     \u001b]8;id=868037;file:///home/lukas/code/testing/test_x_flow/recipe-xflow/src/utils/fire.py\u001b\\\u001b[2mfire.py\u001b[0m\u001b]8;;\u001b\\\u001b[2m:\u001b[0m\u001b]8;id=84409;file:///home/lukas/code/testing/test_x_flow/recipe-xflow/src/utils/fire.py#680\u001b\\\u001b[2m680\u001b[0m\u001b]8;;\u001b\\\n"
      ]
     },
     "metadata": {},
     "output_type": "display_data"
    },
    {
     "data": {
      "text/html": [
       "<pre style=\"white-space:pre;overflow-x:auto;line-height:normal;font-family:Menlo,'DejaVu Sans Mono',consolas,'Courier New',monospace\"><span style=\"color: #7fbfbf; text-decoration-color: #7fbfbf\">[06/14/24 22:52:06] </span><span style=\"color: #000080; text-decoration-color: #000080\">INFO    </span> Run <span style=\"color: #008080; text-decoration-color: #008080; font-weight: bold\">1</span> completed                                                            <a href=\"file:///home/lukas/code/testing/test_x_flow/recipe-xflow/src/utils/fire.py\" target=\"_blank\"><span style=\"color: #7f7f7f; text-decoration-color: #7f7f7f\">fire.py</span></a><span style=\"color: #7f7f7f; text-decoration-color: #7f7f7f\">:</span><a href=\"file:///home/lukas/code/testing/test_x_flow/recipe-xflow/src/utils/fire.py#315\" target=\"_blank\"><span style=\"color: #7f7f7f; text-decoration-color: #7f7f7f\">315</span></a>\n",
       "</pre>\n"
      ],
      "text/plain": [
       "\u001b[2;36m[06/14/24 22:52:06]\u001b[0m\u001b[2;36m \u001b[0m\u001b[34mINFO    \u001b[0m Run \u001b[1;36m1\u001b[0m completed                                                            \u001b]8;id=886874;file:///home/lukas/code/testing/test_x_flow/recipe-xflow/src/utils/fire.py\u001b\\\u001b[2mfire.py\u001b[0m\u001b]8;;\u001b\\\u001b[2m:\u001b[0m\u001b]8;id=187720;file:///home/lukas/code/testing/test_x_flow/recipe-xflow/src/utils/fire.py#315\u001b\\\u001b[2m315\u001b[0m\u001b]8;;\u001b\\\n"
      ]
     },
     "metadata": {},
     "output_type": "display_data"
    },
    {
     "data": {
      "text/html": [
       "<pre style=\"white-space:pre;overflow-x:auto;line-height:normal;font-family:Menlo,'DejaVu Sans Mono',consolas,'Courier New',monospace\"><span style=\"color: #7fbfbf; text-decoration-color: #7fbfbf\">                    </span><span style=\"color: #000080; text-decoration-color: #000080\">INFO    </span> Run <span style=\"color: #008080; text-decoration-color: #008080; font-weight: bold\">1</span> completed                                                            <a href=\"file:///home/lukas/code/testing/test_x_flow/recipe-xflow/src/utils/fire.py\" target=\"_blank\"><span style=\"color: #7f7f7f; text-decoration-color: #7f7f7f\">fire.py</span></a><span style=\"color: #7f7f7f; text-decoration-color: #7f7f7f\">:</span><a href=\"file:///home/lukas/code/testing/test_x_flow/recipe-xflow/src/utils/fire.py#315\" target=\"_blank\"><span style=\"color: #7f7f7f; text-decoration-color: #7f7f7f\">315</span></a>\n",
       "</pre>\n"
      ],
      "text/plain": [
       "\u001b[2;36m                   \u001b[0m\u001b[2;36m \u001b[0m\u001b[34mINFO    \u001b[0m Run \u001b[1;36m1\u001b[0m completed                                                            \u001b]8;id=693024;file:///home/lukas/code/testing/test_x_flow/recipe-xflow/src/utils/fire.py\u001b\\\u001b[2mfire.py\u001b[0m\u001b]8;;\u001b\\\u001b[2m:\u001b[0m\u001b]8;id=726648;file:///home/lukas/code/testing/test_x_flow/recipe-xflow/src/utils/fire.py#315\u001b\\\u001b[2m315\u001b[0m\u001b]8;;\u001b\\\n"
      ]
     },
     "metadata": {},
     "output_type": "display_data"
    },
    {
     "data": {
      "text/html": [
       "<pre style=\"white-space:pre;overflow-x:auto;line-height:normal;font-family:Menlo,'DejaVu Sans Mono',consolas,'Courier New',monospace\"><span style=\"color: #7fbfbf; text-decoration-color: #7fbfbf\">[06/14/24 22:52:21] </span><span style=\"color: #000080; text-decoration-color: #000080\">INFO    </span> skipping autopilot for Reduced FL by Median Rank, top1                     <a href=\"file:///home/lukas/code/testing/test_x_flow/recipe-xflow/src/utils/fire.py\" target=\"_blank\"><span style=\"color: #7f7f7f; text-decoration-color: #7f7f7f\">fire.py</span></a><span style=\"color: #7f7f7f; text-decoration-color: #7f7f7f\">:</span><a href=\"file:///home/lukas/code/testing/test_x_flow/recipe-xflow/src/utils/fire.py#680\" target=\"_blank\"><span style=\"color: #7f7f7f; text-decoration-color: #7f7f7f\">680</span></a>\n",
       "</pre>\n"
      ],
      "text/plain": [
       "\u001b[2;36m[06/14/24 22:52:21]\u001b[0m\u001b[2;36m \u001b[0m\u001b[34mINFO    \u001b[0m skipping autopilot for Reduced FL by Median Rank, top1                     \u001b]8;id=299067;file:///home/lukas/code/testing/test_x_flow/recipe-xflow/src/utils/fire.py\u001b\\\u001b[2mfire.py\u001b[0m\u001b]8;;\u001b\\\u001b[2m:\u001b[0m\u001b]8;id=347211;file:///home/lukas/code/testing/test_x_flow/recipe-xflow/src/utils/fire.py#680\u001b\\\u001b[2m680\u001b[0m\u001b]8;;\u001b\\\n"
      ]
     },
     "metadata": {},
     "output_type": "display_data"
    },
    {
     "data": {
      "text/html": [
       "<pre style=\"white-space:pre;overflow-x:auto;line-height:normal;font-family:Menlo,'DejaVu Sans Mono',consolas,'Courier New',monospace\"><span style=\"color: #7fbfbf; text-decoration-color: #7fbfbf\">                    </span><span style=\"color: #000080; text-decoration-color: #000080\">INFO    </span> skipping autopilot for Reduced FL by Median Rank, top1                     <a href=\"file:///home/lukas/code/testing/test_x_flow/recipe-xflow/src/utils/fire.py\" target=\"_blank\"><span style=\"color: #7f7f7f; text-decoration-color: #7f7f7f\">fire.py</span></a><span style=\"color: #7f7f7f; text-decoration-color: #7f7f7f\">:</span><a href=\"file:///home/lukas/code/testing/test_x_flow/recipe-xflow/src/utils/fire.py#680\" target=\"_blank\"><span style=\"color: #7f7f7f; text-decoration-color: #7f7f7f\">680</span></a>\n",
       "</pre>\n"
      ],
      "text/plain": [
       "\u001b[2;36m                   \u001b[0m\u001b[2;36m \u001b[0m\u001b[34mINFO    \u001b[0m skipping autopilot for Reduced FL by Median Rank, top1                     \u001b]8;id=802459;file:///home/lukas/code/testing/test_x_flow/recipe-xflow/src/utils/fire.py\u001b\\\u001b[2mfire.py\u001b[0m\u001b]8;;\u001b\\\u001b[2m:\u001b[0m\u001b]8;id=33207;file:///home/lukas/code/testing/test_x_flow/recipe-xflow/src/utils/fire.py#680\u001b\\\u001b[2m680\u001b[0m\u001b]8;;\u001b\\\n"
      ]
     },
     "metadata": {},
     "output_type": "display_data"
    },
    {
     "data": {
      "text/html": [
       "<pre style=\"white-space:pre;overflow-x:auto;line-height:normal;font-family:Menlo,'DejaVu Sans Mono',consolas,'Courier New',monospace\"><span style=\"color: #7fbfbf; text-decoration-color: #7fbfbf\">                    </span><span style=\"color: #000080; text-decoration-color: #000080\">INFO    </span> Run <span style=\"color: #008080; text-decoration-color: #008080; font-weight: bold\">2</span> completed                                                            <a href=\"file:///home/lukas/code/testing/test_x_flow/recipe-xflow/src/utils/fire.py\" target=\"_blank\"><span style=\"color: #7f7f7f; text-decoration-color: #7f7f7f\">fire.py</span></a><span style=\"color: #7f7f7f; text-decoration-color: #7f7f7f\">:</span><a href=\"file:///home/lukas/code/testing/test_x_flow/recipe-xflow/src/utils/fire.py#315\" target=\"_blank\"><span style=\"color: #7f7f7f; text-decoration-color: #7f7f7f\">315</span></a>\n",
       "</pre>\n"
      ],
      "text/plain": [
       "\u001b[2;36m                   \u001b[0m\u001b[2;36m \u001b[0m\u001b[34mINFO    \u001b[0m Run \u001b[1;36m2\u001b[0m completed                                                            \u001b]8;id=446374;file:///home/lukas/code/testing/test_x_flow/recipe-xflow/src/utils/fire.py\u001b\\\u001b[2mfire.py\u001b[0m\u001b]8;;\u001b\\\u001b[2m:\u001b[0m\u001b]8;id=442292;file:///home/lukas/code/testing/test_x_flow/recipe-xflow/src/utils/fire.py#315\u001b\\\u001b[2m315\u001b[0m\u001b]8;;\u001b\\\n"
      ]
     },
     "metadata": {},
     "output_type": "display_data"
    },
    {
     "data": {
      "text/html": [
       "<pre style=\"white-space:pre;overflow-x:auto;line-height:normal;font-family:Menlo,'DejaVu Sans Mono',consolas,'Courier New',monospace\"><span style=\"color: #7fbfbf; text-decoration-color: #7fbfbf\">                    </span><span style=\"color: #000080; text-decoration-color: #000080\">INFO    </span> Run <span style=\"color: #008080; text-decoration-color: #008080; font-weight: bold\">2</span> completed                                                            <a href=\"file:///home/lukas/code/testing/test_x_flow/recipe-xflow/src/utils/fire.py\" target=\"_blank\"><span style=\"color: #7f7f7f; text-decoration-color: #7f7f7f\">fire.py</span></a><span style=\"color: #7f7f7f; text-decoration-color: #7f7f7f\">:</span><a href=\"file:///home/lukas/code/testing/test_x_flow/recipe-xflow/src/utils/fire.py#315\" target=\"_blank\"><span style=\"color: #7f7f7f; text-decoration-color: #7f7f7f\">315</span></a>\n",
       "</pre>\n"
      ],
      "text/plain": [
       "\u001b[2;36m                   \u001b[0m\u001b[2;36m \u001b[0m\u001b[34mINFO    \u001b[0m Run \u001b[1;36m2\u001b[0m completed                                                            \u001b]8;id=538620;file:///home/lukas/code/testing/test_x_flow/recipe-xflow/src/utils/fire.py\u001b\\\u001b[2mfire.py\u001b[0m\u001b]8;;\u001b\\\u001b[2m:\u001b[0m\u001b]8;id=37225;file:///home/lukas/code/testing/test_x_flow/recipe-xflow/src/utils/fire.py#315\u001b\\\u001b[2m315\u001b[0m\u001b]8;;\u001b\\\n"
      ]
     },
     "metadata": {},
     "output_type": "display_data"
    },
    {
     "data": {
      "text/html": [
       "<pre style=\"white-space:pre;overflow-x:auto;line-height:normal;font-family:Menlo,'DejaVu Sans Mono',consolas,'Courier New',monospace\"><span style=\"color: #7fbfbf; text-decoration-color: #7fbfbf\">[06/14/24 22:52:34] </span><span style=\"color: #000080; text-decoration-color: #000080\">INFO    </span> new model is worse.                                                        <a href=\"file:///home/lukas/code/testing/test_x_flow/recipe-xflow/src/utils/fire.py\" target=\"_blank\"><span style=\"color: #7f7f7f; text-decoration-color: #7f7f7f\">fire.py</span></a><span style=\"color: #7f7f7f; text-decoration-color: #7f7f7f\">:</span><a href=\"file:///home/lukas/code/testing/test_x_flow/recipe-xflow/src/utils/fire.py#304\" target=\"_blank\"><span style=\"color: #7f7f7f; text-decoration-color: #7f7f7f\">304</span></a>\n",
       "<span style=\"color: #7fbfbf; text-decoration-color: #7fbfbf\">                    </span>         Repeat again. Decay Ratio for Simple and DR reduced methods                <span style=\"color: #7f7f7f; text-decoration-color: #7f7f7f\">           </span>\n",
       "</pre>\n"
      ],
      "text/plain": [
       "\u001b[2;36m[06/14/24 22:52:34]\u001b[0m\u001b[2;36m \u001b[0m\u001b[34mINFO    \u001b[0m new model is worse.                                                        \u001b]8;id=464930;file:///home/lukas/code/testing/test_x_flow/recipe-xflow/src/utils/fire.py\u001b\\\u001b[2mfire.py\u001b[0m\u001b]8;;\u001b\\\u001b[2m:\u001b[0m\u001b]8;id=855550;file:///home/lukas/code/testing/test_x_flow/recipe-xflow/src/utils/fire.py#304\u001b\\\u001b[2m304\u001b[0m\u001b]8;;\u001b\\\n",
       "\u001b[2;36m                    \u001b[0m         Repeat again. Decay Ratio for Simple and DR reduced methods                \u001b[2m           \u001b[0m\n"
      ]
     },
     "metadata": {},
     "output_type": "display_data"
    },
    {
     "data": {
      "text/html": [
       "<pre style=\"white-space:pre;overflow-x:auto;line-height:normal;font-family:Menlo,'DejaVu Sans Mono',consolas,'Courier New',monospace\"><span style=\"color: #7fbfbf; text-decoration-color: #7fbfbf\">                    </span><span style=\"color: #000080; text-decoration-color: #000080\">INFO    </span> new model is worse.                                                        <a href=\"file:///home/lukas/code/testing/test_x_flow/recipe-xflow/src/utils/fire.py\" target=\"_blank\"><span style=\"color: #7f7f7f; text-decoration-color: #7f7f7f\">fire.py</span></a><span style=\"color: #7f7f7f; text-decoration-color: #7f7f7f\">:</span><a href=\"file:///home/lukas/code/testing/test_x_flow/recipe-xflow/src/utils/fire.py#304\" target=\"_blank\"><span style=\"color: #7f7f7f; text-decoration-color: #7f7f7f\">304</span></a>\n",
       "<span style=\"color: #7fbfbf; text-decoration-color: #7fbfbf\">                    </span>         Repeat again. Decay Ratio for Simple and DR reduced methods                <span style=\"color: #7f7f7f; text-decoration-color: #7f7f7f\">           </span>\n",
       "</pre>\n"
      ],
      "text/plain": [
       "\u001b[2;36m                   \u001b[0m\u001b[2;36m \u001b[0m\u001b[34mINFO    \u001b[0m new model is worse.                                                        \u001b]8;id=472178;file:///home/lukas/code/testing/test_x_flow/recipe-xflow/src/utils/fire.py\u001b\\\u001b[2mfire.py\u001b[0m\u001b]8;;\u001b\\\u001b[2m:\u001b[0m\u001b]8;id=780660;file:///home/lukas/code/testing/test_x_flow/recipe-xflow/src/utils/fire.py#304\u001b\\\u001b[2m304\u001b[0m\u001b]8;;\u001b\\\n",
       "\u001b[2;36m                    \u001b[0m         Repeat again. Decay Ratio for Simple and DR reduced methods                \u001b[2m           \u001b[0m\n"
      ]
     },
     "metadata": {},
     "output_type": "display_data"
    },
    {
     "data": {
      "text/html": [
       "<pre style=\"white-space:pre;overflow-x:auto;line-height:normal;font-family:Menlo,'DejaVu Sans Mono',consolas,'Courier New',monospace\"><span style=\"color: #7fbfbf; text-decoration-color: #7fbfbf\">                    </span><span style=\"color: #000080; text-decoration-color: #000080\">INFO    </span> Run <span style=\"color: #008080; text-decoration-color: #008080; font-weight: bold\">3</span> completed                                                            <a href=\"file:///home/lukas/code/testing/test_x_flow/recipe-xflow/src/utils/fire.py\" target=\"_blank\"><span style=\"color: #7f7f7f; text-decoration-color: #7f7f7f\">fire.py</span></a><span style=\"color: #7f7f7f; text-decoration-color: #7f7f7f\">:</span><a href=\"file:///home/lukas/code/testing/test_x_flow/recipe-xflow/src/utils/fire.py#315\" target=\"_blank\"><span style=\"color: #7f7f7f; text-decoration-color: #7f7f7f\">315</span></a>\n",
       "</pre>\n"
      ],
      "text/plain": [
       "\u001b[2;36m                   \u001b[0m\u001b[2;36m \u001b[0m\u001b[34mINFO    \u001b[0m Run \u001b[1;36m3\u001b[0m completed                                                            \u001b]8;id=292648;file:///home/lukas/code/testing/test_x_flow/recipe-xflow/src/utils/fire.py\u001b\\\u001b[2mfire.py\u001b[0m\u001b]8;;\u001b\\\u001b[2m:\u001b[0m\u001b]8;id=763441;file:///home/lukas/code/testing/test_x_flow/recipe-xflow/src/utils/fire.py#315\u001b\\\u001b[2m315\u001b[0m\u001b]8;;\u001b\\\n"
      ]
     },
     "metadata": {},
     "output_type": "display_data"
    },
    {
     "data": {
      "text/html": [
       "<pre style=\"white-space:pre;overflow-x:auto;line-height:normal;font-family:Menlo,'DejaVu Sans Mono',consolas,'Courier New',monospace\"><span style=\"color: #7fbfbf; text-decoration-color: #7fbfbf\">                    </span><span style=\"color: #000080; text-decoration-color: #000080\">INFO    </span> Run <span style=\"color: #008080; text-decoration-color: #008080; font-weight: bold\">3</span> completed                                                            <a href=\"file:///home/lukas/code/testing/test_x_flow/recipe-xflow/src/utils/fire.py\" target=\"_blank\"><span style=\"color: #7f7f7f; text-decoration-color: #7f7f7f\">fire.py</span></a><span style=\"color: #7f7f7f; text-decoration-color: #7f7f7f\">:</span><a href=\"file:///home/lukas/code/testing/test_x_flow/recipe-xflow/src/utils/fire.py#315\" target=\"_blank\"><span style=\"color: #7f7f7f; text-decoration-color: #7f7f7f\">315</span></a>\n",
       "</pre>\n"
      ],
      "text/plain": [
       "\u001b[2;36m                   \u001b[0m\u001b[2;36m \u001b[0m\u001b[34mINFO    \u001b[0m Run \u001b[1;36m3\u001b[0m completed                                                            \u001b]8;id=741473;file:///home/lukas/code/testing/test_x_flow/recipe-xflow/src/utils/fire.py\u001b\\\u001b[2mfire.py\u001b[0m\u001b]8;;\u001b\\\u001b[2m:\u001b[0m\u001b]8;id=54908;file:///home/lukas/code/testing/test_x_flow/recipe-xflow/src/utils/fire.py#315\u001b\\\u001b[2m315\u001b[0m\u001b]8;;\u001b\\\n"
      ]
     },
     "metadata": {},
     "output_type": "display_data"
    },
    {
     "data": {
      "text/html": [
       "<pre style=\"white-space:pre;overflow-x:auto;line-height:normal;font-family:Menlo,'DejaVu Sans Mono',consolas,'Courier New',monospace\"><span style=\"color: #7fbfbf; text-decoration-color: #7fbfbf\">[06/14/24 22:52:48] </span><span style=\"color: #000080; text-decoration-color: #000080\">INFO    </span> new model is worse.                                                        <a href=\"file:///home/lukas/code/testing/test_x_flow/recipe-xflow/src/utils/fire.py\" target=\"_blank\"><span style=\"color: #7f7f7f; text-decoration-color: #7f7f7f\">fire.py</span></a><span style=\"color: #7f7f7f; text-decoration-color: #7f7f7f\">:</span><a href=\"file:///home/lukas/code/testing/test_x_flow/recipe-xflow/src/utils/fire.py#304\" target=\"_blank\"><span style=\"color: #7f7f7f; text-decoration-color: #7f7f7f\">304</span></a>\n",
       "<span style=\"color: #7fbfbf; text-decoration-color: #7fbfbf\">                    </span>         Repeat again. Decay Ratio for Simple and DR reduced methods                <span style=\"color: #7f7f7f; text-decoration-color: #7f7f7f\">           </span>\n",
       "</pre>\n"
      ],
      "text/plain": [
       "\u001b[2;36m[06/14/24 22:52:48]\u001b[0m\u001b[2;36m \u001b[0m\u001b[34mINFO    \u001b[0m new model is worse.                                                        \u001b]8;id=762386;file:///home/lukas/code/testing/test_x_flow/recipe-xflow/src/utils/fire.py\u001b\\\u001b[2mfire.py\u001b[0m\u001b]8;;\u001b\\\u001b[2m:\u001b[0m\u001b]8;id=139681;file:///home/lukas/code/testing/test_x_flow/recipe-xflow/src/utils/fire.py#304\u001b\\\u001b[2m304\u001b[0m\u001b]8;;\u001b\\\n",
       "\u001b[2;36m                    \u001b[0m         Repeat again. Decay Ratio for Simple and DR reduced methods                \u001b[2m           \u001b[0m\n"
      ]
     },
     "metadata": {},
     "output_type": "display_data"
    },
    {
     "data": {
      "text/html": [
       "<pre style=\"white-space:pre;overflow-x:auto;line-height:normal;font-family:Menlo,'DejaVu Sans Mono',consolas,'Courier New',monospace\"><span style=\"color: #7fbfbf; text-decoration-color: #7fbfbf\">                    </span><span style=\"color: #000080; text-decoration-color: #000080\">INFO    </span> new model is worse.                                                        <a href=\"file:///home/lukas/code/testing/test_x_flow/recipe-xflow/src/utils/fire.py\" target=\"_blank\"><span style=\"color: #7f7f7f; text-decoration-color: #7f7f7f\">fire.py</span></a><span style=\"color: #7f7f7f; text-decoration-color: #7f7f7f\">:</span><a href=\"file:///home/lukas/code/testing/test_x_flow/recipe-xflow/src/utils/fire.py#304\" target=\"_blank\"><span style=\"color: #7f7f7f; text-decoration-color: #7f7f7f\">304</span></a>\n",
       "<span style=\"color: #7fbfbf; text-decoration-color: #7fbfbf\">                    </span>         Repeat again. Decay Ratio for Simple and DR reduced methods                <span style=\"color: #7f7f7f; text-decoration-color: #7f7f7f\">           </span>\n",
       "</pre>\n"
      ],
      "text/plain": [
       "\u001b[2;36m                   \u001b[0m\u001b[2;36m \u001b[0m\u001b[34mINFO    \u001b[0m new model is worse.                                                        \u001b]8;id=94245;file:///home/lukas/code/testing/test_x_flow/recipe-xflow/src/utils/fire.py\u001b\\\u001b[2mfire.py\u001b[0m\u001b]8;;\u001b\\\u001b[2m:\u001b[0m\u001b]8;id=792063;file:///home/lukas/code/testing/test_x_flow/recipe-xflow/src/utils/fire.py#304\u001b\\\u001b[2m304\u001b[0m\u001b]8;;\u001b\\\n",
       "\u001b[2;36m                    \u001b[0m         Repeat again. Decay Ratio for Simple and DR reduced methods                \u001b[2m           \u001b[0m\n"
      ]
     },
     "metadata": {},
     "output_type": "display_data"
    },
    {
     "data": {
      "text/html": [
       "<pre style=\"white-space:pre;overflow-x:auto;line-height:normal;font-family:Menlo,'DejaVu Sans Mono',consolas,'Courier New',monospace\"><span style=\"color: #7fbfbf; text-decoration-color: #7fbfbf\">                    </span><span style=\"color: #000080; text-decoration-color: #000080\">INFO    </span> Run <span style=\"color: #008080; text-decoration-color: #008080; font-weight: bold\">4</span> completed                                                            <a href=\"file:///home/lukas/code/testing/test_x_flow/recipe-xflow/src/utils/fire.py\" target=\"_blank\"><span style=\"color: #7f7f7f; text-decoration-color: #7f7f7f\">fire.py</span></a><span style=\"color: #7f7f7f; text-decoration-color: #7f7f7f\">:</span><a href=\"file:///home/lukas/code/testing/test_x_flow/recipe-xflow/src/utils/fire.py#315\" target=\"_blank\"><span style=\"color: #7f7f7f; text-decoration-color: #7f7f7f\">315</span></a>\n",
       "</pre>\n"
      ],
      "text/plain": [
       "\u001b[2;36m                   \u001b[0m\u001b[2;36m \u001b[0m\u001b[34mINFO    \u001b[0m Run \u001b[1;36m4\u001b[0m completed                                                            \u001b]8;id=722839;file:///home/lukas/code/testing/test_x_flow/recipe-xflow/src/utils/fire.py\u001b\\\u001b[2mfire.py\u001b[0m\u001b]8;;\u001b\\\u001b[2m:\u001b[0m\u001b]8;id=923610;file:///home/lukas/code/testing/test_x_flow/recipe-xflow/src/utils/fire.py#315\u001b\\\u001b[2m315\u001b[0m\u001b]8;;\u001b\\\n"
      ]
     },
     "metadata": {},
     "output_type": "display_data"
    },
    {
     "data": {
      "text/html": [
       "<pre style=\"white-space:pre;overflow-x:auto;line-height:normal;font-family:Menlo,'DejaVu Sans Mono',consolas,'Courier New',monospace\"><span style=\"color: #7fbfbf; text-decoration-color: #7fbfbf\">                    </span><span style=\"color: #000080; text-decoration-color: #000080\">INFO    </span> Run <span style=\"color: #008080; text-decoration-color: #008080; font-weight: bold\">4</span> completed                                                            <a href=\"file:///home/lukas/code/testing/test_x_flow/recipe-xflow/src/utils/fire.py\" target=\"_blank\"><span style=\"color: #7f7f7f; text-decoration-color: #7f7f7f\">fire.py</span></a><span style=\"color: #7f7f7f; text-decoration-color: #7f7f7f\">:</span><a href=\"file:///home/lukas/code/testing/test_x_flow/recipe-xflow/src/utils/fire.py#315\" target=\"_blank\"><span style=\"color: #7f7f7f; text-decoration-color: #7f7f7f\">315</span></a>\n",
       "</pre>\n"
      ],
      "text/plain": [
       "\u001b[2;36m                   \u001b[0m\u001b[2;36m \u001b[0m\u001b[34mINFO    \u001b[0m Run \u001b[1;36m4\u001b[0m completed                                                            \u001b]8;id=961675;file:///home/lukas/code/testing/test_x_flow/recipe-xflow/src/utils/fire.py\u001b\\\u001b[2mfire.py\u001b[0m\u001b]8;;\u001b\\\u001b[2m:\u001b[0m\u001b]8;id=879119;file:///home/lukas/code/testing/test_x_flow/recipe-xflow/src/utils/fire.py#315\u001b\\\u001b[2m315\u001b[0m\u001b]8;;\u001b\\\n"
      ]
     },
     "metadata": {},
     "output_type": "display_data"
    },
    {
     "data": {
      "text/html": [
       "<pre style=\"white-space:pre;overflow-x:auto;line-height:normal;font-family:Menlo,'DejaVu Sans Mono',consolas,'Courier New',monospace\"><span style=\"color: #7fbfbf; text-decoration-color: #7fbfbf\">[06/14/24 22:53:02] </span><span style=\"color: #000080; text-decoration-color: #000080\">INFO    </span> new model is worse.                                                        <a href=\"file:///home/lukas/code/testing/test_x_flow/recipe-xflow/src/utils/fire.py\" target=\"_blank\"><span style=\"color: #7f7f7f; text-decoration-color: #7f7f7f\">fire.py</span></a><span style=\"color: #7f7f7f; text-decoration-color: #7f7f7f\">:</span><a href=\"file:///home/lukas/code/testing/test_x_flow/recipe-xflow/src/utils/fire.py#304\" target=\"_blank\"><span style=\"color: #7f7f7f; text-decoration-color: #7f7f7f\">304</span></a>\n",
       "<span style=\"color: #7fbfbf; text-decoration-color: #7fbfbf\">                    </span>         Repeat again. Decay Ratio for Simple and DR reduced methods                <span style=\"color: #7f7f7f; text-decoration-color: #7f7f7f\">           </span>\n",
       "</pre>\n"
      ],
      "text/plain": [
       "\u001b[2;36m[06/14/24 22:53:02]\u001b[0m\u001b[2;36m \u001b[0m\u001b[34mINFO    \u001b[0m new model is worse.                                                        \u001b]8;id=277096;file:///home/lukas/code/testing/test_x_flow/recipe-xflow/src/utils/fire.py\u001b\\\u001b[2mfire.py\u001b[0m\u001b]8;;\u001b\\\u001b[2m:\u001b[0m\u001b]8;id=329996;file:///home/lukas/code/testing/test_x_flow/recipe-xflow/src/utils/fire.py#304\u001b\\\u001b[2m304\u001b[0m\u001b]8;;\u001b\\\n",
       "\u001b[2;36m                    \u001b[0m         Repeat again. Decay Ratio for Simple and DR reduced methods                \u001b[2m           \u001b[0m\n"
      ]
     },
     "metadata": {},
     "output_type": "display_data"
    },
    {
     "data": {
      "text/html": [
       "<pre style=\"white-space:pre;overflow-x:auto;line-height:normal;font-family:Menlo,'DejaVu Sans Mono',consolas,'Courier New',monospace\"><span style=\"color: #7fbfbf; text-decoration-color: #7fbfbf\">                    </span><span style=\"color: #000080; text-decoration-color: #000080\">INFO    </span> new model is worse.                                                        <a href=\"file:///home/lukas/code/testing/test_x_flow/recipe-xflow/src/utils/fire.py\" target=\"_blank\"><span style=\"color: #7f7f7f; text-decoration-color: #7f7f7f\">fire.py</span></a><span style=\"color: #7f7f7f; text-decoration-color: #7f7f7f\">:</span><a href=\"file:///home/lukas/code/testing/test_x_flow/recipe-xflow/src/utils/fire.py#304\" target=\"_blank\"><span style=\"color: #7f7f7f; text-decoration-color: #7f7f7f\">304</span></a>\n",
       "<span style=\"color: #7fbfbf; text-decoration-color: #7fbfbf\">                    </span>         Repeat again. Decay Ratio for Simple and DR reduced methods                <span style=\"color: #7f7f7f; text-decoration-color: #7f7f7f\">           </span>\n",
       "</pre>\n"
      ],
      "text/plain": [
       "\u001b[2;36m                   \u001b[0m\u001b[2;36m \u001b[0m\u001b[34mINFO    \u001b[0m new model is worse.                                                        \u001b]8;id=750026;file:///home/lukas/code/testing/test_x_flow/recipe-xflow/src/utils/fire.py\u001b\\\u001b[2mfire.py\u001b[0m\u001b]8;;\u001b\\\u001b[2m:\u001b[0m\u001b]8;id=754303;file:///home/lukas/code/testing/test_x_flow/recipe-xflow/src/utils/fire.py#304\u001b\\\u001b[2m304\u001b[0m\u001b]8;;\u001b\\\n",
       "\u001b[2;36m                    \u001b[0m         Repeat again. Decay Ratio for Simple and DR reduced methods                \u001b[2m           \u001b[0m\n"
      ]
     },
     "metadata": {},
     "output_type": "display_data"
    },
    {
     "data": {
      "text/html": [
       "<pre style=\"white-space:pre;overflow-x:auto;line-height:normal;font-family:Menlo,'DejaVu Sans Mono',consolas,'Courier New',monospace\"><span style=\"color: #7fbfbf; text-decoration-color: #7fbfbf\">                    </span><span style=\"color: #000080; text-decoration-color: #000080\">INFO    </span> Run <span style=\"color: #008080; text-decoration-color: #008080; font-weight: bold\">5</span> completed                                                            <a href=\"file:///home/lukas/code/testing/test_x_flow/recipe-xflow/src/utils/fire.py\" target=\"_blank\"><span style=\"color: #7f7f7f; text-decoration-color: #7f7f7f\">fire.py</span></a><span style=\"color: #7f7f7f; text-decoration-color: #7f7f7f\">:</span><a href=\"file:///home/lukas/code/testing/test_x_flow/recipe-xflow/src/utils/fire.py#315\" target=\"_blank\"><span style=\"color: #7f7f7f; text-decoration-color: #7f7f7f\">315</span></a>\n",
       "</pre>\n"
      ],
      "text/plain": [
       "\u001b[2;36m                   \u001b[0m\u001b[2;36m \u001b[0m\u001b[34mINFO    \u001b[0m Run \u001b[1;36m5\u001b[0m completed                                                            \u001b]8;id=794325;file:///home/lukas/code/testing/test_x_flow/recipe-xflow/src/utils/fire.py\u001b\\\u001b[2mfire.py\u001b[0m\u001b]8;;\u001b\\\u001b[2m:\u001b[0m\u001b]8;id=748132;file:///home/lukas/code/testing/test_x_flow/recipe-xflow/src/utils/fire.py#315\u001b\\\u001b[2m315\u001b[0m\u001b]8;;\u001b\\\n"
      ]
     },
     "metadata": {},
     "output_type": "display_data"
    },
    {
     "data": {
      "text/html": [
       "<pre style=\"white-space:pre;overflow-x:auto;line-height:normal;font-family:Menlo,'DejaVu Sans Mono',consolas,'Courier New',monospace\"><span style=\"color: #7fbfbf; text-decoration-color: #7fbfbf\">                    </span><span style=\"color: #000080; text-decoration-color: #000080\">INFO    </span> Run <span style=\"color: #008080; text-decoration-color: #008080; font-weight: bold\">5</span> completed                                                            <a href=\"file:///home/lukas/code/testing/test_x_flow/recipe-xflow/src/utils/fire.py\" target=\"_blank\"><span style=\"color: #7f7f7f; text-decoration-color: #7f7f7f\">fire.py</span></a><span style=\"color: #7f7f7f; text-decoration-color: #7f7f7f\">:</span><a href=\"file:///home/lukas/code/testing/test_x_flow/recipe-xflow/src/utils/fire.py#315\" target=\"_blank\"><span style=\"color: #7f7f7f; text-decoration-color: #7f7f7f\">315</span></a>\n",
       "</pre>\n"
      ],
      "text/plain": [
       "\u001b[2;36m                   \u001b[0m\u001b[2;36m \u001b[0m\u001b[34mINFO    \u001b[0m Run \u001b[1;36m5\u001b[0m completed                                                            \u001b]8;id=198787;file:///home/lukas/code/testing/test_x_flow/recipe-xflow/src/utils/fire.py\u001b\\\u001b[2mfire.py\u001b[0m\u001b]8;;\u001b\\\u001b[2m:\u001b[0m\u001b]8;id=558659;file:///home/lukas/code/testing/test_x_flow/recipe-xflow/src/utils/fire.py#315\u001b\\\u001b[2m315\u001b[0m\u001b]8;;\u001b\\\n"
      ]
     },
     "metadata": {},
     "output_type": "display_data"
    },
    {
     "data": {
      "text/html": [
       "<pre style=\"white-space:pre;overflow-x:auto;line-height:normal;font-family:Menlo,'DejaVu Sans Mono',consolas,'Courier New',monospace\"></pre>\n"
      ],
      "text/plain": []
     },
     "metadata": {},
     "output_type": "display_data"
    },
    {
     "data": {
      "text/plain": [
       "\u001b[1m<\u001b[0m\u001b[1;95m__main__.FIRE\u001b[0m\u001b[39m object at \u001b[0m\u001b[1;36m0x7f933c248f50\u001b[0m\u001b[1m>\u001b[0m"
      ]
     },
     "execution_count": 9,
     "metadata": {},
     "output_type": "execute_result"
    }
   ],
   "source": [
    "binarized_data = binarizer.fit_transform(training_data)\n",
    "fire.fit(binarized_data)"
   ]
  },
  {
   "cell_type": "code",
   "execution_count": 10,
   "metadata": {},
   "outputs": [
    {
     "data": {
      "text/html": [
       "<pre style=\"white-space:pre;overflow-x:auto;line-height:normal;font-family:Menlo,'DejaVu Sans Mono',consolas,'Courier New',monospace\"></pre>\n"
      ],
      "text/plain": []
     },
     "metadata": {},
     "output_type": "display_data"
    },
    {
     "data": {
      "text/html": [
       "<div><style>\n",
       ".dataframe > thead > tr,\n",
       ".dataframe > tbody > tr {\n",
       "  text-align: right;\n",
       "  white-space: pre-wrap;\n",
       "}\n",
       "</style>\n",
       "<small>shape: (5, 33)</small><table border=\"1\" class=\"dataframe\"><thead><tr><th>request_id</th><th>date</th><th>cusip</th><th>BidAsk</th><th>Mid</th><th>yield_to_maturity</th><th>years_to_maturity</th><th>years_since_issue</th><th>is_bench_02y</th><th>is_bench_05y</th><th>is_bench_10y</th><th>is_bench_30y</th><th>IssueName</th><th>AmountOut</th><th>issue_date</th><th>Coupon</th><th>Currency</th><th>maturity_date</th><th>counterparty_id</th><th>counterparty_type</th><th>name</th><th>counterparty_aum</th><th>ann_account_value_bln</th><th>tier</th><th>salesperson</th><th>salesperson_num_ac_covered</th><th>notional_EURm</th><th>notional_bps_total_issue</th><th>log_notional</th><th>resp_bidAsk_norm</th><th>response_revenue_EUR</th><th>num_brokers</th><th>trade_won</th></tr><tr><td>i64</td><td>datetime[μs]</td><td>str</td><td>f64</td><td>f64</td><td>f64</td><td>f64</td><td>f64</td><td>bool</td><td>bool</td><td>bool</td><td>bool</td><td>str</td><td>f64</td><td>str</td><td>f64</td><td>str</td><td>str</td><td>str</td><td>str</td><td>str</td><td>f64</td><td>f64</td><td>str</td><td>str</td><td>i64</td><td>i64</td><td>f64</td><td>f64</td><td>f64</td><td>f64</td><td>i64</td><td>bool</td></tr></thead><tbody><tr><td>1777</td><td>2018-01-04 00:00:00</td><td>&quot;D2R8H4AK&quot;</td><td>0.0227</td><td>102.16795</td><td>-0.522589</td><td>3.263585</td><td>2.507923</td><td>false</td><td>false</td><td>false</td><td>false</td><td>&quot;Government of Germany 0.25% 16…</td><td>20713.79945</td><td>&quot;03/07/2015&quot;</td><td>0.25</td><td>&quot;Euro&quot;</td><td>&quot;10/04/2021&quot;</td><td>&quot;LO057&quot;</td><td>&quot;LO&quot;</td><td>&quot;Fayetteville Investments&quot;</td><td>81.673308</td><td>33.523547</td><td>&quot;C&quot;</td><td>&quot;Meghan&quot;</td><td>41</td><td>29</td><td>14.000329</td><td>1.462398</td><td>2.719329</td><td>4028.957313</td><td>10</td><td>true</td></tr><tr><td>1778</td><td>2018-03-06 00:00:00</td><td>&quot;D20658Z9&quot;</td><td>0.1442</td><td>128.7033</td><td>1.284039</td><td>29.005387</td><td>4.01651</td><td>false</td><td>false</td><td>false</td><td>true</td><td>&quot;Government of Germany 2.5% 15-…</td><td>30525.59919</td><td>&quot;28/02/2014&quot;</td><td>2.5</td><td>&quot;Euro&quot;</td><td>&quot;08/03/2047&quot;</td><td>&quot;LO111&quot;</td><td>&quot;LO&quot;</td><td>&quot;Knoxville Pensions&quot;</td><td>114.119618</td><td>30.439696</td><td>&quot;C&quot;</td><td>&quot;Meghan&quot;</td><td>41</td><td>208</td><td>68.139531</td><td>2.318063</td><td>12.510871</td><td>167553.6102</td><td>8</td><td>false</td></tr><tr><td>1779</td><td>2018-09-05 00:00:00</td><td>&quot;D206585A&quot;</td><td>0.028</td><td>100.987</td><td>-0.607714</td><td>2.661246</td><td>3.616775</td><td>false</td><td>false</td><td>false</td><td>false</td><td>&quot;Government of Germany 0.0% 17-…</td><td>21803.99942</td><td>&quot;23/01/2015&quot;</td><td>0.0</td><td>&quot;Euro&quot;</td><td>&quot;04/05/2021&quot;</td><td>&quot;LO140&quot;</td><td>&quot;LO&quot;</td><td>&quot;Cincinnati Capital&quot;</td><td>210.929638</td><td>46.848707</td><td>&quot;A&quot;</td><td>&quot;Kate&quot;</td><td>9</td><td>135</td><td>61.915247</td><td>2.130334</td><td>2.954119</td><td>20139.9049</td><td>9</td><td>false</td></tr><tr><td>1780</td><td>2019-08-14 00:00:00</td><td>&quot;D2R8H4DM&quot;</td><td>0.023</td><td>109.0565</td><td>-0.721392</td><td>9.566247</td><td>1.086949</td><td>false</td><td>false</td><td>true</td><td>false</td><td>&quot;Government of Germany 0.25% 15…</td><td>22894.19939</td><td>&quot;13/07/2018&quot;</td><td>0.25</td><td>&quot;Euro&quot;</td><td>&quot;08/03/2029&quot;</td><td>&quot;LO087&quot;</td><td>&quot;LO&quot;</td><td>&quot;Unalaska Advisors&quot;</td><td>117.150554</td><td>14.189058</td><td>&quot;C&quot;</td><td>&quot;William&quot;</td><td>15</td><td>99</td><td>43.242394</td><td>1.995635</td><td>2.661497</td><td>14369.06668</td><td>11</td><td>false</td></tr><tr><td>1781</td><td>2018-04-25 00:00:00</td><td>&quot;D20659WR&quot;</td><td>0.0242</td><td>106.5311</td><td>-0.492709</td><td>1.957604</td><td>7.685305</td><td>true</td><td>false</td><td>false</td><td>false</td><td>&quot;Government of Germany 2.25% 04…</td><td>17443.19954</td><td>&quot;18/08/2010&quot;</td><td>2.25</td><td>&quot;Euro&quot;</td><td>&quot;09/04/2020&quot;</td><td>&quot;LO090&quot;</td><td>&quot;LO&quot;</td><td>&quot;Jackson Trust&quot;</td><td>135.431575</td><td>50.701944</td><td>&quot;B&quot;</td><td>&quot;Louis&quot;</td><td>3</td><td>228</td><td>130.709965</td><td>2.357935</td><td>2.299022</td><td>27923.75113</td><td>9</td><td>false</td></tr></tbody></table></div>"
      ],
      "text/plain": [
       "\n",
       "shape: \u001b[1m(\u001b[0m\u001b[1;36m5\u001b[0m, \u001b[1;36m33\u001b[0m\u001b[1m)\u001b[0m\n",
       "┌────────────┬────────────┬──────────┬────────┬───┬────────────┬───────────┬───────────┬───────────┐\n",
       "│ request_id ┆ date       ┆ cusip    ┆ BidAsk ┆ … ┆ resp_bidAs ┆ response_ ┆ num_broke ┆ trade_won │\n",
       "│ ---        ┆ ---        ┆ ---      ┆ ---    ┆   ┆ k_norm     ┆ revenue_E ┆ rs        ┆ ---       │\n",
       "│ i64        ┆ datetime\u001b[1m[\u001b[0mμ ┆ str      ┆ f64    ┆   ┆ ---        ┆ UR        ┆ ---       ┆ bool      │\n",
       "│            ┆ s\u001b[1m]\u001b[0m         ┆          ┆        ┆   ┆ f64        ┆ ---       ┆ i64       ┆           │\n",
       "│            ┆            ┆          ┆        ┆   ┆            ┆ f64       ┆           ┆           │\n",
       "╞════════════╪════════════╪══════════╪════════╪═══╪════════════╪═══════════╪═══════════╪═══════════╡\n",
       "│ \u001b[1;36m1777\u001b[0m       ┆ \u001b[1;36m2018\u001b[0m-\u001b[1;36m01\u001b[0m-\u001b[1;36m04\u001b[0m ┆ D2R8H4AK ┆ \u001b[1;36m0.0227\u001b[0m ┆ … ┆ \u001b[1;36m2.719329\u001b[0m   ┆ \u001b[1;36m4028.9573\u001b[0m ┆ \u001b[1;36m10\u001b[0m        ┆ true      │\n",
       "│            ┆ \u001b[1;92m00:00:00\u001b[0m   ┆          ┆        ┆   ┆            ┆ \u001b[1;36m13\u001b[0m        ┆           ┆           │\n",
       "│ \u001b[1;36m1778\u001b[0m       ┆ \u001b[1;36m2018\u001b[0m-\u001b[1;36m03\u001b[0m-\u001b[1;36m06\u001b[0m ┆ D20658Z9 ┆ \u001b[1;36m0.1442\u001b[0m ┆ … ┆ \u001b[1;36m12.510871\u001b[0m  ┆ \u001b[1;36m167553.61\u001b[0m ┆ \u001b[1;36m8\u001b[0m         ┆ false     │\n",
       "│            ┆ \u001b[1;92m00:00:00\u001b[0m   ┆          ┆        ┆   ┆            ┆ \u001b[1;36m02\u001b[0m        ┆           ┆           │\n",
       "│ \u001b[1;36m1779\u001b[0m       ┆ \u001b[1;36m2018\u001b[0m-\u001b[1;36m09\u001b[0m-\u001b[1;36m05\u001b[0m ┆ D206585A ┆ \u001b[1;36m0.028\u001b[0m  ┆ … ┆ \u001b[1;36m2.954119\u001b[0m   ┆ \u001b[1;36m20139.904\u001b[0m ┆ \u001b[1;36m9\u001b[0m         ┆ false     │\n",
       "│            ┆ \u001b[1;92m00:00:00\u001b[0m   ┆          ┆        ┆   ┆            ┆ \u001b[1;36m9\u001b[0m         ┆           ┆           │\n",
       "│ \u001b[1;36m1780\u001b[0m       ┆ \u001b[1;36m2019\u001b[0m-\u001b[1;36m08\u001b[0m-\u001b[1;36m14\u001b[0m ┆ D2R8H4DM ┆ \u001b[1;36m0.023\u001b[0m  ┆ … ┆ \u001b[1;36m2.661497\u001b[0m   ┆ \u001b[1;36m14369.066\u001b[0m ┆ \u001b[1;36m11\u001b[0m        ┆ false     │\n",
       "│            ┆ \u001b[1;92m00:00:00\u001b[0m   ┆          ┆        ┆   ┆            ┆ \u001b[1;36m68\u001b[0m        ┆           ┆           │\n",
       "│ \u001b[1;36m1781\u001b[0m       ┆ \u001b[1;36m2018\u001b[0m-\u001b[1;36m04\u001b[0m-\u001b[1;36m25\u001b[0m ┆ D20659WR ┆ \u001b[1;36m0.0242\u001b[0m ┆ … ┆ \u001b[1;36m2.299022\u001b[0m   ┆ \u001b[1;36m27923.751\u001b[0m ┆ \u001b[1;36m9\u001b[0m         ┆ false     │\n",
       "│            ┆ \u001b[1;92m00:00:00\u001b[0m   ┆          ┆        ┆   ┆            ┆ \u001b[1;36m13\u001b[0m        ┆           ┆           │\n",
       "└────────────┴────────────┴──────────┴────────┴───┴────────────┴───────────┴───────────┴───────────┘"
      ]
     },
     "execution_count": 10,
     "metadata": {},
     "output_type": "execute_result"
    }
   ],
   "source": [
    "training_data.rendered_df.head()"
   ]
  },
  {
   "cell_type": "code",
   "execution_count": 11,
   "metadata": {},
   "outputs": [
    {
     "data": {
      "text/html": [
       "<pre style=\"white-space:pre;overflow-x:auto;line-height:normal;font-family:Menlo,'DejaVu Sans Mono',consolas,'Courier New',monospace\"></pre>\n"
      ],
      "text/plain": []
     },
     "metadata": {},
     "output_type": "display_data"
    },
    {
     "data": {
      "text/html": [
       "<div><style>\n",
       ".dataframe > thead > tr,\n",
       ".dataframe > tbody > tr {\n",
       "  text-align: right;\n",
       "  white-space: pre-wrap;\n",
       "}\n",
       "</style>\n",
       "<small>shape: (5, 6)</small><table border=\"1\" class=\"dataframe\"><thead><tr><th>years_to_maturity</th><th>yield_to_maturity</th><th>Coupon</th><th>date</th><th>target_cat</th><th>years_since_issue</th></tr><tr><td>f64</td><td>f64</td><td>f64</td><td>datetime[μs]</td><td>bool</td><td>f64</td></tr></thead><tbody><tr><td>3.263585</td><td>-0.522589</td><td>0.25</td><td>2018-01-04 00:00:00</td><td>false</td><td>2.507923</td></tr><tr><td>29.005387</td><td>1.284039</td><td>2.5</td><td>2018-03-06 00:00:00</td><td>false</td><td>4.01651</td></tr><tr><td>2.661246</td><td>-0.607714</td><td>0.0</td><td>2018-09-05 00:00:00</td><td>false</td><td>3.616775</td></tr><tr><td>9.566247</td><td>-0.721392</td><td>0.25</td><td>2019-08-14 00:00:00</td><td>false</td><td>1.086949</td></tr><tr><td>1.957604</td><td>-0.492709</td><td>2.25</td><td>2018-04-25 00:00:00</td><td>false</td><td>7.685305</td></tr></tbody></table></div>"
      ],
      "text/plain": [
       "\n",
       "shape: \u001b[1m(\u001b[0m\u001b[1;36m5\u001b[0m, \u001b[1;36m6\u001b[0m\u001b[1m)\u001b[0m\n",
       "┌────────────────────┬────────────────────┬────────┬──────────────┬────────────┬───────────────────┐\n",
       "│ years_to_maturity  ┆ yield_to_maturity  ┆ Coupon ┆ date         ┆ target_cat ┆ years_since_issue │\n",
       "│ ---                ┆ ---                ┆ ---    ┆ ---          ┆ ---        ┆ ---               │\n",
       "│ f64                ┆ f64                ┆ f64    ┆ datetime\u001b[1m[\u001b[0mμs\u001b[1m]\u001b[0m ┆ bool       ┆ f64               │\n",
       "╞════════════════════╪════════════════════╪════════╪══════════════╪════════════╪═══════════════════╡\n",
       "│ \u001b[1;36m3.263585\u001b[0m           ┆ \u001b[1;36m-0.522589\u001b[0m          ┆ \u001b[1;36m0.25\u001b[0m   ┆ \u001b[1;36m2018\u001b[0m-\u001b[1;36m01\u001b[0m-\u001b[1;36m04\u001b[0m   ┆ false      ┆ \u001b[1;36m2.507923\u001b[0m          │\n",
       "│                    ┆                    ┆        ┆ \u001b[1;92m00:00:00\u001b[0m     ┆            ┆                   │\n",
       "│ \u001b[1;36m29.005387\u001b[0m          ┆ \u001b[1;36m1.284039\u001b[0m           ┆ \u001b[1;36m2.5\u001b[0m    ┆ \u001b[1;36m2018\u001b[0m-\u001b[1;36m03\u001b[0m-\u001b[1;36m06\u001b[0m   ┆ false      ┆ \u001b[1;36m4.01651\u001b[0m           │\n",
       "│                    ┆                    ┆        ┆ \u001b[1;92m00:00:00\u001b[0m     ┆            ┆                   │\n",
       "│ \u001b[1;36m2.661246\u001b[0m           ┆ \u001b[1;36m-0.607714\u001b[0m          ┆ \u001b[1;36m0.0\u001b[0m    ┆ \u001b[1;36m2018\u001b[0m-\u001b[1;36m09\u001b[0m-\u001b[1;36m05\u001b[0m   ┆ false      ┆ \u001b[1;36m3.616775\u001b[0m          │\n",
       "│                    ┆                    ┆        ┆ \u001b[1;92m00:00:00\u001b[0m     ┆            ┆                   │\n",
       "│ \u001b[1;36m9.566247\u001b[0m           ┆ \u001b[1;36m-0.721392\u001b[0m          ┆ \u001b[1;36m0.25\u001b[0m   ┆ \u001b[1;36m2019\u001b[0m-\u001b[1;36m08\u001b[0m-\u001b[1;36m14\u001b[0m   ┆ false      ┆ \u001b[1;36m1.086949\u001b[0m          │\n",
       "│                    ┆                    ┆        ┆ \u001b[1;92m00:00:00\u001b[0m     ┆            ┆                   │\n",
       "│ \u001b[1;36m1.957604\u001b[0m           ┆ \u001b[1;36m-0.492709\u001b[0m          ┆ \u001b[1;36m2.25\u001b[0m   ┆ \u001b[1;36m2018\u001b[0m-\u001b[1;36m04\u001b[0m-\u001b[1;36m25\u001b[0m   ┆ false      ┆ \u001b[1;36m7.685305\u001b[0m          │\n",
       "│                    ┆                    ┆        ┆ \u001b[1;92m00:00:00\u001b[0m     ┆            ┆                   │\n",
       "└────────────────────┴────────────────────┴────────┴──────────────┴────────────┴───────────────────┘"
      ]
     },
     "execution_count": 11,
     "metadata": {},
     "output_type": "execute_result"
    }
   ],
   "source": [
    "fire.transform(binarizer.transform(training_data)).rendered_df.head()"
   ]
  },
  {
   "cell_type": "code",
   "execution_count": null,
   "metadata": {},
   "outputs": [],
   "source": []
  }
 ],
 "metadata": {
  "kernelspec": {
   "display_name": "Kedro (x_flow)",
   "language": "python",
   "name": "kedro_x_flow"
  },
  "language_info": {
   "codemirror_mode": {
    "name": "ipython",
    "version": 3
   },
   "file_extension": ".py",
   "mimetype": "text/x-python",
   "name": "python",
   "nbconvert_exporter": "python",
   "pygments_lexer": "ipython3",
   "version": "3.12.3"
  }
 },
 "nbformat": 4,
 "nbformat_minor": 2
}
