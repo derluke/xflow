{
 "cells": [
  {
   "cell_type": "code",
   "execution_count": 19,
   "metadata": {},
   "outputs": [],
   "source": [
    "# data processing\n",
    "import datetime\n",
    "import logging\n",
    "import warnings\n",
    "from dataclasses import dataclass\n",
    "from pathlib import Path\n",
    "from typing import Optional, Union\n",
    "\n",
    "import datarobot as dr\n",
    "import polars as pl\n",
    "from datarobotx.idp.autopilot import get_or_create_autopilot_run\n",
    "\n",
    "log = logging.getLogger(__name__)\n",
    "\n",
    "dr_logger = logging.getLogger(\"datarobot.models.project\")\n",
    "for handler in dr_logger.handlers:\n",
    "    if isinstance(handler, logging.StreamHandler):\n",
    "        # log.info(f\"Removing handler {handler}\")\n",
    "        dr_logger.removeHandler(handler)\n",
    "\n",
    "\n",
    "warnings.filterwarnings(\n",
    "    action=\"ignore\", category=pl.exceptions.PolarsInefficientMapWarning\n",
    ")\n",
    "warnings.filterwarnings(action=\"ignore\", category=dr.errors.DataRobotDeprecationWarning)\n",
    "\n",
    "\n",
    "\n",
    "class FeatureSelectionMethod: ...\n",
    "\n",
    "\n",
    "def load(path: str) -> tuple[TrainingData, ExternalHoldoutData]: ...\n",
    "\n",
    "\n",
    "def variable_downsampling(data: Data) -> Data: ...\n",
    "\n",
    "\n",
    "def target_engineering(data: Data) -> Data: ...\n",
    "\n",
    "\n",
    "def feature_selection(data: Data, method: FeatureSelectionMethod) -> Data: ..."
   ]
  },
  {
   "cell_type": "code",
   "execution_count": 20,
   "metadata": {},
   "outputs": [
    {
     "data": {
      "text/html": [
       "<pre style=\"white-space:pre;overflow-x:auto;line-height:normal;font-family:Menlo,'DejaVu Sans Mono',consolas,'Courier New',monospace\"></pre>\n"
      ],
      "text/plain": []
     },
     "metadata": {},
     "output_type": "display_data"
    },
    {
     "data": {
      "text/plain": [
       "\u001b[32m'/home/lukas/code/testing/test_x_flow/recipe-xflow'\u001b[0m"
      ]
     },
     "execution_count": 20,
     "metadata": {},
     "output_type": "execute_result"
    }
   ],
   "source": [
    "pwd"
   ]
  },
  {
   "cell_type": "code",
   "execution_count": 21,
   "metadata": {},
   "outputs": [],
   "source": [
    "training_data = TrainingData.load(\n",
    "    load_path=Path(\"include/x_flow/raw_data/DR_Demo_Bond_trading_RFQ_train.csv\"),\n",
    "    date_column=\"date\",\n",
    "    date_partition_column=[datetime.datetime(2018, 6, 3), datetime.datetime(2018, 6, 24)],\n",
    "    date_format=\"%d/%m/%Y\",\n",
    "    target_column=\"Mid\",\n",
    ")\n",
    "test_data = ExternalHoldoutData.load(\n",
    "    load_path=Path(\"include/x_flow/raw_data/DR_Demo_Bond_trading_RFQ_test.csv\"),\n",
    "    date_column=\"date\",\n",
    "    date_format=\"%d/%m/%Y\",\n",
    "    target_column=\"Mid\",\n",
    ")"
   ]
  },
  {
   "cell_type": "code",
   "execution_count": 22,
   "metadata": {},
   "outputs": [],
   "source": [
    "import datarobotx\n",
    "from copy import deepcopy"
   ]
  },
  {
   "cell_type": "code",
   "execution_count": 23,
   "metadata": {},
   "outputs": [],
   "source": [
    "from abc import ABC, abstractmethod\n",
    "\n",
    "from utils.operator import Operator\n",
    "\n"
   ]
  },
  {
   "cell_type": "code",
   "execution_count": 24,
   "metadata": {},
   "outputs": [],
   "source": [
    "from utils.fire import FIRE as FireHelper\n",
    "from datarobotx.idp.autopilot import get_or_create_autopilot_run\n",
    "from datarobotx.idp.datasets import get_or_create_dataset_from_df\n",
    "from datarobotx.idp.common.hashing import get_hash\n"
   ]
  },
  {
   "cell_type": "code",
   "execution_count": 25,
   "metadata": {},
   "outputs": [],
   "source": []
  },
  {
   "cell_type": "code",
   "execution_count": 26,
   "metadata": {},
   "outputs": [],
   "source": [
    "binarizer = BinarizeData(\n",
    "    threshold=100, operator=\"<\", binarize_drop_regression_target=True)\n",
    "\n",
    "fire = FIRE(\n",
    "    endpoint=\"https://app.datarobot.com/api/v2\",\n",
    "    token=\"NWQ1NDA3YTVmNTU1Y2QxZDQxNmQ1YTZjOklqemlsaHJucTZtdU1NVThMLWpCVldJeEhpYUhOcFVo\",\n",
    "    reduction_method=\"Rank Aggregation\",\n",
    ")"
   ]
  },
  {
   "cell_type": "code",
   "execution_count": 27,
   "metadata": {},
   "outputs": [
    {
     "data": {
      "text/html": [
       "<pre style=\"white-space:pre;overflow-x:auto;line-height:normal;font-family:Menlo,'DejaVu Sans Mono',consolas,'Courier New',monospace\"><span style=\"color: #7fbfbf; text-decoration-color: #7fbfbf\">[06/17/24 11:00:28] </span><span style=\"color: #000080; text-decoration-color: #000080\">INFO    </span> In progress: <span style=\"color: #008080; text-decoration-color: #008080; font-weight: bold\">0</span>, queued: <span style=\"color: #008080; text-decoration-color: #008080; font-weight: bold\">0</span> <span style=\"font-weight: bold\">(</span>waited: 0s<span style=\"font-weight: bold\">)</span>                                 <a href=\"file:///home/lukas/code/testing/test_x_flow/recipe-xflow/.venv/lib/python3.12/site-packages/datarobot/models/project.py\" target=\"_blank\"><span style=\"color: #7f7f7f; text-decoration-color: #7f7f7f\">project.py</span></a><span style=\"color: #7f7f7f; text-decoration-color: #7f7f7f\">:</span><a href=\"file:///home/lukas/code/testing/test_x_flow/recipe-xflow/.venv/lib/python3.12/site-packages/datarobot/models/project.py#4041\" target=\"_blank\"><span style=\"color: #7f7f7f; text-decoration-color: #7f7f7f\">4041</span></a>\n",
       "</pre>\n"
      ],
      "text/plain": [
       "\u001b[2;36m[06/17/24 11:00:28]\u001b[0m\u001b[2;36m \u001b[0m\u001b[34mINFO    \u001b[0m In progress: \u001b[1;36m0\u001b[0m, queued: \u001b[1;36m0\u001b[0m \u001b[1m(\u001b[0mwaited: 0s\u001b[1m)\u001b[0m                                 \u001b]8;id=808965;file:///home/lukas/code/testing/test_x_flow/recipe-xflow/.venv/lib/python3.12/site-packages/datarobot/models/project.py\u001b\\\u001b[2mproject.py\u001b[0m\u001b]8;;\u001b\\\u001b[2m:\u001b[0m\u001b]8;id=444949;file:///home/lukas/code/testing/test_x_flow/recipe-xflow/.venv/lib/python3.12/site-packages/datarobot/models/project.py#4041\u001b\\\u001b[2m4041\u001b[0m\u001b]8;;\u001b\\\n"
      ]
     },
     "metadata": {},
     "output_type": "display_data"
    },
    {
     "data": {
      "text/html": [
       "<pre style=\"white-space:pre;overflow-x:auto;line-height:normal;font-family:Menlo,'DejaVu Sans Mono',consolas,'Courier New',monospace\"><span style=\"color: #7fbfbf; text-decoration-color: #7fbfbf\">[06/17/24 11:00:51] </span><span style=\"color: #000080; text-decoration-color: #000080\">INFO    </span> skipping autopilot for Reduced FL by Median Rank, top2                     <a href=\"file:///home/lukas/code/testing/test_x_flow/recipe-xflow/src/utils/fire.py\" target=\"_blank\"><span style=\"color: #7f7f7f; text-decoration-color: #7f7f7f\">fire.py</span></a><span style=\"color: #7f7f7f; text-decoration-color: #7f7f7f\">:</span><a href=\"file:///home/lukas/code/testing/test_x_flow/recipe-xflow/src/utils/fire.py#680\" target=\"_blank\"><span style=\"color: #7f7f7f; text-decoration-color: #7f7f7f\">680</span></a>\n",
       "</pre>\n"
      ],
      "text/plain": [
       "\u001b[2;36m[06/17/24 11:00:51]\u001b[0m\u001b[2;36m \u001b[0m\u001b[34mINFO    \u001b[0m skipping autopilot for Reduced FL by Median Rank, top2                     \u001b]8;id=156468;file:///home/lukas/code/testing/test_x_flow/recipe-xflow/src/utils/fire.py\u001b\\\u001b[2mfire.py\u001b[0m\u001b]8;;\u001b\\\u001b[2m:\u001b[0m\u001b]8;id=445171;file:///home/lukas/code/testing/test_x_flow/recipe-xflow/src/utils/fire.py#680\u001b\\\u001b[2m680\u001b[0m\u001b]8;;\u001b\\\n"
      ]
     },
     "metadata": {},
     "output_type": "display_data"
    },
    {
     "data": {
      "text/html": [
       "<pre style=\"white-space:pre;overflow-x:auto;line-height:normal;font-family:Menlo,'DejaVu Sans Mono',consolas,'Courier New',monospace\"><span style=\"color: #7fbfbf; text-decoration-color: #7fbfbf\">                    </span><span style=\"color: #000080; text-decoration-color: #000080\">INFO    </span> skipping autopilot for Reduced FL by Median Rank, top2                     <a href=\"file:///home/lukas/code/testing/test_x_flow/recipe-xflow/src/utils/fire.py\" target=\"_blank\"><span style=\"color: #7f7f7f; text-decoration-color: #7f7f7f\">fire.py</span></a><span style=\"color: #7f7f7f; text-decoration-color: #7f7f7f\">:</span><a href=\"file:///home/lukas/code/testing/test_x_flow/recipe-xflow/src/utils/fire.py#680\" target=\"_blank\"><span style=\"color: #7f7f7f; text-decoration-color: #7f7f7f\">680</span></a>\n",
       "</pre>\n"
      ],
      "text/plain": [
       "\u001b[2;36m                   \u001b[0m\u001b[2;36m \u001b[0m\u001b[34mINFO    \u001b[0m skipping autopilot for Reduced FL by Median Rank, top2                     \u001b]8;id=540102;file:///home/lukas/code/testing/test_x_flow/recipe-xflow/src/utils/fire.py\u001b\\\u001b[2mfire.py\u001b[0m\u001b]8;;\u001b\\\u001b[2m:\u001b[0m\u001b]8;id=630922;file:///home/lukas/code/testing/test_x_flow/recipe-xflow/src/utils/fire.py#680\u001b\\\u001b[2m680\u001b[0m\u001b]8;;\u001b\\\n"
      ]
     },
     "metadata": {},
     "output_type": "display_data"
    },
    {
     "data": {
      "text/html": [
       "<pre style=\"white-space:pre;overflow-x:auto;line-height:normal;font-family:Menlo,'DejaVu Sans Mono',consolas,'Courier New',monospace\"><span style=\"color: #7fbfbf; text-decoration-color: #7fbfbf\">                    </span><span style=\"color: #000080; text-decoration-color: #000080\">INFO    </span> Run <span style=\"color: #008080; text-decoration-color: #008080; font-weight: bold\">1</span> completed                                                            <a href=\"file:///home/lukas/code/testing/test_x_flow/recipe-xflow/src/utils/fire.py\" target=\"_blank\"><span style=\"color: #7f7f7f; text-decoration-color: #7f7f7f\">fire.py</span></a><span style=\"color: #7f7f7f; text-decoration-color: #7f7f7f\">:</span><a href=\"file:///home/lukas/code/testing/test_x_flow/recipe-xflow/src/utils/fire.py#315\" target=\"_blank\"><span style=\"color: #7f7f7f; text-decoration-color: #7f7f7f\">315</span></a>\n",
       "</pre>\n"
      ],
      "text/plain": [
       "\u001b[2;36m                   \u001b[0m\u001b[2;36m \u001b[0m\u001b[34mINFO    \u001b[0m Run \u001b[1;36m1\u001b[0m completed                                                            \u001b]8;id=209416;file:///home/lukas/code/testing/test_x_flow/recipe-xflow/src/utils/fire.py\u001b\\\u001b[2mfire.py\u001b[0m\u001b]8;;\u001b\\\u001b[2m:\u001b[0m\u001b]8;id=995451;file:///home/lukas/code/testing/test_x_flow/recipe-xflow/src/utils/fire.py#315\u001b\\\u001b[2m315\u001b[0m\u001b]8;;\u001b\\\n"
      ]
     },
     "metadata": {},
     "output_type": "display_data"
    },
    {
     "data": {
      "text/html": [
       "<pre style=\"white-space:pre;overflow-x:auto;line-height:normal;font-family:Menlo,'DejaVu Sans Mono',consolas,'Courier New',monospace\"><span style=\"color: #7fbfbf; text-decoration-color: #7fbfbf\">                    </span><span style=\"color: #000080; text-decoration-color: #000080\">INFO    </span> Run <span style=\"color: #008080; text-decoration-color: #008080; font-weight: bold\">1</span> completed                                                            <a href=\"file:///home/lukas/code/testing/test_x_flow/recipe-xflow/src/utils/fire.py\" target=\"_blank\"><span style=\"color: #7f7f7f; text-decoration-color: #7f7f7f\">fire.py</span></a><span style=\"color: #7f7f7f; text-decoration-color: #7f7f7f\">:</span><a href=\"file:///home/lukas/code/testing/test_x_flow/recipe-xflow/src/utils/fire.py#315\" target=\"_blank\"><span style=\"color: #7f7f7f; text-decoration-color: #7f7f7f\">315</span></a>\n",
       "</pre>\n"
      ],
      "text/plain": [
       "\u001b[2;36m                   \u001b[0m\u001b[2;36m \u001b[0m\u001b[34mINFO    \u001b[0m Run \u001b[1;36m1\u001b[0m completed                                                            \u001b]8;id=466147;file:///home/lukas/code/testing/test_x_flow/recipe-xflow/src/utils/fire.py\u001b\\\u001b[2mfire.py\u001b[0m\u001b]8;;\u001b\\\u001b[2m:\u001b[0m\u001b]8;id=914456;file:///home/lukas/code/testing/test_x_flow/recipe-xflow/src/utils/fire.py#315\u001b\\\u001b[2m315\u001b[0m\u001b]8;;\u001b\\\n"
      ]
     },
     "metadata": {},
     "output_type": "display_data"
    },
    {
     "data": {
      "text/html": [
       "<pre style=\"white-space:pre;overflow-x:auto;line-height:normal;font-family:Menlo,'DejaVu Sans Mono',consolas,'Courier New',monospace\"><span style=\"color: #7fbfbf; text-decoration-color: #7fbfbf\">[06/17/24 11:01:09] </span><span style=\"color: #000080; text-decoration-color: #000080\">INFO    </span> skipping autopilot for Reduced FL by Median Rank, top1                     <a href=\"file:///home/lukas/code/testing/test_x_flow/recipe-xflow/src/utils/fire.py\" target=\"_blank\"><span style=\"color: #7f7f7f; text-decoration-color: #7f7f7f\">fire.py</span></a><span style=\"color: #7f7f7f; text-decoration-color: #7f7f7f\">:</span><a href=\"file:///home/lukas/code/testing/test_x_flow/recipe-xflow/src/utils/fire.py#680\" target=\"_blank\"><span style=\"color: #7f7f7f; text-decoration-color: #7f7f7f\">680</span></a>\n",
       "</pre>\n"
      ],
      "text/plain": [
       "\u001b[2;36m[06/17/24 11:01:09]\u001b[0m\u001b[2;36m \u001b[0m\u001b[34mINFO    \u001b[0m skipping autopilot for Reduced FL by Median Rank, top1                     \u001b]8;id=798808;file:///home/lukas/code/testing/test_x_flow/recipe-xflow/src/utils/fire.py\u001b\\\u001b[2mfire.py\u001b[0m\u001b]8;;\u001b\\\u001b[2m:\u001b[0m\u001b]8;id=876361;file:///home/lukas/code/testing/test_x_flow/recipe-xflow/src/utils/fire.py#680\u001b\\\u001b[2m680\u001b[0m\u001b]8;;\u001b\\\n"
      ]
     },
     "metadata": {},
     "output_type": "display_data"
    },
    {
     "data": {
      "text/html": [
       "<pre style=\"white-space:pre;overflow-x:auto;line-height:normal;font-family:Menlo,'DejaVu Sans Mono',consolas,'Courier New',monospace\"><span style=\"color: #7fbfbf; text-decoration-color: #7fbfbf\">                    </span><span style=\"color: #000080; text-decoration-color: #000080\">INFO    </span> skipping autopilot for Reduced FL by Median Rank, top1                     <a href=\"file:///home/lukas/code/testing/test_x_flow/recipe-xflow/src/utils/fire.py\" target=\"_blank\"><span style=\"color: #7f7f7f; text-decoration-color: #7f7f7f\">fire.py</span></a><span style=\"color: #7f7f7f; text-decoration-color: #7f7f7f\">:</span><a href=\"file:///home/lukas/code/testing/test_x_flow/recipe-xflow/src/utils/fire.py#680\" target=\"_blank\"><span style=\"color: #7f7f7f; text-decoration-color: #7f7f7f\">680</span></a>\n",
       "</pre>\n"
      ],
      "text/plain": [
       "\u001b[2;36m                   \u001b[0m\u001b[2;36m \u001b[0m\u001b[34mINFO    \u001b[0m skipping autopilot for Reduced FL by Median Rank, top1                     \u001b]8;id=66279;file:///home/lukas/code/testing/test_x_flow/recipe-xflow/src/utils/fire.py\u001b\\\u001b[2mfire.py\u001b[0m\u001b]8;;\u001b\\\u001b[2m:\u001b[0m\u001b]8;id=43540;file:///home/lukas/code/testing/test_x_flow/recipe-xflow/src/utils/fire.py#680\u001b\\\u001b[2m680\u001b[0m\u001b]8;;\u001b\\\n"
      ]
     },
     "metadata": {},
     "output_type": "display_data"
    },
    {
     "data": {
      "text/html": [
       "<pre style=\"white-space:pre;overflow-x:auto;line-height:normal;font-family:Menlo,'DejaVu Sans Mono',consolas,'Courier New',monospace\"><span style=\"color: #7fbfbf; text-decoration-color: #7fbfbf\">                    </span><span style=\"color: #000080; text-decoration-color: #000080\">INFO    </span> Run <span style=\"color: #008080; text-decoration-color: #008080; font-weight: bold\">2</span> completed                                                            <a href=\"file:///home/lukas/code/testing/test_x_flow/recipe-xflow/src/utils/fire.py\" target=\"_blank\"><span style=\"color: #7f7f7f; text-decoration-color: #7f7f7f\">fire.py</span></a><span style=\"color: #7f7f7f; text-decoration-color: #7f7f7f\">:</span><a href=\"file:///home/lukas/code/testing/test_x_flow/recipe-xflow/src/utils/fire.py#315\" target=\"_blank\"><span style=\"color: #7f7f7f; text-decoration-color: #7f7f7f\">315</span></a>\n",
       "</pre>\n"
      ],
      "text/plain": [
       "\u001b[2;36m                   \u001b[0m\u001b[2;36m \u001b[0m\u001b[34mINFO    \u001b[0m Run \u001b[1;36m2\u001b[0m completed                                                            \u001b]8;id=951195;file:///home/lukas/code/testing/test_x_flow/recipe-xflow/src/utils/fire.py\u001b\\\u001b[2mfire.py\u001b[0m\u001b]8;;\u001b\\\u001b[2m:\u001b[0m\u001b]8;id=35806;file:///home/lukas/code/testing/test_x_flow/recipe-xflow/src/utils/fire.py#315\u001b\\\u001b[2m315\u001b[0m\u001b]8;;\u001b\\\n"
      ]
     },
     "metadata": {},
     "output_type": "display_data"
    },
    {
     "data": {
      "text/html": [
       "<pre style=\"white-space:pre;overflow-x:auto;line-height:normal;font-family:Menlo,'DejaVu Sans Mono',consolas,'Courier New',monospace\"><span style=\"color: #7fbfbf; text-decoration-color: #7fbfbf\">                    </span><span style=\"color: #000080; text-decoration-color: #000080\">INFO    </span> Run <span style=\"color: #008080; text-decoration-color: #008080; font-weight: bold\">2</span> completed                                                            <a href=\"file:///home/lukas/code/testing/test_x_flow/recipe-xflow/src/utils/fire.py\" target=\"_blank\"><span style=\"color: #7f7f7f; text-decoration-color: #7f7f7f\">fire.py</span></a><span style=\"color: #7f7f7f; text-decoration-color: #7f7f7f\">:</span><a href=\"file:///home/lukas/code/testing/test_x_flow/recipe-xflow/src/utils/fire.py#315\" target=\"_blank\"><span style=\"color: #7f7f7f; text-decoration-color: #7f7f7f\">315</span></a>\n",
       "</pre>\n"
      ],
      "text/plain": [
       "\u001b[2;36m                   \u001b[0m\u001b[2;36m \u001b[0m\u001b[34mINFO    \u001b[0m Run \u001b[1;36m2\u001b[0m completed                                                            \u001b]8;id=141328;file:///home/lukas/code/testing/test_x_flow/recipe-xflow/src/utils/fire.py\u001b\\\u001b[2mfire.py\u001b[0m\u001b]8;;\u001b\\\u001b[2m:\u001b[0m\u001b]8;id=810747;file:///home/lukas/code/testing/test_x_flow/recipe-xflow/src/utils/fire.py#315\u001b\\\u001b[2m315\u001b[0m\u001b]8;;\u001b\\\n"
      ]
     },
     "metadata": {},
     "output_type": "display_data"
    },
    {
     "data": {
      "text/html": [
       "<pre style=\"white-space:pre;overflow-x:auto;line-height:normal;font-family:Menlo,'DejaVu Sans Mono',consolas,'Courier New',monospace\"><span style=\"color: #7fbfbf; text-decoration-color: #7fbfbf\">[06/17/24 11:01:25] </span><span style=\"color: #000080; text-decoration-color: #000080\">INFO    </span> new model is worse.                                                        <a href=\"file:///home/lukas/code/testing/test_x_flow/recipe-xflow/src/utils/fire.py\" target=\"_blank\"><span style=\"color: #7f7f7f; text-decoration-color: #7f7f7f\">fire.py</span></a><span style=\"color: #7f7f7f; text-decoration-color: #7f7f7f\">:</span><a href=\"file:///home/lukas/code/testing/test_x_flow/recipe-xflow/src/utils/fire.py#304\" target=\"_blank\"><span style=\"color: #7f7f7f; text-decoration-color: #7f7f7f\">304</span></a>\n",
       "<span style=\"color: #7fbfbf; text-decoration-color: #7fbfbf\">                    </span>         Repeat again. Decay Ratio for Simple and DR reduced methods                <span style=\"color: #7f7f7f; text-decoration-color: #7f7f7f\">           </span>\n",
       "</pre>\n"
      ],
      "text/plain": [
       "\u001b[2;36m[06/17/24 11:01:25]\u001b[0m\u001b[2;36m \u001b[0m\u001b[34mINFO    \u001b[0m new model is worse.                                                        \u001b]8;id=780595;file:///home/lukas/code/testing/test_x_flow/recipe-xflow/src/utils/fire.py\u001b\\\u001b[2mfire.py\u001b[0m\u001b]8;;\u001b\\\u001b[2m:\u001b[0m\u001b]8;id=969541;file:///home/lukas/code/testing/test_x_flow/recipe-xflow/src/utils/fire.py#304\u001b\\\u001b[2m304\u001b[0m\u001b]8;;\u001b\\\n",
       "\u001b[2;36m                    \u001b[0m         Repeat again. Decay Ratio for Simple and DR reduced methods                \u001b[2m           \u001b[0m\n"
      ]
     },
     "metadata": {},
     "output_type": "display_data"
    },
    {
     "data": {
      "text/html": [
       "<pre style=\"white-space:pre;overflow-x:auto;line-height:normal;font-family:Menlo,'DejaVu Sans Mono',consolas,'Courier New',monospace\"><span style=\"color: #7fbfbf; text-decoration-color: #7fbfbf\">                    </span><span style=\"color: #000080; text-decoration-color: #000080\">INFO    </span> new model is worse.                                                        <a href=\"file:///home/lukas/code/testing/test_x_flow/recipe-xflow/src/utils/fire.py\" target=\"_blank\"><span style=\"color: #7f7f7f; text-decoration-color: #7f7f7f\">fire.py</span></a><span style=\"color: #7f7f7f; text-decoration-color: #7f7f7f\">:</span><a href=\"file:///home/lukas/code/testing/test_x_flow/recipe-xflow/src/utils/fire.py#304\" target=\"_blank\"><span style=\"color: #7f7f7f; text-decoration-color: #7f7f7f\">304</span></a>\n",
       "<span style=\"color: #7fbfbf; text-decoration-color: #7fbfbf\">                    </span>         Repeat again. Decay Ratio for Simple and DR reduced methods                <span style=\"color: #7f7f7f; text-decoration-color: #7f7f7f\">           </span>\n",
       "</pre>\n"
      ],
      "text/plain": [
       "\u001b[2;36m                   \u001b[0m\u001b[2;36m \u001b[0m\u001b[34mINFO    \u001b[0m new model is worse.                                                        \u001b]8;id=368445;file:///home/lukas/code/testing/test_x_flow/recipe-xflow/src/utils/fire.py\u001b\\\u001b[2mfire.py\u001b[0m\u001b]8;;\u001b\\\u001b[2m:\u001b[0m\u001b]8;id=478865;file:///home/lukas/code/testing/test_x_flow/recipe-xflow/src/utils/fire.py#304\u001b\\\u001b[2m304\u001b[0m\u001b]8;;\u001b\\\n",
       "\u001b[2;36m                    \u001b[0m         Repeat again. Decay Ratio for Simple and DR reduced methods                \u001b[2m           \u001b[0m\n"
      ]
     },
     "metadata": {},
     "output_type": "display_data"
    },
    {
     "data": {
      "text/html": [
       "<pre style=\"white-space:pre;overflow-x:auto;line-height:normal;font-family:Menlo,'DejaVu Sans Mono',consolas,'Courier New',monospace\"><span style=\"color: #7fbfbf; text-decoration-color: #7fbfbf\">                    </span><span style=\"color: #000080; text-decoration-color: #000080\">INFO    </span> Run <span style=\"color: #008080; text-decoration-color: #008080; font-weight: bold\">3</span> completed                                                            <a href=\"file:///home/lukas/code/testing/test_x_flow/recipe-xflow/src/utils/fire.py\" target=\"_blank\"><span style=\"color: #7f7f7f; text-decoration-color: #7f7f7f\">fire.py</span></a><span style=\"color: #7f7f7f; text-decoration-color: #7f7f7f\">:</span><a href=\"file:///home/lukas/code/testing/test_x_flow/recipe-xflow/src/utils/fire.py#315\" target=\"_blank\"><span style=\"color: #7f7f7f; text-decoration-color: #7f7f7f\">315</span></a>\n",
       "</pre>\n"
      ],
      "text/plain": [
       "\u001b[2;36m                   \u001b[0m\u001b[2;36m \u001b[0m\u001b[34mINFO    \u001b[0m Run \u001b[1;36m3\u001b[0m completed                                                            \u001b]8;id=26261;file:///home/lukas/code/testing/test_x_flow/recipe-xflow/src/utils/fire.py\u001b\\\u001b[2mfire.py\u001b[0m\u001b]8;;\u001b\\\u001b[2m:\u001b[0m\u001b]8;id=736503;file:///home/lukas/code/testing/test_x_flow/recipe-xflow/src/utils/fire.py#315\u001b\\\u001b[2m315\u001b[0m\u001b]8;;\u001b\\\n"
      ]
     },
     "metadata": {},
     "output_type": "display_data"
    },
    {
     "data": {
      "text/html": [
       "<pre style=\"white-space:pre;overflow-x:auto;line-height:normal;font-family:Menlo,'DejaVu Sans Mono',consolas,'Courier New',monospace\"><span style=\"color: #7fbfbf; text-decoration-color: #7fbfbf\">                    </span><span style=\"color: #000080; text-decoration-color: #000080\">INFO    </span> Run <span style=\"color: #008080; text-decoration-color: #008080; font-weight: bold\">3</span> completed                                                            <a href=\"file:///home/lukas/code/testing/test_x_flow/recipe-xflow/src/utils/fire.py\" target=\"_blank\"><span style=\"color: #7f7f7f; text-decoration-color: #7f7f7f\">fire.py</span></a><span style=\"color: #7f7f7f; text-decoration-color: #7f7f7f\">:</span><a href=\"file:///home/lukas/code/testing/test_x_flow/recipe-xflow/src/utils/fire.py#315\" target=\"_blank\"><span style=\"color: #7f7f7f; text-decoration-color: #7f7f7f\">315</span></a>\n",
       "</pre>\n"
      ],
      "text/plain": [
       "\u001b[2;36m                   \u001b[0m\u001b[2;36m \u001b[0m\u001b[34mINFO    \u001b[0m Run \u001b[1;36m3\u001b[0m completed                                                            \u001b]8;id=279775;file:///home/lukas/code/testing/test_x_flow/recipe-xflow/src/utils/fire.py\u001b\\\u001b[2mfire.py\u001b[0m\u001b]8;;\u001b\\\u001b[2m:\u001b[0m\u001b]8;id=858081;file:///home/lukas/code/testing/test_x_flow/recipe-xflow/src/utils/fire.py#315\u001b\\\u001b[2m315\u001b[0m\u001b]8;;\u001b\\\n"
      ]
     },
     "metadata": {},
     "output_type": "display_data"
    },
    {
     "data": {
      "text/html": [
       "<pre style=\"white-space:pre;overflow-x:auto;line-height:normal;font-family:Menlo,'DejaVu Sans Mono',consolas,'Courier New',monospace\"><span style=\"color: #7fbfbf; text-decoration-color: #7fbfbf\">[06/17/24 11:01:40] </span><span style=\"color: #000080; text-decoration-color: #000080\">INFO    </span> new model is worse.                                                        <a href=\"file:///home/lukas/code/testing/test_x_flow/recipe-xflow/src/utils/fire.py\" target=\"_blank\"><span style=\"color: #7f7f7f; text-decoration-color: #7f7f7f\">fire.py</span></a><span style=\"color: #7f7f7f; text-decoration-color: #7f7f7f\">:</span><a href=\"file:///home/lukas/code/testing/test_x_flow/recipe-xflow/src/utils/fire.py#304\" target=\"_blank\"><span style=\"color: #7f7f7f; text-decoration-color: #7f7f7f\">304</span></a>\n",
       "<span style=\"color: #7fbfbf; text-decoration-color: #7fbfbf\">                    </span>         Repeat again. Decay Ratio for Simple and DR reduced methods                <span style=\"color: #7f7f7f; text-decoration-color: #7f7f7f\">           </span>\n",
       "</pre>\n"
      ],
      "text/plain": [
       "\u001b[2;36m[06/17/24 11:01:40]\u001b[0m\u001b[2;36m \u001b[0m\u001b[34mINFO    \u001b[0m new model is worse.                                                        \u001b]8;id=332932;file:///home/lukas/code/testing/test_x_flow/recipe-xflow/src/utils/fire.py\u001b\\\u001b[2mfire.py\u001b[0m\u001b]8;;\u001b\\\u001b[2m:\u001b[0m\u001b]8;id=921062;file:///home/lukas/code/testing/test_x_flow/recipe-xflow/src/utils/fire.py#304\u001b\\\u001b[2m304\u001b[0m\u001b]8;;\u001b\\\n",
       "\u001b[2;36m                    \u001b[0m         Repeat again. Decay Ratio for Simple and DR reduced methods                \u001b[2m           \u001b[0m\n"
      ]
     },
     "metadata": {},
     "output_type": "display_data"
    },
    {
     "data": {
      "text/html": [
       "<pre style=\"white-space:pre;overflow-x:auto;line-height:normal;font-family:Menlo,'DejaVu Sans Mono',consolas,'Courier New',monospace\"><span style=\"color: #7fbfbf; text-decoration-color: #7fbfbf\">                    </span><span style=\"color: #000080; text-decoration-color: #000080\">INFO    </span> new model is worse.                                                        <a href=\"file:///home/lukas/code/testing/test_x_flow/recipe-xflow/src/utils/fire.py\" target=\"_blank\"><span style=\"color: #7f7f7f; text-decoration-color: #7f7f7f\">fire.py</span></a><span style=\"color: #7f7f7f; text-decoration-color: #7f7f7f\">:</span><a href=\"file:///home/lukas/code/testing/test_x_flow/recipe-xflow/src/utils/fire.py#304\" target=\"_blank\"><span style=\"color: #7f7f7f; text-decoration-color: #7f7f7f\">304</span></a>\n",
       "<span style=\"color: #7fbfbf; text-decoration-color: #7fbfbf\">                    </span>         Repeat again. Decay Ratio for Simple and DR reduced methods                <span style=\"color: #7f7f7f; text-decoration-color: #7f7f7f\">           </span>\n",
       "</pre>\n"
      ],
      "text/plain": [
       "\u001b[2;36m                   \u001b[0m\u001b[2;36m \u001b[0m\u001b[34mINFO    \u001b[0m new model is worse.                                                        \u001b]8;id=157118;file:///home/lukas/code/testing/test_x_flow/recipe-xflow/src/utils/fire.py\u001b\\\u001b[2mfire.py\u001b[0m\u001b]8;;\u001b\\\u001b[2m:\u001b[0m\u001b]8;id=543218;file:///home/lukas/code/testing/test_x_flow/recipe-xflow/src/utils/fire.py#304\u001b\\\u001b[2m304\u001b[0m\u001b]8;;\u001b\\\n",
       "\u001b[2;36m                    \u001b[0m         Repeat again. Decay Ratio for Simple and DR reduced methods                \u001b[2m           \u001b[0m\n"
      ]
     },
     "metadata": {},
     "output_type": "display_data"
    },
    {
     "data": {
      "text/html": [
       "<pre style=\"white-space:pre;overflow-x:auto;line-height:normal;font-family:Menlo,'DejaVu Sans Mono',consolas,'Courier New',monospace\"><span style=\"color: #7fbfbf; text-decoration-color: #7fbfbf\">                    </span><span style=\"color: #000080; text-decoration-color: #000080\">INFO    </span> Run <span style=\"color: #008080; text-decoration-color: #008080; font-weight: bold\">4</span> completed                                                            <a href=\"file:///home/lukas/code/testing/test_x_flow/recipe-xflow/src/utils/fire.py\" target=\"_blank\"><span style=\"color: #7f7f7f; text-decoration-color: #7f7f7f\">fire.py</span></a><span style=\"color: #7f7f7f; text-decoration-color: #7f7f7f\">:</span><a href=\"file:///home/lukas/code/testing/test_x_flow/recipe-xflow/src/utils/fire.py#315\" target=\"_blank\"><span style=\"color: #7f7f7f; text-decoration-color: #7f7f7f\">315</span></a>\n",
       "</pre>\n"
      ],
      "text/plain": [
       "\u001b[2;36m                   \u001b[0m\u001b[2;36m \u001b[0m\u001b[34mINFO    \u001b[0m Run \u001b[1;36m4\u001b[0m completed                                                            \u001b]8;id=186423;file:///home/lukas/code/testing/test_x_flow/recipe-xflow/src/utils/fire.py\u001b\\\u001b[2mfire.py\u001b[0m\u001b]8;;\u001b\\\u001b[2m:\u001b[0m\u001b]8;id=621958;file:///home/lukas/code/testing/test_x_flow/recipe-xflow/src/utils/fire.py#315\u001b\\\u001b[2m315\u001b[0m\u001b]8;;\u001b\\\n"
      ]
     },
     "metadata": {},
     "output_type": "display_data"
    },
    {
     "data": {
      "text/html": [
       "<pre style=\"white-space:pre;overflow-x:auto;line-height:normal;font-family:Menlo,'DejaVu Sans Mono',consolas,'Courier New',monospace\"><span style=\"color: #7fbfbf; text-decoration-color: #7fbfbf\">                    </span><span style=\"color: #000080; text-decoration-color: #000080\">INFO    </span> Run <span style=\"color: #008080; text-decoration-color: #008080; font-weight: bold\">4</span> completed                                                            <a href=\"file:///home/lukas/code/testing/test_x_flow/recipe-xflow/src/utils/fire.py\" target=\"_blank\"><span style=\"color: #7f7f7f; text-decoration-color: #7f7f7f\">fire.py</span></a><span style=\"color: #7f7f7f; text-decoration-color: #7f7f7f\">:</span><a href=\"file:///home/lukas/code/testing/test_x_flow/recipe-xflow/src/utils/fire.py#315\" target=\"_blank\"><span style=\"color: #7f7f7f; text-decoration-color: #7f7f7f\">315</span></a>\n",
       "</pre>\n"
      ],
      "text/plain": [
       "\u001b[2;36m                   \u001b[0m\u001b[2;36m \u001b[0m\u001b[34mINFO    \u001b[0m Run \u001b[1;36m4\u001b[0m completed                                                            \u001b]8;id=115913;file:///home/lukas/code/testing/test_x_flow/recipe-xflow/src/utils/fire.py\u001b\\\u001b[2mfire.py\u001b[0m\u001b]8;;\u001b\\\u001b[2m:\u001b[0m\u001b]8;id=149238;file:///home/lukas/code/testing/test_x_flow/recipe-xflow/src/utils/fire.py#315\u001b\\\u001b[2m315\u001b[0m\u001b]8;;\u001b\\\n"
      ]
     },
     "metadata": {},
     "output_type": "display_data"
    },
    {
     "data": {
      "text/html": [
       "<pre style=\"white-space:pre;overflow-x:auto;line-height:normal;font-family:Menlo,'DejaVu Sans Mono',consolas,'Courier New',monospace\"><span style=\"color: #7fbfbf; text-decoration-color: #7fbfbf\">[06/17/24 11:01:55] </span><span style=\"color: #000080; text-decoration-color: #000080\">INFO    </span> new model is worse.                                                        <a href=\"file:///home/lukas/code/testing/test_x_flow/recipe-xflow/src/utils/fire.py\" target=\"_blank\"><span style=\"color: #7f7f7f; text-decoration-color: #7f7f7f\">fire.py</span></a><span style=\"color: #7f7f7f; text-decoration-color: #7f7f7f\">:</span><a href=\"file:///home/lukas/code/testing/test_x_flow/recipe-xflow/src/utils/fire.py#304\" target=\"_blank\"><span style=\"color: #7f7f7f; text-decoration-color: #7f7f7f\">304</span></a>\n",
       "<span style=\"color: #7fbfbf; text-decoration-color: #7fbfbf\">                    </span>         Repeat again. Decay Ratio for Simple and DR reduced methods                <span style=\"color: #7f7f7f; text-decoration-color: #7f7f7f\">           </span>\n",
       "</pre>\n"
      ],
      "text/plain": [
       "\u001b[2;36m[06/17/24 11:01:55]\u001b[0m\u001b[2;36m \u001b[0m\u001b[34mINFO    \u001b[0m new model is worse.                                                        \u001b]8;id=758110;file:///home/lukas/code/testing/test_x_flow/recipe-xflow/src/utils/fire.py\u001b\\\u001b[2mfire.py\u001b[0m\u001b]8;;\u001b\\\u001b[2m:\u001b[0m\u001b]8;id=602603;file:///home/lukas/code/testing/test_x_flow/recipe-xflow/src/utils/fire.py#304\u001b\\\u001b[2m304\u001b[0m\u001b]8;;\u001b\\\n",
       "\u001b[2;36m                    \u001b[0m         Repeat again. Decay Ratio for Simple and DR reduced methods                \u001b[2m           \u001b[0m\n"
      ]
     },
     "metadata": {},
     "output_type": "display_data"
    },
    {
     "data": {
      "text/html": [
       "<pre style=\"white-space:pre;overflow-x:auto;line-height:normal;font-family:Menlo,'DejaVu Sans Mono',consolas,'Courier New',monospace\"><span style=\"color: #7fbfbf; text-decoration-color: #7fbfbf\">                    </span><span style=\"color: #000080; text-decoration-color: #000080\">INFO    </span> new model is worse.                                                        <a href=\"file:///home/lukas/code/testing/test_x_flow/recipe-xflow/src/utils/fire.py\" target=\"_blank\"><span style=\"color: #7f7f7f; text-decoration-color: #7f7f7f\">fire.py</span></a><span style=\"color: #7f7f7f; text-decoration-color: #7f7f7f\">:</span><a href=\"file:///home/lukas/code/testing/test_x_flow/recipe-xflow/src/utils/fire.py#304\" target=\"_blank\"><span style=\"color: #7f7f7f; text-decoration-color: #7f7f7f\">304</span></a>\n",
       "<span style=\"color: #7fbfbf; text-decoration-color: #7fbfbf\">                    </span>         Repeat again. Decay Ratio for Simple and DR reduced methods                <span style=\"color: #7f7f7f; text-decoration-color: #7f7f7f\">           </span>\n",
       "</pre>\n"
      ],
      "text/plain": [
       "\u001b[2;36m                   \u001b[0m\u001b[2;36m \u001b[0m\u001b[34mINFO    \u001b[0m new model is worse.                                                        \u001b]8;id=353879;file:///home/lukas/code/testing/test_x_flow/recipe-xflow/src/utils/fire.py\u001b\\\u001b[2mfire.py\u001b[0m\u001b]8;;\u001b\\\u001b[2m:\u001b[0m\u001b]8;id=970399;file:///home/lukas/code/testing/test_x_flow/recipe-xflow/src/utils/fire.py#304\u001b\\\u001b[2m304\u001b[0m\u001b]8;;\u001b\\\n",
       "\u001b[2;36m                    \u001b[0m         Repeat again. Decay Ratio for Simple and DR reduced methods                \u001b[2m           \u001b[0m\n"
      ]
     },
     "metadata": {},
     "output_type": "display_data"
    },
    {
     "data": {
      "text/html": [
       "<pre style=\"white-space:pre;overflow-x:auto;line-height:normal;font-family:Menlo,'DejaVu Sans Mono',consolas,'Courier New',monospace\"><span style=\"color: #7fbfbf; text-decoration-color: #7fbfbf\">                    </span><span style=\"color: #000080; text-decoration-color: #000080\">INFO    </span> Run <span style=\"color: #008080; text-decoration-color: #008080; font-weight: bold\">5</span> completed                                                            <a href=\"file:///home/lukas/code/testing/test_x_flow/recipe-xflow/src/utils/fire.py\" target=\"_blank\"><span style=\"color: #7f7f7f; text-decoration-color: #7f7f7f\">fire.py</span></a><span style=\"color: #7f7f7f; text-decoration-color: #7f7f7f\">:</span><a href=\"file:///home/lukas/code/testing/test_x_flow/recipe-xflow/src/utils/fire.py#315\" target=\"_blank\"><span style=\"color: #7f7f7f; text-decoration-color: #7f7f7f\">315</span></a>\n",
       "</pre>\n"
      ],
      "text/plain": [
       "\u001b[2;36m                   \u001b[0m\u001b[2;36m \u001b[0m\u001b[34mINFO    \u001b[0m Run \u001b[1;36m5\u001b[0m completed                                                            \u001b]8;id=479203;file:///home/lukas/code/testing/test_x_flow/recipe-xflow/src/utils/fire.py\u001b\\\u001b[2mfire.py\u001b[0m\u001b]8;;\u001b\\\u001b[2m:\u001b[0m\u001b]8;id=754294;file:///home/lukas/code/testing/test_x_flow/recipe-xflow/src/utils/fire.py#315\u001b\\\u001b[2m315\u001b[0m\u001b]8;;\u001b\\\n"
      ]
     },
     "metadata": {},
     "output_type": "display_data"
    },
    {
     "data": {
      "text/html": [
       "<pre style=\"white-space:pre;overflow-x:auto;line-height:normal;font-family:Menlo,'DejaVu Sans Mono',consolas,'Courier New',monospace\"><span style=\"color: #7fbfbf; text-decoration-color: #7fbfbf\">                    </span><span style=\"color: #000080; text-decoration-color: #000080\">INFO    </span> Run <span style=\"color: #008080; text-decoration-color: #008080; font-weight: bold\">5</span> completed                                                            <a href=\"file:///home/lukas/code/testing/test_x_flow/recipe-xflow/src/utils/fire.py\" target=\"_blank\"><span style=\"color: #7f7f7f; text-decoration-color: #7f7f7f\">fire.py</span></a><span style=\"color: #7f7f7f; text-decoration-color: #7f7f7f\">:</span><a href=\"file:///home/lukas/code/testing/test_x_flow/recipe-xflow/src/utils/fire.py#315\" target=\"_blank\"><span style=\"color: #7f7f7f; text-decoration-color: #7f7f7f\">315</span></a>\n",
       "</pre>\n"
      ],
      "text/plain": [
       "\u001b[2;36m                   \u001b[0m\u001b[2;36m \u001b[0m\u001b[34mINFO    \u001b[0m Run \u001b[1;36m5\u001b[0m completed                                                            \u001b]8;id=443740;file:///home/lukas/code/testing/test_x_flow/recipe-xflow/src/utils/fire.py\u001b\\\u001b[2mfire.py\u001b[0m\u001b]8;;\u001b\\\u001b[2m:\u001b[0m\u001b]8;id=23702;file:///home/lukas/code/testing/test_x_flow/recipe-xflow/src/utils/fire.py#315\u001b\\\u001b[2m315\u001b[0m\u001b]8;;\u001b\\\n"
      ]
     },
     "metadata": {},
     "output_type": "display_data"
    },
    {
     "data": {
      "text/html": [
       "<pre style=\"white-space:pre;overflow-x:auto;line-height:normal;font-family:Menlo,'DejaVu Sans Mono',consolas,'Courier New',monospace\"></pre>\n"
      ],
      "text/plain": []
     },
     "metadata": {},
     "output_type": "display_data"
    },
    {
     "data": {
      "text/plain": [
       "\u001b[1m<\u001b[0m\u001b[1;95m__main__.FIRE\u001b[0m\u001b[39m object at \u001b[0m\u001b[1;36m0x7f506f045df0\u001b[0m\u001b[1m>\u001b[0m"
      ]
     },
     "execution_count": 27,
     "metadata": {},
     "output_type": "execute_result"
    }
   ],
   "source": [
    "binarized_data = binarizer.fit_transform(training_data)\n",
    "fire.fit(binarized_data)"
   ]
  },
  {
   "cell_type": "code",
   "execution_count": 28,
   "metadata": {},
   "outputs": [
    {
     "data": {
      "text/html": [
       "<pre style=\"white-space:pre;overflow-x:auto;line-height:normal;font-family:Menlo,'DejaVu Sans Mono',consolas,'Courier New',monospace\"></pre>\n"
      ],
      "text/plain": []
     },
     "metadata": {},
     "output_type": "display_data"
    },
    {
     "data": {
      "text/html": [
       "<div><style>\n",
       ".dataframe > thead > tr,\n",
       ".dataframe > tbody > tr {\n",
       "  text-align: right;\n",
       "  white-space: pre-wrap;\n",
       "}\n",
       "</style>\n",
       "<small>shape: (5, 33)</small><table border=\"1\" class=\"dataframe\"><thead><tr><th>request_id</th><th>date</th><th>cusip</th><th>BidAsk</th><th>Mid</th><th>yield_to_maturity</th><th>years_to_maturity</th><th>years_since_issue</th><th>is_bench_02y</th><th>is_bench_05y</th><th>is_bench_10y</th><th>is_bench_30y</th><th>IssueName</th><th>AmountOut</th><th>issue_date</th><th>Coupon</th><th>Currency</th><th>maturity_date</th><th>counterparty_id</th><th>counterparty_type</th><th>name</th><th>counterparty_aum</th><th>ann_account_value_bln</th><th>tier</th><th>salesperson</th><th>salesperson_num_ac_covered</th><th>notional_EURm</th><th>notional_bps_total_issue</th><th>log_notional</th><th>resp_bidAsk_norm</th><th>response_revenue_EUR</th><th>num_brokers</th><th>trade_won</th></tr><tr><td>i64</td><td>datetime[μs]</td><td>str</td><td>f64</td><td>f64</td><td>f64</td><td>f64</td><td>f64</td><td>bool</td><td>bool</td><td>bool</td><td>bool</td><td>str</td><td>f64</td><td>str</td><td>f64</td><td>str</td><td>str</td><td>str</td><td>str</td><td>str</td><td>f64</td><td>f64</td><td>str</td><td>str</td><td>i64</td><td>i64</td><td>f64</td><td>f64</td><td>f64</td><td>f64</td><td>i64</td><td>bool</td></tr></thead><tbody><tr><td>1777</td><td>2018-01-04 00:00:00</td><td>&quot;D2R8H4AK&quot;</td><td>0.0227</td><td>102.16795</td><td>-0.522589</td><td>3.263585</td><td>2.507923</td><td>false</td><td>false</td><td>false</td><td>false</td><td>&quot;Government of Germany 0.25% 16…</td><td>20713.79945</td><td>&quot;03/07/2015&quot;</td><td>0.25</td><td>&quot;Euro&quot;</td><td>&quot;10/04/2021&quot;</td><td>&quot;LO057&quot;</td><td>&quot;LO&quot;</td><td>&quot;Fayetteville Investments&quot;</td><td>81.673308</td><td>33.523547</td><td>&quot;C&quot;</td><td>&quot;Meghan&quot;</td><td>41</td><td>29</td><td>14.000329</td><td>1.462398</td><td>2.719329</td><td>4028.957313</td><td>10</td><td>true</td></tr><tr><td>1778</td><td>2018-03-06 00:00:00</td><td>&quot;D20658Z9&quot;</td><td>0.1442</td><td>128.7033</td><td>1.284039</td><td>29.005387</td><td>4.01651</td><td>false</td><td>false</td><td>false</td><td>true</td><td>&quot;Government of Germany 2.5% 15-…</td><td>30525.59919</td><td>&quot;28/02/2014&quot;</td><td>2.5</td><td>&quot;Euro&quot;</td><td>&quot;08/03/2047&quot;</td><td>&quot;LO111&quot;</td><td>&quot;LO&quot;</td><td>&quot;Knoxville Pensions&quot;</td><td>114.119618</td><td>30.439696</td><td>&quot;C&quot;</td><td>&quot;Meghan&quot;</td><td>41</td><td>208</td><td>68.139531</td><td>2.318063</td><td>12.510871</td><td>167553.6102</td><td>8</td><td>false</td></tr><tr><td>1779</td><td>2018-09-05 00:00:00</td><td>&quot;D206585A&quot;</td><td>0.028</td><td>100.987</td><td>-0.607714</td><td>2.661246</td><td>3.616775</td><td>false</td><td>false</td><td>false</td><td>false</td><td>&quot;Government of Germany 0.0% 17-…</td><td>21803.99942</td><td>&quot;23/01/2015&quot;</td><td>0.0</td><td>&quot;Euro&quot;</td><td>&quot;04/05/2021&quot;</td><td>&quot;LO140&quot;</td><td>&quot;LO&quot;</td><td>&quot;Cincinnati Capital&quot;</td><td>210.929638</td><td>46.848707</td><td>&quot;A&quot;</td><td>&quot;Kate&quot;</td><td>9</td><td>135</td><td>61.915247</td><td>2.130334</td><td>2.954119</td><td>20139.9049</td><td>9</td><td>false</td></tr><tr><td>1780</td><td>2019-08-14 00:00:00</td><td>&quot;D2R8H4DM&quot;</td><td>0.023</td><td>109.0565</td><td>-0.721392</td><td>9.566247</td><td>1.086949</td><td>false</td><td>false</td><td>true</td><td>false</td><td>&quot;Government of Germany 0.25% 15…</td><td>22894.19939</td><td>&quot;13/07/2018&quot;</td><td>0.25</td><td>&quot;Euro&quot;</td><td>&quot;08/03/2029&quot;</td><td>&quot;LO087&quot;</td><td>&quot;LO&quot;</td><td>&quot;Unalaska Advisors&quot;</td><td>117.150554</td><td>14.189058</td><td>&quot;C&quot;</td><td>&quot;William&quot;</td><td>15</td><td>99</td><td>43.242394</td><td>1.995635</td><td>2.661497</td><td>14369.06668</td><td>11</td><td>false</td></tr><tr><td>1781</td><td>2018-04-25 00:00:00</td><td>&quot;D20659WR&quot;</td><td>0.0242</td><td>106.5311</td><td>-0.492709</td><td>1.957604</td><td>7.685305</td><td>true</td><td>false</td><td>false</td><td>false</td><td>&quot;Government of Germany 2.25% 04…</td><td>17443.19954</td><td>&quot;18/08/2010&quot;</td><td>2.25</td><td>&quot;Euro&quot;</td><td>&quot;09/04/2020&quot;</td><td>&quot;LO090&quot;</td><td>&quot;LO&quot;</td><td>&quot;Jackson Trust&quot;</td><td>135.431575</td><td>50.701944</td><td>&quot;B&quot;</td><td>&quot;Louis&quot;</td><td>3</td><td>228</td><td>130.709965</td><td>2.357935</td><td>2.299022</td><td>27923.75113</td><td>9</td><td>false</td></tr></tbody></table></div>"
      ],
      "text/plain": [
       "\n",
       "shape: \u001b[1m(\u001b[0m\u001b[1;36m5\u001b[0m, \u001b[1;36m33\u001b[0m\u001b[1m)\u001b[0m\n",
       "┌────────────┬────────────┬──────────┬────────┬───┬────────────┬───────────┬───────────┬───────────┐\n",
       "│ request_id ┆ date       ┆ cusip    ┆ BidAsk ┆ … ┆ resp_bidAs ┆ response_ ┆ num_broke ┆ trade_won │\n",
       "│ ---        ┆ ---        ┆ ---      ┆ ---    ┆   ┆ k_norm     ┆ revenue_E ┆ rs        ┆ ---       │\n",
       "│ i64        ┆ datetime\u001b[1m[\u001b[0mμ ┆ str      ┆ f64    ┆   ┆ ---        ┆ UR        ┆ ---       ┆ bool      │\n",
       "│            ┆ s\u001b[1m]\u001b[0m         ┆          ┆        ┆   ┆ f64        ┆ ---       ┆ i64       ┆           │\n",
       "│            ┆            ┆          ┆        ┆   ┆            ┆ f64       ┆           ┆           │\n",
       "╞════════════╪════════════╪══════════╪════════╪═══╪════════════╪═══════════╪═══════════╪═══════════╡\n",
       "│ \u001b[1;36m1777\u001b[0m       ┆ \u001b[1;36m2018\u001b[0m-\u001b[1;36m01\u001b[0m-\u001b[1;36m04\u001b[0m ┆ D2R8H4AK ┆ \u001b[1;36m0.0227\u001b[0m ┆ … ┆ \u001b[1;36m2.719329\u001b[0m   ┆ \u001b[1;36m4028.9573\u001b[0m ┆ \u001b[1;36m10\u001b[0m        ┆ true      │\n",
       "│            ┆ \u001b[1;92m00:00:00\u001b[0m   ┆          ┆        ┆   ┆            ┆ \u001b[1;36m13\u001b[0m        ┆           ┆           │\n",
       "│ \u001b[1;36m1778\u001b[0m       ┆ \u001b[1;36m2018\u001b[0m-\u001b[1;36m03\u001b[0m-\u001b[1;36m06\u001b[0m ┆ D20658Z9 ┆ \u001b[1;36m0.1442\u001b[0m ┆ … ┆ \u001b[1;36m12.510871\u001b[0m  ┆ \u001b[1;36m167553.61\u001b[0m ┆ \u001b[1;36m8\u001b[0m         ┆ false     │\n",
       "│            ┆ \u001b[1;92m00:00:00\u001b[0m   ┆          ┆        ┆   ┆            ┆ \u001b[1;36m02\u001b[0m        ┆           ┆           │\n",
       "│ \u001b[1;36m1779\u001b[0m       ┆ \u001b[1;36m2018\u001b[0m-\u001b[1;36m09\u001b[0m-\u001b[1;36m05\u001b[0m ┆ D206585A ┆ \u001b[1;36m0.028\u001b[0m  ┆ … ┆ \u001b[1;36m2.954119\u001b[0m   ┆ \u001b[1;36m20139.904\u001b[0m ┆ \u001b[1;36m9\u001b[0m         ┆ false     │\n",
       "│            ┆ \u001b[1;92m00:00:00\u001b[0m   ┆          ┆        ┆   ┆            ┆ \u001b[1;36m9\u001b[0m         ┆           ┆           │\n",
       "│ \u001b[1;36m1780\u001b[0m       ┆ \u001b[1;36m2019\u001b[0m-\u001b[1;36m08\u001b[0m-\u001b[1;36m14\u001b[0m ┆ D2R8H4DM ┆ \u001b[1;36m0.023\u001b[0m  ┆ … ┆ \u001b[1;36m2.661497\u001b[0m   ┆ \u001b[1;36m14369.066\u001b[0m ┆ \u001b[1;36m11\u001b[0m        ┆ false     │\n",
       "│            ┆ \u001b[1;92m00:00:00\u001b[0m   ┆          ┆        ┆   ┆            ┆ \u001b[1;36m68\u001b[0m        ┆           ┆           │\n",
       "│ \u001b[1;36m1781\u001b[0m       ┆ \u001b[1;36m2018\u001b[0m-\u001b[1;36m04\u001b[0m-\u001b[1;36m25\u001b[0m ┆ D20659WR ┆ \u001b[1;36m0.0242\u001b[0m ┆ … ┆ \u001b[1;36m2.299022\u001b[0m   ┆ \u001b[1;36m27923.751\u001b[0m ┆ \u001b[1;36m9\u001b[0m         ┆ false     │\n",
       "│            ┆ \u001b[1;92m00:00:00\u001b[0m   ┆          ┆        ┆   ┆            ┆ \u001b[1;36m13\u001b[0m        ┆           ┆           │\n",
       "└────────────┴────────────┴──────────┴────────┴───┴────────────┴───────────┴───────────┴───────────┘"
      ]
     },
     "execution_count": 28,
     "metadata": {},
     "output_type": "execute_result"
    }
   ],
   "source": [
    "training_data.rendered_df.head()"
   ]
  },
  {
   "cell_type": "code",
   "execution_count": 29,
   "metadata": {},
   "outputs": [],
   "source": [
    "reduced_data = fire.transform(binarizer.transform(training_data))"
   ]
  },
  {
   "cell_type": "code",
   "execution_count": 30,
   "metadata": {},
   "outputs": [
    {
     "data": {
      "text/html": [
       "<pre style=\"white-space:pre;overflow-x:auto;line-height:normal;font-family:Menlo,'DejaVu Sans Mono',consolas,'Courier New',monospace\"><span style=\"color: #7fbfbf; text-decoration-color: #7fbfbf\">[06/17/24 11:02:16] </span><span style=\"color: #000080; text-decoration-color: #000080\">INFO    </span> In progress: <span style=\"color: #008080; text-decoration-color: #008080; font-weight: bold\">0</span>, queued: <span style=\"color: #008080; text-decoration-color: #008080; font-weight: bold\">0</span> <span style=\"font-weight: bold\">(</span>waited: 0s<span style=\"font-weight: bold\">)</span>                                 <a href=\"file:///home/lukas/code/testing/test_x_flow/recipe-xflow/.venv/lib/python3.12/site-packages/datarobot/models/project.py\" target=\"_blank\"><span style=\"color: #7f7f7f; text-decoration-color: #7f7f7f\">project.py</span></a><span style=\"color: #7f7f7f; text-decoration-color: #7f7f7f\">:</span><a href=\"file:///home/lukas/code/testing/test_x_flow/recipe-xflow/.venv/lib/python3.12/site-packages/datarobot/models/project.py#4041\" target=\"_blank\"><span style=\"color: #7f7f7f; text-decoration-color: #7f7f7f\">4041</span></a>\n",
       "</pre>\n"
      ],
      "text/plain": [
       "\u001b[2;36m[06/17/24 11:02:16]\u001b[0m\u001b[2;36m \u001b[0m\u001b[34mINFO    \u001b[0m In progress: \u001b[1;36m0\u001b[0m, queued: \u001b[1;36m0\u001b[0m \u001b[1m(\u001b[0mwaited: 0s\u001b[1m)\u001b[0m                                 \u001b]8;id=749197;file:///home/lukas/code/testing/test_x_flow/recipe-xflow/.venv/lib/python3.12/site-packages/datarobot/models/project.py\u001b\\\u001b[2mproject.py\u001b[0m\u001b]8;;\u001b\\\u001b[2m:\u001b[0m\u001b]8;id=782701;file:///home/lukas/code/testing/test_x_flow/recipe-xflow/.venv/lib/python3.12/site-packages/datarobot/models/project.py#4041\u001b\\\u001b[2m4041\u001b[0m\u001b]8;;\u001b\\\n"
      ]
     },
     "metadata": {},
     "output_type": "display_data"
    }
   ],
   "source": [
    "dataset_id = get_or_create_dataset_from_df(\n",
    "    endpoint=\"https://app.datarobot.com/api/v2\",\n",
    "    token=\"NWQ1NDA3YTVmNTU1Y2QxZDQxNmQ1YTZjOklqemlsaHJucTZtdU1NVThMLWpCVldJeEhpYUhOcFVo\",\n",
    "    data_frame=reduced_data.rendered_df.to_pandas(),\n",
    "    name=\"reduced_data_dataset\",\n",
    ")\n",
    "project_id = get_or_create_autopilot_run(\n",
    "    endpoint=\"https://app.datarobot.com/api/v2\",\n",
    "    token=\"NWQ1NDA3YTVmNTU1Y2QxZDQxNmQ1YTZjOklqemlsaHJucTZtdU1NVThMLWpCVldJeEhpYUhOcFVo\",\n",
    "    dataset_id=dataset_id,\n",
    "    name=\"reduced_data_project\",\n",
    "    analyze_and_model_config={\n",
    "        \"target\": reduced_data.target_column,\n",
    "        \"mode\": \"quick\",\n",
    "        \"max_wait\": 10000,\n",
    "        \"worker_count\": -1,\n",
    "    },\n",
    ")\n"
   ]
  },
  {
   "cell_type": "code",
   "execution_count": 44,
   "metadata": {},
   "outputs": [],
   "source": [
    "def p(x):\n",
    "    return x+1\n",
    "\n",
    "f = lambda check, x: check and p(x)  # noqa: E731"
   ]
  },
  {
   "cell_type": "code",
   "execution_count": 45,
   "metadata": {},
   "outputs": [
    {
     "data": {
      "text/html": [
       "<pre style=\"white-space:pre;overflow-x:auto;line-height:normal;font-family:Menlo,'DejaVu Sans Mono',consolas,'Courier New',monospace\"></pre>\n"
      ],
      "text/plain": []
     },
     "metadata": {},
     "output_type": "display_data"
    },
    {
     "data": {
      "text/plain": [
       "\u001b[1;36m5\u001b[0m"
      ]
     },
     "execution_count": 45,
     "metadata": {},
     "output_type": "execute_result"
    }
   ],
   "source": [
    "f(True, 4)"
   ]
  },
  {
   "cell_type": "code",
   "execution_count": 1,
   "metadata": {},
   "outputs": [
    {
     "data": {
      "text/html": [
       "<pre style=\"white-space:pre;overflow-x:auto;line-height:normal;font-family:Menlo,'DejaVu Sans Mono',consolas,'Courier New',monospace\"><span style=\"color: #7fbfbf; text-decoration-color: #7fbfbf\">                    </span><span style=\"color: #000080; text-decoration-color: #000080\">INFO    </span> Loading data from <span style=\"color: #ff8700; text-decoration-color: #ff8700\">experiment.backtests_grouped</span>                     <a href=\"file:///home/lukas/code/testing/test_x_flow/recipe-xflow/.venv/lib/python3.12/site-packages/kedro/io/data_catalog.py\" target=\"_blank\"><span style=\"color: #7f7f7f; text-decoration-color: #7f7f7f\">data_catalog.py</span></a><span style=\"color: #7f7f7f; text-decoration-color: #7f7f7f\">:</span><a href=\"file:///home/lukas/code/testing/test_x_flow/recipe-xflow/.venv/lib/python3.12/site-packages/kedro/io/data_catalog.py#483\" target=\"_blank\"><span style=\"color: #7f7f7f; text-decoration-color: #7f7f7f\">483</span></a>\n",
       "<span style=\"color: #7fbfbf; text-decoration-color: #7fbfbf\">                    </span>         <span style=\"font-weight: bold\">(</span>PartitionedDataset<span style=\"font-weight: bold\">)</span><span style=\"color: #808000; text-decoration-color: #808000\">...</span>                                            <span style=\"color: #7f7f7f; text-decoration-color: #7f7f7f\">                   </span>\n",
       "</pre>\n"
      ],
      "text/plain": [
       "\u001b[2;36m                   \u001b[0m\u001b[2;36m \u001b[0m\u001b[34mINFO    \u001b[0m Loading data from \u001b[38;5;208mexperiment.backtests_grouped\u001b[0m                     \u001b]8;id=482860;file:///home/lukas/code/testing/test_x_flow/recipe-xflow/.venv/lib/python3.12/site-packages/kedro/io/data_catalog.py\u001b\\\u001b[2mdata_catalog.py\u001b[0m\u001b]8;;\u001b\\\u001b[2m:\u001b[0m\u001b]8;id=461552;file:///home/lukas/code/testing/test_x_flow/recipe-xflow/.venv/lib/python3.12/site-packages/kedro/io/data_catalog.py#483\u001b\\\u001b[2m483\u001b[0m\u001b]8;;\u001b\\\n",
       "\u001b[2;36m                    \u001b[0m         \u001b[1m(\u001b[0mPartitionedDataset\u001b[1m)\u001b[0m\u001b[33m...\u001b[0m                                            \u001b[2m                   \u001b[0m\n"
      ]
     },
     "metadata": {},
     "output_type": "display_data"
    }
   ],
   "source": [
    "df = catalog.load(\"experiment.backtests_grouped\")"
   ]
  },
  {
   "cell_type": "code",
   "execution_count": 2,
   "metadata": {},
   "outputs": [
    {
     "data": {
      "text/html": [
       "<pre style=\"white-space:pre;overflow-x:auto;line-height:normal;font-family:Menlo,'DejaVu Sans Mono',consolas,'Courier New',monospace\"></pre>\n"
      ],
      "text/plain": []
     },
     "metadata": {},
     "output_type": "display_data"
    },
    {
     "data": {
      "text/plain": [
       "\n",
       "\u001b[1m{\u001b[0m\n",
       "    \u001b[32m'__all_data__/664f6b545985fcc9a513c951/664f6bb42574c507a9635697.csv/data'\u001b[0m: \u001b[1m<\u001b[0m\u001b[1;95mbound\u001b[0m\u001b[39m method AbstractDataset.load of <x_flow.utils.data.XFlowDataset object at \u001b[0m\u001b[1;36m0x7f3121f8f710\u001b[0m\u001b[39m>>,\u001b[0m\n",
       "\u001b[39m    \u001b[0m\u001b[32m'__all_data__/664f6b545985fcc9a513c951/664f6bb42574c507a9635698.csv/data'\u001b[0m\u001b[39m: <bound method AbstractDataset.load of <x_flow.utils.data.XFlowDataset object at \u001b[0m\u001b[1;36m0x7f3166198d40\u001b[0m\u001b[39m>>,\u001b[0m\n",
       "\u001b[39m    \u001b[0m\u001b[32m'__all_data__/664f6b545985fcc9a513c951/664f6bb42574c507a9635699.csv/data'\u001b[0m\u001b[39m: <bound method AbstractDataset.load of <x_flow.utils.data.XFlowDataset object at \u001b[0m\u001b[1;36m0x7f3122283470\u001b[0m\u001b[39m>>,\u001b[0m\n",
       "\u001b[39m    \u001b[0m\u001b[32m'__all_data__/664f6b545985fcc9a513c951/664f6bb42574c507a963569a.csv/data'\u001b[0m\u001b[39m: <bound method AbstractDataset.load of <x_flow.utils.data.XFlowDataset object at \u001b[0m\u001b[1;36m0x7f3121e8ff80\u001b[0m\u001b[39m>\u001b[0m\u001b[1m>\u001b[0m\n",
       "\u001b[1m}\u001b[0m"
      ]
     },
     "execution_count": 2,
     "metadata": {},
     "output_type": "execute_result"
    }
   ],
   "source": [
    "df"
   ]
  },
  {
   "cell_type": "code",
   "execution_count": 4,
   "metadata": {},
   "outputs": [
    {
     "data": {
      "text/html": [
       "<pre style=\"white-space:pre;overflow-x:auto;line-height:normal;font-family:Menlo,'DejaVu Sans Mono',consolas,'Courier New',monospace\"></pre>\n"
      ],
      "text/plain": []
     },
     "metadata": {},
     "output_type": "display_data"
    },
    {
     "data": {
      "text/plain": [
       "\n",
       "\u001b[1;35mValidationPredictionData\u001b[0m\u001b[1m(\u001b[0m\n",
       "    \u001b[33mdf\u001b[0m=     Unnamed: \u001b[1;36m0\u001b[0m        date  BBBI Global Aggregate  MSCI AC World  S&P GSCI  \\\n",
       "\u001b[1;36m0\u001b[0m            \u001b[1;36m22\u001b[0m  \u001b[1;36m2020\u001b[0m-\u001b[1;36m06\u001b[0m-\u001b[1;36m09\u001b[0m               \u001b[1;36m0.001346\u001b[0m      \u001b[1;36m-0.006076\u001b[0m  \u001b[1;36m0.008632\u001b[0m   \n",
       "\u001b[1;36m1\u001b[0m            \u001b[1;36m23\u001b[0m  \u001b[1;36m2020\u001b[0m-\u001b[1;36m06\u001b[0m-\u001b[1;36m10\u001b[0m               \u001b[1;36m0.001401\u001b[0m      \u001b[1;36m-0.003265\u001b[0m  \u001b[1;36m0.009312\u001b[0m   \n",
       "\u001b[1;36m2\u001b[0m            \u001b[1;36m23\u001b[0m  \u001b[1;36m2020\u001b[0m-\u001b[1;36m06\u001b[0m-\u001b[1;36m10\u001b[0m               \u001b[1;36m0.001401\u001b[0m      \u001b[1;36m-0.003265\u001b[0m  \u001b[1;36m0.009312\u001b[0m   \n",
       "\u001b[1;36m3\u001b[0m            \u001b[1;36m23\u001b[0m  \u001b[1;36m2020\u001b[0m-\u001b[1;36m06\u001b[0m-\u001b[1;36m10\u001b[0m               \u001b[1;36m0.001401\u001b[0m      \u001b[1;36m-0.003265\u001b[0m  \u001b[1;36m0.009312\u001b[0m   \n",
       "\u001b[1;36m4\u001b[0m            \u001b[1;36m24\u001b[0m  \u001b[1;36m2020\u001b[0m-\u001b[1;36m06\u001b[0m-\u001b[1;36m11\u001b[0m               \u001b[1;36m0.002412\u001b[0m      \u001b[1;36m-0.045679\u001b[0m \u001b[1;36m-0.038599\u001b[0m   \n",
       "..          \u001b[33m...\u001b[0m         \u001b[33m...\u001b[0m                    \u001b[33m...\u001b[0m            \u001b[33m...\u001b[0m       \u001b[33m...\u001b[0m   \n",
       "\u001b[1;36m308\u001b[0m          \u001b[1;36m85\u001b[0m  \u001b[1;36m2020\u001b[0m-\u001b[1;36m09\u001b[0m-\u001b[1;36m08\u001b[0m               \u001b[1;36m0.000951\u001b[0m      \u001b[1;36m-0.017024\u001b[0m \u001b[1;36m-0.033223\u001b[0m   \n",
       "\u001b[1;36m309\u001b[0m          \u001b[1;36m85\u001b[0m  \u001b[1;36m2020\u001b[0m-\u001b[1;36m09\u001b[0m-\u001b[1;36m08\u001b[0m               \u001b[1;36m0.000951\u001b[0m      \u001b[1;36m-0.017024\u001b[0m \u001b[1;36m-0.033223\u001b[0m   \n",
       "\u001b[1;36m310\u001b[0m          \u001b[1;36m85\u001b[0m  \u001b[1;36m2020\u001b[0m-\u001b[1;36m09\u001b[0m-\u001b[1;36m08\u001b[0m               \u001b[1;36m0.000951\u001b[0m      \u001b[1;36m-0.017024\u001b[0m \u001b[1;36m-0.033223\u001b[0m   \n",
       "\u001b[1;36m311\u001b[0m          \u001b[1;36m85\u001b[0m  \u001b[1;36m2020\u001b[0m-\u001b[1;36m09\u001b[0m-\u001b[1;36m08\u001b[0m               \u001b[1;36m0.000951\u001b[0m      \u001b[1;36m-0.017024\u001b[0m \u001b[1;36m-0.033223\u001b[0m   \n",
       "\u001b[1;36m312\u001b[0m          \u001b[1;36m86\u001b[0m  \u001b[1;36m2020\u001b[0m-\u001b[1;36m09\u001b[0m-\u001b[1;36m09\u001b[0m              \u001b[1;36m-0.001176\u001b[0m       \u001b[1;36m0.014020\u001b[0m  \u001b[1;36m0.016331\u001b[0m   \n",
       "\n",
       "     United States Dollar Index       VIX  EM credit rel.  \\\n",
       "\u001b[1;36m0\u001b[0m                     \u001b[1;36m-0.003043\u001b[0m  \u001b[1;36m0.068191\u001b[0m       \u001b[1;36m-0.000715\u001b[0m   \n",
       "\u001b[1;36m1\u001b[0m                     \u001b[1;36m-0.003789\u001b[0m  \u001b[1;36m0.000000\u001b[0m        \u001b[1;36m0.000599\u001b[0m   \n",
       "\u001b[1;36m2\u001b[0m                     \u001b[1;36m-0.003789\u001b[0m  \u001b[1;36m0.000000\u001b[0m        \u001b[1;36m0.000599\u001b[0m   \n",
       "\u001b[1;36m3\u001b[0m                     \u001b[1;36m-0.003789\u001b[0m  \u001b[1;36m0.000000\u001b[0m        \u001b[1;36m0.000599\u001b[0m   \n",
       "\u001b[1;36m4\u001b[0m                      \u001b[1;36m0.008066\u001b[0m  \u001b[1;36m0.479507\u001b[0m       \u001b[1;36m-0.007747\u001b[0m   \n",
       "..                          \u001b[33m...\u001b[0m       \u001b[33m...\u001b[0m             \u001b[33m...\u001b[0m   \n",
       "\u001b[1;36m308\u001b[0m                    \u001b[1;36m0.007830\u001b[0m  \u001b[1;36m0.023089\u001b[0m       \u001b[1;36m-0.002510\u001b[0m   \n",
       "\u001b[1;36m309\u001b[0m                    \u001b[1;36m0.007830\u001b[0m  \u001b[1;36m0.023089\u001b[0m       \u001b[1;36m-0.002510\u001b[0m   \n",
       "\u001b[1;36m310\u001b[0m                    \u001b[1;36m0.007830\u001b[0m  \u001b[1;36m0.023089\u001b[0m       \u001b[1;36m-0.002510\u001b[0m   \n",
       "\u001b[1;36m311\u001b[0m                    \u001b[1;36m0.007830\u001b[0m  \u001b[1;36m0.023089\u001b[0m       \u001b[1;36m-0.002510\u001b[0m   \n",
       "\u001b[1;36m312\u001b[0m                   \u001b[1;36m-0.002033\u001b[0m \u001b[1;36m-0.084234\u001b[0m       \u001b[1;36m-0.008755\u001b[0m   \n",
       "\n",
       "     Global corporates rel.  Ex-US sovereigns rel.  \u001b[33m...\u001b[0m  GSCI Energy rel.  \\\n",
       "\u001b[1;36m0\u001b[0m                 \u001b[1;36m-0.000769\u001b[0m               \u001b[1;36m0.000224\u001b[0m  \u001b[33m...\u001b[0m          \u001b[1;36m0.006367\u001b[0m   \n",
       "\u001b[1;36m1\u001b[0m                  \u001b[1;36m0.001547\u001b[0m              \u001b[1;36m-0.000438\u001b[0m  \u001b[33m...\u001b[0m          \u001b[1;36m0.005094\u001b[0m   \n",
       "\u001b[1;36m2\u001b[0m                  \u001b[1;36m0.001547\u001b[0m              \u001b[1;36m-0.000438\u001b[0m  \u001b[33m...\u001b[0m          \u001b[1;36m0.005094\u001b[0m   \n",
       "\u001b[1;36m3\u001b[0m                  \u001b[1;36m0.001547\u001b[0m              \u001b[1;36m-0.000438\u001b[0m  \u001b[33m...\u001b[0m          \u001b[1;36m0.005094\u001b[0m   \n",
       "\u001b[1;36m4\u001b[0m                 \u001b[1;36m-0.004012\u001b[0m               \u001b[1;36m0.001090\u001b[0m  \u001b[33m...\u001b[0m         \u001b[1;36m-0.030365\u001b[0m   \n",
       "..                      \u001b[33m...\u001b[0m                    \u001b[33m...\u001b[0m  \u001b[33m...\u001b[0m               \u001b[33m...\u001b[0m   \n",
       "\u001b[1;36m308\u001b[0m                \u001b[1;36m0.000202\u001b[0m               \u001b[1;36m0.000141\u001b[0m  \u001b[33m...\u001b[0m         \u001b[1;36m-0.033586\u001b[0m   \n",
       "\u001b[1;36m309\u001b[0m                \u001b[1;36m0.000202\u001b[0m               \u001b[1;36m0.000141\u001b[0m  \u001b[33m...\u001b[0m         \u001b[1;36m-0.033586\u001b[0m   \n",
       "\u001b[1;36m310\u001b[0m                \u001b[1;36m0.000202\u001b[0m               \u001b[1;36m0.000141\u001b[0m  \u001b[33m...\u001b[0m         \u001b[1;36m-0.033586\u001b[0m   \n",
       "\u001b[1;36m311\u001b[0m                \u001b[1;36m0.000202\u001b[0m               \u001b[1;36m0.000141\u001b[0m  \u001b[33m...\u001b[0m         \u001b[1;36m-0.033586\u001b[0m   \n",
       "\u001b[1;36m312\u001b[0m               \u001b[1;36m-0.000654\u001b[0m              \u001b[1;36m-0.000054\u001b[0m  \u001b[33m...\u001b[0m          \u001b[1;36m0.014921\u001b[0m   \n",
       "\n",
       "     GSCI Ind. Metals rel.  GSCI Precious Met. Rel.  target_cat  partition_id  \\\n",
       "\u001b[1;36m0\u001b[0m                \u001b[1;36m-0.004109\u001b[0m                 \u001b[1;36m0.000075\u001b[0m        \u001b[3;92mTrue\u001b[0m           \u001b[1;36m0.0\u001b[0m   \n",
       "\u001b[1;36m1\u001b[0m                 \u001b[1;36m0.006363\u001b[0m                \u001b[1;36m-0.009817\u001b[0m        \u001b[3;92mTrue\u001b[0m           \u001b[1;36m0.0\u001b[0m   \n",
       "\u001b[1;36m2\u001b[0m                 \u001b[1;36m0.006363\u001b[0m                \u001b[1;36m-0.009817\u001b[0m        \u001b[3;92mTrue\u001b[0m           \u001b[1;36m2.0\u001b[0m   \n",
       "\u001b[1;36m3\u001b[0m                 \u001b[1;36m0.006363\u001b[0m                \u001b[1;36m-0.009817\u001b[0m        \u001b[3;92mTrue\u001b[0m           \u001b[1;36m4.0\u001b[0m   \n",
       "\u001b[1;36m4\u001b[0m                 \u001b[1;36m0.019915\u001b[0m                 \u001b[1;36m0.049345\u001b[0m        \u001b[3;92mTrue\u001b[0m           \u001b[1;36m2.0\u001b[0m   \n",
       "..                     \u001b[33m...\u001b[0m                      \u001b[33m...\u001b[0m         \u001b[33m...\u001b[0m           \u001b[33m...\u001b[0m   \n",
       "\u001b[1;36m308\u001b[0m               \u001b[1;36m0.024204\u001b[0m                 \u001b[1;36m0.038457\u001b[0m       \u001b[3;91mFalse\u001b[0m           \u001b[1;36m1.0\u001b[0m   \n",
       "\u001b[1;36m309\u001b[0m               \u001b[1;36m0.024204\u001b[0m                 \u001b[1;36m0.038457\u001b[0m       \u001b[3;91mFalse\u001b[0m           \u001b[1;36m3.0\u001b[0m   \n",
       "\u001b[1;36m310\u001b[0m               \u001b[1;36m0.024204\u001b[0m                 \u001b[1;36m0.038457\u001b[0m       \u001b[3;91mFalse\u001b[0m           \u001b[1;36m2.0\u001b[0m   \n",
       "\u001b[1;36m311\u001b[0m               \u001b[1;36m0.024204\u001b[0m                 \u001b[1;36m0.038457\u001b[0m       \u001b[3;91mFalse\u001b[0m           \u001b[1;36m4.0\u001b[0m   \n",
       "\u001b[1;36m312\u001b[0m              \u001b[1;36m-0.012945\u001b[0m                \u001b[1;36m-0.010594\u001b[0m        \u001b[3;92mTrue\u001b[0m           \u001b[1;36m2.0\u001b[0m   \n",
       "\n",
       "     prediction                    timestamp               forecast_point  \\\n",
       "\u001b[1;36m0\u001b[0m      \u001b[1;36m0.583774\u001b[0m  \u001b[1;36m2023\u001b[0m-\u001b[1;36m01\u001b[0m-19T\u001b[1;92m00:00:00\u001b[0m.000000Z  \u001b[1;36m2023\u001b[0m-\u001b[1;36m01\u001b[0m-19T\u001b[1;92m00:00:00\u001b[0m.000000Z   \n",
       "\u001b[1;36m1\u001b[0m      \u001b[1;36m0.757289\u001b[0m  \u001b[1;36m2023\u001b[0m-\u001b[1;36m01\u001b[0m-20T\u001b[1;92m00:00:00\u001b[0m.000000Z  \u001b[1;36m2023\u001b[0m-\u001b[1;36m01\u001b[0m-20T\u001b[1;92m00:00:00\u001b[0m.000000Z   \n",
       "\u001b[1;36m2\u001b[0m      \u001b[1;36m0.683850\u001b[0m  \u001b[1;36m2022\u001b[0m-\u001b[1;36m07\u001b[0m-21T\u001b[1;92m00:00:00\u001b[0m.000000Z  \u001b[1;36m2022\u001b[0m-\u001b[1;36m07\u001b[0m-21T\u001b[1;92m00:00:00\u001b[0m.000000Z   \n",
       "\u001b[1;36m3\u001b[0m      \u001b[1;36m0.447477\u001b[0m  \u001b[1;36m2022\u001b[0m-\u001b[1;36m01\u001b[0m-20T\u001b[1;92m00:00:00\u001b[0m.000000Z  \u001b[1;36m2022\u001b[0m-\u001b[1;36m01\u001b[0m-20T\u001b[1;92m00:00:00\u001b[0m.000000Z   \n",
       "\u001b[1;36m4\u001b[0m      \u001b[1;36m0.064590\u001b[0m  \u001b[1;36m2022\u001b[0m-\u001b[1;36m07\u001b[0m-22T\u001b[1;92m00:00:00\u001b[0m.000000Z  \u001b[1;36m2022\u001b[0m-\u001b[1;36m07\u001b[0m-22T\u001b[1;92m00:00:00\u001b[0m.000000Z   \n",
       "..          \u001b[33m...\u001b[0m                          \u001b[33m...\u001b[0m                          \u001b[33m...\u001b[0m   \n",
       "\u001b[1;36m308\u001b[0m    \u001b[1;36m0.672843\u001b[0m  \u001b[1;36m2023\u001b[0m-\u001b[1;36m01\u001b[0m-18T\u001b[1;92m00:00:00\u001b[0m.000000Z  \u001b[1;36m2023\u001b[0m-\u001b[1;36m01\u001b[0m-18T\u001b[1;92m00:00:00\u001b[0m.000000Z   \n",
       "\u001b[1;36m309\u001b[0m    \u001b[1;36m0.726218\u001b[0m  \u001b[1;36m2022\u001b[0m-\u001b[1;36m07\u001b[0m-20T\u001b[1;92m00:00:00\u001b[0m.000000Z  \u001b[1;36m2022\u001b[0m-\u001b[1;36m07\u001b[0m-20T\u001b[1;92m00:00:00\u001b[0m.000000Z   \n",
       "\u001b[1;36m310\u001b[0m    \u001b[1;36m0.250504\u001b[0m  \u001b[1;36m2022\u001b[0m-\u001b[1;36m10\u001b[0m-18T\u001b[1;92m00:00:00\u001b[0m.000000Z  \u001b[1;36m2022\u001b[0m-\u001b[1;36m10\u001b[0m-18T\u001b[1;92m00:00:00\u001b[0m.000000Z   \n",
       "\u001b[1;36m311\u001b[0m    \u001b[1;36m0.038408\u001b[0m  \u001b[1;36m2022\u001b[0m-\u001b[1;36m04\u001b[0m-20T\u001b[1;92m00:00:00\u001b[0m.000000Z  \u001b[1;36m2022\u001b[0m-\u001b[1;36m04\u001b[0m-20T\u001b[1;92m00:00:00\u001b[0m.000000Z   \n",
       "\u001b[1;36m312\u001b[0m    \u001b[1;36m0.542009\u001b[0m  \u001b[1;36m2022\u001b[0m-\u001b[1;36m10\u001b[0m-19T\u001b[1;92m00:00:00\u001b[0m.000000Z  \u001b[1;36m2022\u001b[0m-\u001b[1;36m10\u001b[0m-19T\u001b[1;92m00:00:00\u001b[0m.000000Z   \n",
       "\n",
       "     forecast_distance  series_id  \n",
       "\u001b[1;36m0\u001b[0m                    \u001b[1;36m0\u001b[0m        NaN  \n",
       "\u001b[1;36m1\u001b[0m                    \u001b[1;36m0\u001b[0m        NaN  \n",
       "\u001b[1;36m2\u001b[0m                    \u001b[1;36m0\u001b[0m        NaN  \n",
       "\u001b[1;36m3\u001b[0m                    \u001b[1;36m0\u001b[0m        NaN  \n",
       "\u001b[1;36m4\u001b[0m                    \u001b[1;36m0\u001b[0m        NaN  \n",
       "..                 \u001b[33m...\u001b[0m        \u001b[33m...\u001b[0m  \n",
       "\u001b[1;36m308\u001b[0m                  \u001b[1;36m0\u001b[0m        NaN  \n",
       "\u001b[1;36m309\u001b[0m                  \u001b[1;36m0\u001b[0m        NaN  \n",
       "\u001b[1;36m310\u001b[0m                  \u001b[1;36m0\u001b[0m        NaN  \n",
       "\u001b[1;36m311\u001b[0m                  \u001b[1;36m0\u001b[0m        NaN  \n",
       "\u001b[1;36m312\u001b[0m                  \u001b[1;36m0\u001b[0m        NaN  \n",
       "\n",
       "\u001b[1m[\u001b[0m\u001b[1;36m313\u001b[0m rows x \u001b[1;36m49\u001b[0m columns\u001b[1m]\u001b[0m,\n",
       "    \u001b[33mcolumns\u001b[0m=\u001b[3;35mNone\u001b[0m,\n",
       "    \u001b[33mrow_index\u001b[0m=\u001b[3;35mNone\u001b[0m,\n",
       "    \u001b[33mdate_partition_column\u001b[0m=\u001b[3;35mNone\u001b[0m,\n",
       "    \u001b[33mpartition_column\u001b[0m=\u001b[3;35mNone\u001b[0m,\n",
       "    \u001b[33mdate_column\u001b[0m=\u001b[3;35mNone\u001b[0m,\n",
       "    \u001b[33mdate_format\u001b[0m=\u001b[32m'%Y-%m-%d'\u001b[0m,\n",
       "    \u001b[33mtarget_column\u001b[0m=\u001b[32m'target_cat'\u001b[0m\n",
       "\u001b[1m)\u001b[0m"
      ]
     },
     "execution_count": 4,
     "metadata": {},
     "output_type": "execute_result"
    }
   ],
   "source": [
    "df['__all_data__/664f6b545985fcc9a513c951/664f6bb42574c507a9635697.csv/data']()"
   ]
  },
  {
   "cell_type": "code",
   "execution_count": null,
   "metadata": {},
   "outputs": [],
   "source": []
  }
 ],
 "metadata": {
  "kernelspec": {
   "display_name": "Kedro (x_flow)",
   "language": "python",
   "name": "kedro_x_flow"
  },
  "language_info": {
   "codemirror_mode": {
    "name": "ipython",
    "version": 3
   },
   "file_extension": ".py",
   "mimetype": "text/x-python",
   "name": "python",
   "nbconvert_exporter": "python",
   "pygments_lexer": "ipython3",
   "version": "3.12.3"
  }
 },
 "nbformat": 4,
 "nbformat_minor": 2
}
