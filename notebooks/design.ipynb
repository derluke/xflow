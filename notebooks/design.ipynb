{
 "cells": [
  {
   "cell_type": "code",
   "execution_count": 6,
   "metadata": {},
   "outputs": [
    {
     "name": "stdout",
     "output_type": "stream",
     "text": [
      "\u001b[2K\u001b[2mResolved \u001b[1m1 package\u001b[0m in 374ms\u001b[0m                                                  \u001b[0m\n",
      "\u001b[2K\u001b[2mDownloaded \u001b[1m1 package\u001b[0m in 4.08s\u001b[0m1                                      \u001b[0m\n",
      "\u001b[2K\u001b[2mInstalled \u001b[1m1 package\u001b[0m in 28ms\u001b[0m.31                                      \u001b[0m\n",
      " \u001b[32m+\u001b[39m \u001b[1mpolars\u001b[0m\u001b[2m==0.20.31\u001b[0m\n"
     ]
    }
   ],
   "source": [
    "!uv pip install polars"
   ]
  },
  {
   "cell_type": "code",
   "execution_count": 7,
   "metadata": {},
   "outputs": [],
   "source": [
    "# data processing\n",
    "import datetime\n",
    "from dataclasses import dataclass\n",
    "from pathlib import Path\n",
    "from typing import Optional, Union\n",
    "\n",
    "import polars as pl\n",
    "\n",
    "\n",
    "@dataclass(kw_only=True)\n",
    "class Data:\n",
    "    df: pl.DataFrame\n",
    "    columns: Optional[list[str]] = None\n",
    "    row_index: Optional[list[int]] = None\n",
    "    date_partition_column: Optional[Union[str, list[datetime.datetime]]] = None\n",
    "    partition_column: Optional[str] = None\n",
    "    date_column: Optional[str] = None\n",
    "    date_format: str = \"%Y-%m-%d\"\n",
    "    target_column: str\n",
    "\n",
    "    @staticmethod\n",
    "    def load(load_path: Path, target_column: str, **kwargs) -> \"Data\":\n",
    "        df = pl.read_csv(\n",
    "            load_path,\n",
    "        )\n",
    "        return Data(df=df, target_column=target_column, **kwargs)\n",
    "\n",
    "    @property\n",
    "    def rendered_df(self) -> pl.DataFrame:\n",
    "        df = self.df\n",
    "        if self.columns is not None and len(self.columns):\n",
    "            df = df.select(self.columns)\n",
    "        if self.row_index is not None and len(self.row_index):\n",
    "            df = df[self.row_index]\n",
    "        if self.date_column is not None and not df.dtypes[df.columns.index(self.date_column)] == pl.Datetime:\n",
    "            df = df.with_columns(\n",
    "                pl.col(self.date_column).str.to_datetime(self.date_format)\n",
    "            )\n",
    "        return df\n",
    "\n",
    "    def get_date_partitions(self):\n",
    "        df = self.rendered_df\n",
    "\n",
    "        if self.date_column is None:\n",
    "            raise ValueError(\"date column is not set\")\n",
    "        start_date = df[self.date_column].min()\n",
    "        end_date = df[self.date_column].max()\n",
    "        if self.date_partition_column is None:\n",
    "            return {\"__all__\": df}\n",
    "\n",
    "        elif isinstance(self.date_partition_column, str):\n",
    "            return {\n",
    "                group: group_df\n",
    "                for group, group_df in df.groupby([self.date_partition_column])\n",
    "            }\n",
    "\n",
    "        elif isinstance(self.date_partition_column, list) and isinstance(\n",
    "            self.date_partition_column[0], datetime.datetime\n",
    "        ):\n",
    "            partition_dates = self.date_partition_column\n",
    "            return {\n",
    "                start_date: df.filter(\n",
    "                    df[self.date_column].is_between(start_date, end_date)\n",
    "                )\n",
    "                for start_date, end_date in zip(\n",
    "                    [start_date] + partition_dates, partition_dates + [end_date]\n",
    "                )\n",
    "            }\n",
    "\n",
    "    def get_partitions(self):\n",
    "        df = self.get_dataframe()\n",
    "        if self.partition_column is not None:\n",
    "            return {\n",
    "                group: df_group\n",
    "                for group, df_group in df.groupby([self.partition_column])\n",
    "            }\n",
    "        else:\n",
    "            return {\"__all__\": df}\n",
    "\n",
    "\n",
    "@dataclass(kw_only=True)\n",
    "class TrainingData(Data): ...\n",
    "\n",
    "\n",
    "class ExternalHoldoutData(Data): ...\n",
    "\n",
    "\n",
    "class FeatureSelectionMethod: ...\n",
    "\n",
    "\n",
    "def load(path: str) -> tuple[TrainingData, ExternalHoldoutData]: ...\n",
    "\n",
    "\n",
    "def variable_downsampling(data: Data) -> Data: ...\n",
    "\n",
    "\n",
    "def target_engineering(data: Data) -> Data: ...\n",
    "\n",
    "\n",
    "def feature_selection(data: Data, method: FeatureSelectionMethod) -> Data: ..."
   ]
  },
  {
   "cell_type": "code",
   "execution_count": 8,
   "metadata": {},
   "outputs": [
    {
     "data": {
      "text/html": [
       "<pre style=\"white-space:pre;overflow-x:auto;line-height:normal;font-family:Menlo,'DejaVu Sans Mono',consolas,'Courier New',monospace\"></pre>\n"
      ],
      "text/plain": []
     },
     "metadata": {},
     "output_type": "display_data"
    },
    {
     "data": {
      "text/plain": [
       "\u001b[32m'/Users/lukas.innig/code/recipe-xflow'\u001b[0m"
      ]
     },
     "execution_count": 8,
     "metadata": {},
     "output_type": "execute_result"
    }
   ],
   "source": [
    "pwd"
   ]
  },
  {
   "cell_type": "code",
   "execution_count": 9,
   "metadata": {},
   "outputs": [],
   "source": [
    "training_data = TrainingData.load(\n",
    "    load_path=Path(\"include/x_flow/raw_data/DR_Demo_Bond_trading_RFQ_train.csv\"),\n",
    "    date_column=\"date\",\n",
    "    date_partition_column=[datetime.datetime(2018, 6, 3), datetime.datetime(2018, 6, 24)],\n",
    "    date_format=\"%d/%m/%Y\",\n",
    "    target_column=\"Mid\",\n",
    ")\n",
    "test_data = ExternalHoldoutData.load(\n",
    "    load_path=Path(\"include/x_flow/raw_data/DR_Demo_Bond_trading_RFQ_test.csv\"),\n",
    "    date_column=\"date\",\n",
    "    date_format=\"%d/%m/%Y\",\n",
    "    target_column=\"Mid\",\n",
    ")"
   ]
  },
  {
   "cell_type": "code",
   "execution_count": 94,
   "metadata": {},
   "outputs": [],
   "source": [
    "import datarobotx"
   ]
  },
  {
   "cell_type": "code",
   "execution_count": 13,
   "metadata": {},
   "outputs": [],
   "source": [
    "from abc import ABC, abstractmethod\n",
    "\n",
    "from utils.operator import Operator\n",
    "\n",
    "\n",
    "class DataPreprocessor(ABC):\n",
    "    def fit(self, df: Data) -> \"DataPreprocessor\":\n",
    "        return self._fit(df)\n",
    "\n",
    "    def transform(self, df: Data) -> Data:\n",
    "        return self._transform(df)\n",
    "\n",
    "    def fit_transform(self, df: Data) -> Data:\n",
    "        return self._fit(df)._transform(df)\n",
    "\n",
    "    @abstractmethod\n",
    "    def _fit(self, df: Data) -> \"DataPreprocessor\": ...\n",
    "    @abstractmethod\n",
    "    def _transform(self, df: Data) -> Data: ...\n",
    "\n",
    "\n",
    "class BinarizeData(DataPreprocessor):\n",
    "    def __init__(\n",
    "        self,\n",
    "        threshold: float,\n",
    "        operator: str,\n",
    "        binarize_drop_regression_target=True,\n",
    "        binarize_new_target_name=\"target_cat\",\n",
    "    ):\n",
    "        self._threshold = threshold\n",
    "        self._operator = operator\n",
    "        self._binarize_drop_regression_target = binarize_drop_regression_target\n",
    "        self._binarize_new_target_name = binarize_new_target_name\n",
    "\n",
    "    def _fit(self, df: Data):\n",
    "        return self\n",
    "\n",
    "    def _transform(self, df: Data) -> pl.DataFrame:\n",
    "        \"\"\"helper function: binarize a target variable for classification\"\"\"\n",
    "        categorical_data = df.rendered_df\n",
    "        target_series = categorical_data[df.target_column]\n",
    "\n",
    "        op_fun = Operator(operator=self._operator).apply_operation(self._threshold)\n",
    "\n",
    "        categorical_data = categorical_data.with_columns(\n",
    "            target_series.map_elements(op_fun, return_dtype=bool).alias(self._binarize_new_target_name)\n",
    "        )\n",
    "        if self._binarize_drop_regression_target:\n",
    "            categorical_data.drop(df.target_column)\n",
    "\n",
    "        df.df = categorical_data\n",
    "        df.target_column = self._binarize_new_target_name\n",
    "\n",
    "        return df"
   ]
  },
  {
   "cell_type": "code",
   "execution_count": 14,
   "metadata": {},
   "outputs": [],
   "source": [
    "binarizer = BinarizeData(\n",
    "    threshold=100, operator=\"<\", binarize_drop_regression_target=True)"
   ]
  },
  {
   "cell_type": "code",
   "execution_count": 15,
   "metadata": {},
   "outputs": [
    {
     "data": {
      "text/html": [
       "<pre style=\"white-space:pre;overflow-x:auto;line-height:normal;font-family:Menlo,'DejaVu Sans Mono',consolas,'Courier New',monospace\"><span style=\"color: #7fbfbf; text-decoration-color: #7fbfbf\">[06/13/24 16:37:56] </span><span style=\"color: #800000; text-decoration-color: #800000\">WARNING </span> <span style=\"color: #800080; text-decoration-color: #800080\">/var/folders/53/06xqv3_92759kcxhfj7x19540000gp/T/ipykernel_12559/</span><span style=\"color: #ff00ff; text-decoration-color: #ff00ff\">40094</span> <a href=\"file:///Users/lukas.innig/.pyenv/versions/3.11.9/lib/python3.11/warnings.py\" target=\"_blank\"><span style=\"color: #7f7f7f; text-decoration-color: #7f7f7f\">warnings.py</span></a><span style=\"color: #7f7f7f; text-decoration-color: #7f7f7f\">:</span><a href=\"file:///Users/lukas.innig/.pyenv/versions/3.11.9/lib/python3.11/warnings.py#110\" target=\"_blank\"><span style=\"color: #7f7f7f; text-decoration-color: #7f7f7f\">110</span></a>\n",
       "<span style=\"color: #7fbfbf; text-decoration-color: #7fbfbf\">                    </span>         <span style=\"color: #ff00ff; text-decoration-color: #ff00ff\">56366.py</span>:<span style=\"color: #008080; text-decoration-color: #008080; font-weight: bold\">46</span>: PolarsInefficientMapWarning:                              <span style=\"color: #7f7f7f; text-decoration-color: #7f7f7f\">               </span>\n",
       "<span style=\"color: #7fbfbf; text-decoration-color: #7fbfbf\">                    </span>         Series.map_elements is significantly slower than the native series     <span style=\"color: #7f7f7f; text-decoration-color: #7f7f7f\">               </span>\n",
       "<span style=\"color: #7fbfbf; text-decoration-color: #7fbfbf\">                    </span>         API.                                                                   <span style=\"color: #7f7f7f; text-decoration-color: #7f7f7f\">               </span>\n",
       "<span style=\"color: #7fbfbf; text-decoration-color: #7fbfbf\">                    </span>         Only use if you absolutely CANNOT implement your logic otherwise.      <span style=\"color: #7f7f7f; text-decoration-color: #7f7f7f\">               </span>\n",
       "<span style=\"color: #7fbfbf; text-decoration-color: #7fbfbf\">                    </span>         Replace this expression<span style=\"color: #808000; text-decoration-color: #808000\">...</span>                                             <span style=\"color: #7f7f7f; text-decoration-color: #7f7f7f\">               </span>\n",
       "<span style=\"color: #7fbfbf; text-decoration-color: #7fbfbf\">                    </span>           - <span style=\"color: #800080; text-decoration-color: #800080; font-weight: bold\">srs.map_elements</span><span style=\"font-weight: bold\">(</span>lambda x: <span style=\"color: #808000; text-decoration-color: #808000\">...</span><span style=\"font-weight: bold\">)</span>                                    <span style=\"color: #7f7f7f; text-decoration-color: #7f7f7f\">               </span>\n",
       "<span style=\"color: #7fbfbf; text-decoration-color: #7fbfbf\">                    </span>         with this one instead:                                                 <span style=\"color: #7f7f7f; text-decoration-color: #7f7f7f\">               </span>\n",
       "<span style=\"color: #7fbfbf; text-decoration-color: #7fbfbf\">                    </span>           + s &lt; threshold                                                      <span style=\"color: #7f7f7f; text-decoration-color: #7f7f7f\">               </span>\n",
       "<span style=\"color: #7fbfbf; text-decoration-color: #7fbfbf\">                    </span>                                                                                <span style=\"color: #7f7f7f; text-decoration-color: #7f7f7f\">               </span>\n",
       "<span style=\"color: #7fbfbf; text-decoration-color: #7fbfbf\">                    </span>           <span style=\"color: #800080; text-decoration-color: #800080; font-weight: bold\">target_series.map_elements</span><span style=\"font-weight: bold\">(</span>op_fun,                                   <span style=\"color: #7f7f7f; text-decoration-color: #7f7f7f\">               </span>\n",
       "<span style=\"color: #7fbfbf; text-decoration-color: #7fbfbf\">                    </span>         <span style=\"color: #808000; text-decoration-color: #808000\">return_dtype</span>=<span style=\"color: #800080; text-decoration-color: #800080\">bool</span><span style=\"font-weight: bold\">)</span><span style=\"color: #800080; text-decoration-color: #800080; font-weight: bold\">.alias</span><span style=\"font-weight: bold\">(</span>self._binarize_new_target_name<span style=\"font-weight: bold\">)</span>               <span style=\"color: #7f7f7f; text-decoration-color: #7f7f7f\">               </span>\n",
       "<span style=\"color: #7fbfbf; text-decoration-color: #7fbfbf\">                    </span>                                                                                <span style=\"color: #7f7f7f; text-decoration-color: #7f7f7f\">               </span>\n",
       "</pre>\n"
      ],
      "text/plain": [
       "\u001b[2;36m[06/13/24 16:37:56]\u001b[0m\u001b[2;36m \u001b[0m\u001b[31mWARNING \u001b[0m \u001b[35m/var/folders/53/06xqv3_92759kcxhfj7x19540000gp/T/ipykernel_12559/\u001b[0m\u001b[95m40094\u001b[0m \u001b]8;id=934222;file:///Users/lukas.innig/.pyenv/versions/3.11.9/lib/python3.11/warnings.py\u001b\\\u001b[2mwarnings.py\u001b[0m\u001b]8;;\u001b\\\u001b[2m:\u001b[0m\u001b]8;id=19263;file:///Users/lukas.innig/.pyenv/versions/3.11.9/lib/python3.11/warnings.py#110\u001b\\\u001b[2m110\u001b[0m\u001b]8;;\u001b\\\n",
       "\u001b[2;36m                    \u001b[0m         \u001b[95m56366.py\u001b[0m:\u001b[1;36m46\u001b[0m: PolarsInefficientMapWarning:                              \u001b[2m               \u001b[0m\n",
       "\u001b[2;36m                    \u001b[0m         Series.map_elements is significantly slower than the native series     \u001b[2m               \u001b[0m\n",
       "\u001b[2;36m                    \u001b[0m         API.                                                                   \u001b[2m               \u001b[0m\n",
       "\u001b[2;36m                    \u001b[0m         Only use if you absolutely CANNOT implement your logic otherwise.      \u001b[2m               \u001b[0m\n",
       "\u001b[2;36m                    \u001b[0m         Replace this expression\u001b[33m...\u001b[0m                                             \u001b[2m               \u001b[0m\n",
       "\u001b[2;36m                    \u001b[0m           - \u001b[1;35msrs.map_elements\u001b[0m\u001b[1m(\u001b[0mlambda x: \u001b[33m...\u001b[0m\u001b[1m)\u001b[0m                                    \u001b[2m               \u001b[0m\n",
       "\u001b[2;36m                    \u001b[0m         with this one instead:                                                 \u001b[2m               \u001b[0m\n",
       "\u001b[2;36m                    \u001b[0m           + s < threshold                                                      \u001b[2m               \u001b[0m\n",
       "\u001b[2;36m                    \u001b[0m                                                                                \u001b[2m               \u001b[0m\n",
       "\u001b[2;36m                    \u001b[0m           \u001b[1;35mtarget_series.map_elements\u001b[0m\u001b[1m(\u001b[0mop_fun,                                   \u001b[2m               \u001b[0m\n",
       "\u001b[2;36m                    \u001b[0m         \u001b[33mreturn_dtype\u001b[0m=\u001b[35mbool\u001b[0m\u001b[1m)\u001b[0m\u001b[1;35m.alias\u001b[0m\u001b[1m(\u001b[0mself._binarize_new_target_name\u001b[1m)\u001b[0m               \u001b[2m               \u001b[0m\n",
       "\u001b[2;36m                    \u001b[0m                                                                                \u001b[2m               \u001b[0m\n"
      ]
     },
     "metadata": {},
     "output_type": "display_data"
    },
    {
     "data": {
      "text/html": [
       "<pre style=\"white-space:pre;overflow-x:auto;line-height:normal;font-family:Menlo,'DejaVu Sans Mono',consolas,'Courier New',monospace\"></pre>\n"
      ],
      "text/plain": []
     },
     "metadata": {},
     "output_type": "display_data"
    },
    {
     "data": {
      "text/plain": [
       "\n",
       "\u001b[1;35mData\u001b[0m\u001b[1m(\u001b[0m\n",
       "    \u001b[33mdf\u001b[0m=\u001b[35mshape\u001b[0m: \u001b[1m(\u001b[0m6_803, \u001b[1;36m34\u001b[0m\u001b[1m)\u001b[0m\n",
       "┌────────────┬────────────┬──────────┬─────────┬───┬───────────┬───────────┬───────────┬───────────┐\n",
       "│ request_id ┆ date       ┆ cusip    ┆ BidAsk  ┆ … ┆ response_ ┆ num_broke ┆ trade_won ┆ target_ca │\n",
       "│ ---        ┆ ---        ┆ ---      ┆ ---     ┆   ┆ revenue_E ┆ rs        ┆ ---       ┆ t         │\n",
       "│ i64        ┆ datetime\u001b[1m[\u001b[0mμ ┆ str      ┆ f64     ┆   ┆ UR        ┆ ---       ┆ bool      ┆ ---       │\n",
       "│            ┆ s\u001b[1m]\u001b[0m         ┆          ┆         ┆   ┆ ---       ┆ i64       ┆           ┆ bool      │\n",
       "│            ┆            ┆          ┆         ┆   ┆ f64       ┆           ┆           ┆           │\n",
       "╞════════════╪════════════╪══════════╪═════════╪═══╪═══════════╪═══════════╪═══════════╪═══════════╡\n",
       "│ \u001b[1;36m1781\u001b[0m       ┆ \u001b[1;36m2018\u001b[0m-\u001b[1;36m04\u001b[0m-\u001b[1;36m25\u001b[0m ┆ D20659WR ┆ \u001b[1;36m0.0242\u001b[0m  ┆ … ┆ \u001b[1;36m27923.751\u001b[0m ┆ \u001b[1;36m9\u001b[0m         ┆ false     ┆ true      │\n",
       "│            ┆ \u001b[1;92m00:00:00\u001b[0m   ┆          ┆         ┆   ┆ \u001b[1;36m13\u001b[0m        ┆           ┆           ┆           │\n",
       "│ \u001b[1;36m1782\u001b[0m       ┆ \u001b[1;36m2019\u001b[0m-\u001b[1;36m05\u001b[0m-\u001b[1;36m30\u001b[0m ┆ D2R8H4DN ┆ \u001b[1;36m0.0266\u001b[0m  ┆ … ┆ \u001b[1;36m12932.742\u001b[0m ┆ \u001b[1;36m1\u001b[0m         ┆ true      ┆ true      │\n",
       "│            ┆ \u001b[1;92m00:00:00\u001b[0m   ┆          ┆         ┆   ┆ \u001b[1;36m92\u001b[0m        ┆           ┆           ┆           │\n",
       "│ \u001b[1;36m1784\u001b[0m       ┆ \u001b[1;36m2019\u001b[0m-\u001b[1;36m01\u001b[0m-\u001b[1;36m30\u001b[0m ┆ D2R8H4DE ┆ \u001b[1;36m0.022\u001b[0m   ┆ … ┆ \u001b[1;36m23167.855\u001b[0m ┆ \u001b[1;36m10\u001b[0m        ┆ false     ┆ true      │\n",
       "│            ┆ \u001b[1;92m00:00:00\u001b[0m   ┆          ┆         ┆   ┆ \u001b[1;36m69\u001b[0m        ┆           ┆           ┆           │\n",
       "│ \u001b[1;36m1788\u001b[0m       ┆ \u001b[1;36m2019\u001b[0m-\u001b[1;36m01\u001b[0m-\u001b[1;36m23\u001b[0m ┆ D2R8H4CM ┆ \u001b[1;36m0.03\u001b[0m    ┆ … ┆ \u001b[1;36m78872.795\u001b[0m ┆ \u001b[1;36m13\u001b[0m        ┆ false     ┆ true      │\n",
       "│            ┆ \u001b[1;92m00:00:00\u001b[0m   ┆          ┆         ┆   ┆ \u001b[1;36m92\u001b[0m        ┆           ┆           ┆           │\n",
       "│ \u001b[1;36m1789\u001b[0m       ┆ \u001b[1;36m2018\u001b[0m-\u001b[1;36m01\u001b[0m-\u001b[1;36m24\u001b[0m ┆ D20658UR ┆ \u001b[1;36m0.13\u001b[0m    ┆ … ┆ \u001b[1;36m155725.77\u001b[0m ┆ \u001b[1;36m14\u001b[0m        ┆ false     ┆ true      │\n",
       "│            ┆ \u001b[1;92m00:00:00\u001b[0m   ┆          ┆         ┆   ┆ \u001b[1;36m8\u001b[0m         ┆           ┆           ┆           │\n",
       "│ …          ┆ …          ┆ …        ┆ …       ┆ … ┆ …         ┆ …         ┆ …         ┆ …         │\n",
       "│ \u001b[1;36m21979\u001b[0m      ┆ \u001b[1;36m2019\u001b[0m-\u001b[1;36m01\u001b[0m-\u001b[1;36m29\u001b[0m ┆ D2R8H4DJ ┆ \u001b[1;36m0.02523\u001b[0m ┆ … ┆ \u001b[1;36m7897.4204\u001b[0m ┆ \u001b[1;36m10\u001b[0m        ┆ false     ┆ true      │\n",
       "│            ┆ \u001b[1;92m00:00:00\u001b[0m   ┆          ┆         ┆   ┆ \u001b[1;36m81\u001b[0m        ┆           ┆           ┆           │\n",
       "│ \u001b[1;36m21986\u001b[0m      ┆ \u001b[1;36m2018\u001b[0m-\u001b[1;36m10\u001b[0m-\u001b[1;36m30\u001b[0m ┆ D2R8H4CD ┆ \u001b[1;36m0.02686\u001b[0m ┆ … ┆ \u001b[1;36m2684.4976\u001b[0m ┆ \u001b[1;36m13\u001b[0m        ┆ false     ┆ true      │\n",
       "│            ┆ \u001b[1;92m00:00:00\u001b[0m   ┆          ┆         ┆   ┆ \u001b[1;36m71\u001b[0m        ┆           ┆           ┆           │\n",
       "│ \u001b[1;36m21987\u001b[0m      ┆ \u001b[1;36m2019\u001b[0m-\u001b[1;36m07\u001b[0m-\u001b[1;36m29\u001b[0m ┆ D20659F3 ┆ \u001b[1;36m0.0239\u001b[0m  ┆ … ┆ \u001b[1;36m6158.1914\u001b[0m ┆ \u001b[1;36m10\u001b[0m        ┆ false     ┆ true      │\n",
       "│            ┆ \u001b[1;92m00:00:00\u001b[0m   ┆          ┆         ┆   ┆ \u001b[1;36m03\u001b[0m        ┆           ┆           ┆           │\n",
       "│ \u001b[1;36m21989\u001b[0m      ┆ \u001b[1;36m2018\u001b[0m-\u001b[1;36m07\u001b[0m-\u001b[1;36m23\u001b[0m ┆ D20658KG ┆ \u001b[1;36m0.1028\u001b[0m  ┆ … ┆ \u001b[1;36m101592.98\u001b[0m ┆ \u001b[1;36m4\u001b[0m         ┆ false     ┆ true      │\n",
       "│            ┆ \u001b[1;92m00:00:00\u001b[0m   ┆          ┆         ┆   ┆ \u001b[1;36m91\u001b[0m        ┆           ┆           ┆           │\n",
       "│ \u001b[1;36m21992\u001b[0m      ┆ \u001b[1;36m2019\u001b[0m-\u001b[1;36m07\u001b[0m-\u001b[1;36m31\u001b[0m ┆ D206592F ┆ \u001b[1;36m0.073\u001b[0m   ┆ … ┆ \u001b[1;36m64391.434\u001b[0m ┆ \u001b[1;36m11\u001b[0m        ┆ false     ┆ true      │\n",
       "│            ┆ \u001b[1;92m00:00:00\u001b[0m   ┆          ┆         ┆   ┆ \u001b[1;36m46\u001b[0m        ┆           ┆           ┆           │\n",
       "└────────────┴────────────┴──────────┴─────────┴───┴───────────┴───────────┴───────────┴───────────┘,\n",
       "    \u001b[33mcolumns\u001b[0m=\u001b[3;35mNone\u001b[0m,\n",
       "    \u001b[33mrow_index\u001b[0m=\u001b[3;35mNone\u001b[0m,\n",
       "    \u001b[33mdate_partition_column\u001b[0m=\u001b[3;35mNone\u001b[0m,\n",
       "    \u001b[33mpartition_column\u001b[0m=\u001b[3;35mNone\u001b[0m,\n",
       "    \u001b[33mdate_column\u001b[0m=\u001b[32m'date'\u001b[0m,\n",
       "    \u001b[33mdate_format\u001b[0m=\u001b[32m'%d/%m/%Y'\u001b[0m,\n",
       "    \u001b[33mtarget_column\u001b[0m=\u001b[32m'target_cat'\u001b[0m\n",
       "\u001b[1m)\u001b[0m"
      ]
     },
     "execution_count": 15,
     "metadata": {},
     "output_type": "execute_result"
    }
   ],
   "source": [
    "binarizer.fit_transform(training_data)\n",
    "binarizer.fit_transform(test_data)"
   ]
  },
  {
   "cell_type": "code",
   "execution_count": null,
   "metadata": {},
   "outputs": [],
   "source": [
    "from utils.fire import FIRE as FireHelper\n",
    "from datarobotx.idp.autopilot import get_or_create_autopilot_run\n",
    "from datarobotx.idp.datasets import get_or_create_dataset_from_df\n"
   ]
  },
  {
   "cell_type": "code",
   "execution_count": null,
   "metadata": {},
   "outputs": [],
   "source": [
    "\n",
    "import datarobot as dr\n",
    "\n",
    "class FIRE(DataPreprocessor):\n",
    "    def __init__(\n",
    "        self,\n",
    "        endpoint: str,\n",
    "        token: str,\n",
    "        reduction_method:str = \"Rank Aggregation\",\n",
    "    ):\n",
    "        self._endpoint = endpoint\n",
    "        self._token = token\n",
    "        self._reduction_method = reduction_method\n",
    "\n",
    "    def _fit(self, df: Data):\n",
    "        return self\n",
    "\n",
    "    def _transform(self, df: Data) -> pl.DataFrame:\n",
    "        \"\"\"helper function: binarize a target variable for classification\"\"\"\n",
    "        dataset_id = get_or_create_dataset_from_df(\n",
    "            endpoint=self._endpoint,\n",
    "            token=self._token,\n",
    "            data_frame=df.rendered_df.to_pandas(),\n",
    "            name=\"fire_dataset\",\n",
    "        )\n",
    "        project_id = get_or_create_autopilot_run(\n",
    "            endpoint=self._endpoint,\n",
    "            token=self._token,\n",
    "            dataset_id=dataset_id,\n",
    "            name=\"fire_project\",\n",
    "            analyze_and_model_config={\n",
    "                \"target\": df.target_column,\n",
    "                \"mode\": \"quick\",\n",
    "                \"max_wait\": 10000,\n",
    "                \"worker_count\": -1,\n",
    "            },\n",
    "            advanced_options_config={\n",
    "                \"blend_best_models\": False,\n",
    "                \"prepare_model_for_deployment\": False,\n",
    "                \"min_secondary_validation_model_count\": 0,\n",
    "            }\n",
    "        )\n",
    "\n",
    "        fire = FireHelper.get(project_id=project_id)\n",
    "        fire.main_feature_reduction(\n",
    "            reduction_method=self._reduction_method\n",
    "        )\n",
    "\n",
    "\n",
    "\n",
    "        return df"
   ]
  }
 ],
 "metadata": {
  "kernelspec": {
   "display_name": "Kedro (x_flow)",
   "language": "python",
   "name": "kedro_x_flow"
  }
 },
 "nbformat": 4,
 "nbformat_minor": 2
}
