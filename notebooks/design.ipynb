{
 "cells": [
  {
   "cell_type": "code",
   "execution_count": 91,
   "metadata": {},
   "outputs": [],
   "source": [
    "# data processing\n",
    "import datetime\n",
    "from dataclasses import dataclass, field\n",
    "from pathlib import Path\n",
    "from typing import Optional, Union\n",
    "\n",
    "import pandas as pd\n",
    "import polars as pl\n",
    "\n",
    "\n",
    "@dataclass(kw_only=True)\n",
    "class Data:\n",
    "    df: pl.DataFrame\n",
    "    columns: Optional[list[str]] = None\n",
    "    row_index: Optional[list[int]] = None\n",
    "    date_partition_column: Optional[Union[str, list[datetime.datetime]]] = None\n",
    "    partition_column: Optional[str] = None\n",
    "    date_column: Optional[str] = None\n",
    "    date_format: str = \"%Y-%m-%d\"\n",
    "    target_column: str\n",
    "\n",
    "    @staticmethod\n",
    "    def load(load_path: Path, target_column: str, **kwargs) -> \"Data\":\n",
    "        df = pl.read_csv(\n",
    "            load_path,\n",
    "        )\n",
    "        return Data(df=df, target_column=target_column, **kwargs)\n",
    "\n",
    "    @property\n",
    "    def rendered_df(self) -> pl.DataFrame:\n",
    "        df = self.df\n",
    "        if self.columns is not None and len(self.columns):\n",
    "            df = df.select(self.columns)\n",
    "        if self.row_index is not None and len(self.row_index):\n",
    "            df = df[self.row_index]\n",
    "        if self.date_column is not None and not df.dtypes[df.columns.index(self.date_column)] == pl.Datetime:\n",
    "            df = df.with_columns(\n",
    "                pl.col(self.date_column).str.to_datetime(self.date_format)\n",
    "            )\n",
    "        return df\n",
    "\n",
    "    def get_date_partitions(self):\n",
    "        df = self.rendered_df\n",
    "\n",
    "        if self.date_column is None:\n",
    "            raise ValueError(\"date column is not set\")\n",
    "        start_date = df[self.date_column].min()\n",
    "        end_date = df[self.date_column].max()\n",
    "        if self.date_partition_column is None:\n",
    "            return {\"__all__\": df}\n",
    "\n",
    "        elif isinstance(self.date_partition_column, str):\n",
    "            return {\n",
    "                group: group_df\n",
    "                for group, group_df in df.groupby([self.date_partition_column])\n",
    "            }\n",
    "\n",
    "        elif isinstance(self.date_partition_column, list) and isinstance(\n",
    "            self.date_partition_column[0], datetime.datetime\n",
    "        ):\n",
    "            partition_dates = self.date_partition_column\n",
    "            return {\n",
    "                start_date: df.filter(\n",
    "                    df[self.date_column].is_between(start_date, end_date)\n",
    "                )\n",
    "                for start_date, end_date in zip(\n",
    "                    [start_date] + partition_dates, partition_dates + [end_date]\n",
    "                )\n",
    "            }\n",
    "\n",
    "    def get_partitions(self):\n",
    "        df = self.get_dataframe()\n",
    "        if self.partition_column is not None:\n",
    "            return {\n",
    "                group: df_group\n",
    "                for group, df_group in df.groupby([self.partition_column])\n",
    "            }\n",
    "        else:\n",
    "            return {\"__all__\": df}\n",
    "\n",
    "\n",
    "@dataclass(kw_only=True)\n",
    "class TrainingData(Data): ...\n",
    "\n",
    "\n",
    "class ExternalHoldoutData(Data): ...\n",
    "\n",
    "\n",
    "class FeatureSelectionMethod: ...\n",
    "\n",
    "\n",
    "def load(path: str) -> tuple[TrainingData, ExternalHoldoutData]: ...\n",
    "\n",
    "\n",
    "def variable_downsampling(data: Data) -> Data: ...\n",
    "\n",
    "\n",
    "def target_engineering(data: Data) -> Data: ...\n",
    "\n",
    "\n",
    "def feature_selection(data: Data, method: FeatureSelectionMethod) -> Data: ..."
   ]
  },
  {
   "cell_type": "code",
   "execution_count": 92,
   "metadata": {},
   "outputs": [
    {
     "data": {
      "text/html": [
       "<pre style=\"white-space:pre;overflow-x:auto;line-height:normal;font-family:Menlo,'DejaVu Sans Mono',consolas,'Courier New',monospace\"></pre>\n"
      ],
      "text/plain": []
     },
     "metadata": {},
     "output_type": "display_data"
    },
    {
     "data": {
      "text/plain": [
       "\u001b[32m'/home/lukas/code/testing/test_x_flow/recipe-xflow'\u001b[0m"
      ]
     },
     "execution_count": 92,
     "metadata": {},
     "output_type": "execute_result"
    }
   ],
   "source": [
    "pwd"
   ]
  },
  {
   "cell_type": "code",
   "execution_count": 93,
   "metadata": {},
   "outputs": [],
   "source": [
    "training_data = TrainingData.load(\n",
    "    load_path=Path(\"include/x_flow/raw_data/DR_Demo_Bond_trading_RFQ_train.csv\"),\n",
    "    date_column=\"date\",\n",
    "    date_partition_column=[datetime.datetime(2018, 6, 3), datetime.datetime(2018, 6, 24)],\n",
    "    date_format=\"%d/%m/%Y\",\n",
    "    target_column=\"Mid\",\n",
    ")\n",
    "test_data = ExternalHoldoutData.load(\n",
    "    load_path=Path(\"include/x_flow/raw_data/DR_Demo_Bond_trading_RFQ_test.csv\"),\n",
    "    date_column=\"date\",\n",
    "    date_format=\"%d/%m/%Y\",\n",
    "    target_column=\"Mid\",\n",
    ")"
   ]
  },
  {
   "cell_type": "code",
   "execution_count": 94,
   "metadata": {},
   "outputs": [],
   "source": [
    "import datarobotx"
   ]
  },
  {
   "cell_type": "code",
   "execution_count": 95,
   "metadata": {},
   "outputs": [],
   "source": [
    "from abc import ABC, abstractmethod\n",
    "\n",
    "from utils.operator import Operator\n",
    "\n",
    "\n",
    "class DataPreprocessor(ABC):\n",
    "    def fit(self, df: Data) -> \"DataPreprocessor\":\n",
    "        return self._fit(df)\n",
    "\n",
    "    def transform(self, df: Data) -> Data:\n",
    "        return self._transform(df)\n",
    "\n",
    "    def fit_transform(self, df: Data) -> Data:\n",
    "        return self._fit(df)._transform(df)\n",
    "\n",
    "    @abstractmethod\n",
    "    def _fit(self, df: Data) -> \"DataPreprocessor\": ...\n",
    "    @abstractmethod\n",
    "    def _transform(self, df: Data) -> Data: ...\n",
    "\n",
    "\n",
    "class BinarizeData(DataPreprocessor):\n",
    "    def __init__(\n",
    "        self,\n",
    "        threshold: float,\n",
    "        operator: str,\n",
    "        binarize_drop_regression_target=True,\n",
    "        binarize_new_target_name=\"target_cat\",\n",
    "    ):\n",
    "        self._threshold = threshold\n",
    "        self._operator = operator\n",
    "        self._binarize_drop_regression_target = binarize_drop_regression_target\n",
    "        self._binarize_new_target_name = binarize_new_target_name\n",
    "\n",
    "    def _fit(self, df: Data):\n",
    "        return self\n",
    "\n",
    "    def _transform(self, df: Data) -> pl.DataFrame:\n",
    "        \"\"\"helper function: binarize a target variable for classification\"\"\"\n",
    "        categorical_data = df.rendered_df\n",
    "        target_series = categorical_data[df.target_column]\n",
    "\n",
    "        op_fun = Operator(operator=self._operator).apply_operation(self._threshold)\n",
    "\n",
    "        categorical_data = categorical_data.with_columns(\n",
    "            target_series.map_elements(op_fun, return_dtype=bool).alias(self._binarize_new_target_name)\n",
    "        )\n",
    "        if self._binarize_drop_regression_target:\n",
    "            categorical_data.drop(df.target_column)\n",
    "\n",
    "        df.df = categorical_data\n",
    "        df.target_column = self._binarize_new_target_name\n",
    "\n",
    "        return categorical_data"
   ]
  },
  {
   "cell_type": "code",
   "execution_count": 96,
   "metadata": {},
   "outputs": [],
   "source": [
    "binarizer = BinarizeData(\n",
    "    threshold=100, operator=\"<\", binarize_drop_regression_target=True)"
   ]
  },
  {
   "cell_type": "code",
   "execution_count": 99,
   "metadata": {},
   "outputs": [
    {
     "data": {
      "text/html": [
       "<pre style=\"white-space:pre;overflow-x:auto;line-height:normal;font-family:Menlo,'DejaVu Sans Mono',consolas,'Courier New',monospace\"><span style=\"color: #7fbfbf; text-decoration-color: #7fbfbf\">[06/13/24 01:45:59] </span><span style=\"color: #800000; text-decoration-color: #800000\">WARNING </span> <span style=\"color: #800080; text-decoration-color: #800080\">/tmp/ipykernel_91086/</span><span style=\"color: #ff00ff; text-decoration-color: #ff00ff\">2163797483.py</span>:<span style=\"color: #008080; text-decoration-color: #008080; font-weight: bold\">46</span>: PolarsInefficientMapWarning:    <a href=\"file:///home/lukas/.pyenv/versions/3.12.3/lib/python3.12/warnings.py\" target=\"_blank\"><span style=\"color: #7f7f7f; text-decoration-color: #7f7f7f\">warnings.py</span></a><span style=\"color: #7f7f7f; text-decoration-color: #7f7f7f\">:</span><a href=\"file:///home/lukas/.pyenv/versions/3.12.3/lib/python3.12/warnings.py#110\" target=\"_blank\"><span style=\"color: #7f7f7f; text-decoration-color: #7f7f7f\">110</span></a>\n",
       "<span style=\"color: #7fbfbf; text-decoration-color: #7fbfbf\">                    </span>         Series.map_elements is significantly slower than the native series     <span style=\"color: #7f7f7f; text-decoration-color: #7f7f7f\">               </span>\n",
       "<span style=\"color: #7fbfbf; text-decoration-color: #7fbfbf\">                    </span>         API.                                                                   <span style=\"color: #7f7f7f; text-decoration-color: #7f7f7f\">               </span>\n",
       "<span style=\"color: #7fbfbf; text-decoration-color: #7fbfbf\">                    </span>         Only use if you absolutely CANNOT implement your logic otherwise.      <span style=\"color: #7f7f7f; text-decoration-color: #7f7f7f\">               </span>\n",
       "<span style=\"color: #7fbfbf; text-decoration-color: #7fbfbf\">                    </span>         Replace this expression<span style=\"color: #808000; text-decoration-color: #808000\">...</span>                                             <span style=\"color: #7f7f7f; text-decoration-color: #7f7f7f\">               </span>\n",
       "<span style=\"color: #7fbfbf; text-decoration-color: #7fbfbf\">                    </span>           - <span style=\"color: #800080; text-decoration-color: #800080; font-weight: bold\">srs.map_elements</span><span style=\"font-weight: bold\">(</span>lambda x: <span style=\"color: #808000; text-decoration-color: #808000\">...</span><span style=\"font-weight: bold\">)</span>                                    <span style=\"color: #7f7f7f; text-decoration-color: #7f7f7f\">               </span>\n",
       "<span style=\"color: #7fbfbf; text-decoration-color: #7fbfbf\">                    </span>         with this one instead:                                                 <span style=\"color: #7f7f7f; text-decoration-color: #7f7f7f\">               </span>\n",
       "<span style=\"color: #7fbfbf; text-decoration-color: #7fbfbf\">                    </span>           + s &lt; threshold                                                      <span style=\"color: #7f7f7f; text-decoration-color: #7f7f7f\">               </span>\n",
       "<span style=\"color: #7fbfbf; text-decoration-color: #7fbfbf\">                    </span>                                                                                <span style=\"color: #7f7f7f; text-decoration-color: #7f7f7f\">               </span>\n",
       "<span style=\"color: #7fbfbf; text-decoration-color: #7fbfbf\">                    </span>           <span style=\"color: #800080; text-decoration-color: #800080; font-weight: bold\">target_series.map_elements</span><span style=\"font-weight: bold\">(</span>op_fun,                                   <span style=\"color: #7f7f7f; text-decoration-color: #7f7f7f\">               </span>\n",
       "<span style=\"color: #7fbfbf; text-decoration-color: #7fbfbf\">                    </span>         <span style=\"color: #808000; text-decoration-color: #808000\">return_dtype</span>=<span style=\"color: #800080; text-decoration-color: #800080\">bool</span><span style=\"font-weight: bold\">)</span><span style=\"color: #800080; text-decoration-color: #800080; font-weight: bold\">.alias</span><span style=\"font-weight: bold\">(</span>self._binarize_new_target_name<span style=\"font-weight: bold\">)</span>               <span style=\"color: #7f7f7f; text-decoration-color: #7f7f7f\">               </span>\n",
       "<span style=\"color: #7fbfbf; text-decoration-color: #7fbfbf\">                    </span>                                                                                <span style=\"color: #7f7f7f; text-decoration-color: #7f7f7f\">               </span>\n",
       "</pre>\n"
      ],
      "text/plain": [
       "\u001b[2;36m[06/13/24 01:45:59]\u001b[0m\u001b[2;36m \u001b[0m\u001b[31mWARNING \u001b[0m \u001b[35m/tmp/ipykernel_91086/\u001b[0m\u001b[95m2163797483.py\u001b[0m:\u001b[1;36m46\u001b[0m: PolarsInefficientMapWarning:    \u001b]8;id=477213;file:///home/lukas/.pyenv/versions/3.12.3/lib/python3.12/warnings.py\u001b\\\u001b[2mwarnings.py\u001b[0m\u001b]8;;\u001b\\\u001b[2m:\u001b[0m\u001b]8;id=40954;file:///home/lukas/.pyenv/versions/3.12.3/lib/python3.12/warnings.py#110\u001b\\\u001b[2m110\u001b[0m\u001b]8;;\u001b\\\n",
       "\u001b[2;36m                    \u001b[0m         Series.map_elements is significantly slower than the native series     \u001b[2m               \u001b[0m\n",
       "\u001b[2;36m                    \u001b[0m         API.                                                                   \u001b[2m               \u001b[0m\n",
       "\u001b[2;36m                    \u001b[0m         Only use if you absolutely CANNOT implement your logic otherwise.      \u001b[2m               \u001b[0m\n",
       "\u001b[2;36m                    \u001b[0m         Replace this expression\u001b[33m...\u001b[0m                                             \u001b[2m               \u001b[0m\n",
       "\u001b[2;36m                    \u001b[0m           - \u001b[1;35msrs.map_elements\u001b[0m\u001b[1m(\u001b[0mlambda x: \u001b[33m...\u001b[0m\u001b[1m)\u001b[0m                                    \u001b[2m               \u001b[0m\n",
       "\u001b[2;36m                    \u001b[0m         with this one instead:                                                 \u001b[2m               \u001b[0m\n",
       "\u001b[2;36m                    \u001b[0m           + s < threshold                                                      \u001b[2m               \u001b[0m\n",
       "\u001b[2;36m                    \u001b[0m                                                                                \u001b[2m               \u001b[0m\n",
       "\u001b[2;36m                    \u001b[0m           \u001b[1;35mtarget_series.map_elements\u001b[0m\u001b[1m(\u001b[0mop_fun,                                   \u001b[2m               \u001b[0m\n",
       "\u001b[2;36m                    \u001b[0m         \u001b[33mreturn_dtype\u001b[0m=\u001b[35mbool\u001b[0m\u001b[1m)\u001b[0m\u001b[1;35m.alias\u001b[0m\u001b[1m(\u001b[0mself._binarize_new_target_name\u001b[1m)\u001b[0m               \u001b[2m               \u001b[0m\n",
       "\u001b[2;36m                    \u001b[0m                                                                                \u001b[2m               \u001b[0m\n"
      ]
     },
     "metadata": {},
     "output_type": "display_data"
    },
    {
     "data": {
      "text/html": [
       "<pre style=\"white-space:pre;overflow-x:auto;line-height:normal;font-family:Menlo,'DejaVu Sans Mono',consolas,'Courier New',monospace\"></pre>\n"
      ],
      "text/plain": []
     },
     "metadata": {},
     "output_type": "display_data"
    },
    {
     "data": {
      "text/html": [
       "<div><style>\n",
       ".dataframe > thead > tr,\n",
       ".dataframe > tbody > tr {\n",
       "  text-align: right;\n",
       "  white-space: pre-wrap;\n",
       "}\n",
       "</style>\n",
       "<small>shape: (6_803, 34)</small><table border=\"1\" class=\"dataframe\"><thead><tr><th>request_id</th><th>date</th><th>cusip</th><th>BidAsk</th><th>Mid</th><th>yield_to_maturity</th><th>years_to_maturity</th><th>years_since_issue</th><th>is_bench_02y</th><th>is_bench_05y</th><th>is_bench_10y</th><th>is_bench_30y</th><th>IssueName</th><th>AmountOut</th><th>issue_date</th><th>Coupon</th><th>Currency</th><th>maturity_date</th><th>counterparty_id</th><th>counterparty_type</th><th>name</th><th>counterparty_aum</th><th>ann_account_value_bln</th><th>tier</th><th>salesperson</th><th>salesperson_num_ac_covered</th><th>notional_EURm</th><th>notional_bps_total_issue</th><th>log_notional</th><th>resp_bidAsk_norm</th><th>response_revenue_EUR</th><th>num_brokers</th><th>trade_won</th><th>target_cat</th></tr><tr><td>i64</td><td>datetime[μs]</td><td>str</td><td>f64</td><td>f64</td><td>f64</td><td>f64</td><td>f64</td><td>bool</td><td>bool</td><td>bool</td><td>bool</td><td>str</td><td>f64</td><td>str</td><td>f64</td><td>str</td><td>str</td><td>str</td><td>str</td><td>str</td><td>f64</td><td>f64</td><td>str</td><td>str</td><td>i64</td><td>i64</td><td>f64</td><td>f64</td><td>f64</td><td>f64</td><td>i64</td><td>bool</td><td>bool</td></tr></thead><tbody><tr><td>1781</td><td>2018-04-25 00:00:00</td><td>&quot;D20659WR&quot;</td><td>0.0242</td><td>106.5311</td><td>-0.492709</td><td>1.957604</td><td>7.685305</td><td>true</td><td>false</td><td>false</td><td>false</td><td>&quot;Government of Germany 2.25% 04…</td><td>17443.19954</td><td>&quot;18/08/2010&quot;</td><td>2.25</td><td>&quot;Euro&quot;</td><td>&quot;09/04/2020&quot;</td><td>&quot;LO090&quot;</td><td>&quot;LO&quot;</td><td>&quot;Jackson Trust&quot;</td><td>135.431575</td><td>50.701944</td><td>&quot;B&quot;</td><td>&quot;Louis&quot;</td><td>3</td><td>228</td><td>130.709965</td><td>2.357935</td><td>2.299022</td><td>27923.75113</td><td>9</td><td>false</td><td>false</td></tr><tr><td>1782</td><td>2019-05-30 00:00:00</td><td>&quot;D2R8H4DN&quot;</td><td>0.0266</td><td>102.6897</td><td>-0.606078</td><td>4.616111</td><td>0.840537</td><td>false</td><td>false</td><td>false</td><td>false</td><td>&quot;Government of Germany 0.0% 13-…</td><td>17443.19954</td><td>&quot;27/07/2018&quot;</td><td>0.0</td><td>&quot;Euro&quot;</td><td>&quot;10/01/2024&quot;</td><td>&quot;BK057&quot;</td><td>&quot;BK&quot;</td><td>&quot;Offenbach am Mainer Sparkasse&quot;</td><td>25.368607</td><td>9.650497</td><td>&quot;E&quot;</td><td>&quot;Charlotte&quot;</td><td>30</td><td>104</td><td>59.622089</td><td>2.017033</td><td>2.42161</td><td>12932.74292</td><td>1</td><td>true</td><td>false</td></tr><tr><td>1784</td><td>2019-01-30 00:00:00</td><td>&quot;D2R8H4DE&quot;</td><td>0.022</td><td>101.7326</td><td>-0.408307</td><td>5.013108</td><td>0.991122</td><td>false</td><td>true</td><td>false</td><td>false</td><td>&quot;Government of Germany 0.0% 14-…</td><td>17443.19954</td><td>&quot;02/02/2018&quot;</td><td>0.0</td><td>&quot;Euro&quot;</td><td>&quot;04/02/2024&quot;</td><td>&quot;LO071&quot;</td><td>&quot;LO&quot;</td><td>&quot;Brownsville Investments&quot;</td><td>185.46821</td><td>317.609109</td><td>&quot;A&quot;</td><td>&quot;Kate&quot;</td><td>9</td><td>188</td><td>107.778392</td><td>2.274158</td><td>2.422428</td><td>23167.85569</td><td>10</td><td>false</td><td>false</td></tr><tr><td>1788</td><td>2019-01-23 00:00:00</td><td>&quot;D2R8H4CM&quot;</td><td>0.03</td><td>101.753</td><td>-0.468608</td><td>3.460714</td><td>1.546917</td><td>false</td><td>false</td><td>false</td><td>false</td><td>&quot;Government of Germany 0.0% 07-…</td><td>18533.39951</td><td>&quot;07/07/2017&quot;</td><td>0.0</td><td>&quot;Euro&quot;</td><td>&quot;10/07/2022&quot;</td><td>&quot;HF027&quot;</td><td>&quot;HF&quot;</td><td>&quot;Oceanus Capital Partners&quot;</td><td>12.000902</td><td>164.476827</td><td>&quot;B&quot;</td><td>&quot;Philip&quot;</td><td>8</td><td>695</td><td>374.998661</td><td>2.841985</td><td>2.230289</td><td>78872.79592</td><td>13</td><td>false</td><td>false</td></tr><tr><td>1789</td><td>2018-01-24 00:00:00</td><td>&quot;D20658UR&quot;</td><td>0.13</td><td>158.2486</td><td>0.914769</td><td>16.200196</td><td>14.981827</td><td>false</td><td>false</td><td>false</td><td>false</td><td>&quot;Government of Germany 4.75% 04…</td><td>21803.99942</td><td>&quot;31/01/2003&quot;</td><td>4.75</td><td>&quot;Euro&quot;</td><td>&quot;07/04/2034&quot;</td><td>&quot;HF035&quot;</td><td>&quot;HF&quot;</td><td>&quot;Atlas Alpha LLP&quot;</td><td>8.816866</td><td>143.542231</td><td>&quot;C&quot;</td><td>&quot;Meghan&quot;</td><td>41</td><td>261</td><td>119.70281</td><td>2.416641</td><td>7.537577</td><td>155725.778</td><td>14</td><td>false</td><td>false</td></tr><tr><td>&hellip;</td><td>&hellip;</td><td>&hellip;</td><td>&hellip;</td><td>&hellip;</td><td>&hellip;</td><td>&hellip;</td><td>&hellip;</td><td>&hellip;</td><td>&hellip;</td><td>&hellip;</td><td>&hellip;</td><td>&hellip;</td><td>&hellip;</td><td>&hellip;</td><td>&hellip;</td><td>&hellip;</td><td>&hellip;</td><td>&hellip;</td><td>&hellip;</td><td>&hellip;</td><td>&hellip;</td><td>&hellip;</td><td>&hellip;</td><td>&hellip;</td><td>&hellip;</td><td>&hellip;</td><td>&hellip;</td><td>&hellip;</td><td>&hellip;</td><td>&hellip;</td><td>&hellip;</td><td>&hellip;</td><td>&hellip;</td></tr><tr><td>21979</td><td>2019-01-29 00:00:00</td><td>&quot;D2R8H4DJ&quot;</td><td>0.02523</td><td>100.834215</td><td>-0.60674</td><td>1.853563</td><td>0.681739</td><td>false</td><td>false</td><td>false</td><td>false</td><td>&quot;Government of Germany 0.0% 12-…</td><td>13082.39965</td><td>&quot;25/05/2018&quot;</td><td>0.0</td><td>&quot;Euro&quot;</td><td>&quot;06/12/2020&quot;</td><td>&quot;LO023&quot;</td><td>&quot;LO&quot;</td><td>&quot;New York City Global Investors&quot;</td><td>167.298627</td><td>14.611218</td><td>&quot;B&quot;</td><td>&quot;Philip&quot;</td><td>8</td><td>56</td><td>42.805603</td><td>1.748188</td><td>2.796823</td><td>7897.420481</td><td>10</td><td>false</td><td>false</td></tr><tr><td>21986</td><td>2018-10-30 00:00:00</td><td>&quot;D2R8H4CD&quot;</td><td>0.02686</td><td>101.54061</td><td>-0.444156</td><td>3.761884</td><td>1.735833</td><td>false</td><td>false</td><td>false</td><td>false</td><td>&quot;Government of Germany 0.0% 08-…</td><td>19623.59948</td><td>&quot;03/02/2017&quot;</td><td>0.0</td><td>&quot;Euro&quot;</td><td>&quot;04/08/2022&quot;</td><td>&quot;HF039&quot;</td><td>&quot;HF&quot;</td><td>&quot;Helios Partners&quot;</td><td>9.575365</td><td>10.705201</td><td>&quot;E&quot;</td><td>&quot;Edward&quot;</td><td>21</td><td>14</td><td>7.134267</td><td>1.146128</td><td>3.776311</td><td>2684.497671</td><td>13</td><td>false</td><td>false</td></tr><tr><td>21987</td><td>2019-07-29 00:00:00</td><td>&quot;D20659F3&quot;</td><td>0.0239</td><td>107.83025</td><td>-0.759609</td><td>1.692027</td><td>8.249314</td><td>false</td><td>false</td><td>false</td><td>false</td><td>&quot;Government of Germany 3.25% 04…</td><td>20713.79945</td><td>&quot;29/04/2011&quot;</td><td>3.25</td><td>&quot;Euro&quot;</td><td>&quot;07/04/2021&quot;</td><td>&quot;LO015&quot;</td><td>&quot;LO&quot;</td><td>&quot;Indianapolis Advisors&quot;</td><td>26.797261</td><td>51.242625</td><td>&quot;D&quot;</td><td>&quot;Camilla&quot;</td><td>17</td><td>41</td><td>19.793568</td><td>1.612784</td><td>2.785548</td><td>6158.191403</td><td>10</td><td>false</td><td>false</td></tr><tr><td>21989</td><td>2018-07-23 00:00:00</td><td>&quot;D20658KG&quot;</td><td>0.1028</td><td>143.1976</td><td>0.328738</td><td>9.708618</td><td>20.052431</td><td>false</td><td>false</td><td>true</td><td>false</td><td>&quot;Government of Germany 4.75% 04…</td><td>12264.74968</td><td>&quot;04/07/1998&quot;</td><td>4.75</td><td>&quot;Euro&quot;</td><td>&quot;07/04/2028&quot;</td><td>&quot;LO141&quot;</td><td>&quot;LO&quot;</td><td>&quot;Cleveland Capital&quot;</td><td>240.47282</td><td>151.581871</td><td>&quot;A&quot;</td><td>&quot;Kate&quot;</td><td>9</td><td>187</td><td>152.46948</td><td>2.271842</td><td>7.585086</td><td>101592.9891</td><td>4</td><td>false</td><td>false</td></tr><tr><td>21992</td><td>2019-07-31 00:00:00</td><td>&quot;D206592F&quot;</td><td>0.073</td><td>160.6109</td><td>0.051964</td><td>24.687707</td><td>7.258191</td><td>false</td><td>false</td><td>false</td><td>false</td><td>&quot;Government of Germany 2.5% 04-…</td><td>29980.49921</td><td>&quot;27/04/2012&quot;</td><td>2.5</td><td>&quot;Euro&quot;</td><td>&quot;07/04/2044&quot;</td><td>&quot;LO056&quot;</td><td>&quot;LO&quot;</td><td>&quot;Birmingham Global Investors&quot;</td><td>86.835001</td><td>54.742359</td><td>&quot;C&quot;</td><td>&quot;William&quot;</td><td>15</td><td>152</td><td>50.699623</td><td>2.181844</td><td>5.274008</td><td>64391.43446</td><td>11</td><td>false</td><td>false</td></tr></tbody></table></div>"
      ],
      "text/plain": [
       "\n",
       "shape: \u001b[1m(\u001b[0m6_803, \u001b[1;36m34\u001b[0m\u001b[1m)\u001b[0m\n",
       "┌────────────┬────────────┬──────────┬─────────┬───┬───────────┬───────────┬───────────┬───────────┐\n",
       "│ request_id ┆ date       ┆ cusip    ┆ BidAsk  ┆ … ┆ response_ ┆ num_broke ┆ trade_won ┆ target_ca │\n",
       "│ ---        ┆ ---        ┆ ---      ┆ ---     ┆   ┆ revenue_E ┆ rs        ┆ ---       ┆ t         │\n",
       "│ i64        ┆ datetime\u001b[1m[\u001b[0mμ ┆ str      ┆ f64     ┆   ┆ UR        ┆ ---       ┆ bool      ┆ ---       │\n",
       "│            ┆ s\u001b[1m]\u001b[0m         ┆          ┆         ┆   ┆ ---       ┆ i64       ┆           ┆ bool      │\n",
       "│            ┆            ┆          ┆         ┆   ┆ f64       ┆           ┆           ┆           │\n",
       "╞════════════╪════════════╪══════════╪═════════╪═══╪═══════════╪═══════════╪═══════════╪═══════════╡\n",
       "│ \u001b[1;36m1781\u001b[0m       ┆ \u001b[1;36m2018\u001b[0m-\u001b[1;36m04\u001b[0m-\u001b[1;36m25\u001b[0m ┆ D20659WR ┆ \u001b[1;36m0.0242\u001b[0m  ┆ … ┆ \u001b[1;36m27923.751\u001b[0m ┆ \u001b[1;36m9\u001b[0m         ┆ false     ┆ false     │\n",
       "│            ┆ \u001b[1;92m00:00:00\u001b[0m   ┆          ┆         ┆   ┆ \u001b[1;36m13\u001b[0m        ┆           ┆           ┆           │\n",
       "│ \u001b[1;36m1782\u001b[0m       ┆ \u001b[1;36m2019\u001b[0m-\u001b[1;36m05\u001b[0m-\u001b[1;36m30\u001b[0m ┆ D2R8H4DN ┆ \u001b[1;36m0.0266\u001b[0m  ┆ … ┆ \u001b[1;36m12932.742\u001b[0m ┆ \u001b[1;36m1\u001b[0m         ┆ true      ┆ false     │\n",
       "│            ┆ \u001b[1;92m00:00:00\u001b[0m   ┆          ┆         ┆   ┆ \u001b[1;36m92\u001b[0m        ┆           ┆           ┆           │\n",
       "│ \u001b[1;36m1784\u001b[0m       ┆ \u001b[1;36m2019\u001b[0m-\u001b[1;36m01\u001b[0m-\u001b[1;36m30\u001b[0m ┆ D2R8H4DE ┆ \u001b[1;36m0.022\u001b[0m   ┆ … ┆ \u001b[1;36m23167.855\u001b[0m ┆ \u001b[1;36m10\u001b[0m        ┆ false     ┆ false     │\n",
       "│            ┆ \u001b[1;92m00:00:00\u001b[0m   ┆          ┆         ┆   ┆ \u001b[1;36m69\u001b[0m        ┆           ┆           ┆           │\n",
       "│ \u001b[1;36m1788\u001b[0m       ┆ \u001b[1;36m2019\u001b[0m-\u001b[1;36m01\u001b[0m-\u001b[1;36m23\u001b[0m ┆ D2R8H4CM ┆ \u001b[1;36m0.03\u001b[0m    ┆ … ┆ \u001b[1;36m78872.795\u001b[0m ┆ \u001b[1;36m13\u001b[0m        ┆ false     ┆ false     │\n",
       "│            ┆ \u001b[1;92m00:00:00\u001b[0m   ┆          ┆         ┆   ┆ \u001b[1;36m92\u001b[0m        ┆           ┆           ┆           │\n",
       "│ \u001b[1;36m1789\u001b[0m       ┆ \u001b[1;36m2018\u001b[0m-\u001b[1;36m01\u001b[0m-\u001b[1;36m24\u001b[0m ┆ D20658UR ┆ \u001b[1;36m0.13\u001b[0m    ┆ … ┆ \u001b[1;36m155725.77\u001b[0m ┆ \u001b[1;36m14\u001b[0m        ┆ false     ┆ false     │\n",
       "│            ┆ \u001b[1;92m00:00:00\u001b[0m   ┆          ┆         ┆   ┆ \u001b[1;36m8\u001b[0m         ┆           ┆           ┆           │\n",
       "│ …          ┆ …          ┆ …        ┆ …       ┆ … ┆ …         ┆ …         ┆ …         ┆ …         │\n",
       "│ \u001b[1;36m21979\u001b[0m      ┆ \u001b[1;36m2019\u001b[0m-\u001b[1;36m01\u001b[0m-\u001b[1;36m29\u001b[0m ┆ D2R8H4DJ ┆ \u001b[1;36m0.02523\u001b[0m ┆ … ┆ \u001b[1;36m7897.4204\u001b[0m ┆ \u001b[1;36m10\u001b[0m        ┆ false     ┆ false     │\n",
       "│            ┆ \u001b[1;92m00:00:00\u001b[0m   ┆          ┆         ┆   ┆ \u001b[1;36m81\u001b[0m        ┆           ┆           ┆           │\n",
       "│ \u001b[1;36m21986\u001b[0m      ┆ \u001b[1;36m2018\u001b[0m-\u001b[1;36m10\u001b[0m-\u001b[1;36m30\u001b[0m ┆ D2R8H4CD ┆ \u001b[1;36m0.02686\u001b[0m ┆ … ┆ \u001b[1;36m2684.4976\u001b[0m ┆ \u001b[1;36m13\u001b[0m        ┆ false     ┆ false     │\n",
       "│            ┆ \u001b[1;92m00:00:00\u001b[0m   ┆          ┆         ┆   ┆ \u001b[1;36m71\u001b[0m        ┆           ┆           ┆           │\n",
       "│ \u001b[1;36m21987\u001b[0m      ┆ \u001b[1;36m2019\u001b[0m-\u001b[1;36m07\u001b[0m-\u001b[1;36m29\u001b[0m ┆ D20659F3 ┆ \u001b[1;36m0.0239\u001b[0m  ┆ … ┆ \u001b[1;36m6158.1914\u001b[0m ┆ \u001b[1;36m10\u001b[0m        ┆ false     ┆ false     │\n",
       "│            ┆ \u001b[1;92m00:00:00\u001b[0m   ┆          ┆         ┆   ┆ \u001b[1;36m03\u001b[0m        ┆           ┆           ┆           │\n",
       "│ \u001b[1;36m21989\u001b[0m      ┆ \u001b[1;36m2018\u001b[0m-\u001b[1;36m07\u001b[0m-\u001b[1;36m23\u001b[0m ┆ D20658KG ┆ \u001b[1;36m0.1028\u001b[0m  ┆ … ┆ \u001b[1;36m101592.98\u001b[0m ┆ \u001b[1;36m4\u001b[0m         ┆ false     ┆ false     │\n",
       "│            ┆ \u001b[1;92m00:00:00\u001b[0m   ┆          ┆         ┆   ┆ \u001b[1;36m91\u001b[0m        ┆           ┆           ┆           │\n",
       "│ \u001b[1;36m21992\u001b[0m      ┆ \u001b[1;36m2019\u001b[0m-\u001b[1;36m07\u001b[0m-\u001b[1;36m31\u001b[0m ┆ D206592F ┆ \u001b[1;36m0.073\u001b[0m   ┆ … ┆ \u001b[1;36m64391.434\u001b[0m ┆ \u001b[1;36m11\u001b[0m        ┆ false     ┆ false     │\n",
       "│            ┆ \u001b[1;92m00:00:00\u001b[0m   ┆          ┆         ┆   ┆ \u001b[1;36m46\u001b[0m        ┆           ┆           ┆           │\n",
       "└────────────┴────────────┴──────────┴─────────┴───┴───────────┴───────────┴───────────┴───────────┘"
      ]
     },
     "execution_count": 99,
     "metadata": {},
     "output_type": "execute_result"
    }
   ],
   "source": [
    "binarizer.fit_transform(training_data)\n",
    "binarizer.fit_transform(test_data)"
   ]
  },
  {
   "cell_type": "code",
   "execution_count": 88,
   "metadata": {},
   "outputs": [
    {
     "data": {
      "text/html": [
       "<pre style=\"white-space:pre;overflow-x:auto;line-height:normal;font-family:Menlo,'DejaVu Sans Mono',consolas,'Courier New',monospace\"><span style=\"color: #7fbfbf; text-decoration-color: #7fbfbf\">[06/13/24 01:42:33] </span><span style=\"color: #800000; text-decoration-color: #800000\">WARNING </span> <span style=\"color: #800080; text-decoration-color: #800080\">/tmp/ipykernel_91086/</span><span style=\"color: #ff00ff; text-decoration-color: #ff00ff\">483766507.py</span>:<span style=\"color: #008080; text-decoration-color: #008080; font-weight: bold\">13</span>: DeprecationWarning: `apply` is   <a href=\"file:///home/lukas/.pyenv/versions/3.12.3/lib/python3.12/warnings.py\" target=\"_blank\"><span style=\"color: #7f7f7f; text-decoration-color: #7f7f7f\">warnings.py</span></a><span style=\"color: #7f7f7f; text-decoration-color: #7f7f7f\">:</span><a href=\"file:///home/lukas/.pyenv/versions/3.12.3/lib/python3.12/warnings.py#110\" target=\"_blank\"><span style=\"color: #7f7f7f; text-decoration-color: #7f7f7f\">110</span></a>\n",
       "<span style=\"color: #7fbfbf; text-decoration-color: #7fbfbf\">                    </span>         deprecated. It has been renamed to `map_elements`.                     <span style=\"color: #7f7f7f; text-decoration-color: #7f7f7f\">               </span>\n",
       "<span style=\"color: #7fbfbf; text-decoration-color: #7fbfbf\">                    </span>           df<span style=\"font-weight: bold\">[</span><span style=\"color: #008000; text-decoration-color: #008000\">\"values\"</span><span style=\"font-weight: bold\">]</span><span style=\"color: #800080; text-decoration-color: #800080; font-weight: bold\">.apply</span><span style=\"font-weight: bold\">(</span>lambda x: x &lt;                                     <span style=\"color: #7f7f7f; text-decoration-color: #7f7f7f\">               </span>\n",
       "<span style=\"color: #7fbfbf; text-decoration-color: #7fbfbf\">                    </span>         threshold<span style=\"font-weight: bold\">)</span><span style=\"color: #800080; text-decoration-color: #800080; font-weight: bold\">.alias</span><span style=\"font-weight: bold\">(</span><span style=\"color: #008000; text-decoration-color: #008000\">\"is_under_threshold\"</span><span style=\"font-weight: bold\">)</span>                                 <span style=\"color: #7f7f7f; text-decoration-color: #7f7f7f\">               </span>\n",
       "<span style=\"color: #7fbfbf; text-decoration-color: #7fbfbf\">                    </span>                                                                                <span style=\"color: #7f7f7f; text-decoration-color: #7f7f7f\">               </span>\n",
       "</pre>\n"
      ],
      "text/plain": [
       "\u001b[2;36m[06/13/24 01:42:33]\u001b[0m\u001b[2;36m \u001b[0m\u001b[31mWARNING \u001b[0m \u001b[35m/tmp/ipykernel_91086/\u001b[0m\u001b[95m483766507.py\u001b[0m:\u001b[1;36m13\u001b[0m: DeprecationWarning: `apply` is   \u001b]8;id=455320;file:///home/lukas/.pyenv/versions/3.12.3/lib/python3.12/warnings.py\u001b\\\u001b[2mwarnings.py\u001b[0m\u001b]8;;\u001b\\\u001b[2m:\u001b[0m\u001b]8;id=563996;file:///home/lukas/.pyenv/versions/3.12.3/lib/python3.12/warnings.py#110\u001b\\\u001b[2m110\u001b[0m\u001b]8;;\u001b\\\n",
       "\u001b[2;36m                    \u001b[0m         deprecated. It has been renamed to `map_elements`.                     \u001b[2m               \u001b[0m\n",
       "\u001b[2;36m                    \u001b[0m           df\u001b[1m[\u001b[0m\u001b[32m\"values\"\u001b[0m\u001b[1m]\u001b[0m\u001b[1;35m.apply\u001b[0m\u001b[1m(\u001b[0mlambda x: x <                                     \u001b[2m               \u001b[0m\n",
       "\u001b[2;36m                    \u001b[0m         threshold\u001b[1m)\u001b[0m\u001b[1;35m.alias\u001b[0m\u001b[1m(\u001b[0m\u001b[32m\"is_under_threshold\"\u001b[0m\u001b[1m)\u001b[0m                                 \u001b[2m               \u001b[0m\n",
       "\u001b[2;36m                    \u001b[0m                                                                                \u001b[2m               \u001b[0m\n"
      ]
     },
     "metadata": {},
     "output_type": "display_data"
    },
    {
     "data": {
      "text/html": [
       "<pre style=\"white-space:pre;overflow-x:auto;line-height:normal;font-family:Menlo,'DejaVu Sans Mono',consolas,'Courier New',monospace\"><span style=\"color: #7fbfbf; text-decoration-color: #7fbfbf\">                    </span><span style=\"color: #800000; text-decoration-color: #800000\">WARNING </span> <span style=\"color: #800080; text-decoration-color: #800080\">/tmp/ipykernel_91086/</span><span style=\"color: #ff00ff; text-decoration-color: #ff00ff\">483766507.py</span>:<span style=\"color: #008080; text-decoration-color: #008080; font-weight: bold\">13</span>: PolarsInefficientMapWarning:     <a href=\"file:///home/lukas/.pyenv/versions/3.12.3/lib/python3.12/warnings.py\" target=\"_blank\"><span style=\"color: #7f7f7f; text-decoration-color: #7f7f7f\">warnings.py</span></a><span style=\"color: #7f7f7f; text-decoration-color: #7f7f7f\">:</span><a href=\"file:///home/lukas/.pyenv/versions/3.12.3/lib/python3.12/warnings.py#110\" target=\"_blank\"><span style=\"color: #7f7f7f; text-decoration-color: #7f7f7f\">110</span></a>\n",
       "<span style=\"color: #7fbfbf; text-decoration-color: #7fbfbf\">                    </span>         Series.map_elements is significantly slower than the native series     <span style=\"color: #7f7f7f; text-decoration-color: #7f7f7f\">               </span>\n",
       "<span style=\"color: #7fbfbf; text-decoration-color: #7fbfbf\">                    </span>         API.                                                                   <span style=\"color: #7f7f7f; text-decoration-color: #7f7f7f\">               </span>\n",
       "<span style=\"color: #7fbfbf; text-decoration-color: #7fbfbf\">                    </span>         Only use if you absolutely CANNOT implement your logic otherwise.      <span style=\"color: #7f7f7f; text-decoration-color: #7f7f7f\">               </span>\n",
       "<span style=\"color: #7fbfbf; text-decoration-color: #7fbfbf\">                    </span>         Replace this expression<span style=\"color: #808000; text-decoration-color: #808000\">...</span>                                             <span style=\"color: #7f7f7f; text-decoration-color: #7f7f7f\">               </span>\n",
       "<span style=\"color: #7fbfbf; text-decoration-color: #7fbfbf\">                    </span>           - <span style=\"color: #800080; text-decoration-color: #800080; font-weight: bold\">srs.map_elements</span><span style=\"font-weight: bold\">(</span>lambda x: <span style=\"color: #808000; text-decoration-color: #808000\">...</span><span style=\"font-weight: bold\">)</span>                                    <span style=\"color: #7f7f7f; text-decoration-color: #7f7f7f\">               </span>\n",
       "<span style=\"color: #7fbfbf; text-decoration-color: #7fbfbf\">                    </span>         with this one instead:                                                 <span style=\"color: #7f7f7f; text-decoration-color: #7f7f7f\">               </span>\n",
       "<span style=\"color: #7fbfbf; text-decoration-color: #7fbfbf\">                    </span>           + s &lt; threshold                                                      <span style=\"color: #7f7f7f; text-decoration-color: #7f7f7f\">               </span>\n",
       "<span style=\"color: #7fbfbf; text-decoration-color: #7fbfbf\">                    </span>                                                                                <span style=\"color: #7f7f7f; text-decoration-color: #7f7f7f\">               </span>\n",
       "<span style=\"color: #7fbfbf; text-decoration-color: #7fbfbf\">                    </span>           df<span style=\"font-weight: bold\">[</span><span style=\"color: #008000; text-decoration-color: #008000\">\"values\"</span><span style=\"font-weight: bold\">]</span><span style=\"color: #800080; text-decoration-color: #800080; font-weight: bold\">.apply</span><span style=\"font-weight: bold\">(</span>lambda x: x &lt;                                     <span style=\"color: #7f7f7f; text-decoration-color: #7f7f7f\">               </span>\n",
       "<span style=\"color: #7fbfbf; text-decoration-color: #7fbfbf\">                    </span>         threshold<span style=\"font-weight: bold\">)</span><span style=\"color: #800080; text-decoration-color: #800080; font-weight: bold\">.alias</span><span style=\"font-weight: bold\">(</span><span style=\"color: #008000; text-decoration-color: #008000\">\"is_under_threshold\"</span><span style=\"font-weight: bold\">)</span>                                 <span style=\"color: #7f7f7f; text-decoration-color: #7f7f7f\">               </span>\n",
       "<span style=\"color: #7fbfbf; text-decoration-color: #7fbfbf\">                    </span>                                                                                <span style=\"color: #7f7f7f; text-decoration-color: #7f7f7f\">               </span>\n",
       "</pre>\n"
      ],
      "text/plain": [
       "\u001b[2;36m                   \u001b[0m\u001b[2;36m \u001b[0m\u001b[31mWARNING \u001b[0m \u001b[35m/tmp/ipykernel_91086/\u001b[0m\u001b[95m483766507.py\u001b[0m:\u001b[1;36m13\u001b[0m: PolarsInefficientMapWarning:     \u001b]8;id=424751;file:///home/lukas/.pyenv/versions/3.12.3/lib/python3.12/warnings.py\u001b\\\u001b[2mwarnings.py\u001b[0m\u001b]8;;\u001b\\\u001b[2m:\u001b[0m\u001b]8;id=15655;file:///home/lukas/.pyenv/versions/3.12.3/lib/python3.12/warnings.py#110\u001b\\\u001b[2m110\u001b[0m\u001b]8;;\u001b\\\n",
       "\u001b[2;36m                    \u001b[0m         Series.map_elements is significantly slower than the native series     \u001b[2m               \u001b[0m\n",
       "\u001b[2;36m                    \u001b[0m         API.                                                                   \u001b[2m               \u001b[0m\n",
       "\u001b[2;36m                    \u001b[0m         Only use if you absolutely CANNOT implement your logic otherwise.      \u001b[2m               \u001b[0m\n",
       "\u001b[2;36m                    \u001b[0m         Replace this expression\u001b[33m...\u001b[0m                                             \u001b[2m               \u001b[0m\n",
       "\u001b[2;36m                    \u001b[0m           - \u001b[1;35msrs.map_elements\u001b[0m\u001b[1m(\u001b[0mlambda x: \u001b[33m...\u001b[0m\u001b[1m)\u001b[0m                                    \u001b[2m               \u001b[0m\n",
       "\u001b[2;36m                    \u001b[0m         with this one instead:                                                 \u001b[2m               \u001b[0m\n",
       "\u001b[2;36m                    \u001b[0m           + s < threshold                                                      \u001b[2m               \u001b[0m\n",
       "\u001b[2;36m                    \u001b[0m                                                                                \u001b[2m               \u001b[0m\n",
       "\u001b[2;36m                    \u001b[0m           df\u001b[1m[\u001b[0m\u001b[32m\"values\"\u001b[0m\u001b[1m]\u001b[0m\u001b[1;35m.apply\u001b[0m\u001b[1m(\u001b[0mlambda x: x <                                     \u001b[2m               \u001b[0m\n",
       "\u001b[2;36m                    \u001b[0m         threshold\u001b[1m)\u001b[0m\u001b[1;35m.alias\u001b[0m\u001b[1m(\u001b[0m\u001b[32m\"is_under_threshold\"\u001b[0m\u001b[1m)\u001b[0m                                 \u001b[2m               \u001b[0m\n",
       "\u001b[2;36m                    \u001b[0m                                                                                \u001b[2m               \u001b[0m\n"
      ]
     },
     "metadata": {},
     "output_type": "display_data"
    },
    {
     "data": {
      "text/html": [
       "<pre style=\"white-space:pre;overflow-x:auto;line-height:normal;font-family:Menlo,'DejaVu Sans Mono',consolas,'Courier New',monospace\"><span style=\"color: #7fbfbf; text-decoration-color: #7fbfbf\">                    </span><span style=\"color: #800000; text-decoration-color: #800000\">WARNING </span> <span style=\"color: #800080; text-decoration-color: #800080\">/tmp/ipykernel_91086/</span><span style=\"color: #ff00ff; text-decoration-color: #ff00ff\">483766507.py</span>:<span style=\"color: #008080; text-decoration-color: #008080; font-weight: bold\">13</span>: MapWithoutReturnDtypeWarning:    <a href=\"file:///home/lukas/.pyenv/versions/3.12.3/lib/python3.12/warnings.py\" target=\"_blank\"><span style=\"color: #7f7f7f; text-decoration-color: #7f7f7f\">warnings.py</span></a><span style=\"color: #7f7f7f; text-decoration-color: #7f7f7f\">:</span><a href=\"file:///home/lukas/.pyenv/versions/3.12.3/lib/python3.12/warnings.py#110\" target=\"_blank\"><span style=\"color: #7f7f7f; text-decoration-color: #7f7f7f\">110</span></a>\n",
       "<span style=\"color: #7fbfbf; text-decoration-color: #7fbfbf\">                    </span>         Calling `map_elements` without specifying `return_dtype` can lead to   <span style=\"color: #7f7f7f; text-decoration-color: #7f7f7f\">               </span>\n",
       "<span style=\"color: #7fbfbf; text-decoration-color: #7fbfbf\">                    </span>         unpredictable results. Specify `return_dtype` to silence this warning. <span style=\"color: #7f7f7f; text-decoration-color: #7f7f7f\">               </span>\n",
       "<span style=\"color: #7fbfbf; text-decoration-color: #7fbfbf\">                    </span>           df<span style=\"font-weight: bold\">[</span><span style=\"color: #008000; text-decoration-color: #008000\">\"values\"</span><span style=\"font-weight: bold\">]</span><span style=\"color: #800080; text-decoration-color: #800080; font-weight: bold\">.apply</span><span style=\"font-weight: bold\">(</span>lambda x: x &lt;                                     <span style=\"color: #7f7f7f; text-decoration-color: #7f7f7f\">               </span>\n",
       "<span style=\"color: #7fbfbf; text-decoration-color: #7fbfbf\">                    </span>         threshold<span style=\"font-weight: bold\">)</span><span style=\"color: #800080; text-decoration-color: #800080; font-weight: bold\">.alias</span><span style=\"font-weight: bold\">(</span><span style=\"color: #008000; text-decoration-color: #008000\">\"is_under_threshold\"</span><span style=\"font-weight: bold\">)</span>                                 <span style=\"color: #7f7f7f; text-decoration-color: #7f7f7f\">               </span>\n",
       "<span style=\"color: #7fbfbf; text-decoration-color: #7fbfbf\">                    </span>                                                                                <span style=\"color: #7f7f7f; text-decoration-color: #7f7f7f\">               </span>\n",
       "</pre>\n"
      ],
      "text/plain": [
       "\u001b[2;36m                   \u001b[0m\u001b[2;36m \u001b[0m\u001b[31mWARNING \u001b[0m \u001b[35m/tmp/ipykernel_91086/\u001b[0m\u001b[95m483766507.py\u001b[0m:\u001b[1;36m13\u001b[0m: MapWithoutReturnDtypeWarning:    \u001b]8;id=742991;file:///home/lukas/.pyenv/versions/3.12.3/lib/python3.12/warnings.py\u001b\\\u001b[2mwarnings.py\u001b[0m\u001b]8;;\u001b\\\u001b[2m:\u001b[0m\u001b]8;id=710068;file:///home/lukas/.pyenv/versions/3.12.3/lib/python3.12/warnings.py#110\u001b\\\u001b[2m110\u001b[0m\u001b]8;;\u001b\\\n",
       "\u001b[2;36m                    \u001b[0m         Calling `map_elements` without specifying `return_dtype` can lead to   \u001b[2m               \u001b[0m\n",
       "\u001b[2;36m                    \u001b[0m         unpredictable results. Specify `return_dtype` to silence this warning. \u001b[2m               \u001b[0m\n",
       "\u001b[2;36m                    \u001b[0m           df\u001b[1m[\u001b[0m\u001b[32m\"values\"\u001b[0m\u001b[1m]\u001b[0m\u001b[1;35m.apply\u001b[0m\u001b[1m(\u001b[0mlambda x: x <                                     \u001b[2m               \u001b[0m\n",
       "\u001b[2;36m                    \u001b[0m         threshold\u001b[1m)\u001b[0m\u001b[1;35m.alias\u001b[0m\u001b[1m(\u001b[0m\u001b[32m\"is_under_threshold\"\u001b[0m\u001b[1m)\u001b[0m                                 \u001b[2m               \u001b[0m\n",
       "\u001b[2;36m                    \u001b[0m                                                                                \u001b[2m               \u001b[0m\n"
      ]
     },
     "metadata": {},
     "output_type": "display_data"
    },
    {
     "name": "stdout",
     "output_type": "stream",
     "text": [
      "shape: (5, 2)\n",
      "┌────────┬────────────────────┐\n",
      "│ values ┆ is_under_threshold │\n",
      "│ ---    ┆ ---                │\n",
      "│ i64    ┆ bool               │\n",
      "╞════════╪════════════════════╡\n",
      "│ 10     ┆ true               │\n",
      "│ 20     ┆ true               │\n",
      "│ 30     ┆ false              │\n",
      "│ 40     ┆ false              │\n",
      "│ 50     ┆ false              │\n",
      "└────────┴────────────────────┘\n"
     ]
    }
   ],
   "source": [
    "import polars as pl\n",
    "\n",
    "# Sample DataFrame\n",
    "df = pl.DataFrame({\n",
    "    \"values\": [10, 20, 30, 40, 50]\n",
    "})\n",
    "\n",
    "# Define the threshold\n",
    "threshold = 25\n",
    "\n",
    "# Applying a function to create a new boolean column\n",
    "df = df.with_columns(\n",
    "    df[\"values\"].apply(lambda x: x < threshold).alias(\"is_under_threshold\")\n",
    ")\n",
    "\n",
    "print(df)"
   ]
  },
  {
   "cell_type": "code",
   "execution_count": null,
   "metadata": {},
   "outputs": [],
   "source": []
  }
 ],
 "metadata": {
  "kernelspec": {
   "display_name": "Kedro (x_flow)",
   "language": "python",
   "name": "kedro_x_flow"
  },
  "language_info": {
   "codemirror_mode": {
    "name": "ipython",
    "version": 3
   },
   "file_extension": ".py",
   "mimetype": "text/x-python",
   "name": "python",
   "nbconvert_exporter": "python",
   "pygments_lexer": "ipython3",
   "version": "3.12.3"
  }
 },
 "nbformat": 4,
 "nbformat_minor": 2
}
